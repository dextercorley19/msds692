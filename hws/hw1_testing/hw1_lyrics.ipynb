{
 "cells": [
  {
   "cell_type": "code",
   "execution_count": 34,
   "metadata": {},
   "outputs": [],
   "source": [
    "from bs4 import BeautifulSoup\n",
    "import requests\n",
    "import re\n"
   ]
  },
  {
   "cell_type": "markdown",
   "metadata": {},
   "source": [
    "    The input should follow this format:\n",
    "        <tr valign=\"bottom\">\n",
    "        <td align=\"left\">\n",
    "        Ain't No Cure For Love </td>\n",
    "        <td align=\"left\">\n",
    "        <a href=\"album9.html\" style=\"text-decoration:none\">I'm Your Man (L)</a> </td>\n",
    "        </tr>\n",
    "    Ouputs: three strings, as shown in the example\n",
    "        \"Ain't No Cure For Love\", \"I'm Your Man\", \"album9.html\"\n",
    "\n",
    "    To ensure cleanliness and avoid duplicates, the following actions are performed:\n",
    "      -- remove \"(L)\"\n",
    "      -- remove years\n",
    "    from album names and song names"
   ]
  },
  {
   "cell_type": "code",
   "execution_count": 35,
   "metadata": {},
   "outputs": [],
   "source": [
    "def clean_text(text):\n",
    "    \"\"\"Given a string of text return clean text\n",
    "    Clean issues with text\n",
    "    \"1. Hola\" --> \"Hola\" \n",
    "    \"Hola.\" --> \"Hola\" \n",
    "    \"Hola (L)\" --> \"Hola\"\n",
    "    \"Hola (1790)\"  --> \"Hola\"\n",
    "    \"Hola 1790\"  --> \"Hola\"\n",
    "    \"\"\"\n",
    "    # your coode here\n",
    "    text = re.sub(r'^\\d+\\.\\s*', '', text)\n",
    "    text = re.sub(r'\\s*\\([^)]*\\)', '', text)\n",
    "    text = re.sub(r'\\s*\\d*\\.?\\s*$', '', text)\n",
    "    return text\n"
   ]
  },
  {
   "cell_type": "code",
   "execution_count": 36,
   "metadata": {},
   "outputs": [
    {
     "data": {
      "text/plain": [
       "<html><body><tr valign=\"bottom\">\n",
       "<td align=\"left\"> \n",
       "      Ain't No Cure For Love </td>\n",
       "<td align=\"left\">\n",
       "<a href=\"album9.html\" style=\"text-decoration:none\">I'm Your Man (L)</a> </td>\n",
       "</tr>\n",
       "</body></html>"
      ]
     },
     "execution_count": 36,
     "metadata": {},
     "output_type": "execute_result"
    }
   ],
   "source": [
    "test_row = \"\"\"<tr valign=\"bottom\">\n",
    "      <td align=\"left\"> \n",
    "      Ain't No Cure For Love </td>\n",
    "      <td align=\"left\">\n",
    "      <a href=\"album9.html\" style=\"text-decoration:none\">I'm Your Man (L)</a> </td>\n",
    "      </tr>\n",
    "      \"\"\"\n",
    "row = BeautifulSoup(test_row, \"lxml\")\n",
    "row"
   ]
  },
  {
   "cell_type": "code",
   "execution_count": 37,
   "metadata": {},
   "outputs": [
    {
     "data": {
      "text/plain": [
       "<html><body><tr valign=\"bottom\">\n",
       "<td align=\"left\"> \n",
       "      Ain't No Cure For Love </td>\n",
       "<td align=\"left\">\n",
       "<a href=\"album9.html\" style=\"text-decoration:none\">I'm Your Man (L)</a> </td>\n",
       "</tr>\n",
       "</body></html>"
      ]
     },
     "execution_count": 37,
     "metadata": {},
     "output_type": "execute_result"
    }
   ],
   "source": [
    "row"
   ]
  },
  {
   "cell_type": "code",
   "execution_count": 38,
   "metadata": {},
   "outputs": [
    {
     "data": {
      "text/plain": [
       "\"I'm Your Man (L)\""
      ]
     },
     "execution_count": 38,
     "metadata": {},
     "output_type": "execute_result"
    }
   ],
   "source": [
    "albums = row.find('a')\n",
    "album = albums.get_text(strip=True)\n",
    "album"
   ]
  },
  {
   "cell_type": "markdown",
   "metadata": {},
   "source": [
    "(a) A list of unique albums by Leonard Cohen, along with links for more information about each album. Extract this data from the website \"https://www.leonardcohenfiles.com/songind.html\"."
   ]
  },
  {
   "cell_type": "code",
   "execution_count": 39,
   "metadata": {},
   "outputs": [],
   "source": [
    "url = \"https://www.leonardcohenfiles.com/songind.html\"\n",
    "result = requests.get(url)"
   ]
  },
  {
   "cell_type": "code",
   "execution_count": 40,
   "metadata": {},
   "outputs": [
    {
     "data": {
      "text/plain": [
       "338"
      ]
     },
     "execution_count": 40,
     "metadata": {},
     "output_type": "execute_result"
    }
   ],
   "source": [
    "soup = BeautifulSoup(result.text, \"lxml\")\n",
    "title = soup.find_all('tr')\n",
    "albums = soup.find_all('a')\n",
    "len(albums)"
   ]
  },
  {
   "cell_type": "code",
   "execution_count": 41,
   "metadata": {},
   "outputs": [
    {
     "data": {
      "text/plain": [
       "<a href=\"album5.html\" style=\"text-decoration:none\">New Skin For The Old Ceremony (L)</a>"
      ]
     },
     "execution_count": 41,
     "metadata": {},
     "output_type": "execute_result"
    }
   ],
   "source": [
    "albums[2]"
   ]
  },
  {
   "cell_type": "code",
   "execution_count": 42,
   "metadata": {},
   "outputs": [
    {
     "data": {
      "text/plain": [
       "[<a href=\"master.html\" style=\"text-decoration:none\">Back to Discography </a>,\n",
       " <a href=\"album2.html\" style=\"text-decoration:none\">Songs From A Room (L)</a>,\n",
       " <a href=\"album5.html\" style=\"text-decoration:none\">New Skin For The Old Ceremony (L)</a>,\n",
       " <a href=\"popularproblems.html\" style=\"text-decoration:none\">Popular Problems  (L) </a>,\n",
       " <a href=\"tennewsongs.html\" style=\"text-decoration:none\">Ten New Songs   (L)</a>,\n",
       " <a href=\"essential.html\" style=\"text-decoration:none\">The Essential Leonard Cohen </a>,\n",
       " <a href=\"livelondon.html\" style=\"text-decoration:none\">Live in London </a>,\n",
       " <a href=\"dublinlive.html\" style=\"text-decoration:none\">Live in Dublin </a>,\n",
       " <a href=\"album9.html\" style=\"text-decoration:none\">I'm Your Man (L)</a>,\n",
       " <a href=\"essential.html\" style=\"text-decoration:none\">The Essential Leonard Cohen </a>,\n",
       " <a href=\"livelondon.html\" style=\"text-decoration:none\">Live in London </a>,\n",
       " <a href=\"tennewsongs.html\" style=\"text-decoration:none\">Ten New Songs   (L)</a>,\n",
       " <a href=\"essential.html\" style=\"text-decoration:none\">The Essential Leonard Cohen </a>,\n",
       " <a href=\"dublinlive.html\" style=\"text-decoration:none\">Live in Dublin </a>,\n",
       " <a href=\"popularproblems.html\" style=\"text-decoration:none\">Popular Problems  (L)</a>,\n",
       " <a href=\"album10.html\" style=\"text-decoration:none\">The Future (L)</a>,\n",
       " <a href=\"oldideas.html\" style=\"text-decoration:none\">Old Ideas (L)</a>,\n",
       " <a href=\"dublinlive.html\" style=\"text-decoration:none\">Live in Dublin </a>,\n",
       " <a href=\"album10.html\" style=\"text-decoration:none\">The Future (L)</a>,\n",
       " <a href=\"morebest.html\" style=\"text-decoration:none\">More Best Of Leonard Cohen</a>,\n",
       " <a href=\"essential.html\" style=\"text-decoration:none\">The Essential Leonard Cohen </a>,\n",
       " <a href=\"livelondon.html\" style=\"text-decoration:none\">Live in London </a>,\n",
       " <a href=\"dublinlive.html\" style=\"text-decoration:none\">Live in Dublin </a>,\n",
       " <a href=\"oldideas.html\" style=\"text-decoration:none\">Old Ideas (L)</a>,\n",
       " <a href=\"dublinlive.html\" style=\"text-decoration:none\">Live in Dublin </a>,\n",
       " <a href=\"album3.html\" style=\"text-decoration:none\">Songs Of Love And Hate (L)</a>,\n",
       " <a href=\"fromroad.html\" style=\"text-decoration:none\">Songs From The Road</a>,\n",
       " <a href=\"album7.html\" style=\"text-decoration:none\">Recent Songs (L)</a>,\n",
       " <a href=\"oldideas.html\" style=\"text-decoration:none\">Old Ideas (L)</a>,\n",
       " <a href=\"album10.html\" style=\"text-decoration:none\">The Future (L)</a>,\n",
       " <a href=\"dearheather.html\" style=\"text-decoration:none\">Dear Heather (L)</a>,\n",
       " <a href=\"album2.html\" style=\"text-decoration:none\">Songs From A Room (L)</a>,\n",
       " <a href=\"master0.html\" style=\"text-decoration:none\">The Best Of Leonard Cohen</a>,\n",
       " <a href=\"album4.html\" style=\"text-decoration:none\">Live Songs (L)</a>,\n",
       " <a href=\"album11.html\" style=\"text-decoration:none\">Cohen Live  (L)</a>,\n",
       " <a href=\"album-79.html\" style=\"text-decoration:none\">Field Commander Cohen (L)</a>,\n",
       " <a href=\"essential.html\" style=\"text-decoration:none\">The Essential Leonard Cohen </a>,\n",
       " <a href=\"livelondon.html\" style=\"text-decoration:none\">Live in London </a>,\n",
       " <a href=\"livewight.html\" style=\"text-decoration:none\">Live at the Isle of Wight 1970 </a>,\n",
       " <a href=\"fromroad.html\" style=\"text-decoration:none\">Songs From The Road</a>,\n",
       " <a href=\"fredericton.html\" style=\"text-decoration:none\">Live in Fredericton </a>,\n",
       " <a href=\"dublinlive.html\" style=\"text-decoration:none\">Live in Dublin </a>,\n",
       " <a href=\"tennewsongs.html\" style=\"text-decoration:none\">Ten New Songs   (L)</a>,\n",
       " <a href=\"livelondon.html\" style=\"text-decoration:none\">Live in London </a>,\n",
       " <a href=\"popularproblems.html\" style=\"text-decoration:none\">Popular Problems  (L) </a>,\n",
       " <a href=\"tennewsongs.html\" style=\"text-decoration:none\">Ten New Songs   (L)</a>,\n",
       " <a href=\"album7.html\" style=\"text-decoration:none\">Recent Songs (L)</a>,\n",
       " <a href=\"album5.html\" style=\"text-decoration:none\">New Skin For The Old Ceremony (L)</a>,\n",
       " <a href=\"master0.html\" style=\"text-decoration:none\">The Best Of Leonard Cohen</a>,\n",
       " <a href=\"fromroad.html\" style=\"text-decoration:none\">Songs From The Road </a>,\n",
       " <a href=\"essential.html\" style=\"text-decoration:none\">The Essential Leonard Cohen </a>,\n",
       " <a href=\"dublinlive.html\" style=\"text-decoration:none\">Live in Dublin </a>,\n",
       " <a href=\"album10.html\" style=\"text-decoration:none\">The Future (L)</a>,\n",
       " <a href=\"morebest.html\" style=\"text-decoration:none\">More Best Of Leonard Cohen</a>,\n",
       " <a href=\"essential.html\" style=\"text-decoration:none\">The Essential Leonard Cohen </a>,\n",
       " <a href=\"livelondon.html\" style=\"text-decoration:none\">Live in London </a>,\n",
       " <a href=\"fromroad.html\" style=\"text-decoration:none\">Songs From The Road </a>,\n",
       " <a href=\"dublinlive.html\" style=\"text-decoration:none\">Live in Dublin </a>,\n",
       " <a href=\"oldideas.html\" style=\"text-decoration:none\">Old Ideas (L)</a>,\n",
       " <a href=\"dublinlive.html\" style=\"text-decoration:none\">Live in Dublin </a>,\n",
       " <a href=\"album8.html\" style=\"text-decoration:none\">Various Positions (L)</a>,\n",
       " <a href=\"oldideas.html\" style=\"text-decoration:none\">Old Ideas (L)</a>,\n",
       " <a href=\"album8.html\" style=\"text-decoration:none\">Various Positions (L)</a>,\n",
       " <a href=\"album11.html\" style=\"text-decoration:none\">Cohen Live  (L)</a>,\n",
       " <a href=\"morebest.html\" style=\"text-decoration:none\">More Best Of Leonard Cohen</a>,\n",
       " <a href=\"essential.html\" style=\"text-decoration:none\">The Essential Leonard Cohen </a>,\n",
       " <a href=\"livelondon.html\" style=\"text-decoration:none\">Live in London </a>,\n",
       " <a href=\"fredericton.html\" style=\"text-decoration:none\">Live in Fredericton </a>,\n",
       " <a href=\"dublinlive.html\" style=\"text-decoration:none\">Live in Dublin </a>,\n",
       " <a href=\"oldideas.html\" style=\"text-decoration:none\">Old Ideas (L)</a>,\n",
       " <a href=\"dublinlive.html\" style=\"text-decoration:none\">Live in Dublin </a>,\n",
       " <a href=\"dearheather.html\" style=\"text-decoration:none\">Dear Heather (L)</a>,\n",
       " <a href=\"album6.html\" style=\"text-decoration:none\">Death Of A Ladies' Man (L)</a>,\n",
       " <a href=\"album10.html\" style=\"text-decoration:none\">The Future (L)</a>,\n",
       " <a href=\"morebest.html\" style=\"text-decoration:none\">More Best Of Leonard Cohen</a>,\n",
       " <a href=\"essential.html\" style=\"text-decoration:none\">The Essential Leonard Cohen </a>,\n",
       " <a href=\"livelondon.html\" style=\"text-decoration:none\">Live in London </a>,\n",
       " <a href=\"album3.html\" style=\"text-decoration:none\">Songs Of Love And Hate (L)</a>,\n",
       " <a href=\"livewight.html\" style=\"text-decoration:none\">Live at the Isle of Wight</a>,\n",
       " <a href=\"popularproblems.html\" style=\"text-decoration:none\">Popular Problems  (L)</a>,\n",
       " <a href=\"oldideas.html\" style=\"text-decoration:none\">Old Ideas (L)</a>,\n",
       " <a href=\"dublinlive.html\" style=\"text-decoration:none\">Live in Dublin </a>,\n",
       " <a href=\"tour2.html\" style=\"text-decoration:none\">Single (1976) (L)</a>,\n",
       " <a href=\"album6.html\" style=\"text-decoration:none\">Death Of A Ladies' Man (L)</a>,\n",
       " <a href=\"album3.html\" style=\"text-decoration:none\">Songs Of Love And Hate (L)</a>,\n",
       " <a href=\"album9.html\" style=\"text-decoration:none\">I'm Your Man (L)</a>,\n",
       " <a href=\"album11.html\" style=\"text-decoration:none\">Cohen Live  (L)</a>,\n",
       " <a href=\"morebest.html\" style=\"text-decoration:none\">More Best Of Leonard Cohen</a>,\n",
       " <a href=\"essential.html\" style=\"text-decoration:none\">The Essential Leonard Cohen </a>,\n",
       " <a href=\"livelondon.html\" style=\"text-decoration:none\">Live in London </a>,\n",
       " <a href=\"dublinlive.html\" style=\"text-decoration:none\">Live in Dublin </a>,\n",
       " <a href=\"album3.html\" style=\"text-decoration:none\">Songs Of Love And Hate (L)</a>,\n",
       " <a href=\"master0.html\" style=\"text-decoration:none\">The Best Of Leonard Cohen</a>,\n",
       " <a href=\"essential.html\" style=\"text-decoration:none\">The Essential Leonard Cohen </a>,\n",
       " <a href=\"livewight.html\" style=\"text-decoration:none\">Live at the Isle of Wight 1970 </a>,\n",
       " <a href=\"fromroad.html\" style=\"text-decoration:none\">Song From The Road </a>,\n",
       " <a href=\"dublinlive.html\" style=\"text-decoration:none\">Live in Dublin </a>,\n",
       " <a href=\"album5.html\" style=\"text-decoration:none\">New Skin For The Old Ceremony (L)</a>,\n",
       " <a href=\"album-79.html\" style=\"text-decoration:none\">Field Commander Cohen (L)</a>,\n",
       " <a href=\"album6.html\" style=\"text-decoration:none\">Death Of A Ladies' Man (L)</a>,\n",
       " <a href=\"album9.html\" style=\"text-decoration:none\">I'm Your Man (L)</a>,\n",
       " <a href=\"essential.html\" style=\"text-decoration:none\">The Essential Leonard Cohen </a>,\n",
       " <a href=\"livelondon.html\" style=\"text-decoration:none\">Live in London </a>,\n",
       " <a href=\"dublinlive.html\" style=\"text-decoration:none\">Live in Dublin </a>,\n",
       " <a href=\"dearheather.html\" style=\"text-decoration:none\">Dear Heather (L)</a>,\n",
       " <a href=\"forothers.html\" style=\"text-decoration:none\">Other artists  (L)</a>,\n",
       " <a href=\"oldideas.html\" style=\"text-decoration:none\">Old Ideas (L)</a>,\n",
       " <a href=\"dublinlive.html\" style=\"text-decoration:none\">Live in Dublin </a>,\n",
       " <a href=\"morebest.html\" style=\"text-decoration:none\">More Best Of Leonard Cohen</a>,\n",
       " <a href=\"album8.html\" style=\"text-decoration:none\">Various Positions (L)\n",
       "       </a>,\n",
       " <a href=\"album11.html\" style=\"text-decoration:none\">Cohen Live  (L) \n",
       "      </a>,\n",
       " <a href=\"essential.html\" style=\"text-decoration:none\">The Essential Leonard Cohen  </a>,\n",
       " <a href=\"livelondon.html\" style=\"text-decoration:none\">Live in London </a>,\n",
       " <a href=\"fromroad.html\" style=\"text-decoration:none\">Songs From The Road </a>,\n",
       " <a href=\"dublinlive.html\" style=\"text-decoration:none\">Live in Dublin </a>,\n",
       " <a href=\"thanks19.html\" style=\"text-decoration:none\">Thanks for the Dance (L)</a>,\n",
       " <a href=\"album8.html\" style=\"text-decoration:none\">Various Positions  (L)</a>,\n",
       " <a href=\"album11.html\" style=\"text-decoration:none\">Cohen Live  (L)</a>,\n",
       " <a href=\"fromroad.html\" style=\"text-decoration:none\">Songs From The Road</a>,\n",
       " <a href=\"fredericton.html\" style=\"text-decoration:none\">Live In Fredericton</a>,\n",
       " <a href=\"tennewsongs.html\" style=\"text-decoration:none\">Ten New Songs   (L)</a>,\n",
       " <a href=\"album1.html\" style=\"text-decoration:none\">Songs Of Leonard Cohen (L)</a>,\n",
       " <a href=\"master0.html\" style=\"text-decoration:none\">The Best Of Leonard Cohen</a>,\n",
       " <a href=\"album-79.html\" style=\"text-decoration:none\">Field Commander Cohen (L)</a>,\n",
       " <a href=\"essential.html\" style=\"text-decoration:none\">The Essential Leonard Cohen </a>,\n",
       " <a href=\"livelondon.html\" style=\"text-decoration:none\">Live in London </a>,\n",
       " <a href=\"livewight.html\" style=\"text-decoration:none\">Live at the Isle of Wight 1970 </a>,\n",
       " <a href=\"album7.html\" style=\"text-decoration:none\">Recent Songs (L)</a>,\n",
       " <a href=\"album8.html\" style=\"text-decoration:none\">Various Positions (L)</a>,\n",
       " <a href=\"album9.html\" style=\"text-decoration:none\">I'm Your Man (L)</a>,\n",
       " <a href=\"album6.html\" style=\"text-decoration:none\">Death Of A Ladies' Man (L)</a>,\n",
       " <a href=\"album8.html\" style=\"text-decoration:none\">Various Positions (L)</a>,\n",
       " <a href=\"darker.html\" style=\"text-decoration:none\">You Want It Darker (L)</a>,\n",
       " <a href=\"album11.html\" style=\"text-decoration:none\">Cohen Live  (L)</a>,\n",
       " <a href=\"essential.html\" style=\"text-decoration:none\">The Essential Leonard Cohen  </a>,\n",
       " <a href=\"livelondon.html\" style=\"text-decoration:none\">Live in London </a>,\n",
       " <a href=\"dublinlive.html\" style=\"text-decoration:none\">Live in Dublin </a>,\n",
       " <a href=\"album9.html\" style=\"text-decoration:none\">I'm Your Man (L)</a>,\n",
       " <a href=\"morebest.html\" style=\"text-decoration:none\">More Best Of Leonard Cohen</a>,\n",
       " <a href=\"album11.html\" style=\"text-decoration:none\">Cohen Live  (L)</a>,\n",
       " <a href=\"essential.html\" style=\"text-decoration:none\">The Essential Leonard Cohen </a>,\n",
       " <a href=\"livelondon.html\" style=\"text-decoration:none\">Live in London </a>,\n",
       " <a href=\"dublinlive.html\" style=\"text-decoration:none\">Live in Dublin </a>,\n",
       " <a href=\"album4.html\" style=\"text-decoration:none\">Live Songs </a>,\n",
       " <a href=\"tennewsongs.html\" style=\"text-decoration:none\">Ten New Songs   (L)</a>,\n",
       " <a href=\"essential.html\" style=\"text-decoration:none\">The Essential Leonard Cohen </a>,\n",
       " <a href=\"livelondon.html\" style=\"text-decoration:none\">Live in London </a>,\n",
       " <a href=\"fredericton.html\" style=\"text-decoration:none\">Live in Fredericton </a>,\n",
       " <a href=\"dublinlive.html\" style=\"text-decoration:none\">Live in Dublin </a>,\n",
       " <a href=\"album6.html\" style=\"text-decoration:none\">Death Of A Ladies' Man (L)</a>,\n",
       " <a href=\"album5.html\" style=\"text-decoration:none\">New Skin For The Old Ceremony (L)</a>,\n",
       " <a href=\"darker.html\" style=\"text-decoration:none\">You Want It Darker (L)</a>,\n",
       " <a href=\"album5.html\" style=\"text-decoration:none\">New Skin For The Old Ceremony (L)</a>,\n",
       " <a href=\"livelondon.html\" style=\"text-decoration:none\">Live in London </a>,\n",
       " <a href=\"forothers.html\" style=\"text-decoration:none\">Other artists  (L)</a>,\n",
       " <a href=\"thanks19.html\" style=\"text-decoration:none\">Thanks for the Dance (L)</a>,\n",
       " <a href=\"dublinlive.html\" style=\"text-decoration:none\">Live in Dublin </a>,\n",
       " <a href=\"album9.html\" style=\"text-decoration:none\">I'm Your Man (L)</a>,\n",
       " <a href=\"album3.html\" style=\"text-decoration:none\">Songs Of Love And Hate (L)</a>,\n",
       " <a href=\"album11.html\" style=\"text-decoration:none\">Cohen Live  (L)</a>,\n",
       " <a href=\"album2.html\" style=\"text-decoration:none\">Songs From A Room (L)</a>,\n",
       " <a href=\"master0.html\" style=\"text-decoration:none\">The Best Of Leonard Cohen</a>,\n",
       " <a href=\"livewight.html\" style=\"text-decoration:none\">Live at the Isle of Wight 1970</a>,\n",
       " <a href=\"album3.html\" style=\"text-decoration:none\">Songs Of Love And Hate (L)</a>,\n",
       " <a href=\"master0.html\" style=\"text-decoration:none\">The Best Of Leonard Cohen</a>,\n",
       " <a href=\"album5.html\" style=\"text-decoration:none\">New Skin For The Old Ceremony (L)</a>,\n",
       " <a href=\"darker.html\" style=\"text-decoration:none\">You Want It Darker (L)</a>,\n",
       " <a href=\"album10.html\" style=\"text-decoration:none\">The Future (L)</a>,\n",
       " <a href=\"thanks19.html\" style=\"text-decoration:none\">Thanks for the Dance (L)</a>,\n",
       " <a href=\"album3.html\" style=\"text-decoration:none\">Songs Of Love And Hate (L)</a>,\n",
       " <a href=\"tennewsongs.html\" style=\"text-decoration:none\">Ten New Songs   (L)</a>,\n",
       " <a href=\"essential.html\" style=\"text-decoration:none\">The Essential Leonard Cohen </a>,\n",
       " <a href=\"album5.html\" style=\"text-decoration:none\">New Skin For The Old Ceremony (L)</a>,\n",
       " <a href=\"album-79.html\" style=\"text-decoration:none\">Field Commander Cohen (L)</a>,\n",
       " <a href=\"fromaroad.html\" style=\"text-decoration:none\">Songs From The Road</a>,\n",
       " <a href=\"dublinlive.html\" style=\"text-decoration:none\">Live in Dublin </a>,\n",
       " <a href=\"oldideas.html\" style=\"text-decoration:none\">Old Ideas (L)</a>,\n",
       " <a href=\"album1.html\" style=\"text-decoration:none\">Songs Of Leonard Cohen (L)</a>,\n",
       " <a href=\"album6.html\" style=\"text-decoration:none\">Death Of A Ladies' Man (L)</a>,\n",
       " <a href=\"album-79.html\" style=\"text-decoration:none\">Field Commander Cohen (L)</a>,\n",
       " <a href=\"album4.html\" style=\"text-decoration:none\">Live Songs (L)</a>,\n",
       " <a href=\"dearheather.html\" style=\"text-decoration:none\">Dear Heather (L)</a>,\n",
       " <a href=\"thanks19.html\" style=\"text-decoration:none\">Thanks for the Dance (L)</a>,\n",
       " <a href=\"popularproblems.html\" style=\"text-decoration:none\">Popular Problems  (L)</a>,\n",
       " <a href=\"morebest.html\" style=\"text-decoration:none\">More Best Of Leonard Cohen (L)</a>,\n",
       " <a href=\"popularproblems.html\" style=\"text-decoration:none\">Popular Problems  (L)</a>,\n",
       " <a href=\"album8.html\" style=\"text-decoration:none\">Various Positions (L)</a>,\n",
       " <a href=\"essential.html\" style=\"text-decoration:none\">The Essential Leonard Cohen </a>,\n",
       " <a href=\"dearheather.html\" style=\"text-decoration:none\">Dear Heather (L)</a>,\n",
       " <a href=\"dearheather.html\" style=\"text-decoration:none\">Dear Heather (L)</a>,\n",
       " <a href=\"darker.html\" style=\"text-decoration:none\">You Want It Darker (L)</a>,\n",
       " <a href=\"album1.html\" style=\"text-decoration:none\">Songs Of Leonard Cohen (L)</a>,\n",
       " <a href=\"album11.html\" style=\"text-decoration:none\">Cohen Live  (L)</a>,\n",
       " <a href=\"livewight.html\" style=\"text-decoration:none\">Live at the Isle of Wight 1970</a>,\n",
       " <a href=\"album7.html\" style=\"text-decoration:none\">Recent Songs (L)</a>,\n",
       " <a href=\"album6.html\" style=\"text-decoration:none\">Death Of A Ladies' Man (L)</a>,\n",
       " <a href=\"album4.html\" style=\"text-decoration:none\">Live Songs (L)</a>,\n",
       " <a href=\"album4.html\" style=\"text-decoration:none\">Live Songs (L)</a>,\n",
       " <a href=\"forothers.html\" style=\"text-decoration:none\">Other artists  (L)</a>,\n",
       " <a href=\"thanks19.html\" style=\"text-decoration:none\">Thanks for the Dance (L)</a>,\n",
       " <a href=\"album4.html\" style=\"text-decoration:none\">Live Songs (L)</a>,\n",
       " <a href=\"popularproblems.html\" style=\"text-decoration:none\">Popular Problems  (L)</a>,\n",
       " <a href=\"dublinlive.html\" style=\"text-decoration:none\">Live in Dublin </a>,\n",
       " <a href=\"album2.html\" style=\"text-decoration:none\">Songs From A Room (L)</a>,\n",
       " <a href=\"album4.html\" style=\"text-decoration:none\">Live Songs (L)</a>,\n",
       " <a href=\"livewight.html\" style=\"text-decoration:none\">Live at the Isle of Wight 1970 </a>,\n",
       " <a href=\"oldideas.html\" style=\"text-decoration:none\">Old Ideas (L)</a>,\n",
       " <a href=\"dublinlive.html\" style=\"text-decoration:none\">Live in Dublin </a>,\n",
       " <a href=\"album3.html\" style=\"text-decoration:none\">Songs Of Love And Hate (L)</a>,\n",
       " <a href=\"livewight.html\" style=\"text-decoration:none\">Live at the Isle of Wight 1970</a>,\n",
       " <a href=\"album1.html\" style=\"text-decoration:none\">Songs Of Leonard Cohen (L)</a>,\n",
       " <a href=\"master0.html\" style=\"text-decoration:none\">The Best Of Leonard Cohen</a>,\n",
       " <a href=\"album11.html\" style=\"text-decoration:none\">Cohen Live  (L)</a>,\n",
       " <a href=\"essential.html\" style=\"text-decoration:none\">The Essential Leonard Cohen </a>,\n",
       " <a href=\"livelondon.html\" style=\"text-decoration:none\">Live in London </a>,\n",
       " <a href=\"popularproblems.html\" style=\"text-decoration:none\">Popular Problems  (L)</a>,\n",
       " <a href=\"album1.html\" style=\"text-decoration:none\">Songs Of Leonard Cohen (L)</a>,\n",
       " <a href=\"master0.html\" style=\"text-decoration:none\">The Best Of Leonard Cohen</a>,\n",
       " <a href=\"album-79.html\" style=\"text-decoration:none\">Field Commander Cohen (L)</a>,\n",
       " <a href=\"essential.html\" style=\"text-decoration:none\">The Essential Leonard Cohen </a>,\n",
       " <a href=\"livelondon.html\" style=\"text-decoration:none\">Live in London </a>,\n",
       " <a href=\"livewight.html\" style=\"text-decoration:none\">Live at the Isle of Wight (1970) </a>,\n",
       " <a href=\"dublinlive.html\" style=\"text-decoration:none\">Live in Dublin </a>,\n",
       " <a href=\"forothers.html\" style=\"text-decoration:none\">Other artists  (L)</a>,\n",
       " <a href=\"darker.html\" style=\"text-decoration:none\">You Want It Darker (L)</a>,\n",
       " <a href=\"album1.html\" style=\"text-decoration:none\">Songs Of Leonard Cohen (L)</a>,\n",
       " <a href=\"album2.html\" style=\"text-decoration:none\">Songs From A Room (L)</a>,\n",
       " <a href=\"album4.html\" style=\"text-decoration:none\">Live Songs (L)</a>,\n",
       " <a href=\"forothers.html\" style=\"text-decoration:none\">Other artists</a>,\n",
       " <a href=\"album1.html\" style=\"text-decoration:none\">Songs Of Leonard Cohen (L)</a>,\n",
       " <a href=\"master0.html\" style=\"text-decoration:none\">The Best Of Leonard Cohen</a>,\n",
       " <a href=\"album11.html\" style=\"text-decoration:none\">Cohen Live  (L)</a>,\n",
       " <a href=\"morebest.html\" style=\"text-decoration:none\">More Best Of Leonard Cohen</a>,\n",
       " <a href=\"essential.html\" style=\"text-decoration:none\">The Essential Leonard Cohen </a>,\n",
       " <a href=\"livelondon.html\" style=\"text-decoration:none\">Live in London </a>,\n",
       " <a href=\"livewight.html\" style=\"text-decoration:none\">Live at the Isle of Wight 1970 </a>,\n",
       " <a href=\"fromroad.html\" style=\"text-decoration:none\">Songs From The Road </a>,\n",
       " <a href=\"dublinlive.html\" style=\"text-decoration:none\">Live in Dublin </a>,\n",
       " <a href=\"album10.html\" style=\"text-decoration:none\">The Future </a>,\n",
       " <a href=\"album5.html\" style=\"text-decoration:none\">New Skin For The Old Ceremony (L)</a>,\n",
       " <a href=\"master0.html\" style=\"text-decoration:none\">The Best Of Leonard Cohen</a>,\n",
       " <a href=\"essential.html\" style=\"text-decoration:none\">The Essential Leonard Cohen </a>,\n",
       " <a href=\"album9.html\" style=\"text-decoration:none\">I'm Your Man (L)</a>,\n",
       " <a href=\"morebest.html\" style=\"text-decoration:none\">More Best Of Leonard Cohen</a>,\n",
       " <a href=\"essential.html\" style=\"text-decoration:none\">The Essential Leonard Cohen </a>,\n",
       " <a href=\"livelondon.html\" style=\"text-decoration:none\">Live in London </a>,\n",
       " <a href=\"dublinlive.html\" style=\"text-decoration:none\">Live in Dublin </a>,\n",
       " <a href=\"album1.html\" style=\"text-decoration:none\">Songs Of Leonard Cohen (L)</a>,\n",
       " <a href=\"dearheather.html\" style=\"text-decoration:none\">Dear Heather (L)</a>,\n",
       " <a href=\"tennewsongs.html\" style=\"text-decoration:none\">Ten New Songs   (L)</a>,\n",
       " <a href=\"fromroad.html\" style=\"text-decoration:none\">Songs From The Road</a>,\n",
       " <a href=\"thanks19.html\" style=\"text-decoration:none\">Thanks for the Dance (L)</a>,\n",
       " <a href=\"album5.html\" style=\"text-decoration:none\">New Skin For The Old Ceremony (L)</a>,\n",
       " <a href=\"album2.html\" style=\"text-decoration:none\">Songs From A Room (L)</a>,\n",
       " <a href=\"tour2.html\" style=\"text-decoration:none\">Single (1976) (L)</a>,\n",
       " <a href=\"album8.html\" style=\"text-decoration:none\">Various Positions (L)</a>,\n",
       " <a href=\"dearheather.html\" style=\"text-decoration:none\">Dear Heather (L)</a>,\n",
       " <a href=\"album10.html\" style=\"text-decoration:none\">The Future (L)</a>,\n",
       " <a href=\"morebest.html\" style=\"text-decoration:none\">More Best Of Leonard Cohen</a>,\n",
       " <a href=\"essential.html\" style=\"text-decoration:none\">The Essential Leonard Cohen </a>,\n",
       " <a href=\"livelondon.html\" style=\"text-decoration:none\">Live in London </a>,\n",
       " <a href=\"dublinlive.html\" style=\"text-decoration:none\">Live in Dublin </a>,\n",
       " <a href=\"thanks19.html\" style=\"text-decoration:none\">Thanks for the Dance (L)</a>,\n",
       " <a href=\"morebest.html\" style=\"text-decoration:none\">More Best Of Leonard Cohen (L)</a>,\n",
       " <a href=\"album7.html\" style=\"text-decoration:none\">Recent Songs (L)</a>,\n",
       " <a href=\"album-79.html\" style=\"text-decoration:none\">Field Commander Cohen (L)</a>,\n",
       " <a href=\"essential.html\" style=\"text-decoration:none\">The Essential Leonard Cohen</a>,\n",
       " <a href=\"album7.html\" style=\"text-decoration:none\">Recent Songs (L)</a>,\n",
       " <a href=\"album-79.html\" style=\"text-decoration:none\">Field Commander Cohen (L)</a>,\n",
       " <a href=\"livelondon.html\" style=\"text-decoration:none\">Live in London </a>,\n",
       " <a href=\"dublinlive.html\" style=\"text-decoration:none\">Live in Dublin </a>,\n",
       " <a href=\"thanks19.html\" style=\"text-decoration:none\">Thanks for the Dance (L)</a>,\n",
       " <a href=\"tennewsongs.html\" style=\"text-decoration:none\">Ten New Songs   (L)</a>,\n",
       " <a href=\"album8.html\" style=\"text-decoration:none\">Various Positions (L)</a>,\n",
       " <a href=\"dearheather.html\" style=\"text-decoration:none\">Dear Heather (L)</a>,\n",
       " <a href=\"album7.html\" style=\"text-decoration:none\">Recent Songs (L)</a>,\n",
       " <a href=\"thanks19.html\" style=\"text-decoration:none\">Thanks for the Dance (L)</a>,\n",
       " <a href=\"album2.html\" style=\"text-decoration:none\">Songs From A Room (L)</a>,\n",
       " <a href=\"album2.html\" style=\"text-decoration:none\">Songs From A Room (L)</a>,\n",
       " <a href=\"master0.html\" style=\"text-decoration:none\">The Best Of Leonard Cohen</a>,\n",
       " <a href=\"essential.html\" style=\"text-decoration:none\">The Essential Leonard Cohen </a>,\n",
       " <a href=\"livewight.html\" style=\"text-decoration:none\">Live at the Isle of Wight 1970 </a>,\n",
       " <a href=\"fromroad.html\" style=\"text-decoration:none\">Songs From The Road </a>,\n",
       " <a href=\"dublinlive.html\" style=\"text-decoration:none\">Live in Dublin </a>,\n",
       " <a href=\"album7.html\" style=\"text-decoration:none\">Recent Songs (L)</a>,\n",
       " <a href=\"album-79.html\" style=\"text-decoration:none\">Field Commander Cohen (L)</a>,\n",
       " <a href=\"album1.html\" style=\"text-decoration:none\">Songs Of Leonard Cohen (L)</a>,\n",
       " <a href=\"album-79.html\" style=\"text-decoration:none\">Field Commander Cohen (L)</a>,\n",
       " <a href=\"essential.html\" style=\"text-decoration:none\">The Essential Leonard Cohen </a>,\n",
       " <a href=\"livewight.html\" style=\"text-decoration:none\">Live at the Isle of Wight 1970 </a>,\n",
       " <a href=\"album7.html\" style=\"text-decoration:none\">Recent Songs (L)</a>,\n",
       " <a href=\"album7.html\" style=\"text-decoration:none\">Recent Songs (L)</a>,\n",
       " <a href=\"album-79.html\" style=\"text-decoration:none\">Field Commander Cohen (L)</a>,\n",
       " <a href=\"dearheather.html\" style=\"text-decoration:none\">Dear Heather (L)</a>,\n",
       " <a href=\"album5.html\" style=\"text-decoration:none\">New Skin For The Old Ceremony (L)</a>,\n",
       " <a href=\"album11.html\" style=\"text-decoration:none\">Cohen Live  (L)</a>,\n",
       " <a href=\"dearheather.html\" style=\"text-decoration:none\">Dear Heather (L)</a>,\n",
       " <a href=\"album2.html\" style=\"text-decoration:none\">Songs From A Room (L)</a>,\n",
       " <a href=\"album4.html\" style=\"text-decoration:none\">Live Songs (L)</a>,\n",
       " <a href=\"livewight.html\" style=\"text-decoration:none\">Live at the Isle of Wight 1970</a>,\n",
       " <a href=\"album9.html\" style=\"text-decoration:none\">I'm Your Man (L)</a>,\n",
       " <a href=\"morebest.html\" style=\"text-decoration:none\">More Best Of Leonard Cohen</a>,\n",
       " <a href=\"essential.html\" style=\"text-decoration:none\">The Essential Leonard Cohen </a>,\n",
       " <a href=\"livelondon.html\" style=\"text-decoration:none\">Live in London </a>,\n",
       " <a href=\"dublinlive.html\" style=\"text-decoration:none\">Live in Dublin </a>,\n",
       " <a href=\"darker.html\" style=\"text-decoration:none\">You Want It Darker (L)</a>,\n",
       " <a href=\"darker.html\" style=\"text-decoration:none\">You Want It Darker (L)</a>,\n",
       " <a href=\"darker.html\" style=\"text-decoration:none\">You Want It Darker</a>,\n",
       " <a href=\"album6.html\" style=\"text-decoration:none\">Death Of A Ladies' Man (L)</a>,\n",
       " <a href=\"dearheather.html\" style=\"text-decoration:none\">Dear Heather (L)</a>,\n",
       " <a href=\"dearheather.html\" style=\"text-decoration:none\">Dear Heather (L)</a>,\n",
       " <a href=\"album10.html\" style=\"text-decoration:none\">The Future (L)</a>,\n",
       " <a href=\"essential.html\" style=\"text-decoration:none\">The Essential Leonard Cohen </a>,\n",
       " <a href=\"fromroad.html\" style=\"text-decoration:none\">Songs From The Road </a>,\n",
       " <a href=\"dublinlive.html\" style=\"text-decoration:none\">Live in Dublin </a>,\n",
       " <a href=\"forothers.html\" style=\"text-decoration:none\">Other artists  (L)</a>,\n",
       " <a href=\"livelondon.html\" style=\"text-decoration:none\">Live in London </a>,\n",
       " <a href=\"album5.html\" style=\"text-decoration:none\">New Skin For The Old Ceremony (L)</a>,\n",
       " <a href=\"master0.html\" style=\"text-decoration:none\">The Best Of Leonard Cohen</a>,\n",
       " <a href=\"album11.html\" style=\"text-decoration:none\">Cohen Live (L)</a>,\n",
       " <a href=\"essential.html\" style=\"text-decoration:none\">The Essential Leonard Cohen </a>,\n",
       " <a href=\"livelondon.html\" style=\"text-decoration:none\">Live in London </a>,\n",
       " <a href=\"fredericton.html\" style=\"text-decoration:none\">Live in Fredericton </a>,\n",
       " <a href=\"dublinlive.html\" style=\"text-decoration:none\">Live in Dublin </a>,\n",
       " <a href=\"album5.html\" style=\"text-decoration:none\">New Skin For The Old Ceremony (L)</a>,\n",
       " <a href=\"album-79.html\" style=\"text-decoration:none\">Field Commander Cohen (L)</a>,\n",
       " <a href=\"album1.html\" style=\"text-decoration:none\">Songs Of Leonard Cohen (L)</a>,\n",
       " <a href=\"popularproblems.html\" style=\"text-decoration:none\">Popular Problems  (L)</a>,\n",
       " <a href=\"tennewsongs.html\" style=\"text-decoration:none\">Ten New Songs   (L)</a>,\n",
       " <a href=\"album2.html\" style=\"text-decoration:none\">Songs From A Room (L)</a>,\n",
       " <a href=\"album4.html\" style=\"text-decoration:none\">Live Songs (L)</a>,\n",
       " <a href=\"livewight.html\" style=\"text-decoration:none\">Live at the Isle of Wight (1970)</a>,\n",
       " <a href=\"darker.html\" style=\"text-decoration:none\">You Want It Darker (L)</a>,\n",
       " <a href=\"window11.html\" style=\"text-decoration:none\"><h2>Night Magic</h2></a>,\n",
       " <a href=\"master.html\" style=\"text-decoration:none\"><img alt=\"[PREV PAGE]\" border=\"0\" src=\"but-prev.gif\"/></a>,\n",
       " <a href=\"album1.html\" style=\"text-decoration:none\"><img alt=\"[NEXT PAGE]\" border=\"0\" src=\"but-next.gif\"/></a>,\n",
       " <a href=\"indez.html\" style=\"text-decoration:none\"><img alt=\"[INDEX PAGE]\" border=\"0\" src=\"but-ndx.gif\"/></a>,\n",
       " <a href=\"master.html\" style=\"text-decoration:none\"><img alt=\"[SUB INDEX PAGE]\" border=\"0\" src=\"but-subi.gif\"/></a>]"
      ]
     },
     "execution_count": 42,
     "metadata": {},
     "output_type": "execute_result"
    }
   ],
   "source": [
    "albums\n"
   ]
  },
  {
   "cell_type": "code",
   "execution_count": 43,
   "metadata": {},
   "outputs": [
    {
     "data": {
      "text/plain": [
       "['Cohen Live',\n",
       " 'Dear Heather',\n",
       " \"Death Of A Ladies' Man\",\n",
       " 'Field Commander Cohen',\n",
       " \"I'm Your Man\",\n",
       " 'Live In Fredericton',\n",
       " 'Live Songs',\n",
       " 'Live at the Isle of Wight',\n",
       " 'Live in Dublin',\n",
       " 'Live in Fredericton',\n",
       " 'Live in London',\n",
       " 'More Best Of Leonard Cohen',\n",
       " 'New Skin For The Old Ceremony',\n",
       " 'Night Magic',\n",
       " 'Old Ideas',\n",
       " 'Other artists',\n",
       " 'Popular Problems',\n",
       " 'Recent Songs',\n",
       " 'Single',\n",
       " 'Song From The Road',\n",
       " 'Songs From A Room',\n",
       " 'Songs From The Road',\n",
       " 'Songs Of Leonard Cohen',\n",
       " 'Songs Of Love And Hate',\n",
       " 'Ten New Songs',\n",
       " 'Thanks for the Dance',\n",
       " 'The Best Of Leonard Cohen',\n",
       " 'The Essential Leonard Cohen',\n",
       " 'The Future',\n",
       " 'Various Positions']"
      ]
     },
     "execution_count": 43,
     "metadata": {},
     "output_type": "execute_result"
    }
   ],
   "source": [
    "h = {}\n",
    "\n",
    "for i in range(len(albums)):\n",
    "    h[clean_text(albums[i].text)] = h.get(albums[i],0)\n",
    "\n",
    "h = sorted(h)\n",
    "h = h[2:32]\n",
    "h"
   ]
  },
  {
   "cell_type": "code",
   "execution_count": 44,
   "metadata": {},
   "outputs": [
    {
     "data": {
      "text/plain": [
       "['\\nCohen Live',\n",
       " '\\nDear Heather',\n",
       " \"\\nDeath Of A Ladies' Man\",\n",
       " '\\nField Commander Cohen',\n",
       " \"\\nI'm Your Man\",\n",
       " '\\nLive Songs',\n",
       " '\\nLive at the Isle of Wight',\n",
       " '\\nLive in Dublin',\n",
       " '\\nLive in Fredericton',\n",
       " '\\nLive in London',\n",
       " '\\nMore Best Of Leonard Cohen',\n",
       " '\\nNew Skin For The Old Ceremony',\n",
       " '\\nOld Ideas',\n",
       " '\\nOther artists',\n",
       " '\\nPopular Problems',\n",
       " '\\nRecent Songs',\n",
       " '\\nSingle',\n",
       " '\\nSongs From A Room',\n",
       " '\\nSongs From The Road',\n",
       " '\\nSongs Of Leonard Cohen',\n",
       " '\\nSongs Of Love And Hate',\n",
       " '\\nTen New Songs',\n",
       " '\\nThanks for the Dance',\n",
       " '\\nThe Best Of Leonard Cohen',\n",
       " '\\nThe Essential Leonard Cohen',\n",
       " '\\nThe Future',\n",
       " '\\nVarious Positions',\n",
       " '\\nYou Want It Darker',\n",
       " ' \\nA Bunch Of Lonesome Heros',\n",
       " ' \\nA Singer Must Die',\n",
       " ' \\nA Street',\n",
       " ' \\nA Thousand Kisses Deep',\n",
       " \" \\nAin't No Cure For Love\",\n",
       " ' \\nAlexandra Leaving',\n",
       " ' \\nAlmost Like The Blues',\n",
       " ' \\nAlways',\n",
       " ' \\nAmen',\n",
       " ' \\nAnthem',\n",
       " ' \\nAnyhow',\n",
       " ' \\nAvalanche',\n",
       " ' \\nBallad Of The Absent Mare',\n",
       " ' \\nBanjo',\n",
       " ' \\nBe For Real',\n",
       " ' \\nBecause Of',\n",
       " ' \\nBird On The Wire',\n",
       " ' \\nBird on the Wire',\n",
       " ' \\nBoogie Street',\n",
       " ' \\nBorn In Chains',\n",
       " ' \\nBy The Rivers Dark',\n",
       " ' \\nCame So Far For Beauty',\n",
       " ' \\nChelsea Hotel #',\n",
       " ' \\nClosing Time',\n",
       " ' \\nCome Healing',\n",
       " ' \\nComing Back To You',\n",
       " ' \\nCrazy to Love You',\n",
       " ' \\nDance Me To The End Of Love',\n",
       " ' \\nDarkness',\n",
       " ' \\nDear Heather',\n",
       " \" \\nDeath Of A Ladies' Man\",\n",
       " ' \\nDemocracy',\n",
       " ' \\nDiamonds In The Mine',\n",
       " ' \\nDid I Ever Love You',\n",
       " ' \\nDifferent Sides',\n",
       " ' \\nDo I Have To Dance All Night',\n",
       " \" \\nDon't Go Home With Your Hard-On\",\n",
       " ' \\nDress Rehearsal Rag',\n",
       " ' \\nEverybody Knows',\n",
       " ' \\nFamous Blue Raincoat',\n",
       " ' \\nField Commander Cohen',\n",
       " ' \\nFingerprints',\n",
       " ' \\nFirst We Take Manhattan',\n",
       " ' \\nGo No More A-Roving',\n",
       " ' \\nGod is alive, magic is afoot',\n",
       " ' \\nGoing Home',\n",
       " ' \\nHallelujah',\n",
       " ' \\nHappens to the Heart',\n",
       " ' \\nHeart With No Companion',\n",
       " ' \\nHere It Is',\n",
       " \" \\nHey, That's No Way To Say Goodbye\",\n",
       " ' \\nHumbled In Love',\n",
       " \" \\nHunter's Lullaby\",\n",
       " \" \\nI Can't Forget\",\n",
       " ' \\nI Left A Woman Waiting',\n",
       " \" \\nI'm Your Man\",\n",
       " \" \\nIf I Didn't Have Your Love\",\n",
       " ' \\nIf It Be Your Will',\n",
       " ' \\nImprovisation',\n",
       " ' \\nIn  My Secret Life',\n",
       " ' \\nIn My Secret Life',\n",
       " ' \\nIodine',\n",
       " ' \\nIs This What You Wanted',\n",
       " ' \\nIt Seemed the Better Way',\n",
       " ' First We Take Manhattan',\n",
       " \" Musical, lyrics by Leonard Cohen. List of songs: \\nI have counted what I have, Wishing window, \\nThe throne of desire, Throne variations, Angels eyes,\\nThe law, The promise, The marriage march, The third invention,\\nClap! Clap!, Hunter's lullaby, We told you so, Fire,\\nSong of destruction, The walls, Coming back, Song to my assasin,\\nThe bells\",\n",
       " 'Hallelujah']"
      ]
     },
     "execution_count": 44,
     "metadata": {},
     "output_type": "execute_result"
    }
   ],
   "source": [
    "url = \"https://www.leonardcohenfiles.com/songind.html\"\n",
    "result = requests.get(url)\n",
    "soup = BeautifulSoup(result.text, \"lxml\")\n",
    "albums = soup.find_all('td', {'align':'left'})\n",
    "dictionary = {}\n",
    "for i in range(len(albums)):\n",
    "    if i % 2 == 0:\n",
    "        dictionary[clean_text(albums[i].text)] = dictionary.get(albums[i],0)\n",
    "        \n",
    "sorted(dictionary)"
   ]
  },
  {
   "cell_type": "code",
   "execution_count": 45,
   "metadata": {},
   "outputs": [],
   "source": [
    "def clean_text(text):\n",
    "    \"\"\"Given a string of text return clean text\n",
    "    Clean issues with text\n",
    "    \"1. Hola\" --> \"Hola\" \n",
    "    \"Hola.\" --> \"Hola\" \n",
    "    \"Hola (L)\" --> \"Hola\"\n",
    "    \"Hola (1790)\"  --> \"Hola\"\n",
    "    \"Hola 1790\"  --> \"Hola\"\n",
    "    \"\"\"\n",
    "    # your coode here\n",
    "    text = re.sub(r'^\\d+\\.\\s*', '', text)\n",
    "    text = re.sub(r'\\s*\\([^)]*\\)', '', text)\n",
    "    text = re.sub(r'\\s*\\d*\\.?\\s*$', '', text)\n",
    "    text = text.strip()\n",
    "    return text"
   ]
  },
  {
   "cell_type": "code",
   "execution_count": 46,
   "metadata": {},
   "outputs": [
    {
     "data": {
      "text/plain": [
       "163"
      ]
     },
     "execution_count": 46,
     "metadata": {},
     "output_type": "execute_result"
    }
   ],
   "source": [
    "url = \"https://www.leonardcohenfiles.com/songind.html\"\n",
    "result = requests.get(url)\n",
    "soup = BeautifulSoup(result.text, \"lxml\")\n",
    "songs = soup.find_all('td', {'align': 'left'})\n",
    "\n",
    "song_titles = []\n",
    "for i in songs:\n",
    "    if not i.find('a'):\n",
    "        if \"Musical, lyrics by Leonard Cohen.\" not in i.text:\n",
    "            song_title = clean_text(i.get_text(strip=True))\n",
    "            song_titles.append(song_title)\n",
    "\n",
    "# Print out the cleaned song titles\n",
    "song_titles = set(song_titles)\n",
    "song_titles = sorted(song_titles)\n",
    "len(song_titles)"
   ]
  },
  {
   "cell_type": "code",
   "execution_count": 47,
   "metadata": {},
   "outputs": [
    {
     "name": "stdout",
     "output_type": "stream",
     "text": [
      "['Cohen Live', 'Dear Heather', \"Death Of A Ladies' Man\", 'Field Commander Cohen', \"I'm Your Man\", 'Live In Fredericton', 'Live Songs', 'Live at the Isle of Wight', 'Live in Dublin', 'Live in Fredericton', 'Live in London', 'More Best Of Leonard Cohen', 'New Skin For The Old Ceremony', 'Night Magic', 'Old Ideas', 'Other artists', 'Popular Problems', 'Recent Songs', 'Single', 'Song From The Road', 'Songs From A Room', 'Songs From The Road', 'Songs Of Leonard Cohen', 'Songs Of Love And Hate', 'Ten New Songs', 'Thanks for the Dance', 'The Best Of Leonard Cohen', 'The Essential Leonard Cohen', 'The Future', 'Various Positions']\n"
     ]
    },
    {
     "data": {
      "text/plain": [
       "159"
      ]
     },
     "execution_count": 47,
     "metadata": {},
     "output_type": "execute_result"
    }
   ],
   "source": [
    "\n",
    "url = \"https://www.leonardcohenfiles.com/songind.html\"\n",
    "result = requests.get(url)\n",
    "soup = BeautifulSoup(result.text, \"lxml\")\n",
    "songs = soup.find_all('td', {'align': 'left'})\n",
    "\n",
    "albums = soup.find_all('a')\n",
    "h = {}\n",
    "\n",
    "for i in range(len(albums)):\n",
    "    h[clean_text(albums[i].text)] = h.get(albums[i],0)\n",
    "\n",
    "h = sorted(h)\n",
    "albums = h[2:32]\n",
    "print(albums)\n",
    "\n",
    "\n",
    "\n",
    "l1 = []\n",
    "for i in range(len(songs)):\n",
    "    song = clean_text(songs[i].text)\n",
    "\n",
    "    if song not in l1:\n",
    "        if song not in albums:\n",
    "            l1.append(song)\n",
    "\n",
    "# Sort the h by keys (song titles)\n",
    "sorted_l1 = sorted(l1)\n",
    "\n",
    "len(sorted_l1)"
   ]
  },
  {
   "cell_type": "code",
   "execution_count": 48,
   "metadata": {},
   "outputs": [
    {
     "data": {
      "text/plain": [
       "'Save The Last Dance For Me'"
      ]
     },
     "execution_count": 48,
     "metadata": {},
     "output_type": "execute_result"
    }
   ],
   "source": [
    "sorted_l1[99]"
   ]
  },
  {
   "cell_type": "markdown",
   "metadata": {},
   "source": [
    "    \"\"\" Given a song and a url return the lyric of the song\n",
    "    \n",
    "    Inputs:\n",
    "       song: string example: \"Bird on the Wire\"\n",
    "       url: 'https://www.leonardcohenfiles.com/album2.html'\n",
    "    \n",
    "    Return the text of the lyrics:\n",
    "    \n",
    "    Like a bird on the wire,\n",
    "    like a drunk in a midnight choir\n",
    "    I have tried in my way to be free.\n",
    "    Like a worm on a hook, \n",
    "    ...\n",
    "    \n",
    "    \"\"\""
   ]
  },
  {
   "cell_type": "code",
   "execution_count": 75,
   "metadata": {},
   "outputs": [
    {
     "name": "stdout",
     "output_type": "stream",
     "text": [
      "Like a bird on the wire,\n",
      "like a drunk in a midnight choir\n",
      "I have tried in my way to be free.\n",
      "Like a worm on a hook,\n",
      "like a knight from some old fashioned book\n",
      "I have saved all my ribbons for thee.\n",
      "If I, if I have been unkind,\n",
      "I hope that you can just let it go by.\n",
      "If I, if I have been untrue\n",
      "I hope you know it was never to you.\n",
      "Like a baby, stillborn,\n",
      "like a beast with his horn\n",
      "I have torn everyone who reached out for me.\n",
      "But I swear by this song\n",
      "and by all that I have done wrong\n",
      "I will make it all up to thee.\n",
      "I saw a beggar leaning on his wooden crutch,\n",
      "he said to me, \"You must not ask for so much.\"\n",
      "And a pretty woman leaning in her darkened door,\n",
      "she cried to me, \"Hey, why not ask for more?\"\n",
      "Oh like a bird on the wire,\n",
      "like a drunk in a midnight choir\n",
      "I have tried in my way to be free.\n"
     ]
    }
   ],
   "source": [
    "\n",
    "def get_lyrics(song: str, url: str) -> str:\n",
    "    # Fetch the HTML content from the URL\n",
    "    result = requests.get(url)\n",
    "    soup = BeautifulSoup(result.text, \"lxml\")\n",
    "    \n",
    "    # Find the song link by matching the song title\n",
    "    song_link = None\n",
    "    for a in soup.find_all('a', href=True):\n",
    "        if song in a.text:\n",
    "            song_link = a['href']\n",
    "            break\n",
    "    \n",
    "    if not song_link:\n",
    "        return \"Song not found\"\n",
    "\n",
    "    # Construct the full URL for the song's section\n",
    "    song_url = requests.compat.urljoin(url, song_link)\n",
    "    song_page = requests.get(song_url)\n",
    "    song_soup = BeautifulSoup(song_page.text, \"lxml\")\n",
    "    \n",
    "    # Extract the lyrics from the song's section\n",
    "    lyrics_section = song_soup.find('a', attrs={'name': song_link.strip('#')})\n",
    "    if not lyrics_section:\n",
    "        return \"Lyrics not found\"\n",
    "\n",
    "    lyrics_block = lyrics_section.find_next('blockquote')\n",
    "    if lyrics_block:\n",
    "        return lyrics_block.get_text(separator=\"\\n\", strip=True)\n",
    "    \n",
    "    return \"Lyrics not found\"\n",
    "\n",
    "# Example usage\n",
    "song = \"Bird on the Wire\"\n",
    "url = 'https://www.leonardcohenfiles.com/album2.html'\n",
    "lyrics = get_lyrics(song, url)\n",
    "print(lyrics)"
   ]
  },
  {
   "cell_type": "code",
   "execution_count": 80,
   "metadata": {},
   "outputs": [
    {
     "data": {
      "text/plain": [
       "'#10'"
      ]
     },
     "execution_count": 80,
     "metadata": {},
     "output_type": "execute_result"
    }
   ],
   "source": [
    "song = \"Bird on the Wire\"\n",
    "url = 'https://www.leonardcohenfiles.com/album2.html'\n",
    "\n",
    "result = requests.get(url)\n",
    "soup = BeautifulSoup(result.text, \"lxml\")\n",
    "\n",
    "for i in soup.find_all('a', href=True):\n",
    "    if song in i.text:\n",
    "        song_link = i['href']\n",
    "        break\n",
    "song_link\n",
    "# if not song_link:\n",
    "#      print(\"Song not found\")\n",
    "\n",
    "# # Construct the full URL for the song's section\n",
    "# song_url = requests.compat.urljoin(url, song_link)\n",
    "# song_page = requests.get(song_url)\n",
    "# song_soup = BeautifulSoup(song_page.text, \"lxml\")\n",
    "\n",
    "# # Extract the lyrics from the song's section\n",
    "# lyrics_section = song_soup.find('a', attrs={'name': song_link.strip('#')})\n",
    "# if not lyrics_section:\n",
    "#      print(\"Lyrics not found\")\n",
    "\n",
    "# lyrics_block = lyrics_section.find_next('blockquote')\n",
    "# if lyrics_block:\n",
    "#      print(lyrics_block.get_text(separator=\"\\n\", strip=True))\n",
    "\n",
    "# print(\"Lyrics not found\")\n"
   ]
  },
  {
   "cell_type": "code",
   "execution_count": 126,
   "metadata": {},
   "outputs": [
    {
     "data": {
      "text/plain": [
       "314"
      ]
     },
     "execution_count": 126,
     "metadata": {},
     "output_type": "execute_result"
    }
   ],
   "source": [
    "url = \"https://www.leonardcohenfiles.com/album9.html\"\n",
    "song = \"Tower Of Song\"\n",
    "result = requests.get(url)\n",
    "soup = BeautifulSoup(result.text, \"lxml\")\n",
    "blocks = soup.find_all('blockquote')\n",
    "song_numbers = []\n",
    "song_link = \"\"\n",
    "for i in soup.find_all('a', href=True):\n",
    "    song_numbers.append(i['href'])\n",
    "    \n",
    "    if song.lower() in i.text.lower():\n",
    "        song_link = i['href']\n",
    "        \n",
    "\n",
    "song_link = int(song_link[1:])\n",
    "\n",
    "song_numbers = song_numbers[:-4]\n",
    "for i,v in enumerate(song_numbers):\n",
    "    song_numbers[i] = int(song_numbers[i][1:])\n",
    "\n",
    "h = {}\n",
    "counter = 0\n",
    "for i in range(len(song_numbers)):\n",
    "    h[song_numbers[i]] = counter\n",
    "    counter += 1\n",
    "\n",
    "which_block = h[song_link]\n",
    "lyrics = blocks[which_block]\n",
    "lyrics = str(lyrics)\n",
    "len(lyrics.split(\" \"))"
   ]
  },
  {
   "cell_type": "code",
   "execution_count": 94,
   "metadata": {},
   "outputs": [
    {
     "data": {
      "text/plain": [
       "<blockquote>\n",
       "\n",
       "Like a bird on the wire,\n",
       "<br/>like a drunk in a midnight choir\n",
       "<br/>I have tried in my way to be free.\n",
       "<br/>Like a worm on a hook,\n",
       "<br/>like a knight from some old fashioned book\n",
       "<br/>I have saved all my ribbons for thee.\n",
       "<br/>If I, if I have been unkind,\n",
       "<br/>I hope that you can just let it go by.\n",
       "<br/>If I, if I have been untrue\n",
       "<br/>I hope you know it was never to you.\n",
       "\n",
       "<p>Like a baby, stillborn,\n",
       "<br/>like a beast with his horn\n",
       "<br/>I have torn everyone who reached out for me.\n",
       "<br/>But I swear by this song\n",
       "<br/>and by all that I have done wrong\n",
       "<br/>I will make it all up to thee.\n",
       "<br/>I saw a beggar leaning on his wooden crutch,\n",
       "<br/>he said to me, \"You must not ask for so much.\"\n",
       "<br/>And a pretty woman leaning in her darkened door,\n",
       "<br/>she cried to me, \"Hey, why not ask for more?\"\n",
       "\n",
       "</p><p>Oh like a bird on the wire,\n",
       "<br/>like a drunk in a midnight choir\n",
       "<br/>I have tried in my way to be free.\n",
       "\n",
       "</p><p></p></blockquote>"
      ]
     },
     "execution_count": 94,
     "metadata": {},
     "output_type": "execute_result"
    }
   ],
   "source": [
    "blocks = soup.find_all('blockquote')\n",
    "blocks[0]"
   ]
  },
  {
   "cell_type": "code",
   "execution_count": null,
   "metadata": {},
   "outputs": [],
   "source": [
    "lyrics = soup.find_all('blockquote')\n",
    "lyrics"
   ]
  },
  {
   "cell_type": "code",
   "execution_count": 50,
   "metadata": {},
   "outputs": [
    {
     "ename": "SyntaxError",
     "evalue": "incomplete input (4280428438.py, line 2)",
     "output_type": "error",
     "traceback": [
      "\u001b[0;36m  Cell \u001b[0;32mIn[50], line 2\u001b[0;36m\u001b[0m\n\u001b[0;31m    \u001b[0m\n\u001b[0m    ^\u001b[0m\n\u001b[0;31mSyntaxError\u001b[0m\u001b[0;31m:\u001b[0m incomplete input\n"
     ]
    }
   ],
   "source": [
    "for i in range(len(lyrics)):\n",
    "    "
   ]
  },
  {
   "cell_type": "code",
   "execution_count": null,
   "metadata": {},
   "outputs": [
    {
     "ename": "AttributeError",
     "evalue": "'NoneType' object has no attribute 'find_next'",
     "output_type": "error",
     "traceback": [
      "\u001b[0;31m---------------------------------------------------------------------------\u001b[0m",
      "\u001b[0;31mAttributeError\u001b[0m                            Traceback (most recent call last)",
      "Cell \u001b[0;32mIn[168], line 34\u001b[0m\n\u001b[1;32m     32\u001b[0m song \u001b[38;5;241m=\u001b[39m \u001b[38;5;124m\"\u001b[39m\u001b[38;5;124mBird on the Wire\u001b[39m\u001b[38;5;124m\"\u001b[39m\n\u001b[1;32m     33\u001b[0m url \u001b[38;5;241m=\u001b[39m \u001b[38;5;124m'\u001b[39m\u001b[38;5;124mhttps://www.leonardcohenfiles.com/album2.html\u001b[39m\u001b[38;5;124m'\u001b[39m\n\u001b[0;32m---> 34\u001b[0m lyrics \u001b[38;5;241m=\u001b[39m \u001b[43mget_lyrics\u001b[49m\u001b[43m(\u001b[49m\u001b[43msong\u001b[49m\u001b[43m,\u001b[49m\u001b[43m \u001b[49m\u001b[43murl\u001b[49m\u001b[43m)\u001b[49m\n\u001b[1;32m     35\u001b[0m \u001b[38;5;28mprint\u001b[39m(lyrics)\n",
      "Cell \u001b[0;32mIn[168], line 22\u001b[0m, in \u001b[0;36mget_lyrics\u001b[0;34m(song, url)\u001b[0m\n\u001b[1;32m     19\u001b[0m song_section \u001b[38;5;241m=\u001b[39m soup\u001b[38;5;241m.\u001b[39mfind(\u001b[38;5;124m'\u001b[39m\u001b[38;5;124ma\u001b[39m\u001b[38;5;124m'\u001b[39m, \u001b[38;5;28mid\u001b[39m\u001b[38;5;241m=\u001b[39msong_name)\n\u001b[1;32m     21\u001b[0m \u001b[38;5;66;03m# Find the next <blockquote> tag that contains the lyrics\u001b[39;00m\n\u001b[0;32m---> 22\u001b[0m lyrics_block \u001b[38;5;241m=\u001b[39m \u001b[43msong_section\u001b[49m\u001b[38;5;241;43m.\u001b[39;49m\u001b[43mfind_next\u001b[49m(\u001b[38;5;124m'\u001b[39m\u001b[38;5;124mblockquote\u001b[39m\u001b[38;5;124m'\u001b[39m)\n\u001b[1;32m     24\u001b[0m \u001b[38;5;28;01mif\u001b[39;00m \u001b[38;5;129;01mnot\u001b[39;00m lyrics_block:\n\u001b[1;32m     25\u001b[0m     \u001b[38;5;28;01mreturn\u001b[39;00m \u001b[38;5;124m\"\u001b[39m\u001b[38;5;124mLyrics block not found.\u001b[39m\u001b[38;5;124m\"\u001b[39m\n",
      "\u001b[0;31mAttributeError\u001b[0m: 'NoneType' object has no attribute 'find_next'"
     ]
    }
   ],
   "source": [
    "def get_lyrics(song,url):\n",
    "    # Send a request to the URL\n",
    "    response = requests.get(url)\n",
    "    # Parse the HTML content\n",
    "    soup = BeautifulSoup(response.text, \"lxml\")\n",
    "    \n",
    "    # Find the link that corresponds to the song\n",
    "    song_link = None\n",
    "    for a in soup.find_all('a', style='text-decoration:none'):\n",
    "        if song in a.text:\n",
    "            song_link = a.get('href')\n",
    "            break\n",
    "    \n",
    "    if not song_link:\n",
    "        return \"Song not found.\"\n",
    "    \n",
    "    # Find the song's name in the HTML and get the lyrics\n",
    "    song_name = song_link.split('#')[1]  # Extract the part after #\n",
    "    song_section = soup.find('a', id=song_name)\n",
    "\n",
    "    # Find the next <blockquote> tag that contains the lyrics\n",
    "    lyrics_block = song_section.find_next('blockquote')\n",
    "    \n",
    "    if not lyrics_block:\n",
    "        return \"Lyrics block not found.\"\n",
    "    \n",
    "    # Extract the text from the <blockquote> tag\n",
    "    lyrics = lyrics_block.get_text(separator='\\n', strip=True)\n",
    "    return lyrics\n",
    "\n",
    "# Example usage\n",
    "song = \"Bird on the Wire\"\n",
    "url = 'https://www.leonardcohenfiles.com/album2.html'\n",
    "lyrics = get_lyrics(song, url)\n",
    "print(lyrics)"
   ]
  },
  {
   "cell_type": "code",
   "execution_count": null,
   "metadata": {},
   "outputs": [],
   "source": []
  }
 ],
 "metadata": {
  "kernelspec": {
   "display_name": "MSDS",
   "language": "python",
   "name": "python3"
  },
  "language_info": {
   "codemirror_mode": {
    "name": "ipython",
    "version": 3
   },
   "file_extension": ".py",
   "mimetype": "text/x-python",
   "name": "python",
   "nbconvert_exporter": "python",
   "pygments_lexer": "ipython3",
   "version": "3.12.5"
  }
 },
 "nbformat": 4,
 "nbformat_minor": 2
}
