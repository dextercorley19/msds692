{
 "cells": [
  {
   "cell_type": "code",
   "execution_count": 59,
   "metadata": {},
   "outputs": [
    {
     "name": "stdout",
     "output_type": "stream",
     "text": [
      "The autoreload extension is already loaded. To reload it, use:\n",
      "  %reload_ext autoreload\n"
     ]
    }
   ],
   "source": [
    "%load_ext autoreload\n",
    "%autoreload 2"
   ]
  },
  {
   "cell_type": "code",
   "execution_count": 60,
   "metadata": {},
   "outputs": [],
   "source": [
    "import pandas as pd\n",
    "import numpy as np\n",
    "from processing import process_time_period, process_all_periods,\\\n",
    "    split_list_into_three_groups, split_dataframe_by_column_values,\\\n",
    "    compute_category_map, encode_category, normalize_var"
   ]
  },
  {
   "cell_type": "code",
   "execution_count": 61,
   "metadata": {},
   "outputs": [],
   "source": [
    "df = pd.read_csv(\"~/data/icu_data_10013.csv\")"
   ]
  },
  {
   "cell_type": "code",
   "execution_count": 62,
   "metadata": {},
   "outputs": [],
   "source": [
    "df0 = df[df[\"key\"] == \"10013_18\"]"
   ]
  },
  {
   "cell_type": "code",
   "execution_count": 63,
   "metadata": {},
   "outputs": [
    {
     "data": {
      "text/html": [
       "<div>\n",
       "<style scoped>\n",
       "    .dataframe tbody tr th:only-of-type {\n",
       "        vertical-align: middle;\n",
       "    }\n",
       "\n",
       "    .dataframe tbody tr th {\n",
       "        vertical-align: top;\n",
       "    }\n",
       "\n",
       "    .dataframe thead th {\n",
       "        text-align: right;\n",
       "    }\n",
       "</style>\n",
       "<table border=\"1\" class=\"dataframe\">\n",
       "  <thead>\n",
       "    <tr style=\"text-align: right;\">\n",
       "      <th></th>\n",
       "      <th>subject_id</th>\n",
       "      <th>key</th>\n",
       "      <th>gender</th>\n",
       "      <th>age</th>\n",
       "      <th>sapsii</th>\n",
       "      <th>sofa</th>\n",
       "      <th>care_unit</th>\n",
       "      <th>amine</th>\n",
       "      <th>sedation</th>\n",
       "      <th>ventilation</th>\n",
       "      <th>...</th>\n",
       "      <th>observation_mean_HR</th>\n",
       "      <th>observation_mean_spo2</th>\n",
       "      <th>observation_mean_MAP</th>\n",
       "      <th>observation_mean_SAP</th>\n",
       "      <th>observation_mean_DAP</th>\n",
       "      <th>prediction_mean_HR</th>\n",
       "      <th>prediction_mean_spo2</th>\n",
       "      <th>prediction_mean_MAP</th>\n",
       "      <th>prediction_mean_SAP</th>\n",
       "      <th>prediction_mean_DAP</th>\n",
       "    </tr>\n",
       "  </thead>\n",
       "  <tbody>\n",
       "    <tr>\n",
       "      <th>0</th>\n",
       "      <td>10013</td>\n",
       "      <td>10013_18</td>\n",
       "      <td>1</td>\n",
       "      <td>87</td>\n",
       "      <td>49</td>\n",
       "      <td>7</td>\n",
       "      <td>3</td>\n",
       "      <td>1</td>\n",
       "      <td>0</td>\n",
       "      <td>1</td>\n",
       "      <td>...</td>\n",
       "      <td>100.48</td>\n",
       "      <td>74.883333</td>\n",
       "      <td>57.333333</td>\n",
       "      <td>106.816667</td>\n",
       "      <td>36.186667</td>\n",
       "      <td>95.44</td>\n",
       "      <td>92.0</td>\n",
       "      <td>55.88</td>\n",
       "      <td>106.56</td>\n",
       "      <td>35.12</td>\n",
       "    </tr>\n",
       "    <tr>\n",
       "      <th>1</th>\n",
       "      <td>10013</td>\n",
       "      <td>10013_18</td>\n",
       "      <td>1</td>\n",
       "      <td>87</td>\n",
       "      <td>49</td>\n",
       "      <td>7</td>\n",
       "      <td>3</td>\n",
       "      <td>1</td>\n",
       "      <td>0</td>\n",
       "      <td>1</td>\n",
       "      <td>...</td>\n",
       "      <td>100.48</td>\n",
       "      <td>74.883333</td>\n",
       "      <td>57.333333</td>\n",
       "      <td>106.816667</td>\n",
       "      <td>36.186667</td>\n",
       "      <td>95.44</td>\n",
       "      <td>92.0</td>\n",
       "      <td>55.88</td>\n",
       "      <td>106.56</td>\n",
       "      <td>35.12</td>\n",
       "    </tr>\n",
       "    <tr>\n",
       "      <th>2</th>\n",
       "      <td>10013</td>\n",
       "      <td>10013_18</td>\n",
       "      <td>1</td>\n",
       "      <td>87</td>\n",
       "      <td>49</td>\n",
       "      <td>7</td>\n",
       "      <td>3</td>\n",
       "      <td>1</td>\n",
       "      <td>0</td>\n",
       "      <td>1</td>\n",
       "      <td>...</td>\n",
       "      <td>100.48</td>\n",
       "      <td>74.883333</td>\n",
       "      <td>57.333333</td>\n",
       "      <td>106.816667</td>\n",
       "      <td>36.186667</td>\n",
       "      <td>95.44</td>\n",
       "      <td>92.0</td>\n",
       "      <td>55.88</td>\n",
       "      <td>106.56</td>\n",
       "      <td>35.12</td>\n",
       "    </tr>\n",
       "    <tr>\n",
       "      <th>3</th>\n",
       "      <td>10013</td>\n",
       "      <td>10013_18</td>\n",
       "      <td>1</td>\n",
       "      <td>87</td>\n",
       "      <td>49</td>\n",
       "      <td>7</td>\n",
       "      <td>3</td>\n",
       "      <td>1</td>\n",
       "      <td>0</td>\n",
       "      <td>1</td>\n",
       "      <td>...</td>\n",
       "      <td>100.48</td>\n",
       "      <td>74.883333</td>\n",
       "      <td>57.333333</td>\n",
       "      <td>106.816667</td>\n",
       "      <td>36.186667</td>\n",
       "      <td>95.44</td>\n",
       "      <td>92.0</td>\n",
       "      <td>55.88</td>\n",
       "      <td>106.56</td>\n",
       "      <td>35.12</td>\n",
       "    </tr>\n",
       "    <tr>\n",
       "      <th>4</th>\n",
       "      <td>10013</td>\n",
       "      <td>10013_18</td>\n",
       "      <td>1</td>\n",
       "      <td>87</td>\n",
       "      <td>49</td>\n",
       "      <td>7</td>\n",
       "      <td>3</td>\n",
       "      <td>1</td>\n",
       "      <td>0</td>\n",
       "      <td>1</td>\n",
       "      <td>...</td>\n",
       "      <td>100.48</td>\n",
       "      <td>74.883333</td>\n",
       "      <td>57.333333</td>\n",
       "      <td>106.816667</td>\n",
       "      <td>36.186667</td>\n",
       "      <td>95.44</td>\n",
       "      <td>92.0</td>\n",
       "      <td>55.88</td>\n",
       "      <td>106.56</td>\n",
       "      <td>35.12</td>\n",
       "    </tr>\n",
       "  </tbody>\n",
       "</table>\n",
       "<p>5 rows × 28 columns</p>\n",
       "</div>"
      ],
      "text/plain": [
       "   subject_id       key  gender  age  sapsii  sofa  care_unit  amine  \\\n",
       "0       10013  10013_18       1   87      49     7          3      1   \n",
       "1       10013  10013_18       1   87      49     7          3      1   \n",
       "2       10013  10013_18       1   87      49     7          3      1   \n",
       "3       10013  10013_18       1   87      49     7          3      1   \n",
       "4       10013  10013_18       1   87      49     7          3      1   \n",
       "\n",
       "   sedation  ventilation  ...  observation_mean_HR observation_mean_spo2  \\\n",
       "0         0            1  ...               100.48             74.883333   \n",
       "1         0            1  ...               100.48             74.883333   \n",
       "2         0            1  ...               100.48             74.883333   \n",
       "3         0            1  ...               100.48             74.883333   \n",
       "4         0            1  ...               100.48             74.883333   \n",
       "\n",
       "  observation_mean_MAP  observation_mean_SAP  observation_mean_DAP  \\\n",
       "0            57.333333            106.816667             36.186667   \n",
       "1            57.333333            106.816667             36.186667   \n",
       "2            57.333333            106.816667             36.186667   \n",
       "3            57.333333            106.816667             36.186667   \n",
       "4            57.333333            106.816667             36.186667   \n",
       "\n",
       "   prediction_mean_HR  prediction_mean_spo2  prediction_mean_MAP  \\\n",
       "0               95.44                  92.0                55.88   \n",
       "1               95.44                  92.0                55.88   \n",
       "2               95.44                  92.0                55.88   \n",
       "3               95.44                  92.0                55.88   \n",
       "4               95.44                  92.0                55.88   \n",
       "\n",
       "   prediction_mean_SAP  prediction_mean_DAP  \n",
       "0               106.56                35.12  \n",
       "1               106.56                35.12  \n",
       "2               106.56                35.12  \n",
       "3               106.56                35.12  \n",
       "4               106.56                35.12  \n",
       "\n",
       "[5 rows x 28 columns]"
      ]
     },
     "execution_count": 63,
     "metadata": {},
     "output_type": "execute_result"
    }
   ],
   "source": [
    "df0.head()"
   ]
  },
  {
   "cell_type": "code",
   "execution_count": 64,
   "metadata": {},
   "outputs": [
    {
     "data": {
      "text/plain": [
       "Index(['subject_id', 'key', 'gender', 'age', 'sapsii', 'sofa', 'care_unit',\n",
       "       'amine', 'sedation', 'ventilation', 'periode', 'window',\n",
       "       'time_and_date', 'hr', 'spo2', 'abp_sys', 'abp_dias', 'abp_mean',\n",
       "       'observation_mean_HR', 'observation_mean_spo2', 'observation_mean_MAP',\n",
       "       'observation_mean_SAP', 'observation_mean_DAP', 'prediction_mean_HR',\n",
       "       'prediction_mean_spo2', 'prediction_mean_MAP', 'prediction_mean_SAP',\n",
       "       'prediction_mean_DAP'],\n",
       "      dtype='object')"
      ]
     },
     "execution_count": 64,
     "metadata": {},
     "output_type": "execute_result"
    }
   ],
   "source": [
    "df0.columns"
   ]
  },
  {
   "cell_type": "code",
   "execution_count": 65,
   "metadata": {},
   "outputs": [],
   "source": [
    "time_cols = [\"hr\", \"spo2\", \"abp_mean\"]\n",
    "x_static_cols = [\"subject_id\", \"gender\", \"age\", \"sapsii\", \"care_unit\"]\n",
    "y_cols = [\"prediction_mean_HR\", \"prediction_mean_MAP\"]\n",
    "static_cols = x_static_cols + y_cols"
   ]
  },
  {
   "cell_type": "code",
   "execution_count": 66,
   "metadata": {},
   "outputs": [],
   "source": [
    "df = pd.read_csv(\"~/data/icu_data_10013.csv\")\n",
    "result = process_all_periods(df, static_cols, time_cols, process_time_period)"
   ]
  },
  {
   "cell_type": "markdown",
   "metadata": {},
   "source": [
    "## Task 5\n",
    "1. Apply `process_all_periods` to the data in \"icu_data.csv\" using the `time_cols` and `static_cols` provided above."
   ]
  },
  {
   "cell_type": "code",
   "execution_count": 68,
   "metadata": {},
   "outputs": [
    {
     "name": "stdout",
     "output_type": "stream",
     "text": [
      "(74159, 11)\n"
     ]
    }
   ],
   "source": [
    "print(result.shape)"
   ]
  },
  {
   "cell_type": "markdown",
   "metadata": {},
   "source": [
    "2. Use the unique values of `subject_id` to split the dataset into train, validation, and test sets. Use the `split_list_into_three_groups` function to split subject_id into three groups using the probabilities p1=0.8, p2=0.1, and p3=0.1, corresponding to train, validation, and test sets."
   ]
  },
  {
   "cell_type": "markdown",
   "metadata": {},
   "source": [
    "3. Use the three groups that resulted from the function above and the function `split_dataframe_by_column_values` to split the (grouped) dataset into train, valid and test."
   ]
  },
  {
   "cell_type": "markdown",
   "metadata": {},
   "source": [
    "4. Here we will encode categorical variables. We will compute a `cat_map` for each of the categorical variables by looking at the values from the **training set**. Values that are not present on the training set will get a `0` on the test and validation sets. </br>\n",
    "a) Compute a category map for variables `subject_id` and `care_unit` using function `compute_category_map`. </br>\n",
    "b) Apply `encode_category` function to columns `subject_id` and `care_unit` using precomputed category maps to each of the datasets (train, validation, test)."
   ]
  },
  {
   "cell_type": "markdown",
   "metadata": {},
   "source": [
    "5. Normalize variables: \"age\", \"sapssi\", \"hr\", \"spo2\", \"abp_mean\". For each of the variables, compute mean and std from the **training data**. Use the `normalize_var` function to normalize the data. \n",
    "\n",
    "Note: For time series data, follow these steps:\n",
    "\n",
    "- Estimate the mean by first calculating the mean of each observation and then taking the mean over the entire dataset.\n",
    "- To estimate the standard deviation, compute the mean per observation and then calculate the std over the entire dataset."
   ]
  },
  {
   "cell_type": "code",
   "execution_count": 83,
   "metadata": {},
   "outputs": [
    {
     "data": {
      "text/html": [
       "<div>\n",
       "<style scoped>\n",
       "    .dataframe tbody tr th:only-of-type {\n",
       "        vertical-align: middle;\n",
       "    }\n",
       "\n",
       "    .dataframe tbody tr th {\n",
       "        vertical-align: top;\n",
       "    }\n",
       "\n",
       "    .dataframe thead th {\n",
       "        text-align: right;\n",
       "    }\n",
       "</style>\n",
       "<table border=\"1\" class=\"dataframe\">\n",
       "  <thead>\n",
       "    <tr style=\"text-align: right;\">\n",
       "      <th></th>\n",
       "      <th>key</th>\n",
       "      <th>subject_id</th>\n",
       "      <th>gender</th>\n",
       "      <th>age</th>\n",
       "      <th>sapsii</th>\n",
       "      <th>care_unit</th>\n",
       "      <th>prediction_mean_HR</th>\n",
       "      <th>prediction_mean_MAP</th>\n",
       "      <th>hr</th>\n",
       "      <th>spo2</th>\n",
       "      <th>abp_mean</th>\n",
       "    </tr>\n",
       "  </thead>\n",
       "  <tbody>\n",
       "    <tr>\n",
       "      <th>0</th>\n",
       "      <td>10049_4</td>\n",
       "      <td>1</td>\n",
       "      <td>0</td>\n",
       "      <td>-0.126436</td>\n",
       "      <td>-0.917494</td>\n",
       "      <td>1</td>\n",
       "      <td>65.972222</td>\n",
       "      <td>100.888136</td>\n",
       "      <td>[-1.1972014034161202, -1.3243635682767256, -1....</td>\n",
       "      <td>[0.11469979432371856, 0.25656710756885476, -0....</td>\n",
       "      <td>[1.7022781886475125, 2.003815954491115, 2.0038...</td>\n",
       "    </tr>\n",
       "    <tr>\n",
       "      <th>1</th>\n",
       "      <td>10049_5</td>\n",
       "      <td>1</td>\n",
       "      <td>0</td>\n",
       "      <td>-0.126436</td>\n",
       "      <td>-0.917494</td>\n",
       "      <td>1</td>\n",
       "      <td>62.883333</td>\n",
       "      <td>101.036667</td>\n",
       "      <td>[-1.387944650707028, -1.260782485846423, -1.19...</td>\n",
       "      <td>[0.25656710756885476, 0.25656710756885476, 0.2...</td>\n",
       "      <td>[2.5315070447174195, 2.229969278873817, 1.7022...</td>\n",
       "    </tr>\n",
       "    <tr>\n",
       "      <th>2</th>\n",
       "      <td>10049_6</td>\n",
       "      <td>1</td>\n",
       "      <td>0</td>\n",
       "      <td>-0.126436</td>\n",
       "      <td>-0.917494</td>\n",
       "      <td>1</td>\n",
       "      <td>63.970000</td>\n",
       "      <td>94.220000</td>\n",
       "      <td>[-1.3243635682767256, -1.260782485846423, -1.2...</td>\n",
       "      <td>[0.18563345094628664, 0.11469979432371856, 0.1...</td>\n",
       "      <td>[1.9284315130302143, 1.2499715398821085, 0.646...</td>\n",
       "    </tr>\n",
       "    <tr>\n",
       "      <th>3</th>\n",
       "      <td>10049_8</td>\n",
       "      <td>1</td>\n",
       "      <td>0</td>\n",
       "      <td>-0.126436</td>\n",
       "      <td>-0.917494</td>\n",
       "      <td>1</td>\n",
       "      <td>63.770000</td>\n",
       "      <td>93.453333</td>\n",
       "      <td>[-1.260782485846423, -1.4515257331373308, -1.3...</td>\n",
       "      <td>[0.11469979432371856, 0.18563345094628664, 0.1...</td>\n",
       "      <td>[1.4007404228039098, 1.2499715398821085, 1.023...</td>\n",
       "    </tr>\n",
       "    <tr>\n",
       "      <th>4</th>\n",
       "      <td>10077_10</td>\n",
       "      <td>2</td>\n",
       "      <td>1</td>\n",
       "      <td>-1.058977</td>\n",
       "      <td>0.413462</td>\n",
       "      <td>1</td>\n",
       "      <td>107.360000</td>\n",
       "      <td>72.620000</td>\n",
       "      <td>[1.5685756823020436, 1.454129733927499, 1.4541...</td>\n",
       "      <td>[0.34878086117819307, 0.25656710756885476, 0.1...</td>\n",
       "      <td>[0.02120514406942847, 0.5564346784418225, 0.44...</td>\n",
       "    </tr>\n",
       "  </tbody>\n",
       "</table>\n",
       "</div>"
      ],
      "text/plain": [
       "        key  subject_id  gender       age    sapsii  care_unit  \\\n",
       "0   10049_4           1       0 -0.126436 -0.917494          1   \n",
       "1   10049_5           1       0 -0.126436 -0.917494          1   \n",
       "2   10049_6           1       0 -0.126436 -0.917494          1   \n",
       "3   10049_8           1       0 -0.126436 -0.917494          1   \n",
       "4  10077_10           2       1 -1.058977  0.413462          1   \n",
       "\n",
       "   prediction_mean_HR  prediction_mean_MAP  \\\n",
       "0           65.972222           100.888136   \n",
       "1           62.883333           101.036667   \n",
       "2           63.970000            94.220000   \n",
       "3           63.770000            93.453333   \n",
       "4          107.360000            72.620000   \n",
       "\n",
       "                                                  hr  \\\n",
       "0  [-1.1972014034161202, -1.3243635682767256, -1....   \n",
       "1  [-1.387944650707028, -1.260782485846423, -1.19...   \n",
       "2  [-1.3243635682767256, -1.260782485846423, -1.2...   \n",
       "3  [-1.260782485846423, -1.4515257331373308, -1.3...   \n",
       "4  [1.5685756823020436, 1.454129733927499, 1.4541...   \n",
       "\n",
       "                                                spo2  \\\n",
       "0  [0.11469979432371856, 0.25656710756885476, -0....   \n",
       "1  [0.25656710756885476, 0.25656710756885476, 0.2...   \n",
       "2  [0.18563345094628664, 0.11469979432371856, 0.1...   \n",
       "3  [0.11469979432371856, 0.18563345094628664, 0.1...   \n",
       "4  [0.34878086117819307, 0.25656710756885476, 0.1...   \n",
       "\n",
       "                                            abp_mean  \n",
       "0  [1.7022781886475125, 2.003815954491115, 2.0038...  \n",
       "1  [2.5315070447174195, 2.229969278873817, 1.7022...  \n",
       "2  [1.9284315130302143, 1.2499715398821085, 0.646...  \n",
       "3  [1.4007404228039098, 1.2499715398821085, 1.023...  \n",
       "4  [0.02120514406942847, 0.5564346784418225, 0.44...  "
      ]
     },
     "execution_count": 83,
     "metadata": {},
     "output_type": "execute_result"
    }
   ],
   "source": [
    "# your values might not be the same\n",
    "train_df.head()"
   ]
  }
 ],
 "metadata": {
  "kernelspec": {
   "display_name": "base",
   "language": "python",
   "name": "python3"
  },
  "language_info": {
   "codemirror_mode": {
    "name": "ipython",
    "version": 3
   },
   "file_extension": ".py",
   "mimetype": "text/x-python",
   "name": "python",
   "nbconvert_exporter": "python",
   "pygments_lexer": "ipython3",
   "version": "3.12.4"
  }
 },
 "nbformat": 4,
 "nbformat_minor": 2
}
