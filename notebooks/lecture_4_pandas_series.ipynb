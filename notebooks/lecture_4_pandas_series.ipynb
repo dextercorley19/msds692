{
 "cells": [
  {
   "cell_type": "markdown",
   "metadata": {},
   "source": [
    "## Pandas Series"
   ]
  },
  {
   "cell_type": "code",
   "execution_count": 1,
   "metadata": {},
   "outputs": [],
   "source": [
    "import pandas as pd"
   ]
  },
  {
   "cell_type": "markdown",
   "metadata": {},
   "source": [
    "### Lambda functions"
   ]
  },
  {
   "cell_type": "code",
   "execution_count": 2,
   "metadata": {},
   "outputs": [
    {
     "data": {
      "text/plain": [
       "17"
      ]
     },
     "execution_count": 2,
     "metadata": {},
     "output_type": "execute_result"
    }
   ],
   "source": [
    "f = lambda x: x + 10\n",
    "f(7)"
   ]
  },
  {
   "cell_type": "code",
   "execution_count": 3,
   "metadata": {},
   "outputs": [
    {
     "data": {
      "text/plain": [
       "13"
      ]
     },
     "execution_count": 3,
     "metadata": {},
     "output_type": "execute_result"
    }
   ],
   "source": [
    "f = lambda x,y: x+y\n",
    "f(10, 3)"
   ]
  },
  {
   "cell_type": "code",
   "execution_count": 4,
   "metadata": {},
   "outputs": [
    {
     "data": {
      "text/plain": [
       "'Odd'"
      ]
     },
     "execution_count": 4,
     "metadata": {},
     "output_type": "execute_result"
    }
   ],
   "source": [
    "# Lambda function that returns \"Even\" if the number is even, otherwise \"Odd\"\n",
    "check_even_odd = lambda x: \"Even\" if x % 2 == 0 else \"Odd\"\n",
    "check_even_odd(5)"
   ]
  },
  {
   "cell_type": "markdown",
   "metadata": {},
   "source": [
    "Exercise: Write a lambda functions that sums 3 numbers. "
   ]
  },
  {
   "cell_type": "code",
   "execution_count": 5,
   "metadata": {},
   "outputs": [
    {
     "data": {
      "text/plain": [
       "12"
      ]
     },
     "execution_count": 5,
     "metadata": {},
     "output_type": "execute_result"
    }
   ],
   "source": [
    "sums_three = lambda x,y,z: x + y + z\n",
    "sums_three(3,4,5)"
   ]
  },
  {
   "cell_type": "markdown",
   "metadata": {},
   "source": [
    "### Map\n",
    "The map function applies a given function to each item of an iterable (like a list, tuple, etc.) and returns a map object (which is an iterator) containing the results."
   ]
  },
  {
   "cell_type": "code",
   "execution_count": 6,
   "metadata": {},
   "outputs": [
    {
     "name": "stdout",
     "output_type": "stream",
     "text": [
      "[1, 4, 9, 16]\n"
     ]
    }
   ],
   "source": [
    "def square(x):\n",
    "    return x * x\n",
    "\n",
    "numbers = [1, 2, 3, 4]\n",
    "result = map(square, numbers)\n",
    "\n",
    "print(list(result))\n"
   ]
  },
  {
   "cell_type": "markdown",
   "metadata": {},
   "source": [
    "Exercise: Using map write a code snipet that takes a log of every number on a list."
   ]
  },
  {
   "cell_type": "code",
   "execution_count": 7,
   "metadata": {},
   "outputs": [
    {
     "name": "stdout",
     "output_type": "stream",
     "text": [
      "[5, 7, 9]\n"
     ]
    }
   ],
   "source": [
    "# multiple iterables\n",
    "def add(x, y):\n",
    "    return x + y\n",
    "\n",
    "numbers1 = [1, 2, 3]\n",
    "numbers2 = [4, 5, 6]\n",
    "result = map(add, numbers1, numbers2)\n",
    "\n",
    "print(list(result))"
   ]
  },
  {
   "cell_type": "markdown",
   "metadata": {},
   "source": [
    "### Combining Map and Lambda\n",
    "Exercise: rewrite previous examples with a lambda function."
   ]
  },
  {
   "cell_type": "code",
   "execution_count": 8,
   "metadata": {},
   "outputs": [
    {
     "name": "stdout",
     "output_type": "stream",
     "text": [
      "[1, 4, 9, 16]\n"
     ]
    }
   ],
   "source": [
    "numbers = [1, 2, 3, 4]\n",
    "result = map(lambda x: x * x, numbers)\n",
    "\n",
    "print(list(result))"
   ]
  },
  {
   "cell_type": "markdown",
   "metadata": {},
   "source": [
    "## Pandas Series\n",
    "A Pandas Series is a one-dimensional labeled array that can hold data of any type, such as integers, floats, strings, or objects. Each element in a Series is associated with an index label, making it similar to both an array and a dictionary. The index labels allow for easy access and manipulation of data. Series are a fundamental building block in Pandas and are often used to represent columns in a DataFrame."
   ]
  },
  {
   "cell_type": "code",
   "execution_count": null,
   "metadata": {},
   "outputs": [],
   "source": []
  },
  {
   "cell_type": "code",
   "execution_count": 9,
   "metadata": {},
   "outputs": [
    {
     "data": {
      "text/html": [
       "<div>\n",
       "<style scoped>\n",
       "    .dataframe tbody tr th:only-of-type {\n",
       "        vertical-align: middle;\n",
       "    }\n",
       "\n",
       "    .dataframe tbody tr th {\n",
       "        vertical-align: top;\n",
       "    }\n",
       "\n",
       "    .dataframe thead th {\n",
       "        text-align: right;\n",
       "    }\n",
       "</style>\n",
       "<table border=\"1\" class=\"dataframe\">\n",
       "  <thead>\n",
       "    <tr style=\"text-align: right;\">\n",
       "      <th></th>\n",
       "      <th>country</th>\n",
       "      <th>child_mort</th>\n",
       "      <th>exports</th>\n",
       "      <th>health</th>\n",
       "      <th>imports</th>\n",
       "      <th>income</th>\n",
       "      <th>inflation</th>\n",
       "      <th>life_expec</th>\n",
       "      <th>total_fer</th>\n",
       "      <th>gdpp</th>\n",
       "    </tr>\n",
       "  </thead>\n",
       "  <tbody>\n",
       "    <tr>\n",
       "      <th>0</th>\n",
       "      <td>Afghanistan</td>\n",
       "      <td>90.2</td>\n",
       "      <td>10.0</td>\n",
       "      <td>7.58</td>\n",
       "      <td>44.9</td>\n",
       "      <td>1610</td>\n",
       "      <td>9.44</td>\n",
       "      <td>56.2</td>\n",
       "      <td>5.82</td>\n",
       "      <td>553</td>\n",
       "    </tr>\n",
       "    <tr>\n",
       "      <th>1</th>\n",
       "      <td>Albania</td>\n",
       "      <td>16.6</td>\n",
       "      <td>28.0</td>\n",
       "      <td>6.55</td>\n",
       "      <td>48.6</td>\n",
       "      <td>9930</td>\n",
       "      <td>4.49</td>\n",
       "      <td>76.3</td>\n",
       "      <td>1.65</td>\n",
       "      <td>4090</td>\n",
       "    </tr>\n",
       "    <tr>\n",
       "      <th>2</th>\n",
       "      <td>Algeria</td>\n",
       "      <td>27.3</td>\n",
       "      <td>38.4</td>\n",
       "      <td>4.17</td>\n",
       "      <td>31.4</td>\n",
       "      <td>12900</td>\n",
       "      <td>16.10</td>\n",
       "      <td>76.5</td>\n",
       "      <td>2.89</td>\n",
       "      <td>4460</td>\n",
       "    </tr>\n",
       "    <tr>\n",
       "      <th>3</th>\n",
       "      <td>Angola</td>\n",
       "      <td>119.0</td>\n",
       "      <td>62.3</td>\n",
       "      <td>2.85</td>\n",
       "      <td>42.9</td>\n",
       "      <td>5900</td>\n",
       "      <td>22.40</td>\n",
       "      <td>60.1</td>\n",
       "      <td>6.16</td>\n",
       "      <td>3530</td>\n",
       "    </tr>\n",
       "    <tr>\n",
       "      <th>4</th>\n",
       "      <td>Antigua and Barbuda</td>\n",
       "      <td>10.3</td>\n",
       "      <td>45.5</td>\n",
       "      <td>6.03</td>\n",
       "      <td>58.9</td>\n",
       "      <td>19100</td>\n",
       "      <td>1.44</td>\n",
       "      <td>76.8</td>\n",
       "      <td>2.13</td>\n",
       "      <td>12200</td>\n",
       "    </tr>\n",
       "  </tbody>\n",
       "</table>\n",
       "</div>"
      ],
      "text/plain": [
       "               country  child_mort  exports  health  imports  income  \\\n",
       "0          Afghanistan        90.2     10.0    7.58     44.9    1610   \n",
       "1              Albania        16.6     28.0    6.55     48.6    9930   \n",
       "2              Algeria        27.3     38.4    4.17     31.4   12900   \n",
       "3               Angola       119.0     62.3    2.85     42.9    5900   \n",
       "4  Antigua and Barbuda        10.3     45.5    6.03     58.9   19100   \n",
       "\n",
       "   inflation  life_expec  total_fer   gdpp  \n",
       "0       9.44        56.2       5.82    553  \n",
       "1       4.49        76.3       1.65   4090  \n",
       "2      16.10        76.5       2.89   4460  \n",
       "3      22.40        60.1       6.16   3530  \n",
       "4       1.44        76.8       2.13  12200  "
      ]
     },
     "execution_count": 9,
     "metadata": {},
     "output_type": "execute_result"
    }
   ],
   "source": [
    "# gets a pandas dataframe\n",
    "data_path = \"../data/country-data.csv\"\n",
    "country = pd.read_csv(data_path)\n",
    "country.head()"
   ]
  },
  {
   "cell_type": "code",
   "execution_count": 16,
   "metadata": {},
   "outputs": [],
   "source": [
    "# gets a pandas series with index country and values life_expec\n",
    "life_exp = pd.read_csv(data_path, index_col=\"country\", usecols=[\"life_expec\", \"country\"])\n",
    "life_exp = life_exp.squeeze() # to make it a series"
   ]
  },
  {
   "cell_type": "code",
   "execution_count": 21,
   "metadata": {},
   "outputs": [
    {
     "data": {
      "text/plain": [
       "Index(['Afghanistan', 'Albania', 'Algeria', 'Angola', 'Antigua and Barbuda'], dtype='object', name='country')"
      ]
     },
     "execution_count": 21,
     "metadata": {},
     "output_type": "execute_result"
    }
   ],
   "source": [
    "life_exp.head().index"
   ]
  },
  {
   "cell_type": "code",
   "execution_count": 22,
   "metadata": {},
   "outputs": [
    {
     "data": {
      "text/plain": [
       "array([56.2, 76.3, 76.5, 60.1, 76.8])"
      ]
     },
     "execution_count": 22,
     "metadata": {},
     "output_type": "execute_result"
    }
   ],
   "source": [
    "life_exp.head().values"
   ]
  },
  {
   "cell_type": "code",
   "execution_count": 23,
   "metadata": {},
   "outputs": [
    {
     "data": {
      "text/plain": [
       "(167,)"
      ]
     },
     "execution_count": 23,
     "metadata": {},
     "output_type": "execute_result"
    }
   ],
   "source": [
    "life_exp.shape"
   ]
  },
  {
   "cell_type": "markdown",
   "metadata": {},
   "source": [
    "### Subseting and filtering by position: iloc"
   ]
  },
  {
   "cell_type": "code",
   "execution_count": 25,
   "metadata": {},
   "outputs": [
    {
     "data": {
      "text/plain": [
       "country\n",
       "Afghanistan    56.2\n",
       "Albania        76.3\n",
       "Algeria        76.5\n",
       "Name: life_expec, dtype: float64"
      ]
     },
     "execution_count": 25,
     "metadata": {},
     "output_type": "execute_result"
    }
   ],
   "source": [
    "life_exp.iloc[0: 3]"
   ]
  },
  {
   "cell_type": "markdown",
   "metadata": {},
   "source": [
    "Exercise: \n",
    "1. Get the last 10 elements from the series.\n",
    "2. Get element 33."
   ]
  },
  {
   "cell_type": "markdown",
   "metadata": {},
   "source": [
    "### Subseting and filtering by label (index)"
   ]
  },
  {
   "cell_type": "code",
   "execution_count": 29,
   "metadata": {},
   "outputs": [
    {
     "data": {
      "text/plain": [
       "(81.9, 79.8)"
      ]
     },
     "execution_count": 29,
     "metadata": {},
     "output_type": "execute_result"
    }
   ],
   "source": [
    "life_exp[\"Spain\"], life_exp[\"Portugal\"]"
   ]
  },
  {
   "cell_type": "code",
   "execution_count": 32,
   "metadata": {},
   "outputs": [
    {
     "data": {
      "text/plain": [
       "country\n",
       "Seychelles         73.4\n",
       "Sierra Leone       55.0\n",
       "Singapore          82.7\n",
       "Slovak Republic    75.5\n",
       "Slovenia           79.5\n",
       "Solomon Islands    61.7\n",
       "South Africa       54.3\n",
       "South Korea        80.1\n",
       "Spain              81.9\n",
       "Name: life_expec, dtype: float64"
      ]
     },
     "execution_count": 32,
     "metadata": {},
     "output_type": "execute_result"
    }
   ],
   "source": [
    "life_exp[\"Servia\" : \"Spain\"]"
   ]
  },
  {
   "cell_type": "code",
   "execution_count": 33,
   "metadata": {},
   "outputs": [
    {
     "data": {
      "text/plain": [
       "country\n",
       "Seychelles         73.4\n",
       "Sierra Leone       55.0\n",
       "Singapore          82.7\n",
       "Slovak Republic    75.5\n",
       "Slovenia           79.5\n",
       "Solomon Islands    61.7\n",
       "South Africa       54.3\n",
       "South Korea        80.1\n",
       "Spain              81.9\n",
       "Name: life_expec, dtype: float64"
      ]
     },
     "execution_count": 33,
     "metadata": {},
     "output_type": "execute_result"
    }
   ],
   "source": [
    "life_exp.loc[\"Servia\" : \"Spain\"]"
   ]
  },
  {
   "cell_type": "markdown",
   "metadata": {},
   "source": [
    "### Filtering with boolean masks"
   ]
  },
  {
   "cell_type": "code",
   "execution_count": 39,
   "metadata": {},
   "outputs": [
    {
     "data": {
      "text/plain": [
       "country\n",
       "Afghanistan            56.2\n",
       "Albania                76.3\n",
       "Algeria                76.5\n",
       "Angola                 60.1\n",
       "Antigua and Barbuda    76.8\n",
       "Argentina              75.8\n",
       "Armenia                73.3\n",
       "Australia              82.0\n",
       "Austria                80.5\n",
       "Azerbaijan             69.1\n",
       "Name: life_expec, dtype: float64"
      ]
     },
     "execution_count": 39,
     "metadata": {},
     "output_type": "execute_result"
    }
   ],
   "source": [
    "# creating a smaller series\n",
    "ser_small = life_exp.head(10)\n",
    "ser_small"
   ]
  },
  {
   "cell_type": "code",
   "execution_count": 46,
   "metadata": {},
   "outputs": [
    {
     "data": {
      "text/plain": [
       "country\n",
       "Afghanistan            False\n",
       "Albania                 True\n",
       "Algeria                 True\n",
       "Angola                 False\n",
       "Antigua and Barbuda     True\n",
       "Argentina               True\n",
       "Armenia                False\n",
       "Australia               True\n",
       "Austria                 True\n",
       "Azerbaijan             False\n",
       "Name: life_expec, dtype: bool"
      ]
     },
     "execution_count": 46,
     "metadata": {},
     "output_type": "execute_result"
    }
   ],
   "source": [
    "# creating a boolean mask\n",
    "ser_small > 74"
   ]
  },
  {
   "cell_type": "code",
   "execution_count": 59,
   "metadata": {},
   "outputs": [
    {
     "data": {
      "text/plain": [
       "country\n",
       "Afghanistan            False\n",
       "Albania                False\n",
       "Algeria                False\n",
       "Angola                 False\n",
       "Antigua and Barbuda    False\n",
       "Argentina              False\n",
       "Armenia                False\n",
       "Australia               True\n",
       "Austria                 True\n",
       "Azerbaijan             False\n",
       "Name: life_expec, dtype: bool"
      ]
     },
     "execution_count": 59,
     "metadata": {},
     "output_type": "execute_result"
    }
   ],
   "source": [
    "# another boolean mask\n",
    "(ser_small > 74) & (ser_small > 80)"
   ]
  },
  {
   "cell_type": "code",
   "execution_count": 58,
   "metadata": {},
   "outputs": [
    {
     "data": {
      "text/plain": [
       "country\n",
       "Australia    82.0\n",
       "Austria      80.5\n",
       "Name: life_expec, dtype: float64"
      ]
     },
     "execution_count": 58,
     "metadata": {},
     "output_type": "execute_result"
    }
   ],
   "source": [
    "# filtering\n",
    "ser_small[(ser_small > 74) & (ser_small > 80)]"
   ]
  },
  {
   "cell_type": "markdown",
   "metadata": {},
   "source": [
    "### Filtering with .filter()"
   ]
  },
  {
   "cell_type": "code",
   "execution_count": 50,
   "metadata": {},
   "outputs": [
    {
     "data": {
      "text/plain": [
       "Spain       81.9\n",
       "Portugal    79.8\n",
       "France      81.4\n",
       "Name: life_expec, dtype: float64"
      ]
     },
     "execution_count": 50,
     "metadata": {},
     "output_type": "execute_result"
    }
   ],
   "source": [
    "# Select a subset of the Series based on the specified labels or index values. \n",
    "life_exp.filter([\"Spain\", \"Portugal\", \"France\"])"
   ]
  },
  {
   "cell_type": "code",
   "execution_count": 53,
   "metadata": {},
   "outputs": [
    {
     "data": {
      "text/plain": [
       "country\n",
       "Spain       81.9\n",
       "Portugal    79.8\n",
       "France      81.4\n",
       "Name: life_expec, dtype: float64"
      ]
     },
     "execution_count": 53,
     "metadata": {},
     "output_type": "execute_result"
    }
   ],
   "source": [
    "# similar to this\n",
    "life_exp.loc[[\"Spain\", \"Portugal\", \"France\"]]"
   ]
  },
  {
   "cell_type": "code",
   "execution_count": 55,
   "metadata": {},
   "outputs": [
    {
     "data": {
      "text/plain": [
       "country\n",
       "Afghanistan            56.2\n",
       "Albania                76.3\n",
       "Algeria                76.5\n",
       "Angola                 60.1\n",
       "Antigua and Barbuda    76.8\n",
       "Argentina              75.8\n",
       "Armenia                73.3\n",
       "Australia              82.0\n",
       "Austria                80.5\n",
       "Azerbaijan             69.1\n",
       "Name: life_expec, dtype: float64"
      ]
     },
     "execution_count": 55,
     "metadata": {},
     "output_type": "execute_result"
    }
   ],
   "source": [
    "# more interesting filtering \n",
    "# countries starting with A\n",
    "life_exp.filter(regex=\"^A\")"
   ]
  },
  {
   "cell_type": "code",
   "execution_count": 56,
   "metadata": {},
   "outputs": [
    {
     "data": {
      "text/plain": [
       "country\n",
       "Azerbaijan                69.1\n",
       "Belize                    71.4\n",
       "Bosnia and Herzegovina    76.8\n",
       "Brazil                    74.2\n",
       "Czech Republic            77.5\n",
       "Kazakhstan                68.4\n",
       "Kyrgyz Republic           68.5\n",
       "Mozambique                54.5\n",
       "Switzerland               82.2\n",
       "Tanzania                  59.3\n",
       "Uzbekistan                68.8\n",
       "Venezuela                 75.4\n",
       "Name: life_expec, dtype: float64"
      ]
     },
     "execution_count": 56,
     "metadata": {},
     "output_type": "execute_result"
    }
   ],
   "source": [
    "life_exp.filter(like=\"z\")"
   ]
  },
  {
   "cell_type": "markdown",
   "metadata": {},
   "source": [
    "### .where()\n",
    "The where function in Pandas is used to replace elements in a Series (or DataFrame) based on a condition."
   ]
  },
  {
   "cell_type": "code",
   "execution_count": 67,
   "metadata": {},
   "outputs": [
    {
     "data": {
      "text/plain": [
       "country\n",
       "Afghanistan             LOW\n",
       "Albania                76.3\n",
       "Algeria                76.5\n",
       "Angola                  LOW\n",
       "Antigua and Barbuda    76.8\n",
       "Argentina              75.8\n",
       "Armenia                73.3\n",
       "Australia              82.0\n",
       "Austria                80.5\n",
       "Azerbaijan              LOW\n",
       "Name: life_expec, dtype: object"
      ]
     },
     "execution_count": 67,
     "metadata": {},
     "output_type": "execute_result"
    }
   ],
   "source": [
    "ser_small.where(lambda x: x > 70, other=\"LOW\")"
   ]
  },
  {
   "cell_type": "code",
   "execution_count": 65,
   "metadata": {},
   "outputs": [
    {
     "data": {
      "text/plain": [
       "country\n",
       "Afghanistan             NaN\n",
       "Albania                76.3\n",
       "Algeria                76.5\n",
       "Angola                  NaN\n",
       "Antigua and Barbuda    76.8\n",
       "Argentina              75.8\n",
       "Armenia                73.3\n",
       "Australia              82.0\n",
       "Austria                80.5\n",
       "Azerbaijan              NaN\n",
       "Name: life_expec, dtype: float64"
      ]
     },
     "execution_count": 65,
     "metadata": {},
     "output_type": "execute_result"
    }
   ],
   "source": [
    "# Note the NaN\n",
    "ser_small.where(lambda x: x > 70)"
   ]
  },
  {
   "cell_type": "code",
   "execution_count": 66,
   "metadata": {},
   "outputs": [
    {
     "data": {
      "text/plain": [
       "country\n",
       "Albania                76.3\n",
       "Algeria                76.5\n",
       "Antigua and Barbuda    76.8\n",
       "Argentina              75.8\n",
       "Armenia                73.3\n",
       "Australia              82.0\n",
       "Austria                80.5\n",
       "Name: life_expec, dtype: float64"
      ]
     },
     "execution_count": 66,
     "metadata": {},
     "output_type": "execute_result"
    }
   ],
   "source": [
    "ser_small.where(lambda x: x > 70).dropna()"
   ]
  },
  {
   "cell_type": "markdown",
   "metadata": {},
   "source": [
    "### .mask()\n",
    "The mask function in a Pandas Series is used to replace elements based on a condition, similar to the where function but with the logic reversed. "
   ]
  },
  {
   "cell_type": "code",
   "execution_count": 72,
   "metadata": {},
   "outputs": [
    {
     "data": {
      "text/plain": [
       "country\n",
       "Afghanistan            56.2\n",
       "Albania                 NaN\n",
       "Algeria                 NaN\n",
       "Angola                 60.1\n",
       "Antigua and Barbuda     NaN\n",
       "Argentina               NaN\n",
       "Armenia                73.3\n",
       "Australia               NaN\n",
       "Austria                 NaN\n",
       "Azerbaijan             69.1\n",
       "Name: life_expec, dtype: float64"
      ]
     },
     "execution_count": 72,
     "metadata": {},
     "output_type": "execute_result"
    }
   ],
   "source": [
    "ser_small.mask(lambda x: x > 75)"
   ]
  },
  {
   "cell_type": "markdown",
   "metadata": {},
   "source": [
    "### .map()\n",
    "Used for element-wise transformations of a Pandas Series. It is especially useful when you want to replace values in a Series based on a mapping relationship or when applying simple functions."
   ]
  },
  {
   "cell_type": "code",
   "execution_count": 73,
   "metadata": {},
   "outputs": [
    {
     "data": {
      "text/plain": [
       "0      meow\n",
       "1      woof\n",
       "2    squeak\n",
       "dtype: object"
      ]
     },
     "execution_count": 73,
     "metadata": {},
     "output_type": "execute_result"
    }
   ],
   "source": [
    "s = pd.Series(['cat', 'dog', 'rabbit'])\n",
    "\n",
    "# Using map with a dictionary\n",
    "mapping = {'cat': 'meow', 'dog': 'woof', 'rabbit': 'squeak'}\n",
    "s.map(mapping)"
   ]
  },
  {
   "cell_type": "code",
   "execution_count": 74,
   "metadata": {},
   "outputs": [
    {
     "data": {
      "text/plain": [
       "0       CAT\n",
       "1       DOG\n",
       "2    RABBIT\n",
       "dtype: object"
      ]
     },
     "execution_count": 74,
     "metadata": {},
     "output_type": "execute_result"
    }
   ],
   "source": [
    "# Using map with a lambda function\n",
    "s.map(lambda x: x.upper())"
   ]
  },
  {
   "cell_type": "markdown",
   "metadata": {},
   "source": [
    "### .apply()\n",
    "The apply function is more general and flexible than map. It is defined on Series and DataFrames. Map is defined only on series."
   ]
  },
  {
   "cell_type": "code",
   "execution_count": 77,
   "metadata": {},
   "outputs": [
    {
     "data": {
      "text/plain": [
       "0     fruit_apple_pie\n",
       "1    fruit_banana_pie\n",
       "2    fruit_cherry_pie\n",
       "dtype: object"
      ]
     },
     "execution_count": 77,
     "metadata": {},
     "output_type": "execute_result"
    }
   ],
   "source": [
    "s = pd.Series(['apple', 'banana', 'cherry'])\n",
    "\n",
    "# Function that adds a prefix and a suffix\n",
    "def add_prefix_suffix(word, prefix, suffix):\n",
    "    return f\"{prefix}{word}{suffix}\"\n",
    "\n",
    "# Using apply with a lambda to pass extra arguments\n",
    "s.apply(lambda x: add_prefix_suffix(x, 'fruit_', '_pie'))"
   ]
  },
  {
   "cell_type": "markdown",
   "metadata": {},
   "source": [
    "### .value_counts()"
   ]
  },
  {
   "cell_type": "code",
   "execution_count": 83,
   "metadata": {},
   "outputs": [
    {
     "data": {
      "text/plain": [
       "banana    3\n",
       "apple     2\n",
       "orange    1\n",
       "Name: count, dtype: int64"
      ]
     },
     "execution_count": 83,
     "metadata": {},
     "output_type": "execute_result"
    }
   ],
   "source": [
    "s = pd.Series(['apple', 'banana', 'apple', 'orange', 'banana', 'banana'])\n",
    "\n",
    "# Count occurrences of each unique value\n",
    "s.value_counts()"
   ]
  }
 ],
 "metadata": {
  "kernelspec": {
   "display_name": "base",
   "language": "python",
   "name": "python3"
  },
  "language_info": {
   "codemirror_mode": {
    "name": "ipython",
    "version": 3
   },
   "file_extension": ".py",
   "mimetype": "text/x-python",
   "name": "python",
   "nbconvert_exporter": "python",
   "pygments_lexer": "ipython3",
   "version": "3.12.5"
  }
 },
 "nbformat": 4,
 "nbformat_minor": 2
}
