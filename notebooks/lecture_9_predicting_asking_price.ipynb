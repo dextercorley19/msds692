{
 "cells": [
  {
   "cell_type": "code",
   "execution_count": 86,
   "id": "d91d87ef",
   "metadata": {
    "tags": []
   },
   "outputs": [],
   "source": [
    "import numpy as np\n",
    "import pandas as pd\n",
    "import pickle\n",
    "from os.path import expanduser\n",
    "from collections import Counter"
   ]
  },
  {
   "cell_type": "code",
   "execution_count": 87,
   "id": "a5af7999",
   "metadata": {
    "tags": []
   },
   "outputs": [],
   "source": [
    "import re\n",
    "import spacy"
   ]
  },
  {
   "cell_type": "code",
   "execution_count": 88,
   "id": "2d7cbaa0",
   "metadata": {},
   "outputs": [],
   "source": [
    "def saving_versions(data, version):\n",
    "    filename = expanduser(\"~/data\")\n",
    "    filename +=  \"/houses_for_sale_train_{}.pickle\".format(version)\n",
    "    file = open(filename, 'wb')\n",
    "    pickle.dump(data, file)\n",
    "    file.close()\n",
    "    print(filename)\n",
    "    \n",
    "def load_versions(version):\n",
    "    filename = expanduser(\"~/data\")\n",
    "    filename += \"/houses_for_sale_train_{}.pickle\".format(version)\n",
    "    with open(filename,'rb') as f:\n",
    "        data = pickle.load(f, encoding='utf-8')\n",
    "    return data"
   ]
  },
  {
   "cell_type": "markdown",
   "id": "9f4e06e7",
   "metadata": {},
   "source": [
    "### Houses for sale"
   ]
  },
  {
   "cell_type": "code",
   "execution_count": 89,
   "id": "9ff578ee",
   "metadata": {
    "tags": []
   },
   "outputs": [],
   "source": [
    "filename = expanduser(\"~/data/houses_for_sale.pickle\")\n",
    "with open(filename,'rb') as f:\n",
    "    data = pickle.load(f, encoding='utf-8')"
   ]
  },
  {
   "cell_type": "markdown",
   "id": "f130461b-9348-409a-8569-0d2ee9d30388",
   "metadata": {},
   "source": [
    "This dataset was acquired by scraping a website that compiles property listings available for sale in Spain. Our objective is to leverage this data to gain insights into properties that offer a favorable value proposition for potential buyers.\n",
    "\n",
    "One approach to achieve this is by training a model that can predict the asking price based on various \"features\" associated with each property listing. We intend to employ models that take a numerical feature vector as input to estimate the price. However, there are several data quality issues that need to be addressed before we can even begin creating features for this dataset:\n",
    "\n",
    "1. Remove listings that advertise multiple units for sale.\n",
    "2. Fix the \"number of bedrooms\" in some listings.\n",
    "4. Fix the location feature. Encoding it as a categorical variable.\n",
    "3. Generate relevant features from textual information."
   ]
  },
  {
   "cell_type": "markdown",
   "id": "a5c4976f",
   "metadata": {},
   "source": [
    "## Removing ads from multiple units\n",
    "If features starts with \"desde\" it means that the ad is advertising multiple units. See for example this add in which the price is None and features start with \"desde\"."
   ]
  },
  {
   "cell_type": "code",
   "execution_count": 90,
   "id": "0d50433d-31b3-493c-a18f-66166b0f26aa",
   "metadata": {
    "tags": []
   },
   "outputs": [
    {
     "data": {
      "text/plain": [
       "['desde 70 m2', '15.785,71 €/m2']"
      ]
     },
     "execution_count": 90,
     "metadata": {},
     "output_type": "execute_result"
    }
   ],
   "source": [
    "data[10]['features']"
   ]
  },
  {
   "cell_type": "code",
   "execution_count": 91,
   "id": "bfcd3ecc",
   "metadata": {},
   "outputs": [
    {
     "data": {
      "text/plain": [
       "867"
      ]
     },
     "execution_count": 91,
     "metadata": {},
     "output_type": "execute_result"
    }
   ],
   "source": [
    "data_v1 = []\n",
    "for ad in data:\n",
    "    fea = ad[\"features\"][0]\n",
    "    if not re.search(r\"^desde\", fea):\n",
    "        data_v1.append(ad)\n",
    "len(data_v1)"
   ]
  },
  {
   "cell_type": "code",
   "execution_count": 92,
   "id": "a2020dd7",
   "metadata": {
    "tags": []
   },
   "outputs": [
    {
     "name": "stdout",
     "output_type": "stream",
     "text": [
      "/Users/yinterian/data/houses_for_sale_train_v1.pickle\n"
     ]
    },
    {
     "data": {
      "text/plain": [
       "867"
      ]
     },
     "execution_count": 92,
     "metadata": {},
     "output_type": "execute_result"
    }
   ],
   "source": [
    "# saving the new version of the data\n",
    "saving_versions(data_v1, \"v1\")\n",
    "len(data_v1)"
   ]
  },
  {
   "cell_type": "markdown",
   "id": "c04d812b",
   "metadata": {},
   "source": [
    "### Checking number of rooms feature\n",
    "and fixing issues"
   ]
  },
  {
   "cell_type": "code",
   "execution_count": 93,
   "id": "4e8adf47",
   "metadata": {},
   "outputs": [
    {
     "data": {
      "text/plain": [
       "['45 m2', '1 baño', '5.689 €/m2']"
      ]
     },
     "execution_count": 93,
     "metadata": {},
     "output_type": "execute_result"
    }
   ],
   "source": [
    "# see that this feature doesn't have bedrooms (hab.)\n",
    "data_v1[137][\"features\"]"
   ]
  },
  {
   "cell_type": "code",
   "execution_count": 94,
   "id": "fd75f15f",
   "metadata": {},
   "outputs": [],
   "source": [
    "for ad in data_v1:\n",
    "    fea = ad[\"features\"]\n",
    "    if len(fea) == 3 and not re.search(r\"hab\", fea[1]):\n",
    "        features = [fea[0], \"0 hab.\", fea[1], fea[2]]\n",
    "        ad[\"features\"] = features"
   ]
  },
  {
   "cell_type": "code",
   "execution_count": 95,
   "id": "41b7275d",
   "metadata": {
    "tags": []
   },
   "outputs": [
    {
     "data": {
      "text/plain": [
       "['45 m2', '0 hab.', '1 baño', '5.689 €/m2']"
      ]
     },
     "execution_count": 95,
     "metadata": {},
     "output_type": "execute_result"
    }
   ],
   "source": [
    "data_v1[137][\"features\"]"
   ]
  },
  {
   "cell_type": "code",
   "execution_count": 12,
   "id": "9195c8cc",
   "metadata": {},
   "outputs": [
    {
     "name": "stdout",
     "output_type": "stream",
     "text": [
      "/Users/yinterian/data/houses_for_sale_train_v1.pickle\n"
     ]
    }
   ],
   "source": [
    "saving_versions(data_v1, \"v1\")"
   ]
  },
  {
   "cell_type": "code",
   "execution_count": 96,
   "id": "f8a239c8",
   "metadata": {},
   "outputs": [
    {
     "name": "stdout",
     "output_type": "stream",
     "text": [
      "['47 m2', '1 hab.', '6.051 €/m2']\n",
      "['2 hab.', '3 baños']\n",
      "['63 m2', '2 hab.', '4.524 €/m2']\n",
      "['52 m2', '3.442 €/m2']\n",
      "['100 m2', '2 hab.', '5.000 €/m2']\n"
     ]
    }
   ],
   "source": [
    "# remainning issues\n",
    "for ad in data_v1:\n",
    "    fea = ad[\"features\"]\n",
    "    if not re.search(r\"hab\", fea[1]) or len(fea) != 4:\n",
    "        print(fea)"
   ]
  },
  {
   "cell_type": "code",
   "execution_count": 14,
   "id": "370f029a",
   "metadata": {},
   "outputs": [
    {
     "data": {
      "text/plain": [
       "867"
      ]
     },
     "execution_count": 14,
     "metadata": {},
     "output_type": "execute_result"
    }
   ],
   "source": [
    "len(data_v1)"
   ]
  },
  {
   "cell_type": "code",
   "execution_count": 97,
   "id": "309c9f7e",
   "metadata": {},
   "outputs": [
    {
     "data": {
      "text/plain": [
       "866"
      ]
     },
     "execution_count": 97,
     "metadata": {},
     "output_type": "execute_result"
    }
   ],
   "source": [
    "# filtering ads without m2 in the first element of features\n",
    "data_v2 = []\n",
    "for ad in data_v1:\n",
    "    fea = ad[\"features\"]\n",
    "    if re.search(r\"m2\", fea[0]):\n",
    "        data_v2.append(ad)\n",
    "len(data_v2)"
   ]
  },
  {
   "cell_type": "code",
   "execution_count": 98,
   "id": "8665ab63",
   "metadata": {},
   "outputs": [
    {
     "name": "stdout",
     "output_type": "stream",
     "text": [
      "['47 m2', '1 hab.', '6.051 €/m2'] ['47 m2', '1 hab.', '1 baño', '6.051 €/m2']\n",
      "['63 m2', '2 hab.', '4.524 €/m2'] ['63 m2', '2 hab.', '1 baño', '4.524 €/m2']\n",
      "['100 m2', '2 hab.', '5.000 €/m2'] ['100 m2', '2 hab.', '1 baño', '5.000 €/m2']\n"
     ]
    }
   ],
   "source": [
    "for ad in data_v2:\n",
    "    fea = ad[\"features\"]\n",
    "    if len(fea) == 3 and not re.search(r\"baño\", fea[2]):\n",
    "        features = [fea[0], fea[1], \"1 baño\", fea[2]]\n",
    "        ad[\"features\"] = features\n",
    "        print(fea, features)"
   ]
  },
  {
   "cell_type": "code",
   "execution_count": 99,
   "id": "4865997c",
   "metadata": {},
   "outputs": [
    {
     "name": "stdout",
     "output_type": "stream",
     "text": [
      "['52 m2', '3.442 €/m2'] ['52 m2', '0 hab.', '1 baño', '3.442 €/m2']\n"
     ]
    }
   ],
   "source": [
    "## same for the other case\n",
    "for ad in data_v2:\n",
    "    fea = ad[\"features\"]\n",
    "    if len(fea) < 4:\n",
    "        features = [fea[0], \"0 hab.\", \"1 baño\", fea[1]]\n",
    "        ad[\"features\"] = features\n",
    "        print(fea, features)"
   ]
  },
  {
   "cell_type": "code",
   "execution_count": 100,
   "id": "71b275a7",
   "metadata": {},
   "outputs": [
    {
     "name": "stdout",
     "output_type": "stream",
     "text": [
      "/Users/yinterian/data/houses_for_sale_train_v2.pickle\n"
     ]
    }
   ],
   "source": [
    "saving_versions(data_v2, \"v2\")"
   ]
  },
  {
   "cell_type": "markdown",
   "id": "d4ea10d5",
   "metadata": {},
   "source": [
    "### Finding features in descriptions\n",
    "Let's tokenize the descriptions and compute in how many documents each word apeards."
   ]
  },
  {
   "cell_type": "code",
   "execution_count": 101,
   "id": "3d3d5012",
   "metadata": {
    "tags": []
   },
   "outputs": [],
   "source": [
    "nlp = spacy.load(\"es_core_news_sm\")"
   ]
  },
  {
   "cell_type": "code",
   "execution_count": 102,
   "id": "83b8926e",
   "metadata": {
    "tags": []
   },
   "outputs": [
    {
     "data": {
      "text/plain": [
       "'Piso en última planta a reformar en calle Tallers junto a plaza Universitat.\\n\\nLa propiedad ofrece muchas posibilidades para personalizarla según sus necesidades, ya que todas las paredes son tabiques.\\n\\nLa distribución actual cuenta con salón comedor amplio, cocina, dos habitaciones dobles exteriores, dos habitaciones interiores, baño y despensa/trastero. Balcones a ambos lados de la vivienda, uno a patio de manzana y los otros dos a carrer Tallers. Suelos originales.\\n\\nFinca del 1882 con ascensor.\\n\\nCalle peatonal con encanto en el centro de Barcelona, rodeada de todo tipo de comercios y servicios. Buenas comunicaciones mediante transportes publicos, metro, autobuses y FFCC.'"
      ]
     },
     "execution_count": 102,
     "metadata": {},
     "output_type": "execute_result"
    }
   ],
   "source": [
    "data_v1 = load_versions(\"v1\")\n",
    "text = data_v1[0][\"desc\"]\n",
    "text"
   ]
  },
  {
   "cell_type": "code",
   "execution_count": 103,
   "id": "30f19489",
   "metadata": {},
   "outputs": [
    {
     "data": {
      "text/plain": [
       "'piso en última planta a reformar en calle tallers junto a plaza universitat.\\n\\nla propiedad ofrece muchas posibilidades para personalizarla según sus necesidades, ya que todas las paredes son tabiques.\\n\\nla distribución actual cuenta con salón comedor amplio, cocina, dos habitaciones dobles exteriores, dos habitaciones interiores, baño y despensa/trastero. balcones a ambos lados de la vivienda, uno a patio de manzana y los otros dos a carrer tallers. suelos originales.\\n\\nfinca del 1882 con ascensor.\\n\\ncalle peatonal con encanto en el centro de barcelona, rodeada de todo tipo de comercios y servicios. buenas comunicaciones mediante transportes publicos, metro, autobuses y ffcc.'"
      ]
     },
     "execution_count": 103,
     "metadata": {},
     "output_type": "execute_result"
    }
   ],
   "source": [
    "text.lower()"
   ]
  },
  {
   "cell_type": "code",
   "execution_count": 104,
   "id": "5b7383b6",
   "metadata": {
    "tags": []
   },
   "outputs": [],
   "source": [
    "def clean_text(text, pos_list):\n",
    "    \"\"\" Cleans the input text by extracting specific parts of speech.\n",
    "\n",
    "    This function takes a string of text as input, tokenizes and returns a list of lowercase\n",
    "    tokens that match  specific parts of speech (verbs, nouns, adjectives, or adverbs).\n",
    "    text: str The input text to be processed.\n",
    "\n",
    "    Returns:\n",
    "    list of str A list of lowercase tokens that are either verbs, nouns, adjectives, or adverbs.\n",
    "    \"\"\"\n",
    "    tokens = []\n",
    "    text = text.lower()\n",
    "    doc = nlp(text)\n",
    "    for token in doc:\n",
    "        if token.pos_ in pos_list:\n",
    "            tokens.append(token.text)\n",
    "    return tokens"
   ]
  },
  {
   "cell_type": "code",
   "execution_count": 105,
   "id": "b74cd50c",
   "metadata": {},
   "outputs": [
    {
     "data": {
      "text/plain": [
       "['piso', 'última', 'planta', 'reformar', 'calle', 'tallers', 'junto', 'plaza']"
      ]
     },
     "execution_count": 105,
     "metadata": {},
     "output_type": "execute_result"
    }
   ],
   "source": [
    "pos_list = [\"VERB\", \"NOUN\", \"ADJ\", \"ADV\"]\n",
    "text = \"Piso en última planta a reformar en calle Tallers junto a plaza Universitat.\"\n",
    "clean_text(text, pos_list)"
   ]
  },
  {
   "cell_type": "code",
   "execution_count": 106,
   "id": "458d098c",
   "metadata": {
    "tags": []
   },
   "outputs": [
    {
     "name": "stdout",
     "output_type": "stream",
     "text": [
      "/Users/yinterian/data/houses_for_sale_train_v2.pickle\n"
     ]
    },
    {
     "data": {
      "text/plain": [
       "866"
      ]
     },
     "execution_count": 106,
     "metadata": {},
     "output_type": "execute_result"
    }
   ],
   "source": [
    "saving_versions(data_v2, \"v2\")\n",
    "len(data_v2)"
   ]
  },
  {
   "cell_type": "markdown",
   "id": "6b6d3e39",
   "metadata": {},
   "source": [
    "### Task 1\n",
    "Using the clean_text function, add a new key tokens to all dictionaries, storing the clean tokens."
   ]
  },
  {
   "cell_type": "code",
   "execution_count": 107,
   "id": "356ac2d9",
   "metadata": {},
   "outputs": [
    {
     "data": {
      "text/plain": [
       "['piso', 'última', 'planta']"
      ]
     },
     "execution_count": 107,
     "metadata": {},
     "output_type": "execute_result"
    }
   ],
   "source": [
    "pos_list = [\"VERB\", \"NOUN\", \"ADJ\", \"ADV\"]\n",
    "clean_text(data_v2[0][\"desc\"], pos_list)[:3]"
   ]
  },
  {
   "cell_type": "code",
   "execution_count": 108,
   "id": "2afc8693",
   "metadata": {},
   "outputs": [],
   "source": [
    "# your code here\n"
   ]
  },
  {
   "cell_type": "code",
   "execution_count": 109,
   "id": "afb5d03f",
   "metadata": {},
   "outputs": [
    {
     "name": "stdout",
     "output_type": "stream",
     "text": [
      "/Users/yinterian/data/houses_for_sale_train_v2.pickle\n"
     ]
    },
    {
     "data": {
      "text/plain": [
       "866"
      ]
     },
     "execution_count": 109,
     "metadata": {},
     "output_type": "execute_result"
    }
   ],
   "source": [
    "saving_versions(data_v2, \"v2\")\n",
    "len(data_v2)"
   ]
  },
  {
   "cell_type": "code",
   "execution_count": 110,
   "id": "9a7fe60c",
   "metadata": {},
   "outputs": [
    {
     "data": {
      "text/plain": [
       "['exterior', 'ascensor', 'finca', 'año', 'consta']"
      ]
     },
     "execution_count": 110,
     "metadata": {},
     "output_type": "execute_result"
    }
   ],
   "source": [
    "data_v2[10][\"tokens\"][:5]"
   ]
  },
  {
   "cell_type": "markdown",
   "id": "c07f61ac",
   "metadata": {},
   "source": [
    "### Splitting into training and testing\n",
    "Training data is used to train the model Testing data is used to measure the preformance of the model."
   ]
  },
  {
   "cell_type": "code",
   "execution_count": 111,
   "id": "3dd8735a",
   "metadata": {
    "tags": []
   },
   "outputs": [
    {
     "name": "stdout",
     "output_type": "stream",
     "text": [
      "692\n"
     ]
    },
    {
     "data": {
      "text/plain": [
       "(692, 174)"
      ]
     },
     "execution_count": 111,
     "metadata": {},
     "output_type": "execute_result"
    }
   ],
   "source": [
    "import random\n",
    "random.seed(4)\n",
    "random.shuffle(data_v2)\n",
    "\n",
    "N = int(len(data_v2)*.8)\n",
    "print(N)\n",
    "\n",
    "train = data_v2[:N] \n",
    "test = data_v2[N:]\n",
    "\n",
    "len(train), len(test)"
   ]
  },
  {
   "cell_type": "markdown",
   "id": "4e955ab7",
   "metadata": {},
   "source": [
    "### Task 2: Features from descriptions\n",
    "\n",
    "1. Compute the frequency of tokens in the training data.\n",
    "2. Create a list of unique tokens with a frequency of at least 5 from the training data (train_tokens).\n",
    "3. Create a dictionary (token2id) from the words in train_tokens, where each word is assigned a unique integer ID.\n",
    "4. Write a function (create_bag_of_words) that, given a list of tokens and the token2id map, creates a bag-of-words representation. The function should return a numpy array of size len(train_tokens), where the element at index i is the number of times the word with ID i appears in the token list.\n",
    "5. Compute bag-of-words representation for every ad in train and test."
   ]
  },
  {
   "cell_type": "code",
   "execution_count": 112,
   "id": "a3c45676",
   "metadata": {},
   "outputs": [],
   "source": [
    "freq_tokens = {}\n",
    "# your code here\n"
   ]
  },
  {
   "cell_type": "code",
   "execution_count": 113,
   "id": "73021be9",
   "metadata": {},
   "outputs": [
    {
     "data": {
      "text/plain": [
       "1651"
      ]
     },
     "execution_count": 113,
     "metadata": {},
     "output_type": "execute_result"
    }
   ],
   "source": [
    "# fiter tokens freq >=5 \n",
    "# your code here"
   ]
  },
  {
   "cell_type": "code",
   "execution_count": 114,
   "id": "4f90f4e3",
   "metadata": {},
   "outputs": [],
   "source": [
    "#tokens2id"
   ]
  },
  {
   "cell_type": "code",
   "execution_count": 115,
   "id": "d894c7c7",
   "metadata": {},
   "outputs": [],
   "source": [
    "def create_bag_of_words(tokens, tokens2id):\n",
    "    bag = np.zeros(len(tokens2id))\n",
    "    # your code here\n",
    "    return bag"
   ]
  },
  {
   "cell_type": "code",
   "execution_count": 116,
   "id": "700c303d",
   "metadata": {},
   "outputs": [
    {
     "data": {
      "text/plain": [
       "array([ True,  True,  True])"
      ]
     },
     "execution_count": 116,
     "metadata": {},
     "output_type": "execute_result"
    }
   ],
   "source": [
    "# testing create_bag_works\n",
    "toy_uniq_words = [\"apple\", \"banana\", \"cherry\"]\n",
    "toy_tok2id = {'apple': 0, 'banana': 1, 'cherry': 2}\n",
    "toy_tokens = [\"a\", \"apple\", \"banana\", \"apple\", \"bob\"]\n",
    "create_bag_of_words(toy_tokens, toy_tok2id) == np.array([2., 1., 0.])"
   ]
  },
  {
   "cell_type": "code",
   "execution_count": 117,
   "id": "df32216c",
   "metadata": {},
   "outputs": [],
   "source": [
    "# adding \"bow\" key to each ad\n",
    "# you code here\n"
   ]
  },
  {
   "cell_type": "code",
   "execution_count": 118,
   "id": "81716634",
   "metadata": {},
   "outputs": [
    {
     "data": {
      "text/plain": [
       "array([0., 2., 0., ..., 0., 0., 0.])"
      ]
     },
     "execution_count": 118,
     "metadata": {},
     "output_type": "execute_result"
    }
   ],
   "source": [
    "test[0][\"bow\"]"
   ]
  },
  {
   "cell_type": "markdown",
   "id": "819f430a",
   "metadata": {},
   "source": [
    "### Fix Location features\n",
    "1. Note that some of the location strings have issues fix the issues. For example:\n",
    "   'Barcelona - Dreta de l´Eixample\\nVer mapa' --> 'Barcelona - Dreta de l´Eixample'\n",
    "2. Create a unique numeric id for each location. \n"
   ]
  },
  {
   "cell_type": "code",
   "execution_count": 119,
   "id": "2ddb1801",
   "metadata": {
    "tags": []
   },
   "outputs": [
    {
     "data": {
      "text/plain": [
       "array(['Barcelona - Besòs - Maresme',\n",
       "       'Barcelona - Diagonal Mar i el Front Marítim del Poblenou',\n",
       "       'Barcelona - Dreta de l´Eixample',\n",
       "       'Barcelona - El Camp de l´Arpa del Clot', 'Barcelona - El Clot',\n",
       "       'Barcelona - El Parc i la Llacuna del Poblenou',\n",
       "       'Barcelona - Fort Pienc',\n",
       "       'Barcelona - La Nova Esquerra de l´Eixample',\n",
       "       'Barcelona - La Nova Esquerra de l´Eixample\\nVer mapa',\n",
       "       'Barcelona - La Vila Olímpica del Poblenou',\n",
       "       'Barcelona - L´Antiga Esquerra de l´Eixample', 'Barcelona - Navas',\n",
       "       'Barcelona - Poblenou', 'Barcelona - Poblenou\\nVer mapa',\n",
       "       'Barcelona - Provençals del Poblenou',\n",
       "       'Barcelona - Sagrada Família', 'Barcelona - Sant Antoni'],\n",
       "      dtype='<U56')"
      ]
     },
     "execution_count": 119,
     "metadata": {},
     "output_type": "execute_result"
    }
   ],
   "source": [
    "np.unique([d[\"loc_string\"] for d in train])"
   ]
  },
  {
   "cell_type": "markdown",
   "id": "a42f651a",
   "metadata": {},
   "source": [
    "### Task 3:\n",
    "Use this trick to fix location:"
   ]
  },
  {
   "cell_type": "code",
   "execution_count": 120,
   "id": "9de872b8",
   "metadata": {},
   "outputs": [
    {
     "data": {
      "text/plain": [
       "array(['Barcelona - Besòs - Maresme',\n",
       "       'Barcelona - Diagonal Mar i el Front Marítim del Poblenou',\n",
       "       'Barcelona - Dreta de l´Eixample',\n",
       "       'Barcelona - El Camp de l´Arpa del Clot', 'Barcelona - El Clot',\n",
       "       'Barcelona - El Parc i la Llacuna del Poblenou',\n",
       "       'Barcelona - Fort Pienc',\n",
       "       'Barcelona - La Nova Esquerra de l´Eixample',\n",
       "       'Barcelona - La Vila Olímpica del Poblenou',\n",
       "       'Barcelona - L´Antiga Esquerra de l´Eixample', 'Barcelona - Navas',\n",
       "       'Barcelona - Poblenou', 'Barcelona - Provençals del Poblenou',\n",
       "       'Barcelona - Sagrada Família', 'Barcelona - Sant Antoni'],\n",
       "      dtype='<U56')"
      ]
     },
     "execution_count": 120,
     "metadata": {},
     "output_type": "execute_result"
    }
   ],
   "source": [
    "locations = np.unique([d[\"loc_string\"].split(\"\\n\")[0] for d in train])\n",
    "locations"
   ]
  },
  {
   "cell_type": "code",
   "execution_count": 121,
   "id": "0864ba2c",
   "metadata": {},
   "outputs": [
    {
     "data": {
      "text/plain": [
       "{'Barcelona - Besòs - Maresme': 0,\n",
       " 'Barcelona - Diagonal Mar i el Front Marítim del Poblenou': 1,\n",
       " 'Barcelona - Dreta de l´Eixample': 2,\n",
       " 'Barcelona - El Camp de l´Arpa del Clot': 3,\n",
       " 'Barcelona - El Clot': 4,\n",
       " 'Barcelona - El Parc i la Llacuna del Poblenou': 5,\n",
       " 'Barcelona - Fort Pienc': 6,\n",
       " 'Barcelona - La Nova Esquerra de l´Eixample': 7,\n",
       " 'Barcelona - La Vila Olímpica del Poblenou': 8,\n",
       " 'Barcelona - L´Antiga Esquerra de l´Eixample': 9,\n",
       " 'Barcelona - Navas': 10,\n",
       " 'Barcelona - Poblenou': 11,\n",
       " 'Barcelona - Provençals del Poblenou': 12,\n",
       " 'Barcelona - Sagrada Família': 13,\n",
       " 'Barcelona - Sant Antoni': 14}"
      ]
     },
     "execution_count": 121,
     "metadata": {},
     "output_type": "execute_result"
    }
   ],
   "source": [
    "loc_map = {v:k for k, v in enumerate(locations)}\n",
    "loc_map"
   ]
  },
  {
   "cell_type": "code",
   "execution_count": 122,
   "id": "93b2adb9",
   "metadata": {},
   "outputs": [],
   "source": [
    "def loc_to_feature(loc, loc_map):\n",
    "    # return an id -1 if not found in loc_map\n",
    "    # your code here\n",
    "\n",
    "    "
   ]
  },
  {
   "cell_type": "markdown",
   "id": "1a82114e",
   "metadata": {},
   "source": [
    "### Task 4: \n",
    "Write a function named extract_from_features. The returns a np array with numeric values for m^, bedrooms, bathrooms, price.\n",
    "  '450.000 €' --> 450\n"
   ]
  },
  {
   "cell_type": "code",
   "execution_count": 123,
   "id": "03704d83",
   "metadata": {
    "tags": []
   },
   "outputs": [],
   "source": [
    "def extract_from_features(features, price):\n",
    "    # your code here\n",
    "    "
   ]
  },
  {
   "cell_type": "code",
   "execution_count": 124,
   "id": "ffbbf18f",
   "metadata": {},
   "outputs": [
    {
     "data": {
      "text/plain": [
       "array([ 68.,   3.,   1., 340.])"
      ]
     },
     "execution_count": 124,
     "metadata": {},
     "output_type": "execute_result"
    }
   ],
   "source": [
    "# Here is an example of input and output\n",
    "features_to_features(['68 m2', '3 hab.', '1 baño', '5.000 €/m2'], '340.000 €')"
   ]
  },
  {
   "cell_type": "markdown",
   "id": "68b8b539",
   "metadata": {},
   "source": [
    "### Task 5:\n",
    "Create a dataframe with all features like the one below.\n",
    "\n",
    "Hint: Create a NumPy array for each observation (ad) by concatenating the bag-of-words vector with the vector of features for all other variables ('loc', 'size', 'bedrooms', 'bathrooms', 'price'). Then, stack all the vectors together to form a matrix. np.hstack will concatenate all arrays horizontally, while np.vstack can stack all observations vertically."
   ]
  },
  {
   "cell_type": "code",
   "execution_count": 125,
   "id": "6471f820",
   "metadata": {
    "tags": []
   },
   "outputs": [
    {
     "data": {
      "text/plain": [
       "array(['vende', 'piso', 'diseño', ..., 'bedrooms', 'bathrooms', 'price'],\n",
       "      dtype='<U17')"
      ]
     },
     "execution_count": 125,
     "metadata": {},
     "output_type": "execute_result"
    }
   ],
   "source": [
    "header = np.array(train_tokens + [\"loc\", \"size\", \"bedrooms\", \"bathrooms\", \"price\"])\n",
    "header"
   ]
  },
  {
   "cell_type": "code",
   "execution_count": 126,
   "id": "efc9c784",
   "metadata": {},
   "outputs": [
    {
     "data": {
      "text/plain": [
       "array([  1.,   1.,   1., ...,   3.,   1., 340.])"
      ]
     },
     "execution_count": 126,
     "metadata": {},
     "output_type": "execute_result"
    }
   ],
   "source": [
    "def get_an_observation(ad):\n",
    "    # your code here\n",
    "\n",
    "get_an_observation(train[0])"
   ]
  },
  {
   "cell_type": "code",
   "execution_count": 127,
   "id": "565d49fa",
   "metadata": {},
   "outputs": [
    {
     "data": {
      "text/plain": [
       "1656"
      ]
     },
     "execution_count": 127,
     "metadata": {},
     "output_type": "execute_result"
    }
   ],
   "source": [
    "len(get_an_observation(train[0]))"
   ]
  },
  {
   "cell_type": "code",
   "execution_count": 133,
   "id": "70450c64",
   "metadata": {},
   "outputs": [],
   "source": [
    "train_features = np.vstack([get_an_observation(ad) for ad in train])"
   ]
  },
  {
   "cell_type": "code",
   "execution_count": 135,
   "id": "e411b7f9",
   "metadata": {},
   "outputs": [],
   "source": [
    "test_features = np.vstack([get_an_observation(ad) for ad in test])"
   ]
  },
  {
   "cell_type": "code",
   "execution_count": 134,
   "id": "bafb2986",
   "metadata": {
    "tags": []
   },
   "outputs": [
    {
     "data": {
      "text/html": [
       "<div>\n",
       "<style scoped>\n",
       "    .dataframe tbody tr th:only-of-type {\n",
       "        vertical-align: middle;\n",
       "    }\n",
       "\n",
       "    .dataframe tbody tr th {\n",
       "        vertical-align: top;\n",
       "    }\n",
       "\n",
       "    .dataframe thead th {\n",
       "        text-align: right;\n",
       "    }\n",
       "</style>\n",
       "<table border=\"1\" class=\"dataframe\">\n",
       "  <thead>\n",
       "    <tr style=\"text-align: right;\">\n",
       "      <th></th>\n",
       "      <th>vende</th>\n",
       "      <th>piso</th>\n",
       "      <th>diseño</th>\n",
       "      <th>exclusivo</th>\n",
       "      <th>zona</th>\n",
       "      <th>poblenou</th>\n",
       "      <th>dormitorios</th>\n",
       "      <th>baño</th>\n",
       "      <th>tiene</th>\n",
       "      <th>aire</th>\n",
       "      <th>...</th>\n",
       "      <th>facilidad</th>\n",
       "      <th>hall</th>\n",
       "      <th>andreu</th>\n",
       "      <th>importe</th>\n",
       "      <th>interna</th>\n",
       "      <th>loc</th>\n",
       "      <th>size</th>\n",
       "      <th>bedrooms</th>\n",
       "      <th>bathrooms</th>\n",
       "      <th>price</th>\n",
       "    </tr>\n",
       "  </thead>\n",
       "  <tbody>\n",
       "    <tr>\n",
       "      <th>0</th>\n",
       "      <td>1.0</td>\n",
       "      <td>1.0</td>\n",
       "      <td>1.0</td>\n",
       "      <td>1.0</td>\n",
       "      <td>1.0</td>\n",
       "      <td>1.0</td>\n",
       "      <td>1.0</td>\n",
       "      <td>1.0</td>\n",
       "      <td>1.0</td>\n",
       "      <td>1.0</td>\n",
       "      <td>...</td>\n",
       "      <td>0.0</td>\n",
       "      <td>0.0</td>\n",
       "      <td>0.0</td>\n",
       "      <td>0.0</td>\n",
       "      <td>0.0</td>\n",
       "      <td>11.0</td>\n",
       "      <td>68.0</td>\n",
       "      <td>3.0</td>\n",
       "      <td>1.0</td>\n",
       "      <td>340.0</td>\n",
       "    </tr>\n",
       "    <tr>\n",
       "      <th>1</th>\n",
       "      <td>1.0</td>\n",
       "      <td>0.0</td>\n",
       "      <td>0.0</td>\n",
       "      <td>0.0</td>\n",
       "      <td>2.0</td>\n",
       "      <td>0.0</td>\n",
       "      <td>1.0</td>\n",
       "      <td>1.0</td>\n",
       "      <td>0.0</td>\n",
       "      <td>0.0</td>\n",
       "      <td>...</td>\n",
       "      <td>0.0</td>\n",
       "      <td>0.0</td>\n",
       "      <td>0.0</td>\n",
       "      <td>0.0</td>\n",
       "      <td>0.0</td>\n",
       "      <td>9.0</td>\n",
       "      <td>90.0</td>\n",
       "      <td>2.0</td>\n",
       "      <td>1.0</td>\n",
       "      <td>310.0</td>\n",
       "    </tr>\n",
       "    <tr>\n",
       "      <th>2</th>\n",
       "      <td>1.0</td>\n",
       "      <td>1.0</td>\n",
       "      <td>0.0</td>\n",
       "      <td>0.0</td>\n",
       "      <td>1.0</td>\n",
       "      <td>0.0</td>\n",
       "      <td>1.0</td>\n",
       "      <td>1.0</td>\n",
       "      <td>0.0</td>\n",
       "      <td>0.0</td>\n",
       "      <td>...</td>\n",
       "      <td>0.0</td>\n",
       "      <td>0.0</td>\n",
       "      <td>0.0</td>\n",
       "      <td>0.0</td>\n",
       "      <td>0.0</td>\n",
       "      <td>7.0</td>\n",
       "      <td>60.0</td>\n",
       "      <td>2.0</td>\n",
       "      <td>1.0</td>\n",
       "      <td>225.0</td>\n",
       "    </tr>\n",
       "    <tr>\n",
       "      <th>3</th>\n",
       "      <td>0.0</td>\n",
       "      <td>2.0</td>\n",
       "      <td>0.0</td>\n",
       "      <td>0.0</td>\n",
       "      <td>2.0</td>\n",
       "      <td>0.0</td>\n",
       "      <td>0.0</td>\n",
       "      <td>1.0</td>\n",
       "      <td>1.0</td>\n",
       "      <td>0.0</td>\n",
       "      <td>...</td>\n",
       "      <td>0.0</td>\n",
       "      <td>0.0</td>\n",
       "      <td>0.0</td>\n",
       "      <td>0.0</td>\n",
       "      <td>0.0</td>\n",
       "      <td>9.0</td>\n",
       "      <td>63.0</td>\n",
       "      <td>2.0</td>\n",
       "      <td>2.0</td>\n",
       "      <td>460.0</td>\n",
       "    </tr>\n",
       "    <tr>\n",
       "      <th>4</th>\n",
       "      <td>0.0</td>\n",
       "      <td>0.0</td>\n",
       "      <td>0.0</td>\n",
       "      <td>0.0</td>\n",
       "      <td>0.0</td>\n",
       "      <td>0.0</td>\n",
       "      <td>0.0</td>\n",
       "      <td>1.0</td>\n",
       "      <td>3.0</td>\n",
       "      <td>0.0</td>\n",
       "      <td>...</td>\n",
       "      <td>0.0</td>\n",
       "      <td>0.0</td>\n",
       "      <td>0.0</td>\n",
       "      <td>0.0</td>\n",
       "      <td>0.0</td>\n",
       "      <td>2.0</td>\n",
       "      <td>60.0</td>\n",
       "      <td>1.0</td>\n",
       "      <td>1.0</td>\n",
       "      <td>200.0</td>\n",
       "    </tr>\n",
       "  </tbody>\n",
       "</table>\n",
       "<p>5 rows × 1656 columns</p>\n",
       "</div>"
      ],
      "text/plain": [
       "   vende  piso  diseño  exclusivo  zona  poblenou  dormitorios  baño  tiene  \\\n",
       "0    1.0   1.0     1.0        1.0   1.0       1.0          1.0   1.0    1.0   \n",
       "1    1.0   0.0     0.0        0.0   2.0       0.0          1.0   1.0    0.0   \n",
       "2    1.0   1.0     0.0        0.0   1.0       0.0          1.0   1.0    0.0   \n",
       "3    0.0   2.0     0.0        0.0   2.0       0.0          0.0   1.0    1.0   \n",
       "4    0.0   0.0     0.0        0.0   0.0       0.0          0.0   1.0    3.0   \n",
       "\n",
       "   aire  ...  facilidad  hall  andreu  importe  interna   loc  size  bedrooms  \\\n",
       "0   1.0  ...        0.0   0.0     0.0      0.0      0.0  11.0  68.0       3.0   \n",
       "1   0.0  ...        0.0   0.0     0.0      0.0      0.0   9.0  90.0       2.0   \n",
       "2   0.0  ...        0.0   0.0     0.0      0.0      0.0   7.0  60.0       2.0   \n",
       "3   0.0  ...        0.0   0.0     0.0      0.0      0.0   9.0  63.0       2.0   \n",
       "4   0.0  ...        0.0   0.0     0.0      0.0      0.0   2.0  60.0       1.0   \n",
       "\n",
       "   bathrooms  price  \n",
       "0        1.0  340.0  \n",
       "1        1.0  310.0  \n",
       "2        1.0  225.0  \n",
       "3        2.0  460.0  \n",
       "4        1.0  200.0  \n",
       "\n",
       "[5 rows x 1656 columns]"
      ]
     },
     "execution_count": 134,
     "metadata": {},
     "output_type": "execute_result"
    }
   ],
   "source": [
    "df_train = pd.DataFrame(train_features, columns=header)\n",
    "df_train.head()"
   ]
  },
  {
   "cell_type": "code",
   "execution_count": 136,
   "id": "20339b60",
   "metadata": {},
   "outputs": [],
   "source": [
    "df_test = pd.DataFrame(test_features, columns=header)"
   ]
  },
  {
   "cell_type": "code",
   "execution_count": 137,
   "id": "e8d4f26e",
   "metadata": {
    "tags": []
   },
   "outputs": [],
   "source": [
    "df_train.to_csv(\"houses_for_sale_train.csv\",index=False)\n",
    "df_test.to_csv(\"houses_for_sale_test.csv\",index=False)"
   ]
  },
  {
   "cell_type": "markdown",
   "id": "e5248d1e",
   "metadata": {},
   "source": [
    "**Optional Task**: Create a Gradient Boosting or Random Forest model for the task of predicting price.\n",
    "\n",
    "See examples here:\n",
    "\n",
    "https://scikit-learn.org/stable/modules/generated/sklearn.ensemble.RandomForestRegressor.html\n",
    "\n",
    "https://scikit-learn.org/stable/modules/generated/sklearn.ensemble.GradientBoostingRegressor.html"
   ]
  },
  {
   "cell_type": "code",
   "execution_count": null,
   "id": "6e327498",
   "metadata": {},
   "outputs": [],
   "source": []
  }
 ],
 "metadata": {
  "kernelspec": {
   "display_name": "Python 3 (ipykernel)",
   "language": "python",
   "name": "python3"
  },
  "language_info": {
   "codemirror_mode": {
    "name": "ipython",
    "version": 3
   },
   "file_extension": ".py",
   "mimetype": "text/x-python",
   "name": "python",
   "nbconvert_exporter": "python",
   "pygments_lexer": "ipython3",
   "version": "3.12.2"
  }
 },
 "nbformat": 4,
 "nbformat_minor": 5
}
