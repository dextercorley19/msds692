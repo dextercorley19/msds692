{
 "cells": [
  {
   "cell_type": "markdown",
   "id": "049b30aa-c81d-4f3a-b466-80941dac26af",
   "metadata": {},
   "source": [
    "## YouTube\n",
    "\n",
    "YouTube will grant us access to its data without requiring authentication, but we must generate a secret ID or key.\n",
    "\n",
    "Follow these steps to get set up:\n",
    "\n",
    "1. [Get a google account](https://www.google.com/accounts) if you don't already have one.\n",
    "2. Go to the [Google API Console](https://console.developers.google.com/) and create a project (e.g. msds692).\n",
    "3. Enable the \"YouTube Data API v3\" API from your console.\n",
    "\n",
    "[Never store your API key in your code](https://www.zdnet.com/article/over-100000-github-repos-have-leaked-api-or-cryptographic-keys/).\n",
    "\n",
    "Take a look at the [API documentation](https://developers.google.com/youtube/v3/) and install some Python code that will simplify our tasks:\n",
    "\n",
    "```bash\n",
    "$ pip install google-api-python-client\n",
    "```\n"
   ]
  },
  {
   "cell_type": "code",
   "execution_count": 2,
   "id": "a016b62c-dacf-4b37-b677-49e0bb1a4832",
   "metadata": {
    "tags": []
   },
   "outputs": [],
   "source": [
    "import sys\n",
    "import urllib\n",
    "from googleapiclient.discovery import build\n",
    "\n",
    "DEVELOPER_KEY = !cat ~/.keys/youtube_key"
   ]
  },
  {
   "cell_type": "code",
   "execution_count": 3,
   "id": "5f4ea07e-efd3-4b5e-991b-47450b5a8a50",
   "metadata": {
    "tags": []
   },
   "outputs": [],
   "source": [
    "youtube = build(\"youtube\", \"v3\", developerKey=DEVELOPER_KEY[0])"
   ]
  },
  {
   "cell_type": "markdown",
   "id": "be8a284a-7ac0-4522-9ab4-90f9b5e52605",
   "metadata": {},
   "source": [
    "### Retrieve Video Information"
   ]
  },
  {
   "cell_type": "code",
   "execution_count": 4,
   "id": "6e169b88-a97a-4edc-b707-a6e1dd0aa07b",
   "metadata": {
    "tags": []
   },
   "outputs": [],
   "source": [
    "video_id = 'pRpeEdMmmQ0'\n",
    "video_response = youtube.videos().list(\n",
    "            part=\"snippet,statistics\",\n",
    "            id=video_id).execute()"
   ]
  },
  {
   "cell_type": "code",
   "execution_count": 5,
   "id": "ccb6c692-47e6-4b89-a8c9-7a2f3e1648e0",
   "metadata": {
    "tags": []
   },
   "outputs": [
    {
     "data": {
      "text/plain": [
       "'Shakira - Waka Waka (This Time for Africa) (The Official 2010 FIFA World Cup™ Song)'"
      ]
     },
     "execution_count": 5,
     "metadata": {},
     "output_type": "execute_result"
    }
   ],
   "source": [
    "video_response['items'][0]['snippet']['title']"
   ]
  },
  {
   "cell_type": "code",
   "execution_count": 6,
   "id": "e68f70d5-e489-4709-919a-054633fee11b",
   "metadata": {
    "tags": []
   },
   "outputs": [
    {
     "data": {
      "text/plain": [
       "dict_keys(['kind', 'etag', 'id', 'snippet', 'statistics'])"
      ]
     },
     "execution_count": 6,
     "metadata": {},
     "output_type": "execute_result"
    }
   ],
   "source": [
    "video_response['items'][0].keys()"
   ]
  },
  {
   "cell_type": "code",
   "execution_count": 7,
   "id": "24e310d4-a5ee-40db-aa7f-a8e94349f145",
   "metadata": {
    "tags": []
   },
   "outputs": [
    {
     "data": {
      "text/plain": [
       "{'viewCount': '4052863358',\n",
       " 'likeCount': '23079996',\n",
       " 'favoriteCount': '0',\n",
       " 'commentCount': '1358356'}"
      ]
     },
     "execution_count": 7,
     "metadata": {},
     "output_type": "execute_result"
    }
   ],
   "source": [
    "video_response['items'][0]['statistics']"
   ]
  },
  {
   "cell_type": "markdown",
   "id": "c2714080-19d1-4df8-b10e-8ecfb8bbb8da",
   "metadata": {},
   "source": [
    "### Search for Videos based on keywords"
   ]
  },
  {
   "cell_type": "code",
   "execution_count": 8,
   "id": "27896721-b6d0-4055-85fe-9b107dbd9574",
   "metadata": {
    "tags": []
   },
   "outputs": [],
   "source": [
    "QUERY = \"k-pop\""
   ]
  },
  {
   "cell_type": "code",
   "execution_count": 9,
   "id": "d6acc7e5-f920-44a4-9cfb-c6f683640679",
   "metadata": {
    "tags": []
   },
   "outputs": [],
   "source": [
    "search_response = youtube.search().list(\n",
    "    q=QUERY,            # search terms\n",
    "    part=\"id,snippet\",  # what we want back\n",
    "    maxResults=20,      # how many results we want back\n",
    "    type=\"video\"        # only tell me about videos\n",
    ").execute()"
   ]
  },
  {
   "cell_type": "code",
   "execution_count": 10,
   "id": "acf2df13-01b2-4642-b34b-c918af08522f",
   "metadata": {
    "tags": []
   },
   "outputs": [
    {
     "data": {
      "text/plain": [
       "dict_keys(['kind', 'etag', 'nextPageToken', 'regionCode', 'pageInfo', 'items'])"
      ]
     },
     "execution_count": 10,
     "metadata": {},
     "output_type": "execute_result"
    }
   ],
   "source": [
    "search_response.keys()"
   ]
  },
  {
   "cell_type": "code",
   "execution_count": 11,
   "id": "6f7b4584-b7a4-45f4-bb17-a89489ad7ad7",
   "metadata": {
    "tags": []
   },
   "outputs": [
    {
     "data": {
      "text/plain": [
       "['LE SSERAFIM (르세라핌) &#39;CRAZY&#39; OFFICIAL MV',\n",
       " 'Travis Scott, Bad Bunny, The Weeknd - K-POP (Official Music Video)',\n",
       " 'ILLIT (아일릿) ‘Magnetic’ Official MV',\n",
       " 'TOP 3 K-pop female idols with the fairest skin',\n",
       " 'KATSEYE (캣츠아이) &quot;Touch&quot; Official MV',\n",
       " 'BABYMONSTER - &#39;LIKE THAT&#39; EXCLUSIVE PERFORMANCE VIDEO',\n",
       " 'Travis Scott, Bad Bunny, The Weeknd - K-POP (Official Audio)',\n",
       " '🇺🇸K-pop in public - BABYMONSTER “Sheesh”!',\n",
       " '[K-POP IN PUBLIC] - Loossemble (루셈블) - &#39;TTYL&#39; - [DANCE COVER] [ONE TAKE] [4K] [UNLXMITED]',\n",
       " '🇦🇺Kpop in Public - JISOO Flower',\n",
       " 'A mistake that made it even better #kpop #nmixx #shorts',\n",
       " 'kpop idols who got hate for wearing revealing clothing #shorts #kpop',\n",
       " 'kpop idols who went viral for looking like fictional characters #shorts #kpop #anime',\n",
       " 'LISA - NEW WOMAN feat. Rosalía (Official Music Video)',\n",
       " '화사 (HWASA) - &#39;NA&#39; MV',\n",
       " 'BLACKPINK - &#39;How You Like That&#39; DANCE PERFORMANCE VIDEO',\n",
       " 'How difficult is: TOUCH - KATSEYE 🤙 [MIRRORED] #캣츠아이 #touch #kpop #katseye #katseye_touch',\n",
       " '👸Idol Girl’s dance challenge!! #kpop #dance',\n",
       " '연준 (YEONJUN) ‘GGUM’ Official MV',\n",
       " 'K-pop random dance 2024 challenge by 3to1 team! ❤️#kpoprandomdancechallenge']"
      ]
     },
     "execution_count": 11,
     "metadata": {},
     "output_type": "execute_result"
    }
   ],
   "source": [
    "[item['snippet']['title'] for item in search_response['items']]"
   ]
  },
  {
   "cell_type": "markdown",
   "id": "fffed2bd-78dd-4767-adcb-0db27d4a2234",
   "metadata": {},
   "source": [
    "### Retrieve Channel Information"
   ]
  },
  {
   "cell_type": "code",
   "execution_count": 12,
   "id": "98595f7d-64de-4d3d-9fc2-a2cbfe006c2b",
   "metadata": {
    "tags": []
   },
   "outputs": [],
   "source": [
    "channel_id = 'UCXUPKJO5MZQN11PqgIvyuvQ'\n",
    "channel_response = youtube.channels().list(\n",
    "            part=\"snippet,statistics\",\n",
    "            id=channel_id).execute()"
   ]
  },
  {
   "cell_type": "code",
   "execution_count": 13,
   "id": "dd2729b3-7c44-450c-bee4-a3f4e041f989",
   "metadata": {
    "tags": []
   },
   "outputs": [
    {
     "data": {
      "text/plain": [
       "{'kind': 'youtube#channelListResponse',\n",
       " 'etag': 'p7h7al1idxwF_Mq-Szi1_76NgjE',\n",
       " 'pageInfo': {'totalResults': 1, 'resultsPerPage': 5},\n",
       " 'items': [{'kind': 'youtube#channel',\n",
       "   'etag': 'Wat4AxtQ06FF5QwzTQqZ2GTBMIk',\n",
       "   'id': 'UCXUPKJO5MZQN11PqgIvyuvQ',\n",
       "   'snippet': {'title': 'Andrej Karpathy',\n",
       "    'description': 'SuperThanks: very optional, goes to Eureka Labs.\\n',\n",
       "    'customUrl': '@andrejkarpathy',\n",
       "    'publishedAt': '2013-09-07T08:21:13Z',\n",
       "    'thumbnails': {'default': {'url': 'https://yt3.ggpht.com/ytc/AIdro_nDvyq2NoPL626bk1IbxQ94SfQsD-B0qgZchghtQNkLWoEz=s88-c-k-c0x00ffffff-no-rj',\n",
       "      'width': 88,\n",
       "      'height': 88},\n",
       "     'medium': {'url': 'https://yt3.ggpht.com/ytc/AIdro_nDvyq2NoPL626bk1IbxQ94SfQsD-B0qgZchghtQNkLWoEz=s240-c-k-c0x00ffffff-no-rj',\n",
       "      'width': 240,\n",
       "      'height': 240},\n",
       "     'high': {'url': 'https://yt3.ggpht.com/ytc/AIdro_nDvyq2NoPL626bk1IbxQ94SfQsD-B0qgZchghtQNkLWoEz=s800-c-k-c0x00ffffff-no-rj',\n",
       "      'width': 800,\n",
       "      'height': 800}},\n",
       "    'localized': {'title': 'Andrej Karpathy',\n",
       "     'description': 'SuperThanks: very optional, goes to Eureka Labs.\\n'},\n",
       "    'country': 'US'},\n",
       "   'statistics': {'viewCount': '12022240',\n",
       "    'subscriberCount': '551000',\n",
       "    'hiddenSubscriberCount': False,\n",
       "    'videoCount': '15'}}]}"
      ]
     },
     "execution_count": 13,
     "metadata": {},
     "output_type": "execute_result"
    }
   ],
   "source": [
    "channel_response"
   ]
  },
  {
   "cell_type": "markdown",
   "id": "3187a9e4-f48e-4ea8-af6e-c6d2edef9fee",
   "metadata": {},
   "source": [
    "### How to find channel id\n",
    "you cannot lookup a channel using @AndrejKarpathy"
   ]
  },
  {
   "cell_type": "code",
   "execution_count": 14,
   "id": "a5cc7015-4cf4-4f2d-9dae-0f501d851403",
   "metadata": {
    "tags": []
   },
   "outputs": [],
   "source": [
    "query ='Andrej Karpathy'"
   ]
  },
  {
   "cell_type": "code",
   "execution_count": 15,
   "id": "2d484c5f-c470-4f90-9a17-0f46b07ac2fc",
   "metadata": {
    "tags": []
   },
   "outputs": [],
   "source": [
    "search_response = youtube.search().list(\n",
    "    q=query,           \n",
    "    part=\"id,snippet\",  \n",
    "    maxResults=20,      \n",
    "    type=\"channel\"       \n",
    ").execute()"
   ]
  },
  {
   "cell_type": "code",
   "execution_count": 16,
   "id": "d0c79d5b-4fa4-47d8-9325-1b6b39b45180",
   "metadata": {
    "tags": []
   },
   "outputs": [
    {
     "data": {
      "text/plain": [
       "{'kind': 'youtube#channel', 'channelId': 'UCXUPKJO5MZQN11PqgIvyuvQ'}"
      ]
     },
     "execution_count": 16,
     "metadata": {},
     "output_type": "execute_result"
    }
   ],
   "source": [
    "search_response['items'][0]['id']"
   ]
  },
  {
   "cell_type": "markdown",
   "id": "8a3eb089-0f1d-4efd-951d-6cd5d9b4cfe9",
   "metadata": {},
   "source": [
    "## Exercise 1\n",
    "Make a dataframe with the 10 most popular videos by Andrej Karpathy (his channel is ok). You should get the title, year, number of views and likes.\n",
    "\n",
    "Hint: use chatgpt to understand how to get top videos."
   ]
  },
  {
   "cell_type": "markdown",
   "id": "9d358c15-73d2-4e78-b091-71ad58933cbe",
   "metadata": {},
   "source": [
    "## Exercise 2\n",
    "Find Peter Attia's channel id. Find the top 10 videos. Get comments from all the videos.\n",
    "https://www.youtube.com/@PeterAttiaMD/about"
   ]
  },
  {
   "cell_type": "code",
   "execution_count": null,
   "id": "d2f90390-4f9d-4536-a191-078cee432d82",
   "metadata": {},
   "outputs": [],
   "source": []
  }
 ],
 "metadata": {
  "kernelspec": {
   "display_name": "Python 3 (ipykernel)",
   "language": "python",
   "name": "python3"
  },
  "language_info": {
   "codemirror_mode": {
    "name": "ipython",
    "version": 3
   },
   "file_extension": ".py",
   "mimetype": "text/x-python",
   "name": "python",
   "nbconvert_exporter": "python",
   "pygments_lexer": "ipython3",
   "version": "3.12.2"
  }
 },
 "nbformat": 4,
 "nbformat_minor": 5
}
