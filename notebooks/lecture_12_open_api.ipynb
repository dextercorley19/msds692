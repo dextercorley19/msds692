{
 "cells": [
  {
   "cell_type": "markdown",
   "id": "a019db0d-8ae6-4355-ae4f-f09ce534a880",
   "metadata": {},
   "source": [
    "# Pulling data from (open) REST APIs\n",
    "\n",
    "[Big source of public APIs](https://rapidapi.com/collection/list-of-free-apis)\n",
    "\n",
    "In lecture 1 we saw how to use `requests` to fetch a webpage:"
   ]
  },
  {
   "cell_type": "code",
   "execution_count": 1,
   "id": "6038ee45-f4b9-410f-b534-23db4726108e",
   "metadata": {
    "tags": []
   },
   "outputs": [
    {
     "data": {
      "text/plain": [
       "'  <!DOCTYPE html>\\n<html lang=\"en\" data-uri=\"cms.cnn.com/_pages/clg34ol9u000047nodabud1o2@published\" data-layout-uri=\"cms.cnn.com/_layouts/layout-homepage/instances/homepage-domestic@published\">\\n  <head><style>body,h1,h2,h3,h4,h5{font-family:cnn_sans_display,helveticaneue,Helvetica,Arial,Utkal,sans-s'"
      ]
     },
     "execution_count": 1,
     "metadata": {},
     "output_type": "execute_result"
    }
   ],
   "source": [
    "import requests\n",
    "r = requests.get('https://www.cnn.com')\n",
    "r.text[0:300]"
   ]
  },
  {
   "cell_type": "markdown",
   "id": "37092277-5f3e-4441-9dc3-620d97758ee9",
   "metadata": {},
   "source": [
    "If the URL is to a page that gives you HTML, we would say that we are fetching a webpage. On the other hand, if the URL is returning data in some form, we would say that we are accessing a *REST* api.\n",
    " \n",
    "**REST** stands for REpresentational State Transfer. Whenever you come across the term REST, simply consider it as a \"web service for accessing data, not HTML.\" \n",
    "\n",
    "We will be extracting data from web servers that intentionally offer convenient data access points through URLs. The necessary information to obtain this data typically includes:\n",
    "\n",
    "* Base URL, including machine name, port number, and \"file\" path\n",
    "* The names and values of parameters\n",
    "* What data comes back and in what format (XML, JSON, CSV, ...)"
   ]
  },
  {
   "cell_type": "markdown",
   "id": "61e4eeef-9fde-47ec-b6e0-cd2fc811f565",
   "metadata": {},
   "source": [
    "## Looking up word definitions\n",
    "\n",
    "The [dictionaryapi.dev](https://dictionaryapi.dev/) API lets us look up words in various languages and get the definitions. The format of the URL to access the API is just:\n",
    "\n",
    "```\n",
    "https://api.dictionaryapi.dev/api/v2/entries/<language_code>/<word>\n",
    "```\n",
    "\n",
    "So, we can get the English definition for *science* like this (and parse the json result):"
   ]
  },
  {
   "cell_type": "code",
   "execution_count": 8,
   "id": "88d62125-f57e-4ba4-ac9f-39fa45eeb67e",
   "metadata": {
    "tags": []
   },
   "outputs": [
    {
     "data": {
      "text/plain": [
       "'[{\"word\":\"science\",\"phonetic\":\"/ˈsaɪəns/\",\"phonetics\":[{\"text\":\"/ˈsaɪəns/\",\"audio\":\"https://api.dict'"
      ]
     },
     "execution_count": 8,
     "metadata": {},
     "output_type": "execute_result"
    }
   ],
   "source": [
    "import requests\n",
    "import json\n",
    "\n",
    "r = requests.get('https://api.dictionaryapi.dev/api/v2/entries/en_US/science')\n",
    "data = json.loads(r.text)\n",
    "r.text[:100]"
   ]
  },
  {
   "cell_type": "code",
   "execution_count": 13,
   "id": "71565a89",
   "metadata": {},
   "outputs": [
    {
     "data": {
      "text/plain": [
       "2"
      ]
     },
     "execution_count": 13,
     "metadata": {},
     "output_type": "execute_result"
    }
   ],
   "source": [
    "len(data)\n",
    "#data[0]\n",
    "#data[1]"
   ]
  },
  {
   "cell_type": "code",
   "execution_count": 3,
   "id": "f315be52-91d7-47b8-b71c-575090b9ab23",
   "metadata": {
    "tags": []
   },
   "outputs": [
    {
     "data": {
      "text/plain": [
       "[{'definition': 'A particular discipline or branch of learning, especially one dealing with measurable or systematic principles rather than intuition or natural ability.',\n",
       "  'synonyms': [],\n",
       "  'antonyms': [],\n",
       "  'example': 'Of course in my opinion Social Studies is more of a science than an art.'},\n",
       " {'definition': 'Specifically the natural sciences.',\n",
       "  'synonyms': [],\n",
       "  'antonyms': [],\n",
       "  'example': 'My favorite subjects at school are science, mathematics, and history.'},\n",
       " {'definition': 'Knowledge gained through study or practice; mastery of a particular discipline or area.',\n",
       "  'synonyms': [],\n",
       "  'antonyms': []},\n",
       " {'definition': 'The fact of knowing something; knowledge or understanding of a truth.',\n",
       "  'synonyms': [],\n",
       "  'antonyms': []},\n",
       " {'definition': 'The collective discipline of study or learning acquired through the scientific method; the sum of knowledge gained from such methods and discipline.',\n",
       "  'synonyms': [],\n",
       "  'antonyms': []},\n",
       " {'definition': 'Knowledge derived from scientific disciplines, scientific method, or any systematic effort.',\n",
       "  'synonyms': [],\n",
       "  'antonyms': []},\n",
       " {'definition': '(collective) The scientific community.',\n",
       "  'synonyms': [],\n",
       "  'antonyms': []}]"
      ]
     },
     "execution_count": 3,
     "metadata": {},
     "output_type": "execute_result"
    }
   ],
   "source": [
    "data[0]['meanings'][0]['definitions']"
   ]
  },
  {
   "cell_type": "code",
   "execution_count": 4,
   "id": "c3f5128d-8386-40e0-922d-1dcde203b886",
   "metadata": {
    "tags": []
   },
   "outputs": [
    {
     "name": "stdout",
     "output_type": "stream",
     "text": [
      "science /ˈsaɪəns/\n"
     ]
    },
    {
     "data": {
      "text/plain": [
       "[{'word': 'science',\n",
       "  'phonetic': '/ˈsaɪəns/',\n",
       "  'phonetics': [{'text': '/ˈsaɪəns/',\n",
       "    'audio': 'https://api.dictionaryapi.dev/media/pronunciations/en/science-1-ca.mp3',\n",
       "    'sourceUrl': 'https://commons.wikimedia.org/w/index.php?curid=189581',\n",
       "    'license': {'name': 'BY-SA 3.0',\n",
       "     'url': 'https://creativecommons.org/licenses/by-sa/3.0'}},\n",
       "   {'text': '/ˈsaɪəns/',\n",
       "    'audio': 'https://api.dictionaryapi.dev/media/pronunciations/en/science-1-us.mp3',\n",
       "    'sourceUrl': 'https://commons.wikimedia.org/w/index.php?curid=189574',\n",
       "    'license': {'name': 'BY-SA 3.0',\n",
       "     'url': 'https://creativecommons.org/licenses/by-sa/3.0'}}],\n",
       "  'meanings': [{'partOfSpeech': 'noun',\n",
       "    'definitions': [{'definition': 'A particular discipline or branch of learning, especially one dealing with measurable or systematic principles rather than intuition or natural ability.',\n",
       "      'synonyms': [],\n",
       "      'antonyms': [],\n",
       "      'example': 'Of course in my opinion Social Studies is more of a science than an art.'},\n",
       "     {'definition': 'Specifically the natural sciences.',\n",
       "      'synonyms': [],\n",
       "      'antonyms': [],\n",
       "      'example': 'My favorite subjects at school are science, mathematics, and history.'},\n",
       "     {'definition': 'Knowledge gained through study or practice; mastery of a particular discipline or area.',\n",
       "      'synonyms': [],\n",
       "      'antonyms': []},\n",
       "     {'definition': 'The fact of knowing something; knowledge or understanding of a truth.',\n",
       "      'synonyms': [],\n",
       "      'antonyms': []},\n",
       "     {'definition': 'The collective discipline of study or learning acquired through the scientific method; the sum of knowledge gained from such methods and discipline.',\n",
       "      'synonyms': [],\n",
       "      'antonyms': []},\n",
       "     {'definition': 'Knowledge derived from scientific disciplines, scientific method, or any systematic effort.',\n",
       "      'synonyms': [],\n",
       "      'antonyms': []},\n",
       "     {'definition': '(collective) The scientific community.',\n",
       "      'synonyms': [],\n",
       "      'antonyms': []}],\n",
       "    'synonyms': ['sci', 'sci.'],\n",
       "    'antonyms': []},\n",
       "   {'partOfSpeech': 'verb',\n",
       "    'definitions': [{'definition': 'To cause to become versed in science; to make skilled; to instruct.',\n",
       "      'synonyms': [],\n",
       "      'antonyms': []},\n",
       "     {'definition': 'To use science to solve a problem.',\n",
       "      'synonyms': [],\n",
       "      'antonyms': []}],\n",
       "    'synonyms': [],\n",
       "    'antonyms': []},\n",
       "   {'partOfSpeech': 'noun',\n",
       "    'definitions': [{'definition': 'The sport of boxing.',\n",
       "      'synonyms': [],\n",
       "      'antonyms': []}],\n",
       "    'synonyms': [],\n",
       "    'antonyms': []}],\n",
       "  'license': {'name': 'CC BY-SA 3.0',\n",
       "   'url': 'https://creativecommons.org/licenses/by-sa/3.0'},\n",
       "  'sourceUrls': ['https://en.wiktionary.org/wiki/science',\n",
       "   'https://en.wiktionary.org/wiki/sweet%20science']},\n",
       " {'word': 'science',\n",
       "  'phonetics': [],\n",
       "  'meanings': [{'partOfSpeech': 'noun',\n",
       "    'definitions': [{'definition': 'A descendant, especially a first-generation descendant of a distinguished family.',\n",
       "      'synonyms': [],\n",
       "      'antonyms': []},\n",
       "     {'definition': 'The heir to a throne.', 'synonyms': [], 'antonyms': []},\n",
       "     {'definition': 'A guardian.', 'synonyms': [], 'antonyms': []},\n",
       "     {'definition': 'A detached shoot or twig containing buds from a woody plant, used in grafting; a shoot or twig in a general sense.',\n",
       "      'synonyms': [],\n",
       "      'antonyms': []}],\n",
       "    'synonyms': [],\n",
       "    'antonyms': []}],\n",
       "  'license': {'name': 'CC BY-SA 3.0',\n",
       "   'url': 'https://creativecommons.org/licenses/by-sa/3.0'},\n",
       "  'sourceUrls': ['https://en.wiktionary.org/wiki/science',\n",
       "   'https://en.wiktionary.org/wiki/scion']}]"
      ]
     },
     "execution_count": 4,
     "metadata": {},
     "output_type": "execute_result"
    }
   ],
   "source": [
    "data = json.loads(r.text)\n",
    "print(data[0]['word'], data[0]['phonetic'])\n",
    "data"
   ]
  },
  {
   "cell_type": "markdown",
   "id": "2dac8c14-3f73-4ddc-bfb8-dc9985585c4c",
   "metadata": {},
   "source": [
    "**Exercise**: Use the API to fetch and print out the definition of *frippery* in english."
   ]
  },
  {
   "cell_type": "markdown",
   "id": "10243cdc",
   "metadata": {},
   "source": [
    "## Public Government Data from datausa.io\n",
    "\n",
    "\"The definitive place to explore US public data\" [https://datausa.io/]\n",
    " \n",
    "There is a REST data API available at URL template:\n",
    "\n",
    "```\n",
    "URL = f\"https://datausa.io/api/data?drilldowns={level}&measures={measures}&year={year}\" # for some level, measure, and year.\n",
    "```"
   ]
  },
  {
   "cell_type": "code",
   "execution_count": 19,
   "id": "21a520de",
   "metadata": {
    "tags": []
   },
   "outputs": [
    {
     "name": "stdout",
     "output_type": "stream",
     "text": [
      "{\"data\": [{\"ID Nation\": \"01000US\", \"Nation\": \"United States\", \"ID Year\": 2022, \"Year\": \"2022\", \"Population\": 331097593, \"Slug Nation\": \"united-states\"}], \"source\": [{\"measures\": [\"Population\"], \"annotations\": {\"source_name\": \"Census Bureau\", \"source_description\": \"The American Community Survey (ACS) is conducted by the US Census and sent to a portion of the population every year.\", \"dataset_name\": \"ACS 5-year Estimate\", \"dataset_link\": \"http://www.census.gov/programs-surveys/acs/\", \"table_id\": \"B01003\", \"topic\": \"Diversity\", \"subtopic\": \"Demographics\"}, \"name\": \"acs_yg_total_population_5\", \"substitutions\": []}]}\n"
     ]
    }
   ],
   "source": [
    "level = \"Nation\"\n",
    "measure = \"Population\"\n",
    "year = \"latest\"\n",
    "URL = f\"https://datausa.io/api/data?drilldowns={level}&measures={measure}&year={year}\"\n",
    "    \n",
    "r = requests.get(URL)\n",
    "data = json.loads(r.text)\n",
    "\n",
    "print(json.dumps(data)[0:1000])"
   ]
  },
  {
   "cell_type": "code",
   "execution_count": 20,
   "id": "7d3ab3ef-04dc-47fc-9e78-eb554ecb1466",
   "metadata": {
    "tags": []
   },
   "outputs": [
    {
     "data": {
      "text/plain": [
       "[{'ID Nation': '01000US',\n",
       "  'Nation': 'United States',\n",
       "  'ID Year': 2022,\n",
       "  'Year': '2022',\n",
       "  'Population': 331097593,\n",
       "  'Slug Nation': 'united-states'}]"
      ]
     },
     "execution_count": 20,
     "metadata": {},
     "output_type": "execute_result"
    }
   ],
   "source": [
    "data['data']"
   ]
  },
  {
   "cell_type": "markdown",
   "id": "b76d20bb",
   "metadata": {},
   "source": [
    "Here's how to fetch the data for as many years possible from the data:"
   ]
  },
  {
   "cell_type": "code",
   "execution_count": 21,
   "id": "5f73eb91",
   "metadata": {
    "tags": []
   },
   "outputs": [
    {
     "name": "stdout",
     "output_type": "stream",
     "text": [
      "{\"data\": [{\"ID Nation\": \"01000US\", \"Nation\": \"United States\", \"ID Year\": 2022, \"Year\": \"2022\", \"Population\": 331097593, \"Slug Nation\": \"united-states\"}, {\"ID Nation\": \"01000US\", \"Nation\": \"United States\", \"ID Year\": 2021, \"Year\": \"2021\", \"Population\": 329725481, \"Slug Nation\": \"united-states\"}, {\"ID Nation\": \"01000US\", \"Nation\": \"United States\", \"ID Year\": 2020, \"Year\": \"2020\", \"Population\": 326569308, \"Slug Nation\": \"united-states\"}, {\"ID Nation\": \"01000US\", \"Nation\": \"United States\", \"ID Year\": 2019, \"Year\": \"2019\", \"Population\": 324697795, \"Slug Nation\": \"united-states\"}, {\"ID Nation\": \"01000US\", \"Nation\": \"United States\", \"ID Year\": 2018, \"Year\": \"2018\", \"Population\": 322903030, \"Slug Nation\": \"united-states\"}, {\"ID Nation\": \"01000US\", \"Nation\": \"United States\", \"ID Year\": 2017, \"Year\": \"2017\", \"Population\": 321004407, \"Slug Nation\": \"united-states\"}, {\"ID Nation\": \"01000US\", \"Nation\": \"United States\", \"ID Year\": 2016, \"Year\": \"2016\", \"Population\": 318558162, \"Slug Nation\": \"united\n"
     ]
    }
   ],
   "source": [
    "level = \"Nation\"\n",
    "measure = \"Population\"\n",
    "URL = f\"https://datausa.io/api/data?drilldowns={level}&measures={measure}\"\n",
    "    \n",
    "r = requests.get(URL)\n",
    "data = json.loads(r.text)\n",
    "\n",
    "print(json.dumps(data)[0:1000])"
   ]
  },
  {
   "cell_type": "markdown",
   "id": "09bd06ad",
   "metadata": {},
   "source": [
    "This website gives you JSON, which is very easy to load and dump using the default `json` package as you can see from that code snippet. As before, you can grab one of the elements using dictionary like indexing:"
   ]
  },
  {
   "cell_type": "code",
   "execution_count": 22,
   "id": "19558075",
   "metadata": {
    "tags": []
   },
   "outputs": [
    {
     "data": {
      "text/plain": [
       "[{'ID Nation': '01000US',\n",
       "  'Nation': 'United States',\n",
       "  'ID Year': 2022,\n",
       "  'Year': '2022',\n",
       "  'Population': 331097593,\n",
       "  'Slug Nation': 'united-states'},\n",
       " {'ID Nation': '01000US',\n",
       "  'Nation': 'United States',\n",
       "  'ID Year': 2021,\n",
       "  'Year': '2021',\n",
       "  'Population': 329725481,\n",
       "  'Slug Nation': 'united-states'}]"
      ]
     },
     "execution_count": 22,
     "metadata": {},
     "output_type": "execute_result"
    }
   ],
   "source": [
    "results = data['data']\n",
    "results[0:2]"
   ]
  },
  {
   "cell_type": "markdown",
   "id": "902ebcd7",
   "metadata": {},
   "source": [
    "It is convenient to look at the records in a data frame:"
   ]
  },
  {
   "cell_type": "code",
   "execution_count": 23,
   "id": "482abdbf",
   "metadata": {
    "tags": []
   },
   "outputs": [
    {
     "data": {
      "text/html": [
       "<div>\n",
       "<style scoped>\n",
       "    .dataframe tbody tr th:only-of-type {\n",
       "        vertical-align: middle;\n",
       "    }\n",
       "\n",
       "    .dataframe tbody tr th {\n",
       "        vertical-align: top;\n",
       "    }\n",
       "\n",
       "    .dataframe thead th {\n",
       "        text-align: right;\n",
       "    }\n",
       "</style>\n",
       "<table border=\"1\" class=\"dataframe\">\n",
       "  <thead>\n",
       "    <tr style=\"text-align: right;\">\n",
       "      <th></th>\n",
       "      <th>ID Nation</th>\n",
       "      <th>Nation</th>\n",
       "      <th>ID Year</th>\n",
       "      <th>Year</th>\n",
       "      <th>Population</th>\n",
       "      <th>Slug Nation</th>\n",
       "    </tr>\n",
       "  </thead>\n",
       "  <tbody>\n",
       "    <tr>\n",
       "      <th>0</th>\n",
       "      <td>01000US</td>\n",
       "      <td>United States</td>\n",
       "      <td>2022</td>\n",
       "      <td>2022</td>\n",
       "      <td>331097593</td>\n",
       "      <td>united-states</td>\n",
       "    </tr>\n",
       "    <tr>\n",
       "      <th>1</th>\n",
       "      <td>01000US</td>\n",
       "      <td>United States</td>\n",
       "      <td>2021</td>\n",
       "      <td>2021</td>\n",
       "      <td>329725481</td>\n",
       "      <td>united-states</td>\n",
       "    </tr>\n",
       "    <tr>\n",
       "      <th>2</th>\n",
       "      <td>01000US</td>\n",
       "      <td>United States</td>\n",
       "      <td>2020</td>\n",
       "      <td>2020</td>\n",
       "      <td>326569308</td>\n",
       "      <td>united-states</td>\n",
       "    </tr>\n",
       "    <tr>\n",
       "      <th>3</th>\n",
       "      <td>01000US</td>\n",
       "      <td>United States</td>\n",
       "      <td>2019</td>\n",
       "      <td>2019</td>\n",
       "      <td>324697795</td>\n",
       "      <td>united-states</td>\n",
       "    </tr>\n",
       "    <tr>\n",
       "      <th>4</th>\n",
       "      <td>01000US</td>\n",
       "      <td>United States</td>\n",
       "      <td>2018</td>\n",
       "      <td>2018</td>\n",
       "      <td>322903030</td>\n",
       "      <td>united-states</td>\n",
       "    </tr>\n",
       "    <tr>\n",
       "      <th>5</th>\n",
       "      <td>01000US</td>\n",
       "      <td>United States</td>\n",
       "      <td>2017</td>\n",
       "      <td>2017</td>\n",
       "      <td>321004407</td>\n",
       "      <td>united-states</td>\n",
       "    </tr>\n",
       "    <tr>\n",
       "      <th>6</th>\n",
       "      <td>01000US</td>\n",
       "      <td>United States</td>\n",
       "      <td>2016</td>\n",
       "      <td>2016</td>\n",
       "      <td>318558162</td>\n",
       "      <td>united-states</td>\n",
       "    </tr>\n",
       "    <tr>\n",
       "      <th>7</th>\n",
       "      <td>01000US</td>\n",
       "      <td>United States</td>\n",
       "      <td>2015</td>\n",
       "      <td>2015</td>\n",
       "      <td>316515021</td>\n",
       "      <td>united-states</td>\n",
       "    </tr>\n",
       "    <tr>\n",
       "      <th>8</th>\n",
       "      <td>01000US</td>\n",
       "      <td>United States</td>\n",
       "      <td>2014</td>\n",
       "      <td>2014</td>\n",
       "      <td>314107084</td>\n",
       "      <td>united-states</td>\n",
       "    </tr>\n",
       "    <tr>\n",
       "      <th>9</th>\n",
       "      <td>01000US</td>\n",
       "      <td>United States</td>\n",
       "      <td>2013</td>\n",
       "      <td>2013</td>\n",
       "      <td>311536594</td>\n",
       "      <td>united-states</td>\n",
       "    </tr>\n",
       "  </tbody>\n",
       "</table>\n",
       "</div>"
      ],
      "text/plain": [
       "  ID Nation         Nation  ID Year  Year  Population    Slug Nation\n",
       "0   01000US  United States     2022  2022   331097593  united-states\n",
       "1   01000US  United States     2021  2021   329725481  united-states\n",
       "2   01000US  United States     2020  2020   326569308  united-states\n",
       "3   01000US  United States     2019  2019   324697795  united-states\n",
       "4   01000US  United States     2018  2018   322903030  united-states\n",
       "5   01000US  United States     2017  2017   321004407  united-states\n",
       "6   01000US  United States     2016  2016   318558162  united-states\n",
       "7   01000US  United States     2015  2015   316515021  united-states\n",
       "8   01000US  United States     2014  2014   314107084  united-states\n",
       "9   01000US  United States     2013  2013   311536594  united-states"
      ]
     },
     "execution_count": 23,
     "metadata": {},
     "output_type": "execute_result"
    }
   ],
   "source": [
    "import pandas as pd\n",
    "pd.DataFrame.from_dict(results)"
   ]
  },
  {
   "cell_type": "code",
   "execution_count": null,
   "id": "1dff4061",
   "metadata": {},
   "outputs": [],
   "source": []
  }
 ],
 "metadata": {
  "kernelspec": {
   "display_name": "Python 3 (ipykernel)",
   "language": "python",
   "name": "python3"
  },
  "language_info": {
   "codemirror_mode": {
    "name": "ipython",
    "version": 3
   },
   "file_extension": ".py",
   "mimetype": "text/x-python",
   "name": "python",
   "nbconvert_exporter": "python",
   "pygments_lexer": "ipython3",
   "version": "3.12.2"
  }
 },
 "nbformat": 4,
 "nbformat_minor": 5
}
