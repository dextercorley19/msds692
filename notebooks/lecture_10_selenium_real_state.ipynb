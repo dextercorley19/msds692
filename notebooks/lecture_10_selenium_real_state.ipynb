{
 "cells": [
  {
   "cell_type": "markdown",
   "id": "684d33a9-5b4a-4f7d-a730-754042080bee",
   "metadata": {
    "tags": []
   },
   "source": [
    "## Scraping with Selenium\n",
    "`! pip install selenium` <br>\n",
    "`! pip install webdriver-manager`"
   ]
  },
  {
   "cell_type": "code",
   "execution_count": 6,
   "id": "ab3e322d-40cb-4206-ab35-35e4b4cfa4e4",
   "metadata": {
    "tags": []
   },
   "outputs": [],
   "source": [
    "from selenium import webdriver\n",
    "from selenium.webdriver.chrome.service import Service\n",
    "from webdriver_manager.chrome import ChromeDriverManager\n",
    "from selenium.webdriver.support.ui import Select\n",
    "from selenium.webdriver.common.by import By\n",
    "import time\n",
    "import pathlib\n",
    "import pickle"
   ]
  },
  {
   "cell_type": "code",
   "execution_count": 7,
   "id": "0d26d7ad-3d6d-46c4-84b2-8aa37673723e",
   "metadata": {
    "tags": []
   },
   "outputs": [],
   "source": [
    "website= \"https://spainhomes.com/real-estate/malaga\""
   ]
  },
  {
   "cell_type": "code",
   "execution_count": 8,
   "id": "65d84cb4",
   "metadata": {
    "tags": []
   },
   "outputs": [],
   "source": [
    "driver = webdriver.Chrome()\n",
    "driver.maximize_window()\n",
    "driver.get(website)"
   ]
  },
  {
   "cell_type": "code",
   "execution_count": 5,
   "id": "7f2e2068-7b32-4d40-8a78-758a7c1a7c1a",
   "metadata": {
    "tags": []
   },
   "outputs": [],
   "source": [
    "driver.quit()"
   ]
  },
  {
   "cell_type": "markdown",
   "id": "7b895735",
   "metadata": {},
   "source": [
    "## Get ads from one page"
   ]
  },
  {
   "cell_type": "code",
   "execution_count": 9,
   "id": "aa88d447-8ebb-44a7-aff1-b996f7144639",
   "metadata": {
    "tags": []
   },
   "outputs": [],
   "source": [
    "ads = driver.find_elements(By.XPATH,'//div[@class=\"right\"]')"
   ]
  },
  {
   "cell_type": "code",
   "execution_count": 10,
   "id": "c6e26003-6b42-47b6-aac8-f310353e9f93",
   "metadata": {
    "tags": []
   },
   "outputs": [
    {
     "data": {
      "text/plain": [
       "12"
      ]
     },
     "execution_count": 10,
     "metadata": {},
     "output_type": "execute_result"
    }
   ],
   "source": [
    "len(ads)"
   ]
  },
  {
   "cell_type": "code",
   "execution_count": 11,
   "id": "1bbdd79c-4a4d-4994-9130-f701c9707244",
   "metadata": {
    "tags": []
   },
   "outputs": [
    {
     "data": {
      "text/plain": [
       "<selenium.webdriver.remote.webelement.WebElement (session=\"28667f91da2a3e185fe9522d72203775\", element=\"f.13D6EB19068A64AE4545DE01014076E3.d.204EC8684978BA57762D9D5013A1CBBF.e.274\")>"
      ]
     },
     "execution_count": 11,
     "metadata": {},
     "output_type": "execute_result"
    }
   ],
   "source": [
    "ads[0]"
   ]
  },
  {
   "cell_type": "markdown",
   "id": "eeba0751",
   "metadata": {},
   "source": [
    "## Get info from one ad\n",
    "We want to get: <br>\n",
    "1. Title \n",
    "2. Description\n",
    "3. Number of bedrooms\n",
    "4. Number of bathrooms\n",
    "5. Price\n",
    "6. url for more details"
   ]
  },
  {
   "cell_type": "code",
   "execution_count": 12,
   "id": "9c92d62c-b164-4cf2-95fe-a8bf57362b6a",
   "metadata": {
    "tags": []
   },
   "outputs": [
    {
     "data": {
      "text/plain": [
       "'Modern Sea View Apartments with Spacious Terraces in Fuengirola'"
      ]
     },
     "execution_count": 12,
     "metadata": {},
     "output_type": "execute_result"
    }
   ],
   "source": [
    "title = ads[0].find_element(By.XPATH, './/span[@class=\"title\"]').text\n",
    "title"
   ]
  },
  {
   "cell_type": "code",
   "execution_count": 13,
   "id": "ef1dac39-cd16-4772-9080-e7120835ffe9",
   "metadata": {
    "tags": []
   },
   "outputs": [
    {
     "data": {
      "text/plain": [
       "'The sea-view apartments with large terraces are situated in a prestigious community in Fuengirola, Costa del Sol. The gated and secured complex has amazing facilities and social and sports clubs.'"
      ]
     },
     "execution_count": 13,
     "metadata": {},
     "output_type": "execute_result"
    }
   ],
   "source": [
    "desc = ads[0].find_element(By.XPATH, './/span[@class=\"desc\"]').text\n",
    "desc"
   ]
  },
  {
   "cell_type": "code",
   "execution_count": 14,
   "id": "4448571b-68e5-4dff-9c8a-c716fbce5b35",
   "metadata": {
    "tags": []
   },
   "outputs": [
    {
     "data": {
      "text/plain": [
       "'FROM\\n€540.000'"
      ]
     },
     "execution_count": 14,
     "metadata": {},
     "output_type": "execute_result"
    }
   ],
   "source": [
    "price = ads[0].find_element(By.XPATH, './/span[@class=\"fiyat\"]').text\n",
    "price"
   ]
  },
  {
   "cell_type": "code",
   "execution_count": 15,
   "id": "c2c88aa9-7e88-46b8-860c-975af3f5e8b1",
   "metadata": {
    "tags": []
   },
   "outputs": [],
   "source": [
    "details = ads[0].find_element(By.XPATH, './/div[@class=\"other row between-xs middle-xs nowrap\"]')"
   ]
  },
  {
   "cell_type": "code",
   "execution_count": 16,
   "id": "fe5aa9bc-d182-478e-9e30-4dd8c0228756",
   "metadata": {
    "tags": []
   },
   "outputs": [
    {
     "data": {
      "text/plain": [
       "['FUENGIROLA - MÁLAGA', '1, 2, 3', '1, 2']"
      ]
     },
     "execution_count": 16,
     "metadata": {},
     "output_type": "execute_result"
    }
   ],
   "source": [
    "details = details.find_elements(By.XPATH, './/span')\n",
    "[el.text for el in details]"
   ]
  },
  {
   "cell_type": "code",
   "execution_count": 17,
   "id": "04d052b2-503e-4d65-aa8d-48dc078899eb",
   "metadata": {
    "tags": []
   },
   "outputs": [
    {
     "data": {
      "text/plain": [
       "<selenium.webdriver.remote.webelement.WebElement (session=\"28667f91da2a3e185fe9522d72203775\", element=\"f.13D6EB19068A64AE4545DE01014076E3.d.204EC8684978BA57762D9D5013A1CBBF.e.1779\")>"
      ]
     },
     "execution_count": 17,
     "metadata": {},
     "output_type": "execute_result"
    }
   ],
   "source": [
    "url = ads[0].find_element(By.XPATH, './/a[@class=\"main-emlak-link\"]')\n",
    "url"
   ]
  },
  {
   "cell_type": "code",
   "execution_count": 18,
   "id": "59c9e317-fab8-4f2d-af07-82edbe304d27",
   "metadata": {
    "tags": []
   },
   "outputs": [
    {
     "data": {
      "text/plain": [
       "'https://spainhomes.com/ad/agp-0732-new-build-apartments-with-sea-views-in-prime-area-of-fuengirola'"
      ]
     },
     "execution_count": 18,
     "metadata": {},
     "output_type": "execute_result"
    }
   ],
   "source": [
    "url.get_attribute(\"href\")"
   ]
  },
  {
   "cell_type": "markdown",
   "id": "0608938b",
   "metadata": {},
   "source": [
    "## Get info from all ads in one page"
   ]
  },
  {
   "cell_type": "code",
   "execution_count": 19,
   "id": "a4c4667f",
   "metadata": {
    "tags": []
   },
   "outputs": [],
   "source": [
    "def get_info(ad):\n",
    "    info = {}\n",
    "    info[\"title\"] = ad.find_element(By.XPATH, './/span[@class=\"title\"]').text\n",
    "    info[\"desc\"] = ad.find_element(By.XPATH, './/span[@class=\"desc\"]').text\n",
    "    info[\"price\"] = ad.find_element(By.XPATH, './/span[@class=\"fiyat\"]').text\n",
    "    details = ad.find_element(By.XPATH, './/div[@class=\"other row between-xs middle-xs nowrap\"]')\n",
    "    details = details.find_elements(By.XPATH, './/span')\n",
    "    info[\"details\"] = [el.text for el in details]\n",
    "    url = ad.find_element(By.XPATH, './/a[@class=\"main-emlak-link\"]')\n",
    "    info[\"url\"] = url.get_attribute(\"href\")\n",
    "    return info"
   ]
  },
  {
   "cell_type": "code",
   "execution_count": 20,
   "id": "acc8bfb6",
   "metadata": {
    "tags": []
   },
   "outputs": [],
   "source": [
    "page_1_info = [get_info(ad) for ad in ads]"
   ]
  },
  {
   "cell_type": "code",
   "execution_count": 21,
   "id": "ff466ea1",
   "metadata": {
    "tags": []
   },
   "outputs": [
    {
     "data": {
      "text/plain": [
       "[{'title': 'Modern Sea View Apartments with Spacious Terraces in Fuengirola',\n",
       "  'desc': 'The sea-view apartments with large terraces are situated in a prestigious community in Fuengirola, Costa del Sol. The gated and secured complex has amazing facilities and social and sports clubs.',\n",
       "  'price': 'FROM\\n€540.000',\n",
       "  'details': ['FUENGIROLA - MÁLAGA', '1, 2, 3', '1, 2'],\n",
       "  'url': 'https://spainhomes.com/ad/agp-0732-new-build-apartments-with-sea-views-in-prime-area-of-fuengirola'},\n",
       " {'title': 'BREEAM-Certified Flats in a Prime Area in Fuengirola Málaga',\n",
       "  'desc': 'These flats are situated in a BREEAM-certified complex in Fuengirola, Málaga. The complex features rich amenities like swimming pools, parking, a wellness area, and a business center.',\n",
       "  'price': 'FROM\\n€720.000',\n",
       "  'details': ['FUENGIROLA - MÁLAGA', '2, 3', '2'],\n",
       "  'url': 'https://spainhomes.com/ad/agp-0909-sustainable-flats-in-a-complex-with-rich-amenities-in-fuengirola'},\n",
       " {'title': 'Spacious Villa with Panoramic Sea Views in Benalmadena',\n",
       "  'desc': 'Villa with panoramic sea views is situated in Benalmadena, Costa del Sol. A spacious three-bedroom villa has a generous garden and a private swimming pool.',\n",
       "  'price': '€1.495.000',\n",
       "  'details': ['BENALMÁDENA - MÁLAGA', '3', '3'],\n",
       "  'url': 'https://spainhomes.com/ad/agp-0785-villa-with-excellent-location-and-sea-view-in-benalmadena'},\n",
       " {'title': 'Newly Built Villa with an Appealing Design in Mijas',\n",
       "  'desc': 'The villa is situated in a peaceful residential community in Mijas, Costa del Sol, enjoying lovely mountain views. The true highlight of the property is its unbeatable value-for-money ratio.',\n",
       "  'price': '€1.250.000',\n",
       "  'details': ['MIJAS - MÁLAGA', '4', '4'],\n",
       "  'url': 'https://spainhomes.com/ad/agp-0786-villa-with-mountain-views-in-a-residential-area-of-mijas-spain'},\n",
       " {'title': 'Spectacular View Villas Inspired by Lamborghini in Benahavis',\n",
       "  'desc': 'Branded villas with open views are located in the golf valley in Benahavis, Costa del Sol. Each villa is on a generous plot with landscaped gardens and an infinity pool.',\n",
       "  'price': 'FROM\\n€4.510.000',\n",
       "  'details': ['BENAHAVÍS - MÁLAGA', '4, 5, 6', '4, 5'],\n",
       "  'url': 'https://spainhomes.com/ad/agp-0783-branded-villas-within-exclusive-community-in-benahavis-spain'},\n",
       " {'title': 'Townhouses Near the Beach in Fuengirola Málaga',\n",
       "  'desc': 'The townhouses are situated in a complex in Fuengirola, Málaga. The complex with pools, co-working space, and fitness center is located within walking distance of the beach.',\n",
       "  'price': 'FROM\\n€840.000',\n",
       "  'details': ['FUENGIROLA - MÁLAGA', '3', '2'],\n",
       "  'url': 'https://spainhomes.com/ad/agp-0887-nature-friendly-townhouses-near-the-beach-in-fuengirola-spain'},\n",
       " {'title': 'Sea View Furnished Property in a Prime Area of Mijas',\n",
       "  'desc': 'Panoramic sea view luxury property with a private pool is situated in a prestigious area of Mijas, Costa del Sol. It is within a gated community with pools, gardens, equipped gym, and a sauna.',\n",
       "  'price': '€1.495.000\\n€1.475.000',\n",
       "  'details': ['MIJAS - MÁLAGA', '2', '2'],\n",
       "  'url': 'https://spainhomes.com/ad/agp-0771-panoramic-sea-view-property-for-sale-near-the-beach-in-mijas'},\n",
       " {'title': 'Nature View Apartments in the Country Club in Benahavis',\n",
       "  'desc': 'Energy-efficient luxury apartments are situated inside the Country Club in Benahavis. The Club with an artificial lake offers a wide selection of on-site services, amenities, and activities.',\n",
       "  'price': 'FROM\\n€1.600.000',\n",
       "  'details': ['BENAHAVÍS - MÁLAGA', '3, 4', '2, 3'],\n",
       "  'url': 'https://spainhomes.com/ad/agp-0720-lake-view-modern-luxury-apartments-in-benahavis'},\n",
       " {'title': 'Sea View Properties in a Complex with Pools in Costa del Sol',\n",
       "  'desc': 'The properties are situated in a residential complex with extensive social facilities such as communal swimming pools, tennis courts, sports clubs, etc. The properties have stunning sea views.',\n",
       "  'price': 'FROM\\n€1.125.000',\n",
       "  'details': ['FUENGIROLA - MÁLAGA', '3', '2'],\n",
       "  'url': 'https://spainhomes.com/ad/agp-0623-luxurious-properties-at-a-prime-location-in-costa-del-sol'},\n",
       " {'title': 'Well-Located Prestigious Apartments in Fuengirola',\n",
       "  'desc': 'Amazing sea view apartments situated in a highly rated area of Fuengirola, Costa del Sol. The residential compound offers landscaped communal areas with a pool, equipped gym, and a business center.',\n",
       "  'price': 'FROM\\n€510.000',\n",
       "  'details': ['FUENGIROLA - MÁLAGA', '2, 3', '2'],\n",
       "  'url': 'https://spainhomes.com/ad/agp-0528-sea-view-apartments-close-to-amenities-in-fuengirola'},\n",
       " {'title': 'Stylish Newly-Built Flats in a Complex with Pool in Casares',\n",
       "  'desc': 'These stylish flats are situated in a new complex in Casares, Costa del Sol. The complex includes a pool, gym, SPA, and sauna. The flats feature spacious terraces.',\n",
       "  'price': 'FROM\\n€520.000',\n",
       "  'details': ['CASARES - MÁLAGA', '2, 3, 4', '2, 3'],\n",
       "  'url': 'https://spainhomes.com/ad/agp-0921-stylish-flats-in-a-complex-with-pool-in-casares'},\n",
       " {'title': 'New Sea-View Flats in a Golfside Complex in Malaga Estepona',\n",
       "  'desc': 'The sea-view flats are situated in a complex in Málaga, Estepona. The complex includes a swimming pool and gym. The flats are close to the golf course and beach.',\n",
       "  'price': 'FROM\\n€272.000',\n",
       "  'details': ['ESTEPONA - MÁLAGA', '2, 3', '2'],\n",
       "  'url': 'https://spainhomes.com/ad/agp-0920-sea-view-flats-in-a-golfside-complex-in-malaga-estepona'}]"
      ]
     },
     "execution_count": 21,
     "metadata": {},
     "output_type": "execute_result"
    }
   ],
   "source": [
    "page_1_info"
   ]
  },
  {
   "cell_type": "code",
   "execution_count": 22,
   "id": "fab82a2d-8e9b-484a-bb11-0e82d4606268",
   "metadata": {
    "tags": []
   },
   "outputs": [],
   "source": [
    "driver.quit()"
   ]
  },
  {
   "cell_type": "code",
   "execution_count": 23,
   "id": "704afa3e-cf47-465d-99d2-9956076fa898",
   "metadata": {
    "tags": []
   },
   "outputs": [],
   "source": [
    "# making a directory with results\n",
    "results_dir = pathlib.Path(\"results\")\n",
    "results_dir.mkdir(parents=True, exist_ok=True)"
   ]
  },
  {
   "cell_type": "code",
   "execution_count": 24,
   "id": "215f7355-e137-4ca5-b88d-b1873f5059c8",
   "metadata": {
    "tags": []
   },
   "outputs": [],
   "source": [
    "file = open(results_dir/'malaga_page_1.pickle', 'wb')\n",
    "pickle.dump(page_1_info , file)\n",
    "file.close()"
   ]
  },
  {
   "cell_type": "markdown",
   "id": "6a1ab7ed-dbf7-43a2-911d-d19092b48c7b",
   "metadata": {},
   "source": [
    "### Cliking on the cookie page"
   ]
  },
  {
   "cell_type": "code",
   "execution_count": 25,
   "id": "65a158fb-6cf2-4ee4-b79e-fe578cec451b",
   "metadata": {
    "tags": []
   },
   "outputs": [],
   "source": [
    "driver = webdriver.Chrome()\n",
    "driver.maximize_window()\n",
    "driver.get(website)"
   ]
  },
  {
   "cell_type": "code",
   "execution_count": 27,
   "id": "5dc1ed8a-ec22-4e3c-a0bf-97bd7ef88450",
   "metadata": {
    "tags": []
   },
   "outputs": [],
   "source": [
    "def click_accept_cookies(driver):\n",
    "    cookie_xpath = '//div/a[@class=\"yes\"]'\n",
    "    button = driver.find_element(By.XPATH, cookie_xpath)\n",
    "    button.click()"
   ]
  },
  {
   "cell_type": "code",
   "execution_count": 28,
   "id": "745f99cd-f314-47de-a23f-1fe3a9d9d442",
   "metadata": {
    "tags": []
   },
   "outputs": [],
   "source": [
    "click_accept_cookies(driver)"
   ]
  },
  {
   "cell_type": "markdown",
   "id": "ab8f185a",
   "metadata": {},
   "source": [
    "### getting other pages"
   ]
  },
  {
   "cell_type": "code",
   "execution_count": 37,
   "id": "1aec6228-c2f5-4eda-a0ab-b2cccf8031fe",
   "metadata": {
    "tags": []
   },
   "outputs": [],
   "source": [
    "def dump_page(i, page_info, results_dir=results_dir):\n",
    "    filename = results_dir/'malaga_page_{}.pickle'.format(str(i))\n",
    "    file = open(filename, 'wb')\n",
    "    pickle.dump(page_info , file)\n",
    "    file.close()\n",
    "    print(filename)"
   ]
  },
  {
   "cell_type": "code",
   "execution_count": 29,
   "id": "0f74177a",
   "metadata": {
    "tags": []
   },
   "outputs": [],
   "source": [
    "def get_url(i):\n",
    "    url = \"https://spainhomes.com/real-estate/malaga?page={}.htm\".format(i)\n",
    "    return url"
   ]
  },
  {
   "cell_type": "code",
   "execution_count": 30,
   "id": "024faf01",
   "metadata": {
    "tags": []
   },
   "outputs": [
    {
     "data": {
      "text/plain": [
       "'https://spainhomes.com/real-estate/malaga?page=2.htm'"
      ]
     },
     "execution_count": 30,
     "metadata": {},
     "output_type": "execute_result"
    }
   ],
   "source": [
    "i = 2\n",
    "website = get_url(i)\n",
    "website"
   ]
  },
  {
   "cell_type": "code",
   "execution_count": 31,
   "id": "8d69a585-7fd7-4d7a-ae6d-6c03f282617f",
   "metadata": {
    "tags": []
   },
   "outputs": [],
   "source": [
    "driver.quit()"
   ]
  },
  {
   "cell_type": "code",
   "execution_count": 32,
   "id": "65b4c25e",
   "metadata": {
    "tags": []
   },
   "outputs": [],
   "source": [
    "driver = webdriver.Chrome()\n",
    "driver.maximize_window()\n",
    "driver.get(website)\n",
    "time.sleep(3)"
   ]
  },
  {
   "cell_type": "code",
   "execution_count": 33,
   "id": "f0efd0f2-7cdb-4552-9236-135337cee485",
   "metadata": {
    "tags": []
   },
   "outputs": [],
   "source": [
    "click_accept_cookies(driver)"
   ]
  },
  {
   "cell_type": "code",
   "execution_count": 34,
   "id": "634d9277-0657-45c1-80b4-152f55b25db3",
   "metadata": {
    "tags": []
   },
   "outputs": [
    {
     "data": {
      "text/plain": [
       "12"
      ]
     },
     "execution_count": 34,
     "metadata": {},
     "output_type": "execute_result"
    }
   ],
   "source": [
    "ads = driver.find_elements(By.XPATH,'//div[@class=\"right\"]')\n",
    "len(ads)"
   ]
  },
  {
   "cell_type": "code",
   "execution_count": 35,
   "id": "5235cd9d-e489-4f24-b074-fa872c166d95",
   "metadata": {
    "tags": []
   },
   "outputs": [],
   "source": [
    "page_i_info = [get_info(ad) for ad in ads]"
   ]
  },
  {
   "cell_type": "code",
   "execution_count": 52,
   "id": "978f62de-c8fd-49b8-adb0-3d6212c39b6c",
   "metadata": {
    "tags": []
   },
   "outputs": [],
   "source": [
    "#page_i_info "
   ]
  },
  {
   "cell_type": "code",
   "execution_count": 38,
   "id": "6882892f",
   "metadata": {
    "tags": []
   },
   "outputs": [
    {
     "name": "stdout",
     "output_type": "stream",
     "text": [
      "results/malaga_page_2.pickle\n"
     ]
    }
   ],
   "source": [
    "dump_page(i, page_i_info)"
   ]
  },
  {
   "cell_type": "code",
   "execution_count": 39,
   "id": "2b89b60f",
   "metadata": {
    "tags": []
   },
   "outputs": [],
   "source": [
    "driver.quit()"
   ]
  },
  {
   "cell_type": "markdown",
   "id": "899d40d4",
   "metadata": {},
   "source": [
    "### Try automatic with lots of sleeps"
   ]
  },
  {
   "cell_type": "code",
   "execution_count": 40,
   "id": "334a5860-fcef-41b0-86f0-4660f351f51c",
   "metadata": {
    "tags": []
   },
   "outputs": [],
   "source": [
    "def scrape_a_page_for_ads(website):\n",
    "    driver = webdriver.Chrome()\n",
    "    driver.maximize_window()\n",
    "    driver.get(website)\n",
    "    time.sleep(3)\n",
    "    click_accept_cookies(driver)\n",
    "    time.sleep(2)\n",
    "    ads = driver.find_elements(By.XPATH,'//div[@class=\"right\"]')\n",
    "    return ads, driver"
   ]
  },
  {
   "cell_type": "code",
   "execution_count": 41,
   "id": "36c4df80",
   "metadata": {
    "tags": []
   },
   "outputs": [
    {
     "name": "stdout",
     "output_type": "stream",
     "text": [
      "3\n",
      "results/malaga_page_3.pickle\n",
      "4\n",
      "results/malaga_page_4.pickle\n",
      "5\n",
      "results/malaga_page_5.pickle\n",
      "6\n",
      "results/malaga_page_6.pickle\n",
      "7\n",
      "results/malaga_page_7.pickle\n",
      "8\n",
      "results/malaga_page_8.pickle\n",
      "9\n",
      "results/malaga_page_9.pickle\n",
      "10\n",
      "results/malaga_page_10.pickle\n",
      "11\n",
      "results/malaga_page_11.pickle\n",
      "12\n",
      "results/malaga_page_12.pickle\n",
      "13\n",
      "results/malaga_page_13.pickle\n",
      "14\n",
      "results/malaga_page_14.pickle\n"
     ]
    }
   ],
   "source": [
    "for i in range(3, 15):\n",
    "    print(i)\n",
    "    website = get_url(i)\n",
    "    ads, driver = scrape_a_page_for_ads(website)\n",
    "    time.sleep(4)\n",
    "    page_info = [get_info(ad) for ad in ads]\n",
    "    dump_page(i, page_info)\n",
    "    time.sleep(1)\n",
    "    driver.quit()"
   ]
  }
 ],
 "metadata": {
  "kernelspec": {
   "display_name": "Python 3 (ipykernel)",
   "language": "python",
   "name": "python3"
  },
  "language_info": {
   "codemirror_mode": {
    "name": "ipython",
    "version": 3
   },
   "file_extension": ".py",
   "mimetype": "text/x-python",
   "name": "python",
   "nbconvert_exporter": "python",
   "pygments_lexer": "ipython3",
   "version": "3.12.2"
  }
 },
 "nbformat": 4,
 "nbformat_minor": 5
}
