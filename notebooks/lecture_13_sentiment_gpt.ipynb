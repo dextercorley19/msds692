{
 "cells": [
  {
   "cell_type": "code",
   "execution_count": 27,
   "id": "424dfbc5",
   "metadata": {},
   "outputs": [],
   "source": [
    "from pathlib import Path\n",
    "import numpy as np\n",
    "import time"
   ]
  },
  {
   "cell_type": "code",
   "execution_count": 1,
   "id": "e29d9bce",
   "metadata": {
    "tags": []
   },
   "outputs": [],
   "source": [
    "file_openai_key = \"/Users/yinterian/.keys/openai_key\"\n",
    "key = open(file_openai_key, \"r\").read().strip()"
   ]
  },
  {
   "cell_type": "code",
   "execution_count": 5,
   "id": "81115dbd-4b3e-4634-9641-a6d7722c3ff5",
   "metadata": {
    "tags": []
   },
   "outputs": [],
   "source": [
    "#!pip install openai"
   ]
  },
  {
   "cell_type": "code",
   "execution_count": 4,
   "id": "d72037b0",
   "metadata": {
    "tags": []
   },
   "outputs": [],
   "source": [
    "import openai\n",
    "openai.api_key = key"
   ]
  },
  {
   "cell_type": "markdown",
   "id": "1c7a812a-6a05-4c9d-9a83-f9a4045f18ab",
   "metadata": {},
   "source": [
    "### Generating animal names"
   ]
  },
  {
   "cell_type": "code",
   "execution_count": 7,
   "id": "4a0d6192-a652-4c56-9b05-dc790d37e195",
   "metadata": {
    "tags": []
   },
   "outputs": [],
   "source": [
    "def generate_prompt(animal):\n",
    "    promp = \"\"\"Suggest three names for an animal that\n",
    "    is a superhero.\n",
    "    Animal: Cat\n",
    "    Names: Captain Sharpclaw, Agent Fluffball,\n",
    "           The Incredible Feline\n",
    "    Animal: Dog\n",
    "    Names: Ruff the Protector, Wonder Canine, Sir Barks-a-Lot\n",
    "    Animal: {}\n",
    "    Names:\"\"\".format(animal.capitalize())\n",
    "    \n",
    "    return promp"
   ]
  },
  {
   "cell_type": "code",
   "execution_count": 8,
   "id": "64b7079e-f6e8-4e12-a4c8-9f6ebd50f1fc",
   "metadata": {
    "tags": []
   },
   "outputs": [
    {
     "data": {
      "text/plain": [
       "'Suggest three names for an animal that\\n    is a superhero.\\n    Animal: Cat\\n    Names: Captain Sharpclaw, Agent Fluffball,\\n           The Incredible Feline\\n    Animal: Dog\\n    Names: Ruff the Protector, Wonder Canine, Sir Barks-a-Lot\\n    Animal: Parrot\\n    Names:'"
      ]
     },
     "execution_count": 8,
     "metadata": {},
     "output_type": "execute_result"
    }
   ],
   "source": [
    "promp = generate_prompt(\"parrot\")\n",
    "promp"
   ]
  },
  {
   "cell_type": "code",
   "execution_count": 10,
   "id": "14a29054-8475-40b8-8203-87af64c0203f",
   "metadata": {
    "tags": []
   },
   "outputs": [],
   "source": [
    "animal = \"parrot\"\n",
    "response = openai.Completion.create(\n",
    "  model=\"gpt-3.5-turbo-instruct\",\n",
    "  prompt=generate_prompt(animal),\n",
    "  temperature=0.6\n",
    ")"
   ]
  },
  {
   "cell_type": "code",
   "execution_count": 14,
   "id": "d04432f5-502c-4766-b0bb-4af09fe2e250",
   "metadata": {
    "tags": []
   },
   "outputs": [
    {
     "data": {
      "text/plain": [
       "' Feathered Avenger, Polly Power, The Mighty Macaw '"
      ]
     },
     "execution_count": 14,
     "metadata": {},
     "output_type": "execute_result"
    }
   ],
   "source": [
    "response\n",
    "response[\"choices\"][0][\"text\"]"
   ]
  },
  {
   "cell_type": "code",
   "execution_count": 15,
   "id": "142d186e-af2e-458a-8e40-50f07282e189",
   "metadata": {
    "tags": []
   },
   "outputs": [],
   "source": [
    "def generate_prompt(text):\n",
    "    promp = \"\"\"\n",
    "    You will be provided with unstructured data, \n",
    "    and your task is to parse it into CSV format.\n",
    "    {}\"\"\".format(text)\n",
    "    return promp"
   ]
  },
  {
   "cell_type": "code",
   "execution_count": 16,
   "id": "12c9ae22-d7f1-4aa9-9cc8-19ae3f187d47",
   "metadata": {
    "tags": []
   },
   "outputs": [],
   "source": [
    "text = \"There are many fruits that were found on the recently discovered planet Goocrux. There are neoskizzles that grow there, which are purple and taste like candy. There are also loheckles, which are a grayish blue fruit and are very tart, a little bit like a lemon. Pounits are a bright green color and are more savory than sweet. There are also plenty of loopnovas which are a neon pink flavor and taste like cotton candy. Finally, there are fruits called glowls, which have a very sour and bitter taste which is acidic and caustic, and a pale orange tinge to them.\""
   ]
  },
  {
   "cell_type": "code",
   "execution_count": 18,
   "id": "1317e714-e676-488b-b54b-1e53072b1c9c",
   "metadata": {
    "tags": []
   },
   "outputs": [],
   "source": [
    "messages = [\n",
    "    {\"role\": \"user\", \"content\": \"Tell me a joke.\"},\n",
    "    {\"role\": \"assistant\", \"content\": \"Why did the chicken cross the road?\"},\n",
    "    {\"role\": \"user\", \"content\": \"I don't know, why did the chicken cross the road?\"}\n",
    "]"
   ]
  },
  {
   "cell_type": "code",
   "execution_count": 19,
   "id": "92158779-7fd6-4f29-885a-ccd705f78783",
   "metadata": {
    "tags": []
   },
   "outputs": [],
   "source": [
    "def get_completion(messages):\n",
    "    response = openai.ChatCompletion.create(\n",
    "        model=\"gpt-3.5-turbo\",\n",
    "        messages=messages,\n",
    "        temperature=0.5, \n",
    "    )\n",
    "    return response.choices[0].message[\"content\"]"
   ]
  },
  {
   "cell_type": "code",
   "execution_count": 20,
   "id": "728fff3e-e6b0-4e00-ae19-a6be8af2c27f",
   "metadata": {
    "tags": []
   },
   "outputs": [
    {
     "data": {
      "text/plain": [
       "'To get to the other side!'"
      ]
     },
     "execution_count": 20,
     "metadata": {},
     "output_type": "execute_result"
    }
   ],
   "source": [
    "get_completion(messages)"
   ]
  },
  {
   "cell_type": "markdown",
   "id": "ef13fa18",
   "metadata": {},
   "source": [
    "## Getting Sentiment Data\n",
    "To get the data:  <br>\n",
    "`wget https://ai.stanford.edu/~amaas/data/sentiment/aclImdb_v1.tar.gz`\n",
    "\n",
    "To unzip run: <br>\n",
    "`! tar -xvf aclImdb_v1.tar.gz`"
   ]
  },
  {
   "cell_type": "code",
   "execution_count": 4,
   "id": "af16926e",
   "metadata": {},
   "outputs": [
    {
     "name": "stdout",
     "output_type": "stream",
     "text": [
      "labeledBow.feat  \u001b[34mpos\u001b[m\u001b[m/             unsupBow.feat    urls_pos.txt\n",
      "\u001b[34mneg\u001b[m\u001b[m/             \u001b[34munsup\u001b[m\u001b[m/           urls_neg.txt     urls_unsup.txt\n"
     ]
    }
   ],
   "source": [
    "ls aclImdb/train"
   ]
  },
  {
   "cell_type": "code",
   "execution_count": 5,
   "id": "e0c3256c",
   "metadata": {},
   "outputs": [],
   "source": [
    "def read_file(path):\n",
    "    f = open(path, \"r\")\n",
    "    return f.read()"
   ]
  },
  {
   "cell_type": "code",
   "execution_count": 6,
   "id": "37654a95",
   "metadata": {},
   "outputs": [],
   "source": [
    "train_path = Path(\"aclImdb/train/\")"
   ]
  },
  {
   "cell_type": "code",
   "execution_count": 7,
   "id": "3b9e50db",
   "metadata": {},
   "outputs": [
    {
     "data": {
      "text/plain": [
       "12500"
      ]
     },
     "execution_count": 7,
     "metadata": {},
     "output_type": "execute_result"
    }
   ],
   "source": [
    "pos_paths = [f for f in (train_path/\"pos\").iterdir()]\n",
    "len(pos_paths)"
   ]
  },
  {
   "cell_type": "code",
   "execution_count": 8,
   "id": "34dc937f",
   "metadata": {},
   "outputs": [
    {
     "data": {
      "text/plain": [
       "12500"
      ]
     },
     "execution_count": 8,
     "metadata": {},
     "output_type": "execute_result"
    }
   ],
   "source": [
    "neg_paths = [f for f in (train_path/\"neg\").iterdir()]\n",
    "len(neg_paths)"
   ]
  },
  {
   "cell_type": "code",
   "execution_count": 9,
   "id": "80f7ab78",
   "metadata": {},
   "outputs": [
    {
     "data": {
      "text/plain": [
       "\"Sure, it was cheesy and nonsensical and at times corny, but at least the filmmakers didn't try. While most TV movies border on the brink of mediocrity, this film actually has some redeeming qualities to it. The cinematography was pretty good for a TV film, and Viggo Mortensen displays shades of Aragorn in a film about a man who played by his own rules. Most of the flashback sequences were kind of cheesy, but the scene with the mountain lion was intense. I was kind of annoyed by Jason Priestly's role in the film as a rebellious shock-jock, but then again, it's a TV MOVIE! Despite all of the good things, the soundtrack was atrocious. However, it was nice to see Tucson, Arizona prominently featured in the film.\""
      ]
     },
     "execution_count": 9,
     "metadata": {},
     "output_type": "execute_result"
    }
   ],
   "source": [
    "read_file(pos_paths[100])"
   ]
  },
  {
   "cell_type": "code",
   "execution_count": 10,
   "id": "cfdcc351",
   "metadata": {},
   "outputs": [
    {
     "data": {
      "text/plain": [
       "\"Really an amazing pile of pap! <br /><br />A predictable, slow moving, soul destroying, mind numbing movie to which, slitting your own wrists with a rusty bread knife seems... well, almost necessary.<br /><br />The acting is over done for the thin dialogue, every scene is at least twice as long as it needs to be, the intricate details of how this career is collapsing or that career is rising is just far too dreary and mundane for words. The music would be good if you didn't have to sit through the movie, but really, three good songs is not enough reward for the effort required to watch the movie.<br /><br />Watching this film I prayed to God for narcolepsy or for someone to shoot me.<br /><br />Never, ever, ever again.\""
      ]
     },
     "execution_count": 10,
     "metadata": {},
     "output_type": "execute_result"
    }
   ],
   "source": [
    "read_file(neg_paths[100])"
   ]
  },
  {
   "cell_type": "code",
   "execution_count": 11,
   "id": "7dc86f3e",
   "metadata": {},
   "outputs": [
    {
     "data": {
      "text/plain": [
       "('For a movie that gets no respect there sure are a lot of memorable quotes listed for this gem. Imagine a movie where Joe Piscopo is actually funny! Maureen Stapleton is a scene stealer. The Moroni character is an absolute scream. Watch for Alan \"The Skipper\" Hale jr. as a police Sgt.',\n",
       " 'pos')"
      ]
     },
     "execution_count": 11,
     "metadata": {},
     "output_type": "execute_result"
    }
   ],
   "source": [
    "pos_text = [(read_file(path), 'pos') for path in pos_paths[:100]] \n",
    "pos_text[0]"
   ]
  },
  {
   "cell_type": "code",
   "execution_count": 12,
   "id": "11189d72",
   "metadata": {},
   "outputs": [],
   "source": [
    "neg_text = [(read_file(path), 'neg') for path in neg_paths[:100]] "
   ]
  },
  {
   "cell_type": "code",
   "execution_count": 13,
   "id": "d0a2550d",
   "metadata": {},
   "outputs": [],
   "source": [
    "# let's shuffle the list\n",
    "all_text = pos_text + neg_text\n",
    "np.random.shuffle(all_text)"
   ]
  },
  {
   "cell_type": "code",
   "execution_count": 14,
   "id": "7e391a6f",
   "metadata": {},
   "outputs": [
    {
     "data": {
      "text/plain": [
       "['neg', 'neg', 'pos', 'neg', 'neg', 'neg', 'pos', 'pos', 'pos', 'pos']"
      ]
     },
     "execution_count": 14,
     "metadata": {},
     "output_type": "execute_result"
    }
   ],
   "source": [
    "[t[1] for t in all_text][:10]"
   ]
  },
  {
   "cell_type": "code",
   "execution_count": 16,
   "id": "384a6e19",
   "metadata": {},
   "outputs": [],
   "source": [
    "text = pos_text[0][0]\n",
    "prompt = f\"\"\"\n",
    "    You will be provided with a review of a movie.  \n",
    "    If the movie review have a positive sentiment write \"pos\"\n",
    "    If the movie review have a negative sentiment write \"neg\"\n",
    "    \\\"\\\"\\\"{text}\\\"\\\"\\\" \n",
    "    \"\"\""
   ]
  },
  {
   "cell_type": "code",
   "execution_count": 31,
   "id": "a1547234",
   "metadata": {},
   "outputs": [
    {
     "data": {
      "text/plain": [
       "'\\n    You will be provided with a review of a movie.  \\n    If the movie review have a positive sentiment write \"pos\"\\n    If the movie review have a negative sentiment write \"neg\"\\n    \"\"\"For a movie that gets no respect there sure are a lot of memorable quotes listed for this gem. Imagine a movie where Joe Piscopo is actually funny! Maureen Stapleton is a scene stealer. The Moroni character is an absolute scream. Watch for Alan \"The Skipper\" Hale jr. as a police Sgt.\"\"\" \\n    '"
      ]
     },
     "execution_count": 31,
     "metadata": {},
     "output_type": "execute_result"
    }
   ],
   "source": [
    "prompt"
   ]
  },
  {
   "cell_type": "markdown",
   "id": "204899e2",
   "metadata": {},
   "source": [
    "## Ask Chat GPT about the sentiment of this text"
   ]
  },
  {
   "cell_type": "code",
   "execution_count": 24,
   "id": "47b6b14e",
   "metadata": {},
   "outputs": [],
   "source": [
    "def get_completion(prompt, model=\"gpt-3.5-turbo\"):\n",
    "    messages = [{\"role\": \"user\", \"content\": prompt}]\n",
    "    response = openai.ChatCompletion.create(\n",
    "        model=model,\n",
    "        messages=messages,\n",
    "        temperature=0, # this is the degree of randomness of the model's output\n",
    "    )\n",
    "    return response.choices[0].message[\"content\"]"
   ]
  },
  {
   "cell_type": "code",
   "execution_count": 32,
   "id": "b5a6ccb8",
   "metadata": {},
   "outputs": [
    {
     "data": {
      "text/plain": [
       "'pos'"
      ]
     },
     "execution_count": 32,
     "metadata": {},
     "output_type": "execute_result"
    }
   ],
   "source": [
    "get_completion(prompt)"
   ]
  },
  {
   "cell_type": "code",
   "execution_count": 56,
   "id": "0a3c97e5",
   "metadata": {},
   "outputs": [],
   "source": [
    "def get_response(prompt):\n",
    "    failure = True\n",
    "    failure_count = 0 \n",
    "    while(failure):\n",
    "        failure = False\n",
    "        try:\n",
    "            response = get_completion(prompt)\n",
    "        except:\n",
    "            failure = True\n",
    "            print(\"failed\")\n",
    "            time.sleep(60)\n",
    "        failure_count =+1\n",
    "        if failure_count > 100:\n",
    "            return -1\n",
    "    return response"
   ]
  },
  {
   "cell_type": "code",
   "execution_count": 57,
   "id": "66d3f1e7",
   "metadata": {},
   "outputs": [
    {
     "name": "stdout",
     "output_type": "stream",
     "text": [
      "pos pos\n",
      "neg neg\n",
      "neg pos\n",
      "incorrect\n",
      "neg neg\n",
      "neg neg\n",
      "neg neg\n",
      "pos pos\n",
      "pos pos\n",
      "pos pos\n",
      "neg neg\n",
      "neg neg\n",
      "neg neg\n",
      "pos pos\n",
      "pos pos\n",
      "neg neg\n",
      "pos pos\n",
      "neg neg\n",
      "pos pos\n",
      "pos pos\n",
      "neg neg\n",
      "neg neg\n",
      "pos pos\n",
      "pos neg\n",
      "incorrect\n",
      "neg neg\n",
      "pos pos\n",
      "pos pos\n",
      "neg neg\n",
      "neg neg\n",
      "neg neg\n",
      "neg neg\n",
      "pos pos\n",
      "pos pos\n",
      "failed\n",
      "pos pos\n",
      "pos pos\n",
      "neg neg\n",
      "pos pos\n",
      "pos pos\n",
      "neg neg\n",
      "pos pos\n",
      "pos pos\n",
      "pos pos\n",
      "pos pos\n",
      "pos pos\n",
      "pos pos\n",
      "pos pos\n",
      "neg neg\n",
      "pos pos\n",
      "pos pos\n",
      "neg neg\n",
      "neg neg\n",
      "pos pos\n",
      "pos pos\n",
      "neg neg\n",
      "neg neg\n",
      "pos pos\n",
      "neg neg\n",
      "neg neg\n",
      "neg neg\n",
      "neg neg\n",
      "pos pos\n",
      "pos pos\n",
      "pos pos\n",
      "neg neg\n",
      "neg neg\n",
      "neg neg\n",
      "failed\n",
      "pos pos\n",
      "neg neg\n",
      "neg neg\n",
      "pos pos\n",
      "neg neg\n",
      "pos pos\n",
      "pos pos\n",
      "pos pos\n",
      "neg neg\n",
      "neg neg\n",
      "neg neg\n",
      "neg pos\n",
      "incorrect\n",
      "pos pos\n",
      "pos pos\n",
      "neg neg\n",
      "pos pos\n",
      "neg neg\n",
      "pos pos\n",
      "neg neg\n",
      "pos pos\n",
      "failed\n",
      "pos pos\n",
      "pos pos\n",
      "neg neg\n",
      "pos pos\n",
      "neg neg\n",
      "pos pos\n",
      "neg neg\n",
      "neg neg\n",
      "pos pos\n",
      "failed\n",
      "pos pos\n",
      "pos pos\n",
      "neg pos\n",
      "incorrect\n",
      "neg neg\n",
      "neg neg\n",
      "failed\n",
      "pos pos\n",
      "pos pos\n",
      "pos pos\n",
      "pos pos\n",
      "neg neg\n",
      "pos neg\n",
      "incorrect\n",
      "pos pos\n",
      "neg neg\n",
      "pos pos\n",
      "neg neg\n",
      "pos pos\n",
      "pos pos\n",
      "pos pos\n",
      "pos pos\n",
      "neg neg\n",
      "failed\n",
      "neg neg\n",
      "neg neg\n",
      "neg neg\n",
      "neg neg\n",
      "neg neg\n",
      "neg neg\n",
      "neg neg\n",
      "pos pos\n",
      "neg neg\n",
      "neg neg\n",
      "neg neg\n",
      "failed\n",
      "pos pos\n",
      "neg neg\n",
      "pos pos\n",
      "neg neg\n",
      "pos pos\n",
      "neg neg\n",
      "neg neg\n",
      "neg neg\n",
      "neg neg\n",
      "pos pos\n",
      "failed\n",
      "pos pos\n",
      "pos pos\n",
      "pos pos\n",
      "failed\n",
      "neg neg\n",
      "failed\n",
      "neg neg\n",
      "neg neg\n",
      "neg neg\n",
      "failed\n",
      "neg neg\n",
      "neg neg\n",
      "pos pos\n",
      "neg neg\n",
      "pos pos\n",
      "pos pos\n",
      "pos pos\n",
      "pos pos\n",
      "pos pos\n",
      "pos pos\n",
      "pos pos\n",
      "pos pos\n",
      "neg neg\n",
      "pos pos\n",
      "neg neg\n",
      "pos pos\n",
      "neg neg\n",
      "pos pos\n",
      "neg neg\n",
      "pos pos\n",
      "neg neg\n",
      "neg neg\n",
      "neg neg\n",
      "neg neg\n",
      "neg neg\n",
      "pos pos\n",
      "neg neg\n",
      "pos pos\n",
      "neg neg\n",
      "neg neg\n",
      "neg neg\n",
      "pos pos\n",
      "neg neg\n",
      "pos pos\n",
      "pos pos\n",
      "pos neg\n",
      "incorrect\n",
      "pos pos\n",
      "pos pos\n",
      "pos pos\n",
      "pos pos\n",
      "neg neg\n",
      "pos pos\n",
      "neg neg\n",
      "pos pos\n",
      "neg neg\n",
      "neg neg\n",
      "neg neg\n",
      "neg neg\n",
      "neg neg\n",
      "pos pos\n",
      "neg neg\n",
      "neg neg\n",
      "pos pos\n",
      "neg neg\n",
      "pos pos\n",
      "pos pos\n",
      "pos pos\n",
      "neg neg\n"
     ]
    }
   ],
   "source": [
    "corect_outputs = 0\n",
    "incorrects = []\n",
    "for text, sent in all_text:\n",
    "    prompt = f\"\"\"\n",
    "    You will be provided with a review of a movie.  \n",
    "    If the movie review have a positive sentiment write \"pos\"\n",
    "    If the movie review have a negative sentiment write \"neg\"\n",
    "    \\\"\\\"\\\"{text}\\\"\\\"\\\" \n",
    "    \"\"\"\n",
    "    response = get_response(prompt)\n",
    "    print(sent, response)\n",
    "    if sent == response:\n",
    "        corect_outputs += 1\n",
    "    else:\n",
    "        incorrects.append((text, sent))\n",
    "        print(\"incorrect\")\n",
    "    time.sleep(20) #otherwise openai might not like it"
   ]
  },
  {
   "cell_type": "code",
   "execution_count": 60,
   "id": "72794471",
   "metadata": {},
   "outputs": [
    {
     "data": {
      "text/plain": [
       "0.975"
      ]
     },
     "execution_count": 60,
     "metadata": {},
     "output_type": "execute_result"
    }
   ],
   "source": [
    "# here is the accuracy on 200 reviews\n",
    "1 - 5/len(all_text)"
   ]
  },
  {
   "cell_type": "code",
   "execution_count": 61,
   "id": "01dbfa76",
   "metadata": {},
   "outputs": [
    {
     "data": {
      "text/plain": [
       "[(\"Working with one of the best Shakespeare sources, this film manages to be creditable to it's source, whilst still appealing to a wider audience.<br /><br />Branagh steals the film from under Fishburne's nose, and there's a talented cast on good form.\",\n",
       "  'neg'),\n",
       " ('Sure it was well shot and made, very well shot and made! But the story was just so weak. And the portrayal of Lincoln was even weaker. Not that Henry Fonda wasn\\'t good but the character he played was nothing but a loon. Do you mean to tell me that Lincoln was a wise cracking smart ass with no respect of the law or the court. I mean who the hell was he supposed to be? Cousin Vinnie? I mean come on, \"I\\'ll just call you Jackass then\"???? I understand that Ford was going for great funny hero guy but I didn\\'t really like this guy at all. He cheats in sports, talks like a real sweet simpleton and does not seem to know were to sit in a courtroom. How am I supposed to take this seriously.<br /><br />The twist was even weaker. I mean come on! That was just stupid. The whole story seemed like it was thought up by some 5 year old in his or her dreams. Saying that I liked it enough, it was very entertaining and made me laugh at several occasions so I can\\'t say it\\'s a bad film. In fact I must say that I must say it\\'s good enough, nothing that entertains me and makes me laugh can be bad BUT this vivid and silly story was just so ridiculous that I can\\'t understand how anyone could consider it great.<br /><br />I have no idea how historically accurate this film was but if any of it was true I would really have to shake my head.',\n",
       "  'pos'),\n",
       " (\"I actually saw China O'Brien II before I ever saw the original China O'Brien. And I have to say that the first incarnation is actually worse. But: worse = funnier! And funnier = better. If you're a bad movie fan like I am, this is great material. If, however, you are looking for any sort of meaningful plot, acting ability, or movie-making skill, this is best avoided. The best part is how they filmed all the fighting sequences in stuttering fast-forward. Hilariously bad. See it for a laugh, see it for mindless entertainment, but whatever you do, see it for free on TV.\",\n",
       "  'neg'),\n",
       " ('From the first time I saw the box cover of the movie and the stretched out photography I thought this guy, this friend of the \\'Scwarz\\' must be like 6 foot or 6ft 2in. <br /><br />Not 5 feet tall. Not that, it\\'s his fault. <br /><br />At any rating, I turned on the movie one cool night in Tucson, out on the second story-deck with a good cigar and let it roll. At that time my wife was having an affair and things were going down hill for me, so I needed a good diversion. But, as bad as the movie was...I totally enjoyed it, with a bottle of Merlot too, I might admit. <br /><br />Truly, I have watched this movie many times. It always makes me feel good!! It\\'s not that it \\'tries too hard\\' to be cool or that \\'It\\'s so close\\' to hitting the mark for an action film....It\\'s frantic. And then truly clueless. Then frantic again. It\\'s the best of the best when it comes to a slow speed chase scene. Wow!! I never felt safer in my life. Warm and happy too. I was thankful that they conserved on the gasoline during the chase, due to less production in the summer months...anywho <br /><br />The direction was \\'uninspired\\' the action and fight sequences needed to be choreographed, or re-choreographed and tightened up, the sound was off the delivery didn\\'t hit you, it just kept on going, the other way. The \\'locals\\' of that village that they were in, the town rather, were \\'Off cue\\' they also did not seem to follow what was happening very well, the would look and even \\'stare\\' into the camera lens. Like a deer in the head lights kind of thing only some of them with a smile, a smiling deer. <br /><br />I feel bad because \\'Columbu\\' I just bet has a good heart and a caring spirit for people in America as well as for his own countrymen. <br /><br />However \"Baretta\\'s Island\" is very lethargic and unbelievable. Even still I like it a lot. My now x-wife hates it, but I love it! <br /><br />The funny thing is, I am pretty discriminating when it comes to movies I like or even \\'love\\'. All in all, I like Franco. So there it is. <br /><br />As a movie adding addendum to this if you like killing a few hours with truly fun to watch, straight to video-B movies or \\'bad\\' movies for your little library collection then, if you can find it, check out \\'The Big Sweat\\' (1991) with Robert Z\\' Dar..you know the big guy from \\'TANGO & CASH\\'. \\'The Big Sweat\\', a bomb of a cop story with no real plot discovery and acting that is so lame, it might as well be \\'on crutches\\' and at the end of \\'The Big Sweat\\' I think they ran out of money, because they had a picture of the cast and just set it on fire and let it burn during the credits. -Good fun. <br /><br />But all in all, not as good as Baretta\\'s Island\\', I gave it a \\'1\\' and an overall rating of \\'awful\\' for awful-good B\\' movie. I\\'m waiting for the sequel, maybe like \\'Baretta\\'s revenge on Montazuma\\' (Franco takes a Mexican vacation and gets sick on the water then, declares war on the water co.) or \\'Baretta\\'s powder war\\' where as he would stake out a large drug lord in his country and chemically gene-splice and create a hybrid super bug (insect) that would be bred and dropped into the cocaine fields and eat the coke and upon passing it through the bug, it forms a chemical reaction that turns the coke to pure powdered sugar. Then another sequel he would have to get the young people rescued from excessive sugar addiction and so on. He could get a major tooth paste company to endorse and partially fund the project with careful product placement in the feature. Right?(*)',\n",
       "  'neg'),\n",
       " (\"Mitchell Leisen's fifth feature as director, and he shows his versatility by directing a musical, after his previous movies were heavy dramas. He also plays a cameo as the conductor.<br /><br />You can tell it is a pre code movie, and nothing like it was made in the US for quite a while afterwards (like 30+ years). Leisen shot the musical numbers so they were like what the audience would see - no widescreen shots or from above ala Busby Berkeley. What I do find funny or interesting is that you never actually see the audience.<br /><br />As others have mentioned the leads are fairly characterless, and Jack Oakie and Victor McLaghlan play their normal movie personas. Gertrude Michael however provides a bit of spark.<br /><br />The musical numbers are interesting and some good (the Rape of the Rhapsody in particular is amusing) but the drama unconvincing and faked - three murders is too many and have minimal emotional impact on the characters. This is where this movie could have been a lot better.\",\n",
       "  'pos'),\n",
       " ('Did you ever wonder how far one movie could go? <br /><br />Schizophreniac relentlessly explores the world of the extreme with Harry Russo. <br /><br />Harry is an aggravated writer, killer and drug addict scumbag who will stop at nothing to destroy those who stand between him and insanity. Driven by the demonic voices of his ventriloquist dummy rubberneck, Harry begins his killing spree. <br /><br />From director Ron Atkins comes the 1st installment of the vilest story ever to be filmed<br /><br />The only other movie I have seen similar to this would happen to be the 2nd installment entitled Schizophreniac Necromaniac<br /><br />This is a really low budget film and will not be for everyone, but if you are looking for something disturbing, different and horrific then this would make a fine choice.<br /><br />DO NOT EXPECT ANYTHING LIKE MODERN DAY HORROR (Such as Scream)<br /><br />Viewer discretion is advised',\n",
       "  'pos')]"
      ]
     },
     "execution_count": 61,
     "metadata": {},
     "output_type": "execute_result"
    }
   ],
   "source": [
    "incorrects"
   ]
  },
  {
   "cell_type": "code",
   "execution_count": null,
   "id": "3108a834",
   "metadata": {},
   "outputs": [],
   "source": []
  }
 ],
 "metadata": {
  "kernelspec": {
   "display_name": "Python 3 (ipykernel)",
   "language": "python",
   "name": "python3"
  },
  "language_info": {
   "codemirror_mode": {
    "name": "ipython",
    "version": 3
   },
   "file_extension": ".py",
   "mimetype": "text/x-python",
   "name": "python",
   "nbconvert_exporter": "python",
   "pygments_lexer": "ipython3",
   "version": "3.11.4"
  }
 },
 "nbformat": 4,
 "nbformat_minor": 5
}
