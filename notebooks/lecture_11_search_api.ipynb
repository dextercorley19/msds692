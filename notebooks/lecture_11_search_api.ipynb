{
 "cells": [
  {
   "cell_type": "markdown",
   "id": "7f2f38da-45a9-42a1-b2e2-4e063c6e56fd",
   "metadata": {},
   "source": [
    "## Pulling data from REST APIs requiring keys\n",
    "\n",
    "The availability of websites without any form of application has become increasingly scarce. Companies have adopted the use of access keys as a means to manage usage and mitigate, or at the very least, have a mechanism to counter denial-of-service attacks.\n",
    "\n",
    "After fully open APIs, the next most accessible type of data is from APIs that necessitate registration and the acquisition of an access key, which is the step we'll undertake in this notebook."
   ]
  },
  {
   "cell_type": "code",
   "execution_count": 27,
   "id": "3bc71741-6e92-4c15-92bf-f3e949b77f30",
   "metadata": {
    "tags": []
   },
   "outputs": [],
   "source": [
    "import requests\n",
    "import json"
   ]
  },
  {
   "cell_type": "markdown",
   "id": "785dd89c-4c66-4a90-b55f-ac3a616aff5e",
   "metadata": {},
   "source": [
    "## Pulling movie data from IMDB\n",
    "\n",
    "Let's try to pull down some data using the [OMDb API](http://www.omdbapi.com/):\n",
    "\n",
    "> The OMDb API is a free web service to obtain movie information, all content and images on the site are contributed and maintained by our users.\n",
    "\n",
    "You have to [get an API key](http://www.omdbapi.com/apikey.aspx). They will send you a key by email that you must activate. [Never store your API key in your code](https://www.zdnet.com/article/over-100000-github-repos-have-leaked-api-or-cryptographic-keys/).\n",
    "\n",
    "Let's also learn a more convenient way to specify url parameters (with a dictionary)."
   ]
  },
  {
   "cell_type": "code",
   "execution_count": 76,
   "id": "fe67dd11-3e6a-43b9-acad-e13a1d541788",
   "metadata": {
    "tags": []
   },
   "outputs": [],
   "source": [
    "url = \"https://www.omdbapi.com/\"\n",
    "\n",
    "api_key = ! cat ~/.keys/ombd_key\n",
    "\n",
    "args = {\n",
    "   's' : 'pulp', # search  \n",
    "   'r' : 'json', # output type\n",
    "   'apikey' : api_key  # api key\n",
    "}"
   ]
  },
  {
   "cell_type": "markdown",
   "id": "1ebcfe13-49f3-49c5-904b-75be03a91203",
   "metadata": {},
   "source": [
    "In the Python requests library, the `requests.get()` function is used to send an HTTP GET request to a specified URL. The `params` parameter is optional, and it allows you to include query parameters in the request URL."
   ]
  },
  {
   "cell_type": "code",
   "execution_count": 77,
   "id": "e0877cf2-48dc-4146-a300-ab89fbcea5b6",
   "metadata": {
    "tags": []
   },
   "outputs": [
    {
     "data": {
      "text/plain": [
       "'{\"Search\":[{\"Title\":\"Pulp Fiction\",\"Year\":\"1994\",\"imdbID\":\"tt0110912\",\"Type\":\"movie\",\"Poster\":\"https://m.media-amazon.com/images/M/MV5BNGNhMDIzZTUtNTBlZi00MTRlLWFjM2ItYzViMjE3YzI5MjljXkEyXkFqcGdeQXVyNzkwMjQ5NzM@._V1_SX300.jpg\"},{\"Title\":\"Pulp\",\"Year\":\"1972\",\"imdbID\":\"tt0069134\",\"Type\":\"movie\",\"Poste'"
      ]
     },
     "execution_count": 77,
     "metadata": {},
     "output_type": "execute_result"
    }
   ],
   "source": [
    "r = requests.get(url, params=args)\n",
    "r.text[0:300]"
   ]
  },
  {
   "cell_type": "code",
   "execution_count": 78,
   "id": "d1d0b669-3cce-4904-ab8f-13dc1c58a46e",
   "metadata": {
    "tags": []
   },
   "outputs": [],
   "source": [
    "data = json.loads(r.text)"
   ]
  },
  {
   "cell_type": "code",
   "execution_count": 81,
   "id": "ea899997-04a8-4f7b-9db9-87a312b437c1",
   "metadata": {
    "tags": []
   },
   "outputs": [
    {
     "data": {
      "text/plain": [
       "[{'Title': 'Pulp Fiction',\n",
       "  'Year': '1994',\n",
       "  'imdbID': 'tt0110912',\n",
       "  'Type': 'movie',\n",
       "  'Poster': 'https://m.media-amazon.com/images/M/MV5BNGNhMDIzZTUtNTBlZi00MTRlLWFjM2ItYzViMjE3YzI5MjljXkEyXkFqcGdeQXVyNzkwMjQ5NzM@._V1_SX300.jpg'},\n",
       " {'Title': 'Pulp',\n",
       "  'Year': '1972',\n",
       "  'imdbID': 'tt0069134',\n",
       "  'Type': 'movie',\n",
       "  'Poster': 'https://m.media-amazon.com/images/M/MV5BZTExMDg2YmMtZGIxYi00ODQyLTkxMWUtNjkwNWI1MWVjNDBlXkEyXkFqcGdeQXVyMjUzOTY1NTc@._V1_SX300.jpg'},\n",
       " {'Title': 'Pulp: A Film About Life, Death & Supermarkets',\n",
       "  'Year': '2014',\n",
       "  'imdbID': 'tt3265262',\n",
       "  'Type': 'movie',\n",
       "  'Poster': 'https://m.media-amazon.com/images/M/MV5BMzgzNTQ0NjQyNV5BMl5BanBnXkFtZTgwMzE5NzczMjE@._V1_SX300.jpg'},\n",
       " {'Title': 'Marvel 75 Years: From Pulp to Pop!',\n",
       "  'Year': '2014',\n",
       "  'imdbID': 'tt4128102',\n",
       "  'Type': 'movie',\n",
       "  'Poster': 'https://m.media-amazon.com/images/M/MV5BMTQ4MjE1NTk3NF5BMl5BanBnXkFtZTgwMTk4Mjg2NDE@._V1_SX300.jpg'},\n",
       " {'Title': 'Pulp Fiction: The Facts',\n",
       "  'Year': '2002',\n",
       "  'imdbID': 'tt0332732',\n",
       "  'Type': 'movie',\n",
       "  'Poster': 'https://m.media-amazon.com/images/M/MV5BNWY4MmY1MTQtMWZlZS00YjdjLTk2NGYtM2MxZGIzNjU5MjBhXkEyXkFqcGdeQXVyMjQ0NzE0MQ@@._V1_SX300.jpg'},\n",
       " {'Title': 'Pulp',\n",
       "  'Year': '2013',\n",
       "  'imdbID': 'tt1737680',\n",
       "  'Type': 'movie',\n",
       "  'Poster': 'https://m.media-amazon.com/images/M/MV5BMTUwMTQ3NjIxOV5BMl5BanBnXkFtZTcwODA1NjI4OA@@._V1_SX300.jpg'},\n",
       " {'Title': \"'Pulp Fiction' on a Dime: A 10th Anniversary Retrospect\",\n",
       "  'Year': '2004',\n",
       "  'imdbID': 'tt0478720',\n",
       "  'Type': 'movie',\n",
       "  'Poster': 'https://m.media-amazon.com/images/M/MV5BNTA0NDIzOGYtMWE4OC00YjIwLWI5NGUtMzM4OTQ2M2Y2NDc0XkEyXkFqcGdeQXVyMjQ0NzE0MQ@@._V1_SX300.jpg'},\n",
       " {'Title': 'Pulp Sport',\n",
       "  'Year': '2003–2009',\n",
       "  'imdbID': 'tt1400965',\n",
       "  'Type': 'series',\n",
       "  'Poster': 'https://m.media-amazon.com/images/M/MV5BOWZkNjdkMzEtNjg5NC00OWM5LTk2N2EtNTM4N2RlZDM0YjMyXkEyXkFqcGdeQXVyNDA5ODU0NDg@._V1_SX300.jpg'},\n",
       " {'Title': \"Pulp Comics: Louis C.K.'s Filthy Stupid Talent Show\",\n",
       "  'Year': '1999',\n",
       "  'imdbID': 'tt0887947',\n",
       "  'Type': 'movie',\n",
       "  'Poster': 'https://m.media-amazon.com/images/M/MV5BYjNjZWQ2YmEtMzM4YS00ZDYyLTg5MTEtZTIzOTAwMTBjZDdlXkEyXkFqcGdeQXVyMjQ0NzE0MQ@@._V1_SX300.jpg'},\n",
       " {'Title': 'Pulp: Common People',\n",
       "  'Year': '1995',\n",
       "  'imdbID': 'tt7441752',\n",
       "  'Type': 'movie',\n",
       "  'Poster': 'https://m.media-amazon.com/images/M/MV5BNDMwNzU0NjQtZTc5My00NWJhLTg4OTctYzg1YTdjOGYzMWQyXkEyXkFqcGdeQXVyMjUyNDk2ODc@._V1_SX300.jpg'}]"
      ]
     },
     "execution_count": 81,
     "metadata": {},
     "output_type": "execute_result"
    }
   ],
   "source": [
    "data['Search']"
   ]
  },
  {
   "cell_type": "code",
   "execution_count": 80,
   "id": "79ed7264-4507-438b-8470-77d0b9a43320",
   "metadata": {
    "tags": []
   },
   "outputs": [
    {
     "data": {
      "text/plain": [
       "'82'"
      ]
     },
     "execution_count": 80,
     "metadata": {},
     "output_type": "execute_result"
    }
   ],
   "source": [
    "data['totalResults']"
   ]
  },
  {
   "cell_type": "code",
   "execution_count": 82,
   "id": "64072332-1949-4210-893e-a4445abb1596",
   "metadata": {
    "tags": []
   },
   "outputs": [],
   "source": [
    "url = \"https://www.omdbapi.com/\"\n",
    "\n",
    "api_key = ! cat ~/.keys/ombd_key\n",
    "\n",
    "args = {\n",
    "   'i' : 'tt0110912', # search by id  \n",
    "   'r' : 'json', # output type\n",
    "   'apikey' : api_key  # api key\n",
    "}"
   ]
  },
  {
   "cell_type": "code",
   "execution_count": 83,
   "id": "806fc06f-8133-4f6c-975d-6024a1d43fbb",
   "metadata": {
    "tags": []
   },
   "outputs": [
    {
     "data": {
      "text/plain": [
       "{'Title': 'Pulp Fiction',\n",
       " 'Year': '1994',\n",
       " 'Rated': 'R',\n",
       " 'Released': '14 Oct 1994',\n",
       " 'Runtime': '154 min',\n",
       " 'Genre': 'Crime, Drama',\n",
       " 'Director': 'Quentin Tarantino',\n",
       " 'Writer': 'Quentin Tarantino, Roger Avary',\n",
       " 'Actors': 'John Travolta, Uma Thurman, Samuel L. Jackson',\n",
       " 'Plot': 'The lives of two mob hitmen, a boxer, a gangster and his wife, and a pair of diner bandits intertwine in four tales of violence and redemption.',\n",
       " 'Language': 'English, Spanish, French',\n",
       " 'Country': 'United States',\n",
       " 'Awards': 'Won 1 Oscar. 69 wins & 72 nominations total',\n",
       " 'Poster': 'https://m.media-amazon.com/images/M/MV5BNGNhMDIzZTUtNTBlZi00MTRlLWFjM2ItYzViMjE3YzI5MjljXkEyXkFqcGdeQXVyNzkwMjQ5NzM@._V1_SX300.jpg',\n",
       " 'Ratings': [{'Source': 'Internet Movie Database', 'Value': '8.9/10'},\n",
       "  {'Source': 'Rotten Tomatoes', 'Value': '92%'},\n",
       "  {'Source': 'Metacritic', 'Value': '95/100'}],\n",
       " 'Metascore': '95',\n",
       " 'imdbRating': '8.9',\n",
       " 'imdbVotes': '2,142,709',\n",
       " 'imdbID': 'tt0110912',\n",
       " 'Type': 'movie',\n",
       " 'DVD': '21 Apr 2016',\n",
       " 'BoxOffice': '$107,928,762',\n",
       " 'Production': 'N/A',\n",
       " 'Website': 'N/A',\n",
       " 'Response': 'True'}"
      ]
     },
     "execution_count": 83,
     "metadata": {},
     "output_type": "execute_result"
    }
   ],
   "source": [
    "r = requests.get(url, params=args)\n",
    "data = json.loads(r.text)\n",
    "data"
   ]
  },
  {
   "cell_type": "markdown",
   "id": "5a1cbca2-5d18-4960-a12e-527194825347",
   "metadata": {
    "tags": []
   },
   "source": [
    "**Exercise 1**: Write Python script that, given a keyword (e.g., 'Pulp'), performs a search on IMDb and outputs the movie's title, release year for the 10 most recent movies.\n",
    "\n",
    "Here are the steps:\n",
    "1. Get a api key \n",
    "2. API Request\n",
    "3. Read the json output and print the information."
   ]
  },
  {
   "cell_type": "markdown",
   "id": "8efec96d-2f8e-4cab-9c94-3824ab064877",
   "metadata": {},
   "source": [
    "**Exercise 2**: Extend the previous exercise by adding the director and plot."
   ]
  },
  {
   "cell_type": "markdown",
   "id": "9b74ac16-71f0-4fd7-81ed-83c5f032b407",
   "metadata": {},
   "source": [
    "I call my script using this code:\n",
    "\n",
    "python ombd.py \"pulp\" \\`cat ~/.keys/ombd_key\\`\n"
   ]
  },
  {
   "cell_type": "code",
   "execution_count": null,
   "id": "25e9764b-b2e8-4c33-8042-04320f187793",
   "metadata": {},
   "outputs": [],
   "source": []
  }
 ],
 "metadata": {
  "kernelspec": {
   "display_name": "Python 3 (ipykernel)",
   "language": "python",
   "name": "python3"
  },
  "language_info": {
   "codemirror_mode": {
    "name": "ipython",
    "version": 3
   },
   "file_extension": ".py",
   "mimetype": "text/x-python",
   "name": "python",
   "nbconvert_exporter": "python",
   "pygments_lexer": "ipython3",
   "version": "3.11.4"
  }
 },
 "nbformat": 4,
 "nbformat_minor": 5
}
