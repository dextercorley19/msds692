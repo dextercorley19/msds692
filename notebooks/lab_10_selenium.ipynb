{
 "cells": [
  {
   "cell_type": "markdown",
   "metadata": {},
   "source": [
    "# Intro to Selenium\n",
    "`! pip install selenium` <br>\n",
    "`! pip install webdriver-manager`"
   ]
  },
  {
   "cell_type": "code",
   "execution_count": 1,
   "metadata": {
    "tags": []
   },
   "outputs": [],
   "source": [
    "from selenium import webdriver\n",
    "from selenium.webdriver.chrome.service import Service\n",
    "from webdriver_manager.chrome import ChromeDriverManager\n",
    "from selenium.webdriver.support.ui import Select\n",
    "from selenium.webdriver.common.by import By"
   ]
  },
  {
   "cell_type": "markdown",
   "metadata": {},
   "source": [
    "### 1. Navigating\n",
    "Navigate to the official USF website in Chrome: \"https://www.usfca.edu/\"."
   ]
  },
  {
   "cell_type": "code",
   "execution_count": 4,
   "metadata": {
    "tags": []
   },
   "outputs": [],
   "source": [
    "website = \"https://www.usfca.edu/\"\n",
    "# Create a WebDriver instance for Chrome\n",
    "driver = webdriver.Chrome()\n",
    "driver.maximize_window()\n",
    "# Visit the website\n",
    "driver.get(website)"
   ]
  },
  {
   "cell_type": "code",
   "execution_count": 5,
   "metadata": {
    "tags": []
   },
   "outputs": [],
   "source": [
    "# quits the driver\n",
    "driver.quit()"
   ]
  },
  {
   "cell_type": "markdown",
   "metadata": {},
   "source": [
    "### 2. Getting a list of courses for the MS in Data science"
   ]
  },
  {
   "cell_type": "code",
   "execution_count": 6,
   "metadata": {
    "tags": []
   },
   "outputs": [],
   "source": [
    "website = \"https://www.usfca.edu/arts-sciences/programs/graduate/data-science/program-overview\""
   ]
  },
  {
   "cell_type": "code",
   "execution_count": 11,
   "metadata": {
    "tags": []
   },
   "outputs": [
    {
     "data": {
      "text/plain": [
       "['MSDS 501 - Computation for Analytics',\n",
       " 'MSDS 504 - Review Probability and Stats',\n",
       " 'MSDS 593 - EDA and Visualization',\n",
       " 'MSDS 601 - Linear Regression Analysis',\n",
       " 'MSDS 603 - Data Science Entrepreneurship',\n",
       " 'MSDS 604 - Time Series Analysis',\n",
       " 'MSDS 605 - Data Science Practicum I',\n",
       " 'MSDS 610 - Communications for Analytics',\n",
       " 'MSDS 621 - Intro to Machine Learning',\n",
       " 'MSDS 625 - Data Science Internship II',\n",
       " 'MSDS 627 - Data Science Internship III',\n",
       " 'MSDS 629 - Experiments in Data Science',\n",
       " 'MSDS 630 - Advanced Machine Learning',\n",
       " 'MSDS 631 - Special Topics in Data Science',\n",
       " 'MSDS 632 - Data Science Internship IV',\n",
       " 'MSDS 633 - Ethics in Data Science',\n",
       " 'MSDS 634 - Deep Learning',\n",
       " 'MSDS 689 - Data Structures and Algorithms',\n",
       " 'MSDS 691 - Relational Databases',\n",
       " 'MSDS 692 - Data Acquisition',\n",
       " 'MSDS 694 - Distributed Computing',\n",
       " 'MSDS 697 - Distributed Data Systems',\n",
       " 'MSDS 699 - Machine Learning Laboratory']"
      ]
     },
     "execution_count": 11,
     "metadata": {},
     "output_type": "execute_result"
    }
   ],
   "source": [
    "[el.text for el in els]"
   ]
  },
  {
   "cell_type": "code",
   "execution_count": 12,
   "metadata": {
    "tags": []
   },
   "outputs": [],
   "source": [
    "driver.quit()"
   ]
  },
  {
   "cell_type": "markdown",
   "metadata": {},
   "source": [
    "### 3. Clicking on an button"
   ]
  },
  {
   "cell_type": "code",
   "execution_count": 19,
   "metadata": {
    "tags": []
   },
   "outputs": [],
   "source": [
    "current_window = driver.window_handles[0]\n",
    "new_window = driver.window_handles[1]\n",
    "driver.switch_to.window(new_window)"
   ]
  },
  {
   "cell_type": "code",
   "execution_count": 20,
   "metadata": {
    "tags": []
   },
   "outputs": [],
   "source": [
    "driver.quit()"
   ]
  }
 ],
 "metadata": {
  "kernelspec": {
   "display_name": "Python 3 (ipykernel)",
   "language": "python",
   "name": "python3"
  },
  "language_info": {
   "codemirror_mode": {
    "name": "ipython",
    "version": 3
   },
   "file_extension": ".py",
   "mimetype": "text/x-python",
   "name": "python",
   "nbconvert_exporter": "python",
   "pygments_lexer": "ipython3",
   "version": "3.12.2"
  }
 },
 "nbformat": 4,
 "nbformat_minor": 4
}
