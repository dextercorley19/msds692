{
 "cells": [
  {
   "cell_type": "markdown",
   "metadata": {},
   "source": [
    "## BeautifulSoup Basic examples"
   ]
  },
  {
   "cell_type": "code",
   "execution_count": 1,
   "metadata": {
    "tags": []
   },
   "outputs": [],
   "source": [
    "# install these libraries \n",
    "#! pip install bs4\n",
    "#! pip install requests\n",
    "#! pip install lxml"
   ]
  },
  {
   "cell_type": "code",
   "execution_count": 2,
   "metadata": {
    "tags": []
   },
   "outputs": [],
   "source": [
    "from bs4 import BeautifulSoup\n",
    "import requests"
   ]
  },
  {
   "cell_type": "code",
   "execution_count": 3,
   "metadata": {
    "tags": []
   },
   "outputs": [],
   "source": [
    "text = \"\"\"\n",
    "<!DOCTYPE html>\n",
    "<html>\n",
    "<head>\n",
    "  <title>My First HTML Page</title>\n",
    "</head>\n",
    "<body>\n",
    "  <h1 class=\"title\">Welcome to My Website!</h1>\n",
    "</body>\n",
    "</html>\n",
    "\"\"\""
   ]
  },
  {
   "cell_type": "code",
   "execution_count": 4,
   "metadata": {
    "tags": []
   },
   "outputs": [
    {
     "data": {
      "text/plain": [
       "<h1 class=\"title\">Welcome to My Website!</h1>"
      ]
     },
     "execution_count": 4,
     "metadata": {},
     "output_type": "execute_result"
    }
   ],
   "source": [
    "soup = BeautifulSoup(text, \"lxml\")\n",
    "soup.find('h1', class_=\"title\")"
   ]
  },
  {
   "cell_type": "code",
   "execution_count": 5,
   "metadata": {
    "tags": []
   },
   "outputs": [
    {
     "data": {
      "text/plain": [
       "<h1 class=\"title\">Welcome to My Website!</h1>"
      ]
     },
     "execution_count": 5,
     "metadata": {},
     "output_type": "execute_result"
    }
   ],
   "source": [
    "soup.find('h1')"
   ]
  },
  {
   "cell_type": "code",
   "execution_count": 6,
   "metadata": {
    "tags": []
   },
   "outputs": [
    {
     "data": {
      "text/plain": [
       "[<h1 class=\"title\">Welcome to My Website!</h1>]"
      ]
     },
     "execution_count": 6,
     "metadata": {},
     "output_type": "execute_result"
    }
   ],
   "source": [
    "# note that the results are in a list\n",
    "soup.find_all('h1')"
   ]
  },
  {
   "cell_type": "code",
   "execution_count": 7,
   "metadata": {
    "tags": []
   },
   "outputs": [],
   "source": [
    "text = \"\"\"\n",
    "<!DOCTYPE html>\n",
    "<html>\n",
    "<head>\n",
    "  <title>My Repeated Tags Example</title>\n",
    "</head>\n",
    "<body>\n",
    "  <h2>Repeating Tags Example</h2>\n",
    "  <p>This is a paragraph.</p>\n",
    "  <p>This is another paragraph.</p>\n",
    "  <ul>\n",
    "    <li>List item 1</li>\n",
    "    <li>List item 2</li>\n",
    "    <li>List item 3</li>\n",
    "  </ul>\n",
    "  <li> JAJAJA </li>\n",
    "</body>\n",
    "</html>\n",
    "\"\"\""
   ]
  },
  {
   "cell_type": "code",
   "execution_count": 8,
   "metadata": {
    "tags": []
   },
   "outputs": [
    {
     "data": {
      "text/plain": [
       "[<p>This is a paragraph.</p>, <p>This is another paragraph.</p>]"
      ]
     },
     "execution_count": 8,
     "metadata": {},
     "output_type": "execute_result"
    }
   ],
   "source": [
    "soup = BeautifulSoup(text, \"lxml\")\n",
    "soup.find_all('p')"
   ]
  },
  {
   "cell_type": "code",
   "execution_count": 10,
   "metadata": {
    "tags": []
   },
   "outputs": [
    {
     "data": {
      "text/plain": [
       "[<li>List item 1</li>,\n",
       " <li>List item 2</li>,\n",
       " <li>List item 3</li>,\n",
       " <li> JAJAJA </li>]"
      ]
     },
     "execution_count": 10,
     "metadata": {},
     "output_type": "execute_result"
    }
   ],
   "source": [
    "soup.find_all('li')"
   ]
  },
  {
   "cell_type": "code",
   "execution_count": null,
   "metadata": {},
   "outputs": [],
   "source": []
  },
  {
   "cell_type": "code",
   "execution_count": 11,
   "metadata": {
    "tags": []
   },
   "outputs": [
    {
     "data": {
      "text/plain": [
       "[<li>List item 1</li>, <li>List item 2</li>, <li>List item 3</li>]"
      ]
     },
     "execution_count": 11,
     "metadata": {},
     "output_type": "execute_result"
    }
   ],
   "source": [
    "soup.find_all('ul')[0].find_all('li')"
   ]
  },
  {
   "cell_type": "markdown",
   "metadata": {},
   "source": [
    "Question: How to find the list elements inside the \"ul\" tag and avoid other \"li\" tags?"
   ]
  },
  {
   "cell_type": "markdown",
   "metadata": {},
   "source": [
    "## Getting Covid data with BeautifulSoup\n",
    "\n",
    "Let's figure out how to scrape some [data on the coronavirus from Wikipedia](https://en.wikipedia.org/wiki/COVID-19_pandemic_by_country_and_territory)."
   ]
  },
  {
   "cell_type": "markdown",
   "metadata": {},
   "source": [
    "## Inspect the first table element\n",
    "\n",
    "Using Chrome, go to URL:\n",
    "\n",
    "[https://en.wikipedia.org/wiki/COVID-19_pandemic_by_country_and_territory](https://en.wikipedia.org/wiki/COVID-19_pandemic_by_country_and_territory)\n",
    "\n",
    "and then in Chrome you can go to \"View\" --> \"Developer\" --> \"View Source\"\n",
    "\n",
    "That shows you the raw HTML and what it corresponds to visually.  The next step is to use a program to extract that HTML."
   ]
  },
  {
   "cell_type": "markdown",
   "metadata": {},
   "source": [
    "## Get the raw HTML from the website"
   ]
  },
  {
   "cell_type": "code",
   "execution_count": 13,
   "metadata": {
    "tags": []
   },
   "outputs": [
    {
     "name": "stdout",
     "output_type": "stream",
     "text": [
      "<!DOCTYPE html>\n",
      "<html class=\"client-nojs vector-feature-language-in-header-enabled vector-feature-language-in-main-page-header-disabled vector-feature-sticky-header-disabled vector-feature-page-tools-pinned-disabled vector-feature-toc-pinned-enabled vector-feature-main-menu-pinned-disabled vector-feature-limited-width-clientpref-1 vector-feature-limited-width-content-enabled vector-feature-zebra-design-disabled\" lang=\"en\" dir=\"ltr\">\n",
      "<head>\n",
      "<meta charset=\"UTF-8\">\n",
      "<title>COVID-19 pandemic by country and territory - Wikipedia</title>\n",
      "<script>(function(){var className=\"client-js vector-feature-language-in-header-enabled vector-feature-language-in-main-page-header-disabled vector-feature-sticky-header-disabled vector-feature-page-tools-pinned-disabled vector-feature-toc-pinned-enabled vector-feature-main-menu-pinned-disabled vector-feature-limited-width-clientpref-1 vector-feature-limited-width-content-enabled vector-feature-zebra-design-disabled\";var cookie=document.cookie.match(/(?:^|; )e\n"
     ]
    }
   ],
   "source": [
    "CovidURL = \"https://en.wikipedia.org/wiki/COVID-19_pandemic_by_country_and_territory\"\n",
    "response = requests.get(CovidURL)\n",
    "print(response.text[0:1000])"
   ]
  },
  {
   "cell_type": "markdown",
   "metadata": {},
   "source": [
    "## Get specific tag using BeautifulSoup\n",
    "\n",
    "Now let's treat the text as HTML not just English text.  Then we can ask for a specific tag such as the title:"
   ]
  },
  {
   "cell_type": "code",
   "execution_count": 14,
   "metadata": {
    "tags": []
   },
   "outputs": [
    {
     "name": "stdout",
     "output_type": "stream",
     "text": [
      "TITLE <title>COVID-19 pandemic by country and territory - Wikipedia</title>\n"
     ]
    }
   ],
   "source": [
    "soup = BeautifulSoup(response.text, \"lxml\")\n",
    "title = soup.find('title')\n",
    "print(\"TITLE\", title)"
   ]
  },
  {
   "cell_type": "markdown",
   "metadata": {},
   "source": [
    "##  Get all text elements from all HTML tags\n",
    "\n",
    "We can also ask for all of the text elements not inside HTML tags:"
   ]
  },
  {
   "cell_type": "code",
   "execution_count": 16,
   "metadata": {
    "tags": []
   },
   "outputs": [
    {
     "name": "stdout",
     "output_type": "stream",
     "text": [
      "   COVID-19 pandemic by country and territory - Wikipedia                                     Jump to content        Main menu      Main menu move to sidebar hide    \t\tNavigation \t   Main pageContentsCurrent eventsRandom articleAbout WikipediaContact usDonate      \t\tContribute \t   HelpLearn to editCommunity portalRecent changesUpload file      Languages  Language links are at the top of the page across from the title.                    Search            Search         Create accountLog in      \n"
     ]
    }
   ],
   "source": [
    "print(soup.text[0:500].replace('\\n', ' '))"
   ]
  },
  {
   "cell_type": "markdown",
   "metadata": {},
   "source": [
    "## Find all tables\n",
    "\n",
    "BeautifulSoup has a mechanism to find all of the tables (HTML `table` text) in an HTML document:"
   ]
  },
  {
   "cell_type": "code",
   "execution_count": 17,
   "metadata": {
    "tags": []
   },
   "outputs": [],
   "source": [
    "tables = soup.find_all('table')\n",
    "t = str(tables[0])"
   ]
  },
  {
   "cell_type": "code",
   "execution_count": 18,
   "metadata": {
    "tags": []
   },
   "outputs": [
    {
     "data": {
      "text/plain": [
       "69"
      ]
     },
     "execution_count": 18,
     "metadata": {},
     "output_type": "execute_result"
    }
   ],
   "source": [
    "len(tables)"
   ]
  },
  {
   "cell_type": "markdown",
   "metadata": {},
   "source": [
    "That is raw HTML representing the table, but we can use a Jupyter notebook trick to display that text as HTML:"
   ]
  },
  {
   "cell_type": "code",
   "execution_count": 19,
   "metadata": {
    "tags": []
   },
   "outputs": [
    {
     "data": {
      "text/html": [
       "<table class=\"infobox\"><tbody><tr><th class=\"infobox-above\" colspan=\"2\" style=\"background:#FFCCCB\">COVID-19 pandemic</th></tr><tr><td class=\"infobox-image\" colspan=\"2\" style=\"border-bottom:#aaa 1px solid;\"><span class=\"mw-default-size\" typeof=\"mw:File/Frameless\"><a class=\"mw-file-description\" href=\"/wiki/File:COVID-19_Outbreak_World_Map_Total_Deaths_per_Capita.svg\"><img class=\"mw-file-element\" data-file-height=\"1398\" data-file-width=\"2754\" decoding=\"async\" height=\"168\" src=\"//upload.wikimedia.org/wikipedia/commons/thumb/8/88/COVID-19_Outbreak_World_Map_Total_Deaths_per_Capita.svg/330px-COVID-19_Outbreak_World_Map_Total_Deaths_per_Capita.svg.png\" srcset=\"//upload.wikimedia.org/wikipedia/commons/thumb/8/88/COVID-19_Outbreak_World_Map_Total_Deaths_per_Capita.svg/495px-COVID-19_Outbreak_World_Map_Total_Deaths_per_Capita.svg.png 1.5x, //upload.wikimedia.org/wikipedia/commons/thumb/8/88/COVID-19_Outbreak_World_Map_Total_Deaths_per_Capita.svg/660px-COVID-19_Outbreak_World_Map_Total_Deaths_per_Capita.svg.png 2x\" width=\"330\"/></a></span><div class=\"infobox-caption\" style=\"text-align:left;\"><div class=\"center\" style=\"width:auto; margin-left:auto; margin-right:auto;\">Confirmed deaths per 100,000 population,<sup class=\"reference\" id=\"cite_ref-deaths-per-million-map_1-0\"><a href=\"#cite_note-deaths-per-million-map-1\">[1]</a></sup><sup class=\"reference\" id=\"cite_ref-OWID-JHU_2-0\"><a href=\"#cite_note-OWID-JHU-2\">[note 1]</a></sup><br/> as of 19 May 2023</div>\n",
       "<style data-mw-deduplicate=\"TemplateStyles:r1147244281\">.mw-parser-output .div-col{margin-top:0.3em;column-width:30em}.mw-parser-output .div-col-small{font-size:90%}.mw-parser-output .div-col-rules{column-rule:1px solid #aaa}.mw-parser-output .div-col dl,.mw-parser-output .div-col ol,.mw-parser-output .div-col ul{margin-top:0}.mw-parser-output .div-col li,.mw-parser-output .div-col dd{page-break-inside:avoid;break-inside:avoid-column}.mw-parser-output .plainlist ol,.mw-parser-output .plainlist ul{line-height:inherit;list-style:none;margin:0}.mw-parser-output .plainlist ol li,.mw-parser-output .plainlist ul li{margin-bottom:0}</style><div class=\"div-col\" style=\"column-width: 8em;column-gap: 0;padding-left:3em;padding-bottom:5px;\"><link href=\"mw-data:TemplateStyles:r1126788409\" rel=\"mw-deduplicated-inline-style\"/><div class=\"plainlist\"><ul><li style=\"margin: 0;\"><style data-mw-deduplicate=\"TemplateStyles:r981673959\">.mw-parser-output .legend{page-break-inside:avoid;break-inside:avoid-column}.mw-parser-output .legend-color{display:inline-block;min-width:1.25em;height:1.25em;line-height:1.25;margin:1px 0;text-align:center;border:1px solid black;background-color:transparent;color:black}.mw-parser-output .legend-text{}</style><div class=\"legend\"><span class=\"legend-color mw-no-invert\" style=\"background-color:#080414; color:white;\"> </span> 555+</div></li><li style=\"margin: 0;\"><link href=\"mw-data:TemplateStyles:r981673959\" rel=\"mw-deduplicated-inline-style\"/><div class=\"legend\"><span class=\"legend-color mw-no-invert\" style=\"background-color:#402050; color:white;\"> </span> 100–555</div></li><li style=\"margin: 0;\"><link href=\"mw-data:TemplateStyles:r981673959\" rel=\"mw-deduplicated-inline-style\"/><div class=\"legend\"><span class=\"legend-color mw-no-invert\" style=\"background-color:#253494; color:white;\"> </span> 18–100</div></li><li style=\"margin: 0;\"><link href=\"mw-data:TemplateStyles:r981673959\" rel=\"mw-deduplicated-inline-style\"/><div class=\"legend\"><span class=\"legend-color mw-no-invert\" style=\"background-color:#2c7fb8; color:black;\"> </span> 3.3–18</div></li><li style=\"margin: 0;\"><link href=\"mw-data:TemplateStyles:r981673959\" rel=\"mw-deduplicated-inline-style\"/><div class=\"legend\"><span class=\"legend-color mw-no-invert\" style=\"background-color:#41b6c4; color:black;\"> </span> 0.6–3.3</div></li><li style=\"margin: 0;\"><link href=\"mw-data:TemplateStyles:r981673959\" rel=\"mw-deduplicated-inline-style\"/><div class=\"legend\"><span class=\"legend-color mw-no-invert\" style=\"background-color:#7fcdbb; color:black;\"> </span> 0.1–0.6</div></li><li style=\"margin: 0;\"><link href=\"mw-data:TemplateStyles:r981673959\" rel=\"mw-deduplicated-inline-style\"/><div class=\"legend\"><span class=\"legend-color mw-no-invert\" style=\"background-color:#c7e9b4; color:black;\"> </span> &lt;0.1</div></li><li style=\"margin: 0;\"><link href=\"mw-data:TemplateStyles:r981673959\" rel=\"mw-deduplicated-inline-style\"/><div class=\"legend\"><span class=\"legend-color mw-no-invert\" style=\"background-color:#e0e0e0; color:black;\"> </span> No deaths or no data</div></li></ul></div></div></div></td></tr><tr><th class=\"infobox-label\" scope=\"row\">Disease</th><td class=\"infobox-data\"><a href=\"/wiki/COVID-19\" title=\"COVID-19\">COVID-19</a></td></tr><tr><th class=\"infobox-label\" scope=\"row\">Virus strain</th><td class=\"infobox-data\"><a class=\"mw-redirect\" href=\"/wiki/Severe_acute_respiratory_syndrome_coronavirus_2\" title=\"Severe acute respiratory syndrome coronavirus 2\">SARS-CoV-2</a></td></tr><tr><th class=\"infobox-label\" scope=\"row\">Source</th><td class=\"infobox-data\">Probably <a href=\"/wiki/Bat\" title=\"Bat\">bats</a>, possibly via <a href=\"/wiki/Pangolin\" title=\"Pangolin\">pangolins</a><sup class=\"reference\" id=\"cite_ref-reuters223180_3-0\"><a href=\"#cite_note-reuters223180-3\">[2]</a></sup><sup class=\"reference\" id=\"cite_ref-4\"><a href=\"#cite_note-4\">[3]</a></sup><sup class=\"reference\" id=\"cite_ref-5\"><a href=\"#cite_note-5\">[4]</a></sup></td></tr><tr><th class=\"infobox-label\" scope=\"row\">Location</th><td class=\"infobox-data\"><a href=\"/wiki/World\" title=\"World\">Worldwide</a></td></tr><tr><th class=\"infobox-label\" scope=\"row\">First outbreak</th><td class=\"infobox-data\"><a href=\"/wiki/China\" title=\"China\">China</a><sup class=\"reference\" id=\"cite_ref-auto_6-0\"><a href=\"#cite_note-auto-6\">[5]</a></sup></td></tr><tr><th class=\"infobox-label\" scope=\"row\"><a href=\"/wiki/Index_case\" title=\"Index case\">Index case</a></th><td class=\"infobox-data\"><a href=\"/wiki/Wuhan\" title=\"Wuhan\">Wuhan</a>, <a href=\"/wiki/Hubei\" title=\"Hubei\">Hubei</a>, <a href=\"/wiki/China\" title=\"China\">China</a><br/><span class=\"geo-inline\"><style data-mw-deduplicate=\"TemplateStyles:r1156832818\">.mw-parser-output .geo-default,.mw-parser-output .geo-dms,.mw-parser-output .geo-dec{display:inline}.mw-parser-output .geo-nondefault,.mw-parser-output .geo-multi-punct,.mw-parser-output .geo-inline-hidden{display:none}.mw-parser-output .longitude,.mw-parser-output .latitude{white-space:nowrap}</style><span class=\"plainlinks nourlexpansion\"><a class=\"external text\" href=\"https://geohack.toolforge.org/geohack.php?pagename=COVID-19_pandemic_by_country_and_territory&amp;params=30_37_11_N_114_15_28_E_type:adm2nd_region:CN-42\"><span class=\"geo-default\"><span class=\"geo-dms\" title=\"Maps, aerial photos, and other data for this location\"><span class=\"latitude\">30°37′11″N</span> <span class=\"longitude\">114°15′28″E</span></span></span><span class=\"geo-multi-punct\">﻿ / ﻿</span><span class=\"geo-nondefault\"><span class=\"geo-dec\" title=\"Maps, aerial photos, and other data for this location\">30.61972°N 114.25778°E</span><span style=\"display:none\">﻿ / <span class=\"geo\">30.61972; 114.25778</span></span></span></a></span></span></td></tr><tr><th class=\"infobox-label\" scope=\"row\">Date</th><td class=\"infobox-data\">First case of <a href=\"/wiki/COVID-19\" title=\"COVID-19\">COVID-19</a>: 17 November 2019\n",
       "<hr/>\n",
       "<a href=\"/wiki/Public_health_emergency_of_international_concern\" title=\"Public health emergency of international concern\">Public health emergency of international concern</a>: 30 January 2020 – 5 May 2023 (3 years, 3 months and 5 days)</td></tr><tr><th class=\"infobox-label\" scope=\"row\"><span class=\"nowrap\">Confirmed cases</span></th><td class=\"infobox-data\">769,805,366<sup class=\"reference\" id=\"cite_ref-Template:COVID-19_data_7-0\"><a href=\"#cite_note-Template:COVID-19_data-7\">[6]</a></sup></td></tr><tr><th class=\"infobox-label\" scope=\"row\"><div style=\"display: inline-block; line-height: 1.2em; padding: .1em 0;\">Deaths</div></th><td class=\"infobox-data\">6,955,484<sup class=\"reference\" id=\"cite_ref-Template:COVID-19_data_7-1\"><a href=\"#cite_note-Template:COVID-19_data-7\">[6]</a></sup></td></tr><tr><th class=\"infobox-label\" scope=\"row\">Vaccinations</th><td class=\"infobox-data plainlist\"><link href=\"mw-data:TemplateStyles:r1126788409\" rel=\"mw-deduplicated-inline-style\"/><div class=\"plainlist\"><ul><li>5,621,332,009<sup class=\"reference\" id=\"cite_ref-Template:COVID-19_data_7-2\"><a href=\"#cite_note-Template:COVID-19_data-7\">[6]</a></sup> (total vaccinated)</li><li>5,169,098,781<sup class=\"reference\" id=\"cite_ref-Template:COVID-19_data_7-3\"><a href=\"#cite_note-Template:COVID-19_data-7\">[6]</a></sup> (fully vaccinated)</li><li>13,501,253,518<sup class=\"reference\" id=\"cite_ref-Template:COVID-19_data_7-4\"><a href=\"#cite_note-Template:COVID-19_data-7\">[6]</a></sup> (doses administered)</li></ul></div></td></tr></tbody></table>"
      ],
      "text/plain": [
       "<IPython.core.display.HTML object>"
      ]
     },
     "execution_count": 19,
     "metadata": {},
     "output_type": "execute_result"
    }
   ],
   "source": [
    "from IPython.display import HTML # IPython is the underlying Python interpreter used by this notebook\n",
    "HTML(t)                          # Render the text in t as HTML"
   ]
  },
  {
   "cell_type": "markdown",
   "metadata": {},
   "source": [
    "Let's get table one in a different way."
   ]
  },
  {
   "cell_type": "code",
   "execution_count": 22,
   "metadata": {
    "tags": []
   },
   "outputs": [],
   "source": [
    "tables1 = soup.find_all(\"table\", class_=\"infobox\")"
   ]
  },
  {
   "cell_type": "code",
   "execution_count": 23,
   "metadata": {
    "tags": []
   },
   "outputs": [
    {
     "data": {
      "text/plain": [
       "1"
      ]
     },
     "execution_count": 23,
     "metadata": {},
     "output_type": "execute_result"
    }
   ],
   "source": [
    "len(tables1)"
   ]
  },
  {
   "cell_type": "code",
   "execution_count": 24,
   "metadata": {
    "tags": []
   },
   "outputs": [],
   "source": [
    "# check that you get the same\n",
    "#HTML(str(tables1[0]))"
   ]
  },
  {
   "cell_type": "code",
   "execution_count": 24,
   "metadata": {
    "tags": []
   },
   "outputs": [],
   "source": [
    "#tables1[0]"
   ]
  },
  {
   "cell_type": "code",
   "execution_count": 27,
   "metadata": {
    "tags": []
   },
   "outputs": [
    {
     "data": {
      "text/plain": [
       "['Confirmed cases769,805,366[6]',\n",
       " 'Deaths6,955,484[6]',\n",
       " 'Vaccinations5,621,332,009[6] (total vaccinated)5,169,098,781[6] (fully vaccinated)13,501,253,518[6] (doses administered)']"
      ]
     },
     "execution_count": 27,
     "metadata": {},
     "output_type": "execute_result"
    }
   ],
   "source": [
    "[el.text for el in tables1[0].find_all(\"tr\")[-3:]]"
   ]
  },
  {
   "cell_type": "code",
   "execution_count": 28,
   "metadata": {
    "tags": []
   },
   "outputs": [
    {
     "name": "stdout",
     "output_type": "stream",
     "text": [
      "Confirmed cases 769,805,366[6]\n",
      "Deaths 6,955,484[6]\n",
      "Vaccinations 5,621,332,009[6] (total vaccinated)5,169,098,781[6] (fully vaccinated)13,501,253,518[6] (doses administered)\n"
     ]
    }
   ],
   "source": [
    "for el in tables1[0].find_all(\"tr\")[-3:]:\n",
    "    print(el.find('th').text, el.find('td').text)"
   ]
  },
  {
   "cell_type": "markdown",
   "metadata": {},
   "source": [
    "### Death rate table\n",
    "\n",
    "The death rate per country table is `table[12]` (found by looking at captions) and we get a nice data frame from it too:"
   ]
  },
  {
   "cell_type": "code",
   "execution_count": 42,
   "metadata": {
    "tags": []
   },
   "outputs": [
    {
     "data": {
      "text/plain": [
       "69"
      ]
     },
     "execution_count": 42,
     "metadata": {},
     "output_type": "execute_result"
    }
   ],
   "source": [
    "len(tables)"
   ]
  },
  {
   "cell_type": "code",
   "execution_count": 45,
   "metadata": {
    "tags": []
   },
   "outputs": [
    {
     "name": "stdout",
     "output_type": "stream",
     "text": [
      "0 None\n",
      "1 None\n",
      "2 None\n",
      "3 None\n",
      "4 None\n",
      "5 None\n",
      "6 None\n",
      "7 None\n",
      "8 None\n",
      "9 None\n",
      "10 None\n",
      "11 None\n",
      "12 <caption><a href=\"/wiki/COVID-19\" title=\"COVID-19\">COVID-19</a> cases, deaths, and rates by <a class=\"mw-selflink selflink\">location</a><sup class=\"reference\" id=\"cite_ref-Template:COVID-19_datab_27-0\"><a href=\"#cite_note-Template:COVID-19_datab-27\">[22]</a></sup>\n",
      "</caption>\n",
      "13 <caption>2022 monthly cumulative COVID-19 deaths<sup class=\"reference\" id=\"cite_ref-WHO-csv_32-0\"><a href=\"#cite_note-WHO-csv-32\">[24]</a></sup><sup class=\"reference\" id=\"cite_ref-WHO-dashboard_33-0\"><a href=\"#cite_note-WHO-dashboard-33\">[25]</a></sup><sup class=\"reference\" id=\"cite_ref-WHO-reports_34-0\"><a href=\"#cite_note-WHO-reports-34\">[26]</a></sup>\n",
      "</caption>\n",
      "14 <caption>2021 (second-half) monthly cumulative COVID-19 deaths<sup class=\"reference\" id=\"cite_ref-WHO-csv_32-1\"><a href=\"#cite_note-WHO-csv-32\">[24]</a></sup><sup class=\"reference\" id=\"cite_ref-WHO-dashboard_33-1\"><a href=\"#cite_note-WHO-dashboard-33\">[25]</a></sup><sup class=\"reference\" id=\"cite_ref-WHO-reports_34-1\"><a href=\"#cite_note-WHO-reports-34\">[26]</a></sup>\n",
      "</caption>\n",
      "15 <caption>COVID-19 cases and deaths by region, in absolute figures and rates per million inhabitants as of 25 December 2022<sup class=\"reference\" id=\"cite_ref-37\"><a href=\"#cite_note-37\">[29]</a></sup>\n",
      "</caption>\n",
      "16 None\n",
      "17 None\n",
      "18 <caption><a href=\"/wiki/Deployment_of_COVID-19_vaccines\" title=\"Deployment of COVID-19 vaccines\">COVID-19 vaccine distribution</a> by country<sup class=\"reference\" id=\"cite_ref-Template:COVID-19_datab_27-1\"><a href=\"#cite_note-Template:COVID-19_datab-27\">[22]</a></sup>\n",
      "</caption>\n",
      "19 None\n",
      "20 None\n",
      "21 <caption>First confirmed COVID-19 cases by country or territory\n",
      "</caption>\n",
      "22 None\n",
      "23 None\n",
      "24 None\n",
      "25 None\n",
      "26 None\n",
      "27 None\n",
      "28 None\n",
      "29 None\n",
      "30 None\n",
      "31 None\n",
      "32 None\n",
      "33 None\n",
      "34 None\n",
      "35 None\n",
      "36 None\n",
      "37 None\n",
      "38 None\n",
      "39 None\n",
      "40 None\n",
      "41 None\n",
      "42 None\n",
      "43 None\n",
      "44 None\n",
      "45 None\n",
      "46 None\n",
      "47 None\n",
      "48 None\n",
      "49 None\n",
      "50 None\n",
      "51 None\n",
      "52 None\n",
      "53 None\n",
      "54 None\n",
      "55 None\n",
      "56 None\n",
      "57 None\n",
      "58 None\n",
      "59 None\n",
      "60 None\n",
      "61 None\n",
      "62 None\n",
      "63 None\n",
      "64 None\n",
      "65 None\n",
      "66 None\n",
      "67 None\n",
      "68 None\n"
     ]
    }
   ],
   "source": [
    "for i in range(69):\n",
    "    print(i, tables[i].find(\"caption\"))"
   ]
  },
  {
   "cell_type": "code",
   "execution_count": 48,
   "metadata": {
    "tags": []
   },
   "outputs": [],
   "source": [
    "table = tables[12]"
   ]
  },
  {
   "cell_type": "code",
   "execution_count": 49,
   "metadata": {
    "tags": []
   },
   "outputs": [],
   "source": [
    "#table"
   ]
  },
  {
   "cell_type": "code",
   "execution_count": 50,
   "metadata": {
    "tags": []
   },
   "outputs": [],
   "source": [
    "#Look at table\n",
    "#table\n",
    "tbody = table.find(\"tbody\")"
   ]
  },
  {
   "cell_type": "code",
   "execution_count": 51,
   "metadata": {
    "tags": []
   },
   "outputs": [],
   "source": [
    "#Look at tbody\n",
    "#tbody"
   ]
  },
  {
   "cell_type": "markdown",
   "metadata": {},
   "source": [
    "### Getting column names\n",
    "Note that column names have attribute scope=\"col\""
   ]
  },
  {
   "cell_type": "code",
   "execution_count": 52,
   "metadata": {
    "tags": []
   },
   "outputs": [
    {
     "data": {
      "text/plain": [
       "[<th scope=\"col\" style=\"padding-bottom: 1em;\">Country\n",
       " </th>,\n",
       " <th scope=\"col\" style=\"padding-bottom: 1em;\"><abbr title=\"Deaths per million\">Deaths / million</abbr>\n",
       " </th>,\n",
       " <th scope=\"col\" style=\"padding-bottom: 1em;\">Deaths\n",
       " </th>,\n",
       " <th scope=\"col\" style=\"padding-bottom: 1em;\">Cases\n",
       " </th>]"
      ]
     },
     "execution_count": 52,
     "metadata": {},
     "output_type": "execute_result"
    }
   ],
   "source": [
    "header = tbody.find_all(\"th\", {\"scope\": \"col\"})\n",
    "header"
   ]
  },
  {
   "cell_type": "code",
   "execution_count": 53,
   "metadata": {
    "tags": []
   },
   "outputs": [
    {
     "data": {
      "text/plain": [
       "['Country', 'Deaths/million', 'Deaths', 'Cases']"
      ]
     },
     "execution_count": 53,
     "metadata": {},
     "output_type": "execute_result"
    }
   ],
   "source": [
    "cols_names = [col.text.strip().replace(\" \", \"\")  for col in header]\n",
    "cols_names"
   ]
  },
  {
   "cell_type": "code",
   "execution_count": 54,
   "metadata": {
    "tags": []
   },
   "outputs": [
    {
     "data": {
      "text/plain": [
       "4"
      ]
     },
     "execution_count": 54,
     "metadata": {},
     "output_type": "execute_result"
    }
   ],
   "source": [
    "len(cols_names)"
   ]
  },
  {
   "cell_type": "markdown",
   "metadata": {},
   "source": [
    "### Getting rows\n",
    "Note that rows have attribute scope=\"row\""
   ]
  },
  {
   "cell_type": "code",
   "execution_count": 55,
   "metadata": {
    "tags": []
   },
   "outputs": [],
   "source": [
    "rows = tbody.find_all(\"tr\")"
   ]
  },
  {
   "cell_type": "code",
   "execution_count": 56,
   "metadata": {
    "tags": []
   },
   "outputs": [
    {
     "data": {
      "text/plain": [
       "<tr class=\"sticky-row\">\n",
       "<th class=\"unsortable\" style=\"padding-bottom: 1em;\">\n",
       "</th>\n",
       "<th scope=\"col\" style=\"padding-bottom: 1em;\">Country\n",
       "</th>\n",
       "<th scope=\"col\" style=\"padding-bottom: 1em;\"><abbr title=\"Deaths per million\">Deaths / million</abbr>\n",
       "</th>\n",
       "<th scope=\"col\" style=\"padding-bottom: 1em;\">Deaths\n",
       "</th>\n",
       "<th scope=\"col\" style=\"padding-bottom: 1em;\">Cases\n",
       "</th></tr>"
      ]
     },
     "execution_count": 56,
     "metadata": {},
     "output_type": "execute_result"
    }
   ],
   "source": [
    "rows[0]"
   ]
  },
  {
   "cell_type": "code",
   "execution_count": 57,
   "metadata": {
    "tags": []
   },
   "outputs": [
    {
     "data": {
      "text/plain": [
       "241"
      ]
     },
     "execution_count": 57,
     "metadata": {},
     "output_type": "execute_result"
    }
   ],
   "source": [
    "len(rows)"
   ]
  },
  {
   "cell_type": "code",
   "execution_count": 58,
   "metadata": {
    "tags": []
   },
   "outputs": [
    {
     "data": {
      "text/plain": [
       "<tr class=\"sorttop static-row-header\">\n",
       "<td data-sort-value=\"World\" style=\"text-align: center;\"><span typeof=\"mw:File\"><span><img alt=\"\" class=\"mw-file-element\" data-file-height=\"20\" data-file-width=\"20\" decoding=\"async\" height=\"16\" src=\"//upload.wikimedia.org/wikipedia/commons/thumb/8/83/OOjs_UI_icon_globe.svg/16px-OOjs_UI_icon_globe.svg.png\" srcset=\"//upload.wikimedia.org/wikipedia/commons/thumb/8/83/OOjs_UI_icon_globe.svg/24px-OOjs_UI_icon_globe.svg.png 1.5x, //upload.wikimedia.org/wikipedia/commons/thumb/8/83/OOjs_UI_icon_globe.svg/32px-OOjs_UI_icon_globe.svg.png 2x\" width=\"16\"/></span></span>\n",
       "</td>\n",
       "<th scope=\"row\"><a href=\"/wiki/COVID-19_pandemic\" title=\"COVID-19 pandemic\">World</a><sup class=\"reference\" id=\"cite_ref-28\"><a href=\"#cite_note-28\">[a]</a></sup>\n",
       "</th>\n",
       "<td data-sort-value=\"872.15\">872\n",
       "</td>\n",
       "<td data-sort-value=\"6955484\">6,955,484\n",
       "</td>\n",
       "<td data-sort-value=\"769805366\">769,805,366\n",
       "</td></tr>"
      ]
     },
     "execution_count": 58,
     "metadata": {},
     "output_type": "execute_result"
    }
   ],
   "source": [
    "rows[1]"
   ]
  },
  {
   "cell_type": "code",
   "execution_count": 59,
   "metadata": {
    "tags": []
   },
   "outputs": [
    {
     "data": {
      "text/plain": [
       "[<td data-sort-value=\"World\" style=\"text-align: center;\"><span typeof=\"mw:File\"><span><img alt=\"\" class=\"mw-file-element\" data-file-height=\"20\" data-file-width=\"20\" decoding=\"async\" height=\"16\" src=\"//upload.wikimedia.org/wikipedia/commons/thumb/8/83/OOjs_UI_icon_globe.svg/16px-OOjs_UI_icon_globe.svg.png\" srcset=\"//upload.wikimedia.org/wikipedia/commons/thumb/8/83/OOjs_UI_icon_globe.svg/24px-OOjs_UI_icon_globe.svg.png 1.5x, //upload.wikimedia.org/wikipedia/commons/thumb/8/83/OOjs_UI_icon_globe.svg/32px-OOjs_UI_icon_globe.svg.png 2x\" width=\"16\"/></span></span>\n",
       " </td>,\n",
       " <td data-sort-value=\"872.15\">872\n",
       " </td>,\n",
       " <td data-sort-value=\"6955484\">6,955,484\n",
       " </td>,\n",
       " <td data-sort-value=\"769805366\">769,805,366\n",
       " </td>]"
      ]
     },
     "execution_count": 59,
     "metadata": {},
     "output_type": "execute_result"
    }
   ],
   "source": [
    "rows[1].find_all(\"td\")"
   ]
  },
  {
   "cell_type": "code",
   "execution_count": 60,
   "metadata": {
    "tags": []
   },
   "outputs": [
    {
     "data": {
      "text/plain": [
       "['World', '872.15', '6955484', '769805366']"
      ]
     },
     "execution_count": 60,
     "metadata": {},
     "output_type": "execute_result"
    }
   ],
   "source": [
    "[elm[\"data-sort-value\"] for elm in rows[1].find_all(\"td\")]"
   ]
  },
  {
   "cell_type": "code",
   "execution_count": 61,
   "metadata": {
    "tags": []
   },
   "outputs": [],
   "source": [
    "# We need to skip this row\n",
    "#rows[240]"
   ]
  },
  {
   "cell_type": "code",
   "execution_count": 62,
   "metadata": {
    "tags": []
   },
   "outputs": [],
   "source": [
    "col1 = []; col2 = []; col3 = []; col4 = [] \n",
    "for i in range(1, 240): # for row in rows\n",
    "    row = [elm[\"data-sort-value\"] for elm in rows[i].find_all(\"td\")]\n",
    "    col1.append(row[0])\n",
    "    col2.append(row[1])\n",
    "    col3.append(row[2])\n",
    "    col4.append(row[3])"
   ]
  },
  {
   "cell_type": "markdown",
   "metadata": {},
   "source": [
    "### Put data in a dataframe"
   ]
  },
  {
   "cell_type": "code",
   "execution_count": 63,
   "metadata": {
    "tags": []
   },
   "outputs": [
    {
     "data": {
      "text/plain": [
       "['Country', 'Deaths/million', 'Deaths', 'Cases']"
      ]
     },
     "execution_count": 63,
     "metadata": {},
     "output_type": "execute_result"
    }
   ],
   "source": [
    "import pandas as pd\n",
    "import numpy as np\n",
    "cols_names"
   ]
  },
  {
   "cell_type": "code",
   "execution_count": 64,
   "metadata": {
    "tags": []
   },
   "outputs": [],
   "source": [
    "col2 = np.array(col2, np.float32) \n",
    "col3 = np.array(col3, np.float32) \n",
    "col4 = np.array(col4, np.float32) "
   ]
  },
  {
   "cell_type": "code",
   "execution_count": 65,
   "metadata": {
    "tags": []
   },
   "outputs": [],
   "source": [
    "df = pd.DataFrame({'Country': col1, 'Deaths/million': col2, 'Deaths': col3, 'Cases': col4})"
   ]
  },
  {
   "cell_type": "code",
   "execution_count": 66,
   "metadata": {
    "tags": []
   },
   "outputs": [
    {
     "data": {
      "text/html": [
       "<div>\n",
       "<style scoped>\n",
       "    .dataframe tbody tr th:only-of-type {\n",
       "        vertical-align: middle;\n",
       "    }\n",
       "\n",
       "    .dataframe tbody tr th {\n",
       "        vertical-align: top;\n",
       "    }\n",
       "\n",
       "    .dataframe thead th {\n",
       "        text-align: right;\n",
       "    }\n",
       "</style>\n",
       "<table border=\"1\" class=\"dataframe\">\n",
       "  <thead>\n",
       "    <tr style=\"text-align: right;\">\n",
       "      <th></th>\n",
       "      <th>Country</th>\n",
       "      <th>Deaths/million</th>\n",
       "      <th>Deaths</th>\n",
       "      <th>Cases</th>\n",
       "    </tr>\n",
       "  </thead>\n",
       "  <tbody>\n",
       "    <tr>\n",
       "      <th>0</th>\n",
       "      <td>World</td>\n",
       "      <td>872.150024</td>\n",
       "      <td>6955484.0</td>\n",
       "      <td>769805376.0</td>\n",
       "    </tr>\n",
       "    <tr>\n",
       "      <th>1</th>\n",
       "      <td>Peru</td>\n",
       "      <td>6501.224121</td>\n",
       "      <td>221364.0</td>\n",
       "      <td>4517034.0</td>\n",
       "    </tr>\n",
       "    <tr>\n",
       "      <th>2</th>\n",
       "      <td>Bulgaria</td>\n",
       "      <td>5661.642090</td>\n",
       "      <td>38397.0</td>\n",
       "      <td>1299201.0</td>\n",
       "    </tr>\n",
       "    <tr>\n",
       "      <th>3</th>\n",
       "      <td>Bosnia and Herzegovina</td>\n",
       "      <td>5057.012207</td>\n",
       "      <td>16352.0</td>\n",
       "      <td>403061.0</td>\n",
       "    </tr>\n",
       "    <tr>\n",
       "      <th>4</th>\n",
       "      <td>Hungary</td>\n",
       "      <td>4896.107910</td>\n",
       "      <td>48801.0</td>\n",
       "      <td>2203356.0</td>\n",
       "    </tr>\n",
       "  </tbody>\n",
       "</table>\n",
       "</div>"
      ],
      "text/plain": [
       "                  Country  Deaths/million     Deaths        Cases\n",
       "0                   World      872.150024  6955484.0  769805376.0\n",
       "1                    Peru     6501.224121   221364.0    4517034.0\n",
       "2                Bulgaria     5661.642090    38397.0    1299201.0\n",
       "3  Bosnia and Herzegovina     5057.012207    16352.0     403061.0\n",
       "4                 Hungary     4896.107910    48801.0    2203356.0"
      ]
     },
     "execution_count": 66,
     "metadata": {},
     "output_type": "execute_result"
    }
   ],
   "source": [
    "df.head()"
   ]
  },
  {
   "cell_type": "markdown",
   "metadata": {},
   "source": [
    "As with any data frame, we can sort values and select columns of interest:"
   ]
  },
  {
   "cell_type": "code",
   "execution_count": 67,
   "metadata": {
    "tags": []
   },
   "outputs": [
    {
     "data": {
      "text/html": [
       "<div>\n",
       "<style scoped>\n",
       "    .dataframe tbody tr th:only-of-type {\n",
       "        vertical-align: middle;\n",
       "    }\n",
       "\n",
       "    .dataframe tbody tr th {\n",
       "        vertical-align: top;\n",
       "    }\n",
       "\n",
       "    .dataframe thead th {\n",
       "        text-align: right;\n",
       "    }\n",
       "</style>\n",
       "<table border=\"1\" class=\"dataframe\">\n",
       "  <thead>\n",
       "    <tr style=\"text-align: right;\">\n",
       "      <th></th>\n",
       "      <th>Country</th>\n",
       "      <th>Deaths/million</th>\n",
       "    </tr>\n",
       "  </thead>\n",
       "  <tbody>\n",
       "    <tr>\n",
       "      <th>1</th>\n",
       "      <td>Peru</td>\n",
       "      <td>6501.224121</td>\n",
       "    </tr>\n",
       "    <tr>\n",
       "      <th>2</th>\n",
       "      <td>Bulgaria</td>\n",
       "      <td>5661.642090</td>\n",
       "    </tr>\n",
       "    <tr>\n",
       "      <th>3</th>\n",
       "      <td>Bosnia and Herzegovina</td>\n",
       "      <td>5057.012207</td>\n",
       "    </tr>\n",
       "    <tr>\n",
       "      <th>4</th>\n",
       "      <td>Hungary</td>\n",
       "      <td>4896.107910</td>\n",
       "    </tr>\n",
       "    <tr>\n",
       "      <th>5</th>\n",
       "      <td>North Macedonia</td>\n",
       "      <td>4748.267090</td>\n",
       "    </tr>\n",
       "    <tr>\n",
       "      <th>6</th>\n",
       "      <td>Georgia</td>\n",
       "      <td>4572.713867</td>\n",
       "    </tr>\n",
       "    <tr>\n",
       "      <th>7</th>\n",
       "      <td>Croatia</td>\n",
       "      <td>4538.055176</td>\n",
       "    </tr>\n",
       "    <tr>\n",
       "      <th>8</th>\n",
       "      <td>Slovenia</td>\n",
       "      <td>4448.914062</td>\n",
       "    </tr>\n",
       "    <tr>\n",
       "      <th>9</th>\n",
       "      <td>Montenegro</td>\n",
       "      <td>4232.300781</td>\n",
       "    </tr>\n",
       "    <tr>\n",
       "      <th>10</th>\n",
       "      <td>Czech Republic</td>\n",
       "      <td>4079.954102</td>\n",
       "    </tr>\n",
       "  </tbody>\n",
       "</table>\n",
       "</div>"
      ],
      "text/plain": [
       "                   Country  Deaths/million\n",
       "1                     Peru     6501.224121\n",
       "2                 Bulgaria     5661.642090\n",
       "3   Bosnia and Herzegovina     5057.012207\n",
       "4                  Hungary     4896.107910\n",
       "5          North Macedonia     4748.267090\n",
       "6                  Georgia     4572.713867\n",
       "7                  Croatia     4538.055176\n",
       "8                 Slovenia     4448.914062\n",
       "9               Montenegro     4232.300781\n",
       "10          Czech Republic     4079.954102"
      ]
     },
     "execution_count": 67,
     "metadata": {},
     "output_type": "execute_result"
    }
   ],
   "source": [
    "df_death_rate = df[['Country', 'Deaths/million']].sort_values('Deaths/million', ascending=False)\n",
    "df_death_rate.head(10)"
   ]
  },
  {
   "cell_type": "markdown",
   "metadata": {},
   "source": [
    "Once we have a nice data structure like a data frame, it's very easy to build a plot, which is sometimes more satisfying than what we see in some report where we got the data."
   ]
  },
  {
   "cell_type": "code",
   "execution_count": 68,
   "metadata": {
    "tags": []
   },
   "outputs": [
    {
     "data": {
      "text/html": [
       "<div>\n",
       "<style scoped>\n",
       "    .dataframe tbody tr th:only-of-type {\n",
       "        vertical-align: middle;\n",
       "    }\n",
       "\n",
       "    .dataframe tbody tr th {\n",
       "        vertical-align: top;\n",
       "    }\n",
       "\n",
       "    .dataframe thead th {\n",
       "        text-align: right;\n",
       "    }\n",
       "</style>\n",
       "<table border=\"1\" class=\"dataframe\">\n",
       "  <thead>\n",
       "    <tr style=\"text-align: right;\">\n",
       "      <th></th>\n",
       "      <th>Country</th>\n",
       "      <th>Deaths/million</th>\n",
       "      <th>Deaths</th>\n",
       "      <th>Cases</th>\n",
       "    </tr>\n",
       "  </thead>\n",
       "  <tbody>\n",
       "    <tr>\n",
       "      <th>0</th>\n",
       "      <td>World</td>\n",
       "      <td>872.150024</td>\n",
       "      <td>6955484.0</td>\n",
       "      <td>769805376.0</td>\n",
       "    </tr>\n",
       "    <tr>\n",
       "      <th>1</th>\n",
       "      <td>European Union</td>\n",
       "      <td>2761.393066</td>\n",
       "      <td>1243032.0</td>\n",
       "      <td>183755600.0</td>\n",
       "    </tr>\n",
       "    <tr>\n",
       "      <th>2</th>\n",
       "      <td>United States</td>\n",
       "      <td>3331.912109</td>\n",
       "      <td>1127152.0</td>\n",
       "      <td>103436832.0</td>\n",
       "    </tr>\n",
       "    <tr>\n",
       "      <th>3</th>\n",
       "      <td>Brazil</td>\n",
       "      <td>3272.711914</td>\n",
       "      <td>704659.0</td>\n",
       "      <td>37717064.0</td>\n",
       "    </tr>\n",
       "    <tr>\n",
       "      <th>4</th>\n",
       "      <td>India</td>\n",
       "      <td>375.342010</td>\n",
       "      <td>531925.0</td>\n",
       "      <td>44996600.0</td>\n",
       "    </tr>\n",
       "    <tr>\n",
       "      <th>5</th>\n",
       "      <td>Russia</td>\n",
       "      <td>2763.656982</td>\n",
       "      <td>399938.0</td>\n",
       "      <td>22983150.0</td>\n",
       "    </tr>\n",
       "    <tr>\n",
       "      <th>6</th>\n",
       "      <td>Mexico</td>\n",
       "      <td>2622.157959</td>\n",
       "      <td>334336.0</td>\n",
       "      <td>7633355.0</td>\n",
       "    </tr>\n",
       "    <tr>\n",
       "      <th>7</th>\n",
       "      <td>United Kingdom</td>\n",
       "      <td>3387.802979</td>\n",
       "      <td>228707.0</td>\n",
       "      <td>24671492.0</td>\n",
       "    </tr>\n",
       "    <tr>\n",
       "      <th>8</th>\n",
       "      <td>Peru</td>\n",
       "      <td>6501.224121</td>\n",
       "      <td>221364.0</td>\n",
       "      <td>4517034.0</td>\n",
       "    </tr>\n",
       "    <tr>\n",
       "      <th>9</th>\n",
       "      <td>Italy</td>\n",
       "      <td>3238.062012</td>\n",
       "      <td>191167.0</td>\n",
       "      <td>25929238.0</td>\n",
       "    </tr>\n",
       "    <tr>\n",
       "      <th>10</th>\n",
       "      <td>Germany</td>\n",
       "      <td>2098.829102</td>\n",
       "      <td>174979.0</td>\n",
       "      <td>38437756.0</td>\n",
       "    </tr>\n",
       "    <tr>\n",
       "      <th>11</th>\n",
       "      <td>France</td>\n",
       "      <td>2599.315918</td>\n",
       "      <td>167985.0</td>\n",
       "      <td>38997488.0</td>\n",
       "    </tr>\n",
       "    <tr>\n",
       "      <th>12</th>\n",
       "      <td>Indonesia</td>\n",
       "      <td>587.713989</td>\n",
       "      <td>161916.0</td>\n",
       "      <td>6813095.0</td>\n",
       "    </tr>\n",
       "    <tr>\n",
       "      <th>13</th>\n",
       "      <td>Iran</td>\n",
       "      <td>1652.400024</td>\n",
       "      <td>146321.0</td>\n",
       "      <td>7613468.0</td>\n",
       "    </tr>\n",
       "    <tr>\n",
       "      <th>14</th>\n",
       "      <td>Colombia</td>\n",
       "      <td>2755.926025</td>\n",
       "      <td>142961.0</td>\n",
       "      <td>6378000.0</td>\n",
       "    </tr>\n",
       "    <tr>\n",
       "      <th>15</th>\n",
       "      <td>Argentina</td>\n",
       "      <td>2866.865967</td>\n",
       "      <td>130472.0</td>\n",
       "      <td>10044957.0</td>\n",
       "    </tr>\n",
       "    <tr>\n",
       "      <th>16</th>\n",
       "      <td>Spain</td>\n",
       "      <td>2562.143066</td>\n",
       "      <td>121852.0</td>\n",
       "      <td>13980340.0</td>\n",
       "    </tr>\n",
       "    <tr>\n",
       "      <th>17</th>\n",
       "      <td>China</td>\n",
       "      <td>85.300003</td>\n",
       "      <td>121628.0</td>\n",
       "      <td>99302176.0</td>\n",
       "    </tr>\n",
       "    <tr>\n",
       "      <th>18</th>\n",
       "      <td>Poland</td>\n",
       "      <td>3001.620117</td>\n",
       "      <td>119636.0</td>\n",
       "      <td>6518400.0</td>\n",
       "    </tr>\n",
       "    <tr>\n",
       "      <th>19</th>\n",
       "      <td>Ukraine</td>\n",
       "      <td>2768.240967</td>\n",
       "      <td>109904.0</td>\n",
       "      <td>5518385.0</td>\n",
       "    </tr>\n",
       "    <tr>\n",
       "      <th>20</th>\n",
       "      <td>South Africa</td>\n",
       "      <td>1712.946045</td>\n",
       "      <td>102595.0</td>\n",
       "      <td>4072533.0</td>\n",
       "    </tr>\n",
       "    <tr>\n",
       "      <th>21</th>\n",
       "      <td>Turkey</td>\n",
       "      <td>1188.394043</td>\n",
       "      <td>101419.0</td>\n",
       "      <td>17004676.0</td>\n",
       "    </tr>\n",
       "    <tr>\n",
       "      <th>22</th>\n",
       "      <td>Japan</td>\n",
       "      <td>602.606018</td>\n",
       "      <td>74694.0</td>\n",
       "      <td>33803572.0</td>\n",
       "    </tr>\n",
       "    <tr>\n",
       "      <th>23</th>\n",
       "      <td>Romania</td>\n",
       "      <td>3472.254883</td>\n",
       "      <td>68262.0</td>\n",
       "      <td>3411957.0</td>\n",
       "    </tr>\n",
       "    <tr>\n",
       "      <th>24</th>\n",
       "      <td>Philippines</td>\n",
       "      <td>576.726990</td>\n",
       "      <td>66646.0</td>\n",
       "      <td>4173631.0</td>\n",
       "    </tr>\n",
       "    <tr>\n",
       "      <th>25</th>\n",
       "      <td>Chile</td>\n",
       "      <td>3142.971924</td>\n",
       "      <td>61614.0</td>\n",
       "      <td>5289055.0</td>\n",
       "    </tr>\n",
       "    <tr>\n",
       "      <th>26</th>\n",
       "      <td>Canada</td>\n",
       "      <td>1382.081055</td>\n",
       "      <td>53147.0</td>\n",
       "      <td>4697504.0</td>\n",
       "    </tr>\n",
       "    <tr>\n",
       "      <th>27</th>\n",
       "      <td>Hungary</td>\n",
       "      <td>4896.107910</td>\n",
       "      <td>48801.0</td>\n",
       "      <td>2203356.0</td>\n",
       "    </tr>\n",
       "    <tr>\n",
       "      <th>28</th>\n",
       "      <td>Vietnam</td>\n",
       "      <td>440.039001</td>\n",
       "      <td>43206.0</td>\n",
       "      <td>11622404.0</td>\n",
       "    </tr>\n",
       "    <tr>\n",
       "      <th>29</th>\n",
       "      <td>Czech Republic</td>\n",
       "      <td>4079.954102</td>\n",
       "      <td>42815.0</td>\n",
       "      <td>4643607.0</td>\n",
       "    </tr>\n",
       "  </tbody>\n",
       "</table>\n",
       "</div>"
      ],
      "text/plain": [
       "           Country  Deaths/million     Deaths        Cases\n",
       "0            World      872.150024  6955484.0  769805376.0\n",
       "1   European Union     2761.393066  1243032.0  183755600.0\n",
       "2    United States     3331.912109  1127152.0  103436832.0\n",
       "3           Brazil     3272.711914   704659.0   37717064.0\n",
       "4            India      375.342010   531925.0   44996600.0\n",
       "5           Russia     2763.656982   399938.0   22983150.0\n",
       "6           Mexico     2622.157959   334336.0    7633355.0\n",
       "7   United Kingdom     3387.802979   228707.0   24671492.0\n",
       "8             Peru     6501.224121   221364.0    4517034.0\n",
       "9            Italy     3238.062012   191167.0   25929238.0\n",
       "10         Germany     2098.829102   174979.0   38437756.0\n",
       "11          France     2599.315918   167985.0   38997488.0\n",
       "12       Indonesia      587.713989   161916.0    6813095.0\n",
       "13            Iran     1652.400024   146321.0    7613468.0\n",
       "14        Colombia     2755.926025   142961.0    6378000.0\n",
       "15       Argentina     2866.865967   130472.0   10044957.0\n",
       "16           Spain     2562.143066   121852.0   13980340.0\n",
       "17           China       85.300003   121628.0   99302176.0\n",
       "18          Poland     3001.620117   119636.0    6518400.0\n",
       "19         Ukraine     2768.240967   109904.0    5518385.0\n",
       "20    South Africa     1712.946045   102595.0    4072533.0\n",
       "21          Turkey     1188.394043   101419.0   17004676.0\n",
       "22           Japan      602.606018    74694.0   33803572.0\n",
       "23         Romania     3472.254883    68262.0    3411957.0\n",
       "24     Philippines      576.726990    66646.0    4173631.0\n",
       "25           Chile     3142.971924    61614.0    5289055.0\n",
       "26          Canada     1382.081055    53147.0    4697504.0\n",
       "27         Hungary     4896.107910    48801.0    2203356.0\n",
       "28         Vietnam      440.039001    43206.0   11622404.0\n",
       "29  Czech Republic     4079.954102    42815.0    4643607.0"
      ]
     },
     "execution_count": 68,
     "metadata": {},
     "output_type": "execute_result"
    }
   ],
   "source": [
    "df = df.sort_values('Deaths', ascending=False)\n",
    "df = df.head(30).reset_index(drop=True)\n",
    "df"
   ]
  },
  {
   "cell_type": "code",
   "execution_count": 69,
   "metadata": {
    "tags": []
   },
   "outputs": [],
   "source": [
    "# cut the World and the European union\n",
    "df = df.iloc[2:].copy()\n",
    "countries = df['Country'].values\n",
    "deaths = df['Deaths']"
   ]
  },
  {
   "cell_type": "markdown",
   "metadata": {},
   "source": [
    "### Plotting"
   ]
  },
  {
   "cell_type": "code",
   "execution_count": 70,
   "metadata": {
    "tags": []
   },
   "outputs": [
    {
     "data": {
      "image/png": "[encoded data removed]",
      "text/plain": [
       "<Figure size 500x600 with 1 Axes>"
      ]
     },
     "metadata": {
      "image/png": {
       "height": 546,
       "width": 525
      }
     },
     "output_type": "display_data"
    }
   ],
   "source": [
    "import matplotlib.pyplot as plt\n",
    "%config InlineBackend.figure_format = 'retina'\n",
    "\n",
    "fig, ax = plt.subplots(1, 1, figsize=(5,6))\n",
    "y_pos = np.arange(len(countries))\n",
    "barcontainers = ax.barh(y_pos, deaths, color='#FEE08F')\n",
    "ax.invert_yaxis() \n",
    "ax.set_yticks(y_pos)\n",
    "ax.set_yticklabels(countries, fontsize=8, horizontalalignment=\"right\")\n",
    "\n",
    "for rect in barcontainers.patches:\n",
    "    rect.set_linewidth(.5)\n",
    "    rect.set_edgecolor('grey')\n",
    "\n",
    "ax.spines['top'].set_visible(False)\n",
    "ax.spines['right'].set_visible(False)\n",
    "ax.spines['left'].set_linewidth(.5)\n",
    "ax.spines['bottom'].set_linewidth(.5)\n",
    "\n",
    "ax.set_title(\"Total deaths per country\")\n",
    "ax.set_xlabel(\"Deaths\")\n",
    "ax.set_ylabel(\"Country\")\n",
    "\n",
    "plt.show()"
   ]
  },
  {
   "cell_type": "markdown",
   "metadata": {},
   "source": [
    "### An alternative "
   ]
  },
  {
   "cell_type": "code",
   "execution_count": 71,
   "metadata": {
    "tags": []
   },
   "outputs": [],
   "source": [
    "table_rates = soup.find(id=\"covid-19-cases-deaths-and-rates-by-location\")"
   ]
  },
  {
   "cell_type": "code",
   "execution_count": 72,
   "metadata": {
    "tags": []
   },
   "outputs": [],
   "source": [
    "table_rates2 = table_rates.find(\"table\")"
   ]
  },
  {
   "cell_type": "markdown",
   "metadata": {},
   "source": [
    "## Exercise for you: \n",
    "Make a plot with the total death per region."
   ]
  },
  {
   "cell_type": "code",
   "execution_count": null,
   "metadata": {},
   "outputs": [],
   "source": []
  }
 ],
 "metadata": {
  "kernelspec": {
   "display_name": "Python 3 (ipykernel)",
   "language": "python",
   "name": "python3"
  },
  "language_info": {
   "codemirror_mode": {
    "name": "ipython",
    "version": 3
   },
   "file_extension": ".py",
   "mimetype": "text/x-python",
   "name": "python",
   "nbconvert_exporter": "python",
   "pygments_lexer": "ipython3",
   "version": "3.11.4"
  }
 },
 "nbformat": 4,
 "nbformat_minor": 4
}
