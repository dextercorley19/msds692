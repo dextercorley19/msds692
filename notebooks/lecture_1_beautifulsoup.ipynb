{
 "cells": [
  {
   "cell_type": "markdown",
   "metadata": {},
   "source": [
    "## BeautifulSoup Basic examples"
   ]
  },
  {
   "cell_type": "markdown",
   "metadata": {},
   "source": [
    "Install these libraries:\n",
    "```\n",
    "! pip install bs4\n",
    "! pip install requests\n",
    "! pip install lxml\n",
    "```"
   ]
  },
  {
   "cell_type": "code",
   "execution_count": 1,
   "metadata": {
    "tags": []
   },
   "outputs": [],
   "source": [
    "from bs4 import BeautifulSoup\n",
    "import requests"
   ]
  },
  {
   "cell_type": "markdown",
   "metadata": {},
   "source": [
    "### Find elements using tags\n",
    "`soup.find(tag_name)`: This function finds the first element in the HTML document that matches the given tag name.\n",
    "\n",
    "`soup.find_all(tag_name)`: This function is used to find all occurrences of a specific HTML tag within the document. It returns a list of all the matching elements."
   ]
  },
  {
   "cell_type": "code",
   "execution_count": 44,
   "metadata": {
    "tags": []
   },
   "outputs": [],
   "source": [
    "text = \"\"\"\n",
    "<!DOCTYPE html>\n",
    "<html>\n",
    "<head>\n",
    "  <title>My First HTML Page</title>\n",
    "</head>\n",
    "<body>\n",
    "  <h1 class=\"title\">Welcome to My Website!</h1>\n",
    "</body>\n",
    "</html>\n",
    "\"\"\""
   ]
  },
  {
   "cell_type": "code",
   "execution_count": 45,
   "metadata": {
    "tags": []
   },
   "outputs": [
    {
     "data": {
      "text/plain": [
       "<h1 class=\"title\">Welcome to My Website!</h1>"
      ]
     },
     "execution_count": 45,
     "metadata": {},
     "output_type": "execute_result"
    }
   ],
   "source": [
    "soup = BeautifulSoup(text, \"lxml\")\n",
    "soup.find('h1')"
   ]
  },
  {
   "cell_type": "code",
   "execution_count": 46,
   "metadata": {
    "tags": []
   },
   "outputs": [
    {
     "data": {
      "text/plain": [
       "[<h1 class=\"title\">Welcome to My Website!</h1>]"
      ]
     },
     "execution_count": 46,
     "metadata": {},
     "output_type": "execute_result"
    }
   ],
   "source": [
    "# note that fins_all give you a list\n",
    "soup.find_all('h1')"
   ]
  },
  {
   "cell_type": "code",
   "execution_count": 49,
   "metadata": {
    "tags": []
   },
   "outputs": [],
   "source": [
    "text = \"\"\"\n",
    "<!DOCTYPE html>\n",
    "<html>\n",
    "<head>\n",
    "  <title>My Repeated Tags Example</title>\n",
    "</head>\n",
    "<body>\n",
    "  <h2>Repeating Tags Example</h2>\n",
    "  <p>This is a paragraph.</p>\n",
    "  <p>This is another paragraph.</p>\n",
    "  <ul>\n",
    "    <li>List item 1</li>\n",
    "    <li>List item 2</li>\n",
    "    <li>List item 3</li>\n",
    "  </ul>\n",
    "  <li> JAJAJA </li>\n",
    "</body>\n",
    "</html>\n",
    "\"\"\""
   ]
  },
  {
   "cell_type": "code",
   "execution_count": 50,
   "metadata": {
    "tags": []
   },
   "outputs": [
    {
     "data": {
      "text/plain": [
       "[<p>This is a paragraph.</p>, <p>This is another paragraph.</p>]"
      ]
     },
     "execution_count": 50,
     "metadata": {},
     "output_type": "execute_result"
    }
   ],
   "source": [
    "soup = BeautifulSoup(text, \"lxml\")\n",
    "soup.find_all('p')"
   ]
  },
  {
   "cell_type": "code",
   "execution_count": 51,
   "metadata": {
    "tags": []
   },
   "outputs": [
    {
     "data": {
      "text/plain": [
       "[<li>List item 1</li>,\n",
       " <li>List item 2</li>,\n",
       " <li>List item 3</li>,\n",
       " <li> JAJAJA </li>]"
      ]
     },
     "execution_count": 51,
     "metadata": {},
     "output_type": "execute_result"
    }
   ],
   "source": [
    "soup.find_all('li')"
   ]
  },
  {
   "cell_type": "markdown",
   "metadata": {},
   "source": [
    "**Question**: How to find the list elements inside the \"ul\" tag and avoid other \"li\" tags? </br>\n",
    "Hint: first extract the ul part of the doc."
   ]
  },
  {
   "cell_type": "markdown",
   "metadata": {},
   "source": [
    "### Find elements using attributes"
   ]
  },
  {
   "cell_type": "code",
   "execution_count": 52,
   "metadata": {},
   "outputs": [],
   "source": [
    "html_doc = \"\"\"\n",
    "<html>\n",
    "<head><title>Example Page</title></head>\n",
    "<body>\n",
    "    <div class=\"container\">\n",
    "        <p id=\"first\" class=\"text\">This is the first paragraph.</p>\n",
    "        <p id=\"second\" class=\"text\">This is the second paragraph.</p>\n",
    "        <a href=\"https://www.example.com\" id=\"link1\">Example Link 1</a>\n",
    "        <a href=\"https://www.example.org\" id=\"link2\" class=\"external\">Example Link 2</a>\n",
    "    </div>\n",
    "</body>\n",
    "</html>\n",
    "\"\"\"\n"
   ]
  },
  {
   "cell_type": "code",
   "execution_count": 53,
   "metadata": {},
   "outputs": [
    {
     "data": {
      "text/plain": [
       "<p class=\"text\" id=\"first\">This is the first paragraph.</p>"
      ]
     },
     "execution_count": 53,
     "metadata": {},
     "output_type": "execute_result"
    }
   ],
   "source": [
    "soup = BeautifulSoup(html_doc, 'html.parser')\n",
    "\n",
    "# Find an element by id\n",
    "element_by_id = soup.find('p', {'id': 'first'})\n",
    "element_by_id"
   ]
  },
  {
   "cell_type": "code",
   "execution_count": 54,
   "metadata": {},
   "outputs": [
    {
     "data": {
      "text/plain": [
       "'This is the first paragraph.'"
      ]
     },
     "execution_count": 54,
     "metadata": {},
     "output_type": "execute_result"
    }
   ],
   "source": [
    "# To get the text\n",
    "element_by_id.text"
   ]
  },
  {
   "cell_type": "code",
   "execution_count": 55,
   "metadata": {},
   "outputs": [
    {
     "data": {
      "text/plain": [
       "<a class=\"external\" href=\"https://www.example.org\" id=\"link2\">Example Link 2</a>"
      ]
     },
     "execution_count": 55,
     "metadata": {},
     "output_type": "execute_result"
    }
   ],
   "source": [
    "element_by_class = soup.find('a', {'class': 'external'})\n",
    "element_by_class"
   ]
  },
  {
   "cell_type": "code",
   "execution_count": 59,
   "metadata": {},
   "outputs": [
    {
     "data": {
      "text/plain": [
       "('https://www.example.org', 'link2')"
      ]
     },
     "execution_count": 59,
     "metadata": {},
     "output_type": "execute_result"
    }
   ],
   "source": [
    "# accessing values for specific attributes\n",
    "element_by_class[\"href\"], element_by_class[\"id\"]"
   ]
  },
  {
   "cell_type": "code",
   "execution_count": 62,
   "metadata": {},
   "outputs": [
    {
     "data": {
      "text/plain": [
       "['href', 'id']"
      ]
     },
     "execution_count": 62,
     "metadata": {},
     "output_type": "execute_result"
    }
   ],
   "source": [
    "# looping through all attributes\n",
    "element = soup.find('a')\n",
    "[attr for attr in element.attrs]"
   ]
  },
  {
   "cell_type": "code",
   "execution_count": 60,
   "metadata": {},
   "outputs": [
    {
     "data": {
      "text/plain": [
       "<a class=\"external\" href=\"https://www.example.org\" id=\"link2\">Example Link 2</a>"
      ]
     },
     "execution_count": 60,
     "metadata": {},
     "output_type": "execute_result"
    }
   ],
   "source": [
    "element_by_multiple_attrs = soup.find('a', {'id': 'link2', 'class': 'external'})\n",
    "element_by_multiple_attrs "
   ]
  },
  {
   "cell_type": "markdown",
   "metadata": {},
   "source": [
    "## Getting Covid data with BeautifulSoup\n",
    "\n",
    "Let's figure out how to scrape some [data on the coronavirus from Wikipedia](https://en.wikipedia.org/wiki/COVID-19_pandemic_by_country_and_territory)."
   ]
  },
  {
   "cell_type": "markdown",
   "metadata": {},
   "source": [
    "### Inspect the first table element\n",
    "\n",
    "Using Chrome, go to URL:\n",
    "\n",
    "[https://en.wikipedia.org/wiki/COVID-19_pandemic_by_country_and_territory](https://en.wikipedia.org/wiki/COVID-19_pandemic_by_country_and_territory)\n",
    "\n",
    "And inspect the source code."
   ]
  },
  {
   "cell_type": "markdown",
   "metadata": {},
   "source": [
    "### Get the raw HTML from the website"
   ]
  },
  {
   "cell_type": "code",
   "execution_count": 77,
   "metadata": {
    "tags": []
   },
   "outputs": [
    {
     "name": "stdout",
     "output_type": "stream",
     "text": [
      "<!DOCTYPE html>\n",
      "<html class=\"client-nojs vector-feature-language-in-header-enabled vector-feature-language-in-main-page-header-disabled vector-feature-sticky-header-disabled vector-feature-page-tools-pinned-disabled vector-feature-toc-pinned-clientpref-1 vector-feature-main-menu-pinned-disabled vector-feature-limited-width-clientpref-1 vector-feature-limited-width-content-enabled vector-feature-custom-font-size-clientpref-1 vector-feature-appearance-enabled vector-feature-appearance-pinned-clientpref-1 vector-feature-night-mode-enabled skin-theme-clientpref-day vector-toc-available\" lang=\"en\" dir=\"ltr\">\n",
      "<head>\n",
      "<meta charset=\"UTF-8\">\n",
      "<title>COVID-19 pandemic by country and territory - Wikipedia</title>\n",
      "<script>(function(){var className=\"client-js vector-feature-language-in-header-enabled vector-feature-language-in-main-page-header-disabled vector-feature-sticky-header-disabled vector-feature-page-tools-pinned-disabled vector-feature-toc-pinned-clientpref-1 vector-feature-main-menu-pinne\n"
     ]
    }
   ],
   "source": [
    "CovidURL = \"https://en.wikipedia.org/wiki/COVID-19_pandemic_by_country_and_territory\"\n",
    "response = requests.get(CovidURL)\n",
    "print(response.text[0:1000])"
   ]
  },
  {
   "cell_type": "markdown",
   "metadata": {},
   "source": [
    "### Get specific tag using BeautifulSoup\n",
    "\n",
    "Now let's treat the text as HTML not just English text.  Then we can ask for a specific tag such as the title:"
   ]
  },
  {
   "cell_type": "code",
   "execution_count": 78,
   "metadata": {
    "tags": []
   },
   "outputs": [
    {
     "name": "stdout",
     "output_type": "stream",
     "text": [
      "TITLE <title>COVID-19 pandemic by country and territory - Wikipedia</title>\n"
     ]
    }
   ],
   "source": [
    "soup = BeautifulSoup(response.text, \"lxml\")\n",
    "title = soup.find('title')\n",
    "print(\"TITLE\", title)"
   ]
  },
  {
   "cell_type": "markdown",
   "metadata": {},
   "source": [
    "###  Get all text elements from all HTML tags\n",
    "\n",
    "We can also ask for all of the text elements not inside HTML tags:"
   ]
  },
  {
   "cell_type": "code",
   "execution_count": 26,
   "metadata": {},
   "outputs": [
    {
     "data": {
      "text/plain": [
       "'\\n\\n\\nCOVID-19 pandemic by country and territory - Wikipedia\\n\\n\\n\\n\\n\\n\\n\\n\\n\\n\\n\\n\\n\\n\\n\\n\\n\\n\\n\\n\\n\\n\\n\\n\\n\\n\\n\\n\\n\\n\\n\\n\\n\\n\\n\\nJump to content\\n\\n\\n\\n\\n\\n\\n\\nMain menu\\n\\n\\n\\n\\n\\nMain menu\\nmove to sidebar\\nhide\\n\\n\\n\\n\\t\\tNavigation\\n\\t\\n\\n\\nMain pageContentsCurrent eventsRandom articleAbout WikipediaContact usDonate\\n\\n\\n\\n\\n\\n\\t\\tContribute\\n\\t\\n\\n\\nHelpLearn to editCommunity portalRecent changesUpload file\\n\\n\\n\\n\\n\\n\\n\\n\\n\\n\\n\\n\\n\\n\\n\\n\\n\\n\\n\\nSearch\\n\\n\\n\\n\\n\\n\\n\\n\\n\\n\\n\\nSearch\\n\\n\\n\\n\\n\\n\\n\\n\\n\\n\\n\\n\\n\\n\\n\\n\\n\\n\\n\\n\\n\\n\\nAppearance\\n\\n\\n\\n\\n\\n\\n\\n\\n\\n\\n\\n\\n\\n\\n\\n\\nCreate account\\n\\nLog in\\n\\n\\n\\n\\n\\n\\n\\n\\nPersonal tools\\n\\n\\n\\n\\n\\n Create account Log in\\n\\n\\n\\n\\n\\n\\t\\tPages for logged out editors learn more\\n\\n\\n\\nContributionsTalk\\n\\n\\n\\n\\n\\n\\n\\n\\n\\n\\n\\n\\n\\n\\n\\n\\n\\n\\n\\n\\n\\n\\n\\n\\n\\n\\n\\n\\nContents\\nmove to sidebar\\nhide\\n\\n\\n\\n\\n(Top)\\n\\n\\n\\n\\n\\n1\\nMaps and timelines\\n\\n\\n\\n\\nToggle Maps and timelines subsection\\n\\n\\n\\n\\n\\n1.1\\nTotal cases\\n\\n\\n\\n\\n\\n\\n\\n\\n1.2\\nTotal deaths\\n\\n\\n\\n\\n\\n\\n\\n\\n1.3\\nDaily deaths\\n\\n\\n\\n\\n\\n\\n\\n\\n1.4\\nWeekly deaths\\n\\n\\n\\n\\n\\n\\n\\n\\n1.5\\nTotal vaccinations\\n\\n\\n\\n\\n\\n\\n\\n\\n\\n\\n2\\nStatistics\\n\\n\\n\\n\\nToggle Statistics subsection\\n\\n\\n\\n\\n\\n2.1\\nTotal cases, deaths, and death rates by country\\n\\n\\n\\n\\n\\n\\n\\n\\n2.2\\nLogarithmic plot of confirmed cases from Our World in Data\\n\\n\\n\\n\\n\\n\\n\\n\\n2.3\\nCumulative monthly death totals by country (World Health Organization)\\n\\n\\n\\n\\n\\n\\n2.3.1\\n2022\\n\\n\\n\\n\\n\\n\\n\\n\\n2.3.2\\n2021. 2nd half\\n\\n\\n\\n\\n\\n\\n\\n\\n\\n\\n2.4\\nCases and deaths by region\\n\\n\\n\\n\\n\\n\\n\\n\\n2.5\\nVaccinations\\n\\n\\n\\n\\n\\n\\n\\n\\n\\n\\n3\\nBy continent\\n\\n\\n\\n\\nToggle By continent subsection\\n\\n\\n\\n\\n\\n3.1\\nAfrica\\n\\n\\n\\n\\n\\n\\n\\n\\n3.2\\nAntarctica\\n\\n\\n\\n\\n\\n\\n\\n\\n3.3\\nAsia\\n\\n\\n\\n\\n\\n\\n\\n\\n3.4\\nEurope\\n\\n\\n\\n\\n\\n\\n\\n\\n3.5\\nNorth America\\n\\n\\n\\n\\n\\n\\n\\n\\n3.6\\nOceania\\n\\n\\n\\n\\n\\n\\n\\n\\n3.7\\nSouth America\\n\\n\\n\\n\\n\\n\\n\\n\\n\\n\\n4\\nAt sea\\n\\n\\n\\n\\n\\n\\n\\n\\n5\\nTimeline of first confirmed cases by country or territory\\n\\n\\n\\n\\n\\n\\n\\n\\n6\\nStates with no confirmed cases\\n\\n\\n\\n\\n\\n\\n\\n\\n7\\nSee also\\n\\n\\n\\n\\n\\n\\n\\n\\n8\\nNotes\\n\\n\\n\\n\\n\\n\\n\\n\\n9\\nReferences\\n\\n\\n\\n\\n\\n\\n\\n\\n10\\nFurther reading\\n\\n\\n\\n\\n\\n\\n\\n\\n11\\nExternal links\\n\\n\\n\\n\\n\\n\\n\\n\\n\\n\\n\\n\\n\\n\\n\\n\\n\\n\\nToggle the table of contents\\n\\n\\n\\n\\n\\n\\n\\nCOVID-19 pandemic by country and territory\\n\\n\\n\\n36 languages\\n\\n\\n\\n\\nالعربيةAzərbaycancaবাংলাBanjarČeštinaEestiEspañolفارسیFrançaisGalego한국어हिन्दीBahasa IndonesiaItalianoעבריתქართულიKreyòl ayisyenMagyarമലയാളംBahasa Melayu日本語Oʻzbekcha / ўзбекчаپنجابیPortuguêsShqipසිංහලسنڌيTagalogTaqbaylitไทยTürkçeاردوئۇيغۇرچە / UyghurcheTiếng Việt粵語中文\\n\\nEdit links\\n\\n\\n\\n\\n\\n\\n\\n\\n\\n\\n\\nArticleTalk\\n\\n\\n\\n\\n\\nEnglish\\n\\n\\n\\n\\n\\n\\n\\n\\n\\n\\n\\n\\n\\n\\n\\n\\n\\nReadView sourceView history\\n\\n\\n\\n\\n\\n\\n\\nTools\\n\\n\\n\\n\\n\\nTools\\nmove to sidebar\\nhide\\n\\n\\n\\n\\t\\tActions\\n\\t\\n\\n\\nReadView sourceView history\\n\\n\\n\\n\\n\\n\\t\\tGeneral\\n\\t\\n\\n\\nWhat links hereRelated changesUpload fileSpecial pagesPermanent linkPage informationCite this pageGet shortened URLDownload QR codeWikidata item\\n\\n\\n\\n\\n\\n\\t\\tPrint/export\\n\\t\\n\\n\\nDownload as PDFPrintable version\\n\\n\\n\\n\\n\\n\\t\\tIn other projects\\n\\t\\n\\n\\nWikimedia Commons\\n\\n\\n\\n\\n\\n\\n\\n\\n\\n\\n\\n\\n\\n\\n\\n\\n\\n\\n\\n\\n\\nAppearance\\nmove to sidebar\\nhide\\n\\n\\n\\n\\n\\n\\n\\n\\n\\n\\n\\nFrom Wikipedia, the free encyclopedia\\n\\n\\n\\n\\nCOVID-19 pandemicConfirmed deaths per 100,000 population,[1][note 1] as of 20 December 2023\\n\\xa0\\xa0555+\\xa0\\xa0100–555\\xa0\\xa018–100\\xa0\\xa03.3–18\\xa0\\xa00.6–3.3\\xa0\\xa00.1–0.6\\xa0\\xa0<0.1\\xa0\\xa0No deaths or no dataDiseaseCOVID-19Virus strainSARS-CoV-2SourceProbably bats, possibly via pangolins[2][3][4]LocationWorldwideFirst outbreakChina[5]Index caseWuhan, Hubei, China30°37′11″N 114°15′28″E\\ufeff / \\ufeff30.61972°N 114.25778°E\\ufeff / 30.61972; 114.25778DateFirst case of COVID-19: 17 November 2019\\n\\nPublic health emergency of international concern: 30 January 2020 – 5 May 2023 (3\\xa0years, 3\\xa0months and 5\\xa0days)Confirmed cases775,866,783[6]Deaths7,057,132[6]Vaccinations5,631,263,739[6] (total vaccinated)5,177,942,957[6] (fully vaccinated)13,578,774,356[6] (doses administered)\\nThis is a general overview and status of places affected by severe acute respiratory syndrome coronavirus 2 (SARS-CoV-2), the virus which causes coronavirus disease 2019 (COVID-19) and is responsible for the COVID-19 pandemic. The first human cases of COVID-19 were identified in Wuhan, the capital of the province of Hubei in China in December 2019. It spread to other areas of Asia, and then worldwide in early 2020.\\nThe figures presented are based on reported cases and deaths. While in several high-income countries the ratio of total estimated cases and deaths to reported cases and deaths is low and close to 1, for some countries it may be more than 10[7] or even more than 100.[8] Implementation of COVID-19 surveillance methods varies widely.[9]\\n\\n\\n\\nMaps and timelines\\nTotal cases\\nWorld maps showing total confirmed cases, and total confirmed cases per million, by country. Data is from the COVID-19 Data Repository by the Center for Systems Science and Engineering (CSSE) at Johns Hopkins University.[note 2]\\n\\n\\n\\n\\nMap of total confirmed cases by country[10][note 2][note 3]\\n\\n\\n\\n\\n\\nDate of latest upload at the Commons source\\n\\n\\n\\n\\nMap of confirmed cases per million by country[11][note 2][note 3]\\n\\n\\n\\n\\n\\nDate of latest upload at the Commons source\\n\\nTotal deaths\\nData is from the COVID-19 Data Repository by the Center for Systems Science and Engineering (CSSE) at Johns Hopkins University.[note 2]\\n\\n\\n\\n\\nMap of total confirmed deaths by country[12][note 2][note 3]\\n\\n\\n\\n\\n\\nDate on map.\\n\\n\\n\\n\\nMap of total confirmed deaths per million people by country[13][note 2][note 3]\\n\\n\\n\\n\\n\\nDate on map.\\n\\nDaily deaths\\nData for the map and graphs is from the COVID-19 Data Repository by the Center'"
      ]
     },
     "execution_count": 26,
     "metadata": {},
     "output_type": "execute_result"
    }
   ],
   "source": [
    "soup.text[:5000]"
   ]
  },
  {
   "cell_type": "code",
   "execution_count": 33,
   "metadata": {
    "tags": []
   },
   "outputs": [
    {
     "data": {
      "text/plain": [
       "'COVID-19 pandemic by country and territory - Wikipedia Jump to content Main menu Main menu move to sidebar hide Navigation Main pageContentsCurrent eventsRandom articleAbout WikipediaContact usDonate Contribute HelpLearn to editCommunity portalRecent changesUpload file Search Search Appearance Create account Log in Personal tools Create account Log in Pages for logged out editors learn more ContributionsTalk Contents move to sidebar hide (Top) 1 Maps and timelines Toggle Maps and timelines subse'"
      ]
     },
     "execution_count": 33,
     "metadata": {},
     "output_type": "execute_result"
    }
   ],
   "source": [
    "clean_text = \" \".join(soup.text.split())\n",
    "clean_text[:500]"
   ]
  },
  {
   "cell_type": "markdown",
   "metadata": {},
   "source": [
    "### Find all tables\n",
    "\n",
    "BeautifulSoup has a mechanism to find all of the tables (HTML `table` text) in an HTML document:"
   ]
  },
  {
   "cell_type": "code",
   "execution_count": 36,
   "metadata": {
    "tags": []
   },
   "outputs": [],
   "source": [
    "tables = soup.find_all('table')\n",
    "t = str(tables[0])"
   ]
  },
  {
   "cell_type": "code",
   "execution_count": 37,
   "metadata": {
    "tags": []
   },
   "outputs": [
    {
     "data": {
      "text/plain": [
       "69"
      ]
     },
     "execution_count": 37,
     "metadata": {},
     "output_type": "execute_result"
    }
   ],
   "source": [
    "len(tables)"
   ]
  },
  {
   "cell_type": "markdown",
   "metadata": {},
   "source": [
    "That is raw HTML representing the table, but we can use a Jupyter notebook trick to display that text as HTML:"
   ]
  },
  {
   "cell_type": "code",
   "execution_count": 38,
   "metadata": {
    "tags": []
   },
   "outputs": [
    {
     "data": {
      "text/html": [
       "<table class=\"infobox\"><tbody><tr><th class=\"infobox-above\" colspan=\"2\" style=\"background:#FFCCCB\">COVID-19 pandemic</th></tr><tr><td class=\"infobox-image\" colspan=\"2\" style=\"border-bottom:#aaa 1px solid;\"><span class=\"mw-default-size\" typeof=\"mw:File/Frameless\"><a class=\"mw-file-description\" href=\"/wiki/File:COVID-19_Outbreak_World_Map_Total_Deaths_per_Capita.svg\"><img class=\"mw-file-element\" data-file-height=\"1398\" data-file-width=\"2754\" decoding=\"async\" height=\"168\" src=\"//upload.wikimedia.org/wikipedia/commons/thumb/8/88/COVID-19_Outbreak_World_Map_Total_Deaths_per_Capita.svg/330px-COVID-19_Outbreak_World_Map_Total_Deaths_per_Capita.svg.png\" srcset=\"//upload.wikimedia.org/wikipedia/commons/thumb/8/88/COVID-19_Outbreak_World_Map_Total_Deaths_per_Capita.svg/495px-COVID-19_Outbreak_World_Map_Total_Deaths_per_Capita.svg.png 1.5x, //upload.wikimedia.org/wikipedia/commons/thumb/8/88/COVID-19_Outbreak_World_Map_Total_Deaths_per_Capita.svg/660px-COVID-19_Outbreak_World_Map_Total_Deaths_per_Capita.svg.png 2x\" width=\"330\"/></a></span><div class=\"infobox-caption\" style=\"text-align:left;\"><div class=\"center\" style=\"width:auto; margin-left:auto; margin-right:auto;\">Confirmed deaths per 100,000 population,<sup class=\"reference\" id=\"cite_ref-deaths-per-million-map_1-0\"><a href=\"#cite_note-deaths-per-million-map-1\"><span class=\"cite-bracket\">[</span>1<span class=\"cite-bracket\">]</span></a></sup><sup class=\"reference\" id=\"cite_ref-OWID-JHU_2-0\"><a href=\"#cite_note-OWID-JHU-2\"><span class=\"cite-bracket\">[</span>note 1<span class=\"cite-bracket\">]</span></a></sup><br/> as of 20 December 2023</div>\n",
       "<style data-mw-deduplicate=\"TemplateStyles:r1184024115\">.mw-parser-output .div-col{margin-top:0.3em;column-width:30em}.mw-parser-output .div-col-small{font-size:90%}.mw-parser-output .div-col-rules{column-rule:1px solid #aaa}.mw-parser-output .div-col dl,.mw-parser-output .div-col ol,.mw-parser-output .div-col ul{margin-top:0}.mw-parser-output .div-col li,.mw-parser-output .div-col dd{page-break-inside:avoid;break-inside:avoid-column}</style><div class=\"div-col\" style=\"column-width: 8em;column-gap: 0;padding-left:3em;padding-bottom:5px;\"><link href=\"mw-data:TemplateStyles:r1126788409\" rel=\"mw-deduplicated-inline-style\"/><div class=\"plainlist\"><ul><li style=\"margin: 0;\"><style data-mw-deduplicate=\"TemplateStyles:r981673959\">.mw-parser-output .legend{page-break-inside:avoid;break-inside:avoid-column}.mw-parser-output .legend-color{display:inline-block;min-width:1.25em;height:1.25em;line-height:1.25;margin:1px 0;text-align:center;border:1px solid black;background-color:transparent;color:black}.mw-parser-output .legend-text{}</style><div class=\"legend\"><span class=\"legend-color mw-no-invert\" style=\"background-color:#080414; color:white;\"> </span> 555+</div></li><li style=\"margin: 0;\"><link href=\"mw-data:TemplateStyles:r981673959\" rel=\"mw-deduplicated-inline-style\"/><div class=\"legend\"><span class=\"legend-color mw-no-invert\" style=\"background-color:#402050; color:white;\"> </span> 100–555</div></li><li style=\"margin: 0;\"><link href=\"mw-data:TemplateStyles:r981673959\" rel=\"mw-deduplicated-inline-style\"/><div class=\"legend\"><span class=\"legend-color mw-no-invert\" style=\"background-color:#253494; color:white;\"> </span> 18–100</div></li><li style=\"margin: 0;\"><link href=\"mw-data:TemplateStyles:r981673959\" rel=\"mw-deduplicated-inline-style\"/><div class=\"legend\"><span class=\"legend-color mw-no-invert\" style=\"background-color:#2c7fb8; color:black;\"> </span> 3.3–18</div></li><li style=\"margin: 0;\"><link href=\"mw-data:TemplateStyles:r981673959\" rel=\"mw-deduplicated-inline-style\"/><div class=\"legend\"><span class=\"legend-color mw-no-invert\" style=\"background-color:#41b6c4; color:black;\"> </span> 0.6–3.3</div></li><li style=\"margin: 0;\"><link href=\"mw-data:TemplateStyles:r981673959\" rel=\"mw-deduplicated-inline-style\"/><div class=\"legend\"><span class=\"legend-color mw-no-invert\" style=\"background-color:#7fcdbb; color:black;\"> </span> 0.1–0.6</div></li><li style=\"margin: 0;\"><link href=\"mw-data:TemplateStyles:r981673959\" rel=\"mw-deduplicated-inline-style\"/><div class=\"legend\"><span class=\"legend-color mw-no-invert\" style=\"background-color:#c7e9b4; color:black;\"> </span> &lt;0.1</div></li><li style=\"margin: 0;\"><link href=\"mw-data:TemplateStyles:r981673959\" rel=\"mw-deduplicated-inline-style\"/><div class=\"legend\"><span class=\"legend-color mw-no-invert\" style=\"background-color:#e0e0e0; color:black;\"> </span> No deaths or no data</div></li></ul></div></div></div></td></tr><tr><th class=\"infobox-label\" scope=\"row\">Disease</th><td class=\"infobox-data\"><a href=\"/wiki/COVID-19\" title=\"COVID-19\">COVID-19</a></td></tr><tr><th class=\"infobox-label\" scope=\"row\">Virus strain</th><td class=\"infobox-data\"><a class=\"mw-redirect\" href=\"/wiki/Severe_acute_respiratory_syndrome_coronavirus_2\" title=\"Severe acute respiratory syndrome coronavirus 2\">SARS-CoV-2</a></td></tr><tr><th class=\"infobox-label\" scope=\"row\">Source</th><td class=\"infobox-data\">Probably <a href=\"/wiki/Bat\" title=\"Bat\">bats</a>, possibly via <a href=\"/wiki/Pangolin\" title=\"Pangolin\">pangolins</a><sup class=\"reference\" id=\"cite_ref-reuters223180_3-0\"><a href=\"#cite_note-reuters223180-3\"><span class=\"cite-bracket\">[</span>2<span class=\"cite-bracket\">]</span></a></sup><sup class=\"reference\" id=\"cite_ref-4\"><a href=\"#cite_note-4\"><span class=\"cite-bracket\">[</span>3<span class=\"cite-bracket\">]</span></a></sup><sup class=\"reference\" id=\"cite_ref-5\"><a href=\"#cite_note-5\"><span class=\"cite-bracket\">[</span>4<span class=\"cite-bracket\">]</span></a></sup></td></tr><tr><th class=\"infobox-label\" scope=\"row\">Location</th><td class=\"infobox-data\"><a href=\"/wiki/World\" title=\"World\">Worldwide</a></td></tr><tr><th class=\"infobox-label\" scope=\"row\">First outbreak</th><td class=\"infobox-data\"><a href=\"/wiki/China\" title=\"China\">China</a><sup class=\"reference\" id=\"cite_ref-auto_6-0\"><a href=\"#cite_note-auto-6\"><span class=\"cite-bracket\">[</span>5<span class=\"cite-bracket\">]</span></a></sup></td></tr><tr><th class=\"infobox-label\" scope=\"row\"><a href=\"/wiki/Index_case\" title=\"Index case\">Index case</a></th><td class=\"infobox-data\"><a href=\"/wiki/Wuhan\" title=\"Wuhan\">Wuhan</a>, <a href=\"/wiki/Hubei\" title=\"Hubei\">Hubei</a>, <a href=\"/wiki/China\" title=\"China\">China</a><br/><span class=\"geo-inline\"><style data-mw-deduplicate=\"TemplateStyles:r1156832818\">.mw-parser-output .geo-default,.mw-parser-output .geo-dms,.mw-parser-output .geo-dec{display:inline}.mw-parser-output .geo-nondefault,.mw-parser-output .geo-multi-punct,.mw-parser-output .geo-inline-hidden{display:none}.mw-parser-output .longitude,.mw-parser-output .latitude{white-space:nowrap}</style><span class=\"plainlinks nourlexpansion\"><a class=\"external text\" href=\"https://geohack.toolforge.org/geohack.php?pagename=COVID-19_pandemic_by_country_and_territory&amp;params=30_37_11_N_114_15_28_E_type:adm2nd_region:CN-42\"><span class=\"geo-default\"><span class=\"geo-dms\" title=\"Maps, aerial photos, and other data for this location\"><span class=\"latitude\">30°37′11″N</span> <span class=\"longitude\">114°15′28″E</span></span></span><span class=\"geo-multi-punct\">﻿ / ﻿</span><span class=\"geo-nondefault\"><span class=\"geo-dec\" title=\"Maps, aerial photos, and other data for this location\">30.61972°N 114.25778°E</span><span style=\"display:none\">﻿ / <span class=\"geo\">30.61972; 114.25778</span></span></span></a></span></span></td></tr><tr><th class=\"infobox-label\" scope=\"row\">Date</th><td class=\"infobox-data\">First case of <a href=\"/wiki/COVID-19\" title=\"COVID-19\">COVID-19</a>: 17 November 2019\n",
       "<hr/>\n",
       "<a href=\"/wiki/Public_health_emergency_of_international_concern\" title=\"Public health emergency of international concern\">Public health emergency of international concern</a>: 30 January 2020 – 5 May 2023 (3 years, 3 months and 5 days)</td></tr><tr><th class=\"infobox-label\" scope=\"row\"><span class=\"nowrap\">Confirmed cases</span></th><td class=\"infobox-data\">775,866,783<sup class=\"reference\" id=\"cite_ref-Template:COVID-19_data_7-0\"><a href=\"#cite_note-Template:COVID-19_data-7\"><span class=\"cite-bracket\">[</span>6<span class=\"cite-bracket\">]</span></a></sup></td></tr><tr><th class=\"infobox-label\" scope=\"row\"><div style=\"display: inline-block; line-height: 1.2em; padding: .1em 0;\">Deaths</div></th><td class=\"infobox-data\">7,057,132<sup class=\"reference\" id=\"cite_ref-Template:COVID-19_data_7-1\"><a href=\"#cite_note-Template:COVID-19_data-7\"><span class=\"cite-bracket\">[</span>6<span class=\"cite-bracket\">]</span></a></sup></td></tr><tr><th class=\"infobox-label\" scope=\"row\">Vaccinations</th><td class=\"infobox-data plainlist\"><link href=\"mw-data:TemplateStyles:r1126788409\" rel=\"mw-deduplicated-inline-style\"/><div class=\"plainlist\"><ul><li>5,631,263,739<sup class=\"reference\" id=\"cite_ref-Template:COVID-19_data_7-2\"><a href=\"#cite_note-Template:COVID-19_data-7\"><span class=\"cite-bracket\">[</span>6<span class=\"cite-bracket\">]</span></a></sup> (total vaccinated)</li><li>5,177,942,957<sup class=\"reference\" id=\"cite_ref-Template:COVID-19_data_7-3\"><a href=\"#cite_note-Template:COVID-19_data-7\"><span class=\"cite-bracket\">[</span>6<span class=\"cite-bracket\">]</span></a></sup> (fully vaccinated)</li><li>13,578,774,356<sup class=\"reference\" id=\"cite_ref-Template:COVID-19_data_7-4\"><a href=\"#cite_note-Template:COVID-19_data-7\"><span class=\"cite-bracket\">[</span>6<span class=\"cite-bracket\">]</span></a></sup> (doses administered)</li></ul></div></td></tr></tbody></table>"
      ],
      "text/plain": [
       "<IPython.core.display.HTML object>"
      ]
     },
     "execution_count": 38,
     "metadata": {},
     "output_type": "execute_result"
    }
   ],
   "source": [
    "from IPython.display import HTML # IPython is the underlying Python interpreter used by this notebook\n",
    "HTML(t)                          # Render the text in t as HTML"
   ]
  },
  {
   "cell_type": "markdown",
   "metadata": {},
   "source": [
    "Let's get table one in a different way."
   ]
  },
  {
   "cell_type": "code",
   "execution_count": 39,
   "metadata": {
    "tags": []
   },
   "outputs": [],
   "source": [
    "tables1 = soup.find_all(\"table\", class_=\"infobox\")"
   ]
  },
  {
   "cell_type": "code",
   "execution_count": 40,
   "metadata": {
    "tags": []
   },
   "outputs": [
    {
     "data": {
      "text/plain": [
       "1"
      ]
     },
     "execution_count": 40,
     "metadata": {},
     "output_type": "execute_result"
    }
   ],
   "source": [
    "len(tables1)"
   ]
  },
  {
   "cell_type": "code",
   "execution_count": 41,
   "metadata": {
    "tags": []
   },
   "outputs": [
    {
     "data": {
      "text/html": [
       "<table class=\"infobox\"><tbody><tr><th class=\"infobox-above\" colspan=\"2\" style=\"background:#FFCCCB\">COVID-19 pandemic</th></tr><tr><td class=\"infobox-image\" colspan=\"2\" style=\"border-bottom:#aaa 1px solid;\"><span class=\"mw-default-size\" typeof=\"mw:File/Frameless\"><a class=\"mw-file-description\" href=\"/wiki/File:COVID-19_Outbreak_World_Map_Total_Deaths_per_Capita.svg\"><img class=\"mw-file-element\" data-file-height=\"1398\" data-file-width=\"2754\" decoding=\"async\" height=\"168\" src=\"//upload.wikimedia.org/wikipedia/commons/thumb/8/88/COVID-19_Outbreak_World_Map_Total_Deaths_per_Capita.svg/330px-COVID-19_Outbreak_World_Map_Total_Deaths_per_Capita.svg.png\" srcset=\"//upload.wikimedia.org/wikipedia/commons/thumb/8/88/COVID-19_Outbreak_World_Map_Total_Deaths_per_Capita.svg/495px-COVID-19_Outbreak_World_Map_Total_Deaths_per_Capita.svg.png 1.5x, //upload.wikimedia.org/wikipedia/commons/thumb/8/88/COVID-19_Outbreak_World_Map_Total_Deaths_per_Capita.svg/660px-COVID-19_Outbreak_World_Map_Total_Deaths_per_Capita.svg.png 2x\" width=\"330\"/></a></span><div class=\"infobox-caption\" style=\"text-align:left;\"><div class=\"center\" style=\"width:auto; margin-left:auto; margin-right:auto;\">Confirmed deaths per 100,000 population,<sup class=\"reference\" id=\"cite_ref-deaths-per-million-map_1-0\"><a href=\"#cite_note-deaths-per-million-map-1\"><span class=\"cite-bracket\">[</span>1<span class=\"cite-bracket\">]</span></a></sup><sup class=\"reference\" id=\"cite_ref-OWID-JHU_2-0\"><a href=\"#cite_note-OWID-JHU-2\"><span class=\"cite-bracket\">[</span>note 1<span class=\"cite-bracket\">]</span></a></sup><br/> as of 20 December 2023</div>\n",
       "<style data-mw-deduplicate=\"TemplateStyles:r1184024115\">.mw-parser-output .div-col{margin-top:0.3em;column-width:30em}.mw-parser-output .div-col-small{font-size:90%}.mw-parser-output .div-col-rules{column-rule:1px solid #aaa}.mw-parser-output .div-col dl,.mw-parser-output .div-col ol,.mw-parser-output .div-col ul{margin-top:0}.mw-parser-output .div-col li,.mw-parser-output .div-col dd{page-break-inside:avoid;break-inside:avoid-column}</style><div class=\"div-col\" style=\"column-width: 8em;column-gap: 0;padding-left:3em;padding-bottom:5px;\"><link href=\"mw-data:TemplateStyles:r1126788409\" rel=\"mw-deduplicated-inline-style\"/><div class=\"plainlist\"><ul><li style=\"margin: 0;\"><style data-mw-deduplicate=\"TemplateStyles:r981673959\">.mw-parser-output .legend{page-break-inside:avoid;break-inside:avoid-column}.mw-parser-output .legend-color{display:inline-block;min-width:1.25em;height:1.25em;line-height:1.25;margin:1px 0;text-align:center;border:1px solid black;background-color:transparent;color:black}.mw-parser-output .legend-text{}</style><div class=\"legend\"><span class=\"legend-color mw-no-invert\" style=\"background-color:#080414; color:white;\"> </span> 555+</div></li><li style=\"margin: 0;\"><link href=\"mw-data:TemplateStyles:r981673959\" rel=\"mw-deduplicated-inline-style\"/><div class=\"legend\"><span class=\"legend-color mw-no-invert\" style=\"background-color:#402050; color:white;\"> </span> 100–555</div></li><li style=\"margin: 0;\"><link href=\"mw-data:TemplateStyles:r981673959\" rel=\"mw-deduplicated-inline-style\"/><div class=\"legend\"><span class=\"legend-color mw-no-invert\" style=\"background-color:#253494; color:white;\"> </span> 18–100</div></li><li style=\"margin: 0;\"><link href=\"mw-data:TemplateStyles:r981673959\" rel=\"mw-deduplicated-inline-style\"/><div class=\"legend\"><span class=\"legend-color mw-no-invert\" style=\"background-color:#2c7fb8; color:black;\"> </span> 3.3–18</div></li><li style=\"margin: 0;\"><link href=\"mw-data:TemplateStyles:r981673959\" rel=\"mw-deduplicated-inline-style\"/><div class=\"legend\"><span class=\"legend-color mw-no-invert\" style=\"background-color:#41b6c4; color:black;\"> </span> 0.6–3.3</div></li><li style=\"margin: 0;\"><link href=\"mw-data:TemplateStyles:r981673959\" rel=\"mw-deduplicated-inline-style\"/><div class=\"legend\"><span class=\"legend-color mw-no-invert\" style=\"background-color:#7fcdbb; color:black;\"> </span> 0.1–0.6</div></li><li style=\"margin: 0;\"><link href=\"mw-data:TemplateStyles:r981673959\" rel=\"mw-deduplicated-inline-style\"/><div class=\"legend\"><span class=\"legend-color mw-no-invert\" style=\"background-color:#c7e9b4; color:black;\"> </span> &lt;0.1</div></li><li style=\"margin: 0;\"><link href=\"mw-data:TemplateStyles:r981673959\" rel=\"mw-deduplicated-inline-style\"/><div class=\"legend\"><span class=\"legend-color mw-no-invert\" style=\"background-color:#e0e0e0; color:black;\"> </span> No deaths or no data</div></li></ul></div></div></div></td></tr><tr><th class=\"infobox-label\" scope=\"row\">Disease</th><td class=\"infobox-data\"><a href=\"/wiki/COVID-19\" title=\"COVID-19\">COVID-19</a></td></tr><tr><th class=\"infobox-label\" scope=\"row\">Virus strain</th><td class=\"infobox-data\"><a class=\"mw-redirect\" href=\"/wiki/Severe_acute_respiratory_syndrome_coronavirus_2\" title=\"Severe acute respiratory syndrome coronavirus 2\">SARS-CoV-2</a></td></tr><tr><th class=\"infobox-label\" scope=\"row\">Source</th><td class=\"infobox-data\">Probably <a href=\"/wiki/Bat\" title=\"Bat\">bats</a>, possibly via <a href=\"/wiki/Pangolin\" title=\"Pangolin\">pangolins</a><sup class=\"reference\" id=\"cite_ref-reuters223180_3-0\"><a href=\"#cite_note-reuters223180-3\"><span class=\"cite-bracket\">[</span>2<span class=\"cite-bracket\">]</span></a></sup><sup class=\"reference\" id=\"cite_ref-4\"><a href=\"#cite_note-4\"><span class=\"cite-bracket\">[</span>3<span class=\"cite-bracket\">]</span></a></sup><sup class=\"reference\" id=\"cite_ref-5\"><a href=\"#cite_note-5\"><span class=\"cite-bracket\">[</span>4<span class=\"cite-bracket\">]</span></a></sup></td></tr><tr><th class=\"infobox-label\" scope=\"row\">Location</th><td class=\"infobox-data\"><a href=\"/wiki/World\" title=\"World\">Worldwide</a></td></tr><tr><th class=\"infobox-label\" scope=\"row\">First outbreak</th><td class=\"infobox-data\"><a href=\"/wiki/China\" title=\"China\">China</a><sup class=\"reference\" id=\"cite_ref-auto_6-0\"><a href=\"#cite_note-auto-6\"><span class=\"cite-bracket\">[</span>5<span class=\"cite-bracket\">]</span></a></sup></td></tr><tr><th class=\"infobox-label\" scope=\"row\"><a href=\"/wiki/Index_case\" title=\"Index case\">Index case</a></th><td class=\"infobox-data\"><a href=\"/wiki/Wuhan\" title=\"Wuhan\">Wuhan</a>, <a href=\"/wiki/Hubei\" title=\"Hubei\">Hubei</a>, <a href=\"/wiki/China\" title=\"China\">China</a><br/><span class=\"geo-inline\"><style data-mw-deduplicate=\"TemplateStyles:r1156832818\">.mw-parser-output .geo-default,.mw-parser-output .geo-dms,.mw-parser-output .geo-dec{display:inline}.mw-parser-output .geo-nondefault,.mw-parser-output .geo-multi-punct,.mw-parser-output .geo-inline-hidden{display:none}.mw-parser-output .longitude,.mw-parser-output .latitude{white-space:nowrap}</style><span class=\"plainlinks nourlexpansion\"><a class=\"external text\" href=\"https://geohack.toolforge.org/geohack.php?pagename=COVID-19_pandemic_by_country_and_territory&amp;params=30_37_11_N_114_15_28_E_type:adm2nd_region:CN-42\"><span class=\"geo-default\"><span class=\"geo-dms\" title=\"Maps, aerial photos, and other data for this location\"><span class=\"latitude\">30°37′11″N</span> <span class=\"longitude\">114°15′28″E</span></span></span><span class=\"geo-multi-punct\">﻿ / ﻿</span><span class=\"geo-nondefault\"><span class=\"geo-dec\" title=\"Maps, aerial photos, and other data for this location\">30.61972°N 114.25778°E</span><span style=\"display:none\">﻿ / <span class=\"geo\">30.61972; 114.25778</span></span></span></a></span></span></td></tr><tr><th class=\"infobox-label\" scope=\"row\">Date</th><td class=\"infobox-data\">First case of <a href=\"/wiki/COVID-19\" title=\"COVID-19\">COVID-19</a>: 17 November 2019\n",
       "<hr/>\n",
       "<a href=\"/wiki/Public_health_emergency_of_international_concern\" title=\"Public health emergency of international concern\">Public health emergency of international concern</a>: 30 January 2020 – 5 May 2023 (3 years, 3 months and 5 days)</td></tr><tr><th class=\"infobox-label\" scope=\"row\"><span class=\"nowrap\">Confirmed cases</span></th><td class=\"infobox-data\">775,866,783<sup class=\"reference\" id=\"cite_ref-Template:COVID-19_data_7-0\"><a href=\"#cite_note-Template:COVID-19_data-7\"><span class=\"cite-bracket\">[</span>6<span class=\"cite-bracket\">]</span></a></sup></td></tr><tr><th class=\"infobox-label\" scope=\"row\"><div style=\"display: inline-block; line-height: 1.2em; padding: .1em 0;\">Deaths</div></th><td class=\"infobox-data\">7,057,132<sup class=\"reference\" id=\"cite_ref-Template:COVID-19_data_7-1\"><a href=\"#cite_note-Template:COVID-19_data-7\"><span class=\"cite-bracket\">[</span>6<span class=\"cite-bracket\">]</span></a></sup></td></tr><tr><th class=\"infobox-label\" scope=\"row\">Vaccinations</th><td class=\"infobox-data plainlist\"><link href=\"mw-data:TemplateStyles:r1126788409\" rel=\"mw-deduplicated-inline-style\"/><div class=\"plainlist\"><ul><li>5,631,263,739<sup class=\"reference\" id=\"cite_ref-Template:COVID-19_data_7-2\"><a href=\"#cite_note-Template:COVID-19_data-7\"><span class=\"cite-bracket\">[</span>6<span class=\"cite-bracket\">]</span></a></sup> (total vaccinated)</li><li>5,177,942,957<sup class=\"reference\" id=\"cite_ref-Template:COVID-19_data_7-3\"><a href=\"#cite_note-Template:COVID-19_data-7\"><span class=\"cite-bracket\">[</span>6<span class=\"cite-bracket\">]</span></a></sup> (fully vaccinated)</li><li>13,578,774,356<sup class=\"reference\" id=\"cite_ref-Template:COVID-19_data_7-4\"><a href=\"#cite_note-Template:COVID-19_data-7\"><span class=\"cite-bracket\">[</span>6<span class=\"cite-bracket\">]</span></a></sup> (doses administered)</li></ul></div></td></tr></tbody></table>"
      ],
      "text/plain": [
       "<IPython.core.display.HTML object>"
      ]
     },
     "execution_count": 41,
     "metadata": {},
     "output_type": "execute_result"
    }
   ],
   "source": [
    "# check that you get the same\n",
    "HTML(str(tables1[0]))"
   ]
  },
  {
   "cell_type": "code",
   "execution_count": 24,
   "metadata": {
    "tags": []
   },
   "outputs": [],
   "source": [
    "#tables1[0]"
   ]
  },
  {
   "cell_type": "code",
   "execution_count": 27,
   "metadata": {
    "tags": []
   },
   "outputs": [
    {
     "data": {
      "text/plain": [
       "['Confirmed cases769,805,366[6]',\n",
       " 'Deaths6,955,484[6]',\n",
       " 'Vaccinations5,621,332,009[6] (total vaccinated)5,169,098,781[6] (fully vaccinated)13,501,253,518[6] (doses administered)']"
      ]
     },
     "execution_count": 27,
     "metadata": {},
     "output_type": "execute_result"
    }
   ],
   "source": [
    "[el.text for el in tables1[0].find_all(\"tr\")[-3:]]"
   ]
  },
  {
   "cell_type": "code",
   "execution_count": 28,
   "metadata": {
    "tags": []
   },
   "outputs": [
    {
     "name": "stdout",
     "output_type": "stream",
     "text": [
      "Confirmed cases 769,805,366[6]\n",
      "Deaths 6,955,484[6]\n",
      "Vaccinations 5,621,332,009[6] (total vaccinated)5,169,098,781[6] (fully vaccinated)13,501,253,518[6] (doses administered)\n"
     ]
    }
   ],
   "source": [
    "for el in tables1[0].find_all(\"tr\")[-3:]:\n",
    "    print(el.find('th').text, el.find('td').text)"
   ]
  },
  {
   "cell_type": "markdown",
   "metadata": {},
   "source": [
    "### Death rate table\n",
    "\n",
    "The death rate per country table is `table[12]` (found by looking at captions) and we get a nice data frame from it too:"
   ]
  },
  {
   "cell_type": "code",
   "execution_count": 42,
   "metadata": {
    "tags": []
   },
   "outputs": [
    {
     "data": {
      "text/plain": [
       "69"
      ]
     },
     "execution_count": 42,
     "metadata": {},
     "output_type": "execute_result"
    }
   ],
   "source": [
    "len(tables)"
   ]
  },
  {
   "cell_type": "code",
   "execution_count": 68,
   "metadata": {
    "tags": []
   },
   "outputs": [
    {
     "name": "stdout",
     "output_type": "stream",
     "text": [
      "0 None ['infobox']\n",
      "1 None ['wikitable']\n",
      "2 None ['wikitable']\n",
      "3 None ['wikitable']\n",
      "4 None ['wikitable']\n",
      "5 None ['wikitable']\n",
      "6 None ['wikitable']\n",
      "7 None ['wikitable']\n",
      "8 None ['wikitable']\n",
      "9 None ['wikitable']\n",
      "10 None ['wikitable']\n",
      "11 None ['wikitable']\n",
      "12 <caption><a href=\"/wiki/COVID-19\" title=\"COVID-19\">COVID-19</a> cases, deaths, and rates by <a class=\"mw-selflink selflink\">location</a><sup class=\"reference\" id=\"cite_ref-Template:COVID-19_datab_27-0\"><a href=\"#cite_note-Template:COVID-19_datab-27\"><span class=\"cite-bracket\">[</span>22<span class=\"cite-bracket\">]</span></a></sup>\n",
      "</caption> ['wikitable', 'sortable', 'sort-under', 'mw-datatable', 'plainrowheaders', 'sticky-table-row1', 'sticky-table-col2']\n",
      "13 <caption>2022 monthly cumulative COVID-19 deaths<sup class=\"reference\" id=\"cite_ref-WHO-csv_32-0\"><a href=\"#cite_note-WHO-csv-32\"><span class=\"cite-bracket\">[</span>24<span class=\"cite-bracket\">]</span></a></sup><sup class=\"reference\" id=\"cite_ref-WHO-dashboard_33-0\"><a href=\"#cite_note-WHO-dashboard-33\"><span class=\"cite-bracket\">[</span>25<span class=\"cite-bracket\">]</span></a></sup><sup class=\"reference\" id=\"cite_ref-WHO-reports_34-0\"><a href=\"#cite_note-WHO-reports-34\"><span class=\"cite-bracket\">[</span>26<span class=\"cite-bracket\">]</span></a></sup>\n",
      "</caption> ['wikitable', 'sortable', 'mw-datatable', 'plainrowheaders', 'sticky-table-row1', 'sticky-table-col2']\n",
      "14 <caption>2021 (second-half) monthly cumulative COVID-19 deaths<sup class=\"reference\" id=\"cite_ref-WHO-csv_32-1\"><a href=\"#cite_note-WHO-csv-32\"><span class=\"cite-bracket\">[</span>24<span class=\"cite-bracket\">]</span></a></sup><sup class=\"reference\" id=\"cite_ref-WHO-dashboard_33-1\"><a href=\"#cite_note-WHO-dashboard-33\"><span class=\"cite-bracket\">[</span>25<span class=\"cite-bracket\">]</span></a></sup><sup class=\"reference\" id=\"cite_ref-WHO-reports_34-1\"><a href=\"#cite_note-WHO-reports-34\"><span class=\"cite-bracket\">[</span>26<span class=\"cite-bracket\">]</span></a></sup>\n",
      "</caption> ['wikitable', 'sortable', 'mw-datatable', 'plainrowheaders', 'sticky-table-row1', 'sticky-table-col2']\n",
      "15 <caption><style data-mw-deduplicate=\"TemplateStyles:r1152813436\">.mw-parser-output .sr-only{border:0;clip:rect(0,0,0,0);clip-path:polygon(0px 0px,0px 0px,0px 0px);height:1px;margin:-1px;overflow:hidden;padding:0;position:absolute;width:1px;white-space:nowrap}</style><span class=\"sr-only\">COVID-19 cases and deaths by region, in absolute figures and rates per million inhabitants as of 25 December 2022</span>\n",
      "</caption> ['wikitable', 'sortable', 'mw-datatable', 'sort-under', 'plainrowheaders', 'sticky-table-row1', 'sticky-table-col1']\n",
      "16 None ['wikitable']\n",
      "17 None ['wikitable']\n",
      "18 <caption><a href=\"/wiki/Deployment_of_COVID-19_vaccines\" title=\"Deployment of COVID-19 vaccines\">COVID-19 vaccine distribution</a> by country<sup class=\"reference\" id=\"cite_ref-Template:COVID-19_datab_27-1\"><a href=\"#cite_note-Template:COVID-19_datab-27\"><span class=\"cite-bracket\">[</span>22<span class=\"cite-bracket\">]</span></a></sup>\n",
      "</caption> ['wikitable', 'sortable', 'sort-under', 'mw-datatable', 'plainrowheaders', 'sticky-table-row1', 'sticky-table-col2']\n",
      "19 None ['col-begin']\n",
      "20 None ['box-Update', 'plainlinks', 'metadata', 'ambox', 'ambox-content', 'ambox-Update']\n",
      "21 <caption>First confirmed COVID-19 cases by country or territory\n",
      "</caption> ['wikitable', 'mw-datatable']\n",
      "22 None ['nowraplinks', 'hlist', 'mw-collapsible', 'autocollapse', 'navbox-inner']\n",
      "23 None ['nowraplinks', 'mw-collapsible', 'mw-collapsed', 'navbox-subgroup']\n",
      "24 None ['nowraplinks', 'navbox-subgroup']\n",
      "25 None ['nowraplinks', 'mw-collapsible', 'mw-collapsed', 'navbox-subgroup']\n",
      "26 None ['nowraplinks', 'navbox-subgroup']\n",
      "27 None ['nowraplinks', 'navbox-subgroup']\n",
      "28 None ['nowraplinks', 'navbox-subgroup']\n",
      "29 None ['nowraplinks', 'navbox-subgroup']\n",
      "30 None ['nowraplinks', 'navbox-subgroup']\n",
      "31 None ['nowraplinks', 'navbox-subgroup']\n",
      "32 None ['nowraplinks', 'navbox-subgroup']\n",
      "33 None ['nowraplinks', 'navbox-subgroup']\n",
      "34 None ['nowraplinks', 'navbox-subgroup']\n",
      "35 None ['nowraplinks', 'navbox-subgroup']\n",
      "36 None ['nowraplinks', 'navbox-subgroup']\n",
      "37 None ['nowraplinks', 'navbox-subgroup']\n",
      "38 None ['nowraplinks', 'navbox-subgroup']\n",
      "39 None ['nowraplinks', 'navbox-subgroup']\n",
      "40 None ['nowraplinks', 'mw-collapsible', 'mw-collapsed', 'navbox-subgroup']\n",
      "41 None ['nowraplinks', 'navbox-subgroup']\n",
      "42 None ['nowraplinks', 'navbox-subgroup']\n",
      "43 None ['nowraplinks', 'navbox-subgroup']\n",
      "44 None ['nowraplinks', 'navbox-subgroup']\n",
      "45 None ['nowraplinks', 'navbox-subgroup']\n",
      "46 None ['nowraplinks', 'navbox-subgroup']\n",
      "47 None ['nowraplinks', 'navbox-subgroup']\n",
      "48 None ['nowraplinks', 'navbox-subgroup']\n",
      "49 None ['nowraplinks', 'mw-collapsible', 'mw-collapsed', 'navbox-subgroup']\n",
      "50 None ['nowraplinks', 'navbox-subgroup']\n",
      "51 None ['nowraplinks', 'navbox-subgroup']\n",
      "52 None ['nowraplinks', 'navbox-subgroup']\n",
      "53 None ['nowraplinks', 'navbox-subgroup']\n",
      "54 None ['nowraplinks', 'navbox-subgroup']\n",
      "55 None ['nowraplinks', 'navbox-subgroup']\n",
      "56 None ['nowraplinks', 'navbox-subgroup']\n",
      "57 None ['nowraplinks', 'mw-collapsible', 'mw-collapsed', 'navbox-subgroup']\n",
      "58 None ['nowraplinks', 'navbox-subgroup']\n",
      "59 None ['nowraplinks', 'mw-collapsible', 'mw-collapsed', 'navbox-subgroup']\n",
      "60 None ['nowraplinks', 'navbox-subgroup']\n",
      "61 None ['nowraplinks', 'navbox-subgroup']\n",
      "62 None ['nowraplinks', 'navbox-subgroup']\n",
      "63 None ['nowraplinks', 'navbox-subgroup']\n",
      "64 None ['nowraplinks', 'mw-collapsible', 'mw-collapsed', 'navbox-subgroup']\n",
      "65 None ['nowraplinks', 'navbox-subgroup']\n",
      "66 None ['nowraplinks', 'navbox-subgroup']\n",
      "67 None ['nowraplinks', 'mw-collapsible', 'mw-collapsed', 'navbox-subgroup']\n",
      "68 None ['nowraplinks', 'navbox-subgroup']\n"
     ]
    }
   ],
   "source": [
    "# let's try to find the right table\n",
    "# can we find a unique id?\n",
    "for i in range(69):\n",
    "    table = tables[i]\n",
    "    print(i, table.find(\"caption\"), table[\"class\"])"
   ]
  },
  {
   "cell_type": "code",
   "execution_count": 69,
   "metadata": {
    "tags": []
   },
   "outputs": [],
   "source": [
    "# this is one way to do it\n",
    "table = tables[12]"
   ]
  },
  {
   "cell_type": "code",
   "execution_count": 80,
   "metadata": {
    "tags": []
   },
   "outputs": [
    {
     "data": {
      "text/plain": [
       "<sup class=\"reference\" id=\"cite_ref-Template:COVID-19_datab_27-0\"><a href=\"#cite_note-Template:COVID-19_datab-27\"><span class=\"cite-bracket\">[</span>22<span class=\"cite-bracket\">]</span></a></sup>"
      ]
     },
     "execution_count": 80,
     "metadata": {},
     "output_type": "execute_result"
    }
   ],
   "source": [
    "# a different way\n",
    "# 1. Find the caption with a specific id.\n",
    "# 2. Find the parent of caption that is a table\n",
    "sup_table = soup.find(id=\"cite_ref-Template:COVID-19_datab_27-0\")\n",
    "sup_table"
   ]
  },
  {
   "cell_type": "code",
   "execution_count": 82,
   "metadata": {},
   "outputs": [
    {
     "data": {
      "text/plain": [
       "'COVID-19 cases, deaths, and rates by location[22]\\n'"
      ]
     },
     "execution_count": 82,
     "metadata": {},
     "output_type": "execute_result"
    }
   ],
   "source": [
    "# # Find the parent table of sub\n",
    "table = sup_table.find_parent('table')\n",
    "# checking that is the right table\n",
    "table.find(\"caption\").text"
   ]
  },
  {
   "cell_type": "code",
   "execution_count": 84,
   "metadata": {
    "tags": []
   },
   "outputs": [],
   "source": [
    "#Look at table\n",
    "#table\n",
    "tbody = table.find(\"tbody\")\n",
    "#tbody"
   ]
  },
  {
   "cell_type": "markdown",
   "metadata": {},
   "source": [
    "### Getting column names\n",
    "Note that column names have attribute scope=\"col\""
   ]
  },
  {
   "cell_type": "code",
   "execution_count": 85,
   "metadata": {
    "tags": []
   },
   "outputs": [
    {
     "data": {
      "text/plain": [
       "[<th scope=\"col\">Country\n",
       " </th>,\n",
       " <th scope=\"col\"><abbr title=\"Deaths per million\">Deaths / million</abbr>\n",
       " </th>,\n",
       " <th scope=\"col\">Deaths\n",
       " </th>,\n",
       " <th scope=\"col\">Cases\n",
       " </th>]"
      ]
     },
     "execution_count": 85,
     "metadata": {},
     "output_type": "execute_result"
    }
   ],
   "source": [
    "header = tbody.find_all(\"th\", {\"scope\": \"col\"})\n",
    "header"
   ]
  },
  {
   "cell_type": "code",
   "execution_count": 86,
   "metadata": {
    "tags": []
   },
   "outputs": [
    {
     "data": {
      "text/plain": [
       "['Country', 'Deaths/million', 'Deaths', 'Cases']"
      ]
     },
     "execution_count": 86,
     "metadata": {},
     "output_type": "execute_result"
    }
   ],
   "source": [
    "cols_names = [col.text.strip().replace(\" \", \"\")  for col in header]\n",
    "cols_names"
   ]
  },
  {
   "cell_type": "code",
   "execution_count": 87,
   "metadata": {
    "tags": []
   },
   "outputs": [
    {
     "data": {
      "text/plain": [
       "4"
      ]
     },
     "execution_count": 87,
     "metadata": {},
     "output_type": "execute_result"
    }
   ],
   "source": [
    "len(cols_names)"
   ]
  },
  {
   "cell_type": "markdown",
   "metadata": {},
   "source": [
    "### Getting rows\n",
    "Note that rows have attribute scope=\"row\""
   ]
  },
  {
   "cell_type": "code",
   "execution_count": 88,
   "metadata": {
    "tags": []
   },
   "outputs": [],
   "source": [
    "rows = tbody.find_all(\"tr\")"
   ]
  },
  {
   "cell_type": "code",
   "execution_count": 89,
   "metadata": {
    "tags": []
   },
   "outputs": [
    {
     "data": {
      "text/plain": [
       "<tr>\n",
       "<th class=\"unsortable\">\n",
       "</th>\n",
       "<th scope=\"col\">Country\n",
       "</th>\n",
       "<th scope=\"col\"><abbr title=\"Deaths per million\">Deaths / million</abbr>\n",
       "</th>\n",
       "<th scope=\"col\">Deaths\n",
       "</th>\n",
       "<th scope=\"col\">Cases\n",
       "</th></tr>"
      ]
     },
     "execution_count": 89,
     "metadata": {},
     "output_type": "execute_result"
    }
   ],
   "source": [
    "rows[0]"
   ]
  },
  {
   "cell_type": "code",
   "execution_count": 90,
   "metadata": {
    "tags": []
   },
   "outputs": [
    {
     "data": {
      "text/plain": [
       "241"
      ]
     },
     "execution_count": 90,
     "metadata": {},
     "output_type": "execute_result"
    }
   ],
   "source": [
    "len(rows)"
   ]
  },
  {
   "cell_type": "code",
   "execution_count": 91,
   "metadata": {
    "tags": []
   },
   "outputs": [
    {
     "data": {
      "text/plain": [
       "<tr class=\"sorttop static-row-header\">\n",
       "<td data-sort-value=\"World\" style=\"text-align: center;\"><span typeof=\"mw:File\"><span><img alt=\"\" class=\"mw-file-element\" data-file-height=\"20\" data-file-width=\"20\" decoding=\"async\" height=\"16\" src=\"//upload.wikimedia.org/wikipedia/commons/thumb/8/83/OOjs_UI_icon_globe.svg/16px-OOjs_UI_icon_globe.svg.png\" srcset=\"//upload.wikimedia.org/wikipedia/commons/thumb/8/83/OOjs_UI_icon_globe.svg/24px-OOjs_UI_icon_globe.svg.png 1.5x, //upload.wikimedia.org/wikipedia/commons/thumb/8/83/OOjs_UI_icon_globe.svg/32px-OOjs_UI_icon_globe.svg.png 2x\" width=\"16\"/></span></span>\n",
       "</td>\n",
       "<th scope=\"row\" style=\"background-color: inherit;\"><a href=\"/wiki/COVID-19_pandemic\" title=\"COVID-19 pandemic\">World</a><sup class=\"reference\" id=\"cite_ref-28\"><a href=\"#cite_note-28\"><span class=\"cite-bracket\">[</span>a<span class=\"cite-bracket\">]</span></a></sup>\n",
       "</th>\n",
       "<td data-sort-value=\"883.329\">883\n",
       "</td>\n",
       "<td data-sort-value=\"7057132\">7,057,132\n",
       "</td>\n",
       "<td data-sort-value=\"775866783\">775,866,783\n",
       "</td></tr>"
      ]
     },
     "execution_count": 91,
     "metadata": {},
     "output_type": "execute_result"
    }
   ],
   "source": [
    "rows[1]"
   ]
  },
  {
   "cell_type": "code",
   "execution_count": 92,
   "metadata": {
    "tags": []
   },
   "outputs": [
    {
     "data": {
      "text/plain": [
       "[<td data-sort-value=\"World\" style=\"text-align: center;\"><span typeof=\"mw:File\"><span><img alt=\"\" class=\"mw-file-element\" data-file-height=\"20\" data-file-width=\"20\" decoding=\"async\" height=\"16\" src=\"//upload.wikimedia.org/wikipedia/commons/thumb/8/83/OOjs_UI_icon_globe.svg/16px-OOjs_UI_icon_globe.svg.png\" srcset=\"//upload.wikimedia.org/wikipedia/commons/thumb/8/83/OOjs_UI_icon_globe.svg/24px-OOjs_UI_icon_globe.svg.png 1.5x, //upload.wikimedia.org/wikipedia/commons/thumb/8/83/OOjs_UI_icon_globe.svg/32px-OOjs_UI_icon_globe.svg.png 2x\" width=\"16\"/></span></span>\n",
       " </td>,\n",
       " <td data-sort-value=\"883.329\">883\n",
       " </td>,\n",
       " <td data-sort-value=\"7057132\">7,057,132\n",
       " </td>,\n",
       " <td data-sort-value=\"775866783\">775,866,783\n",
       " </td>]"
      ]
     },
     "execution_count": 92,
     "metadata": {},
     "output_type": "execute_result"
    }
   ],
   "source": [
    "rows[1].find_all(\"td\")"
   ]
  },
  {
   "cell_type": "code",
   "execution_count": 93,
   "metadata": {
    "tags": []
   },
   "outputs": [
    {
     "data": {
      "text/plain": [
       "['World', '883.329', '7057132', '775866783']"
      ]
     },
     "execution_count": 93,
     "metadata": {},
     "output_type": "execute_result"
    }
   ],
   "source": [
    "[elm[\"data-sort-value\"] for elm in rows[1].find_all(\"td\")]"
   ]
  },
  {
   "cell_type": "code",
   "execution_count": 61,
   "metadata": {
    "tags": []
   },
   "outputs": [],
   "source": [
    "# We need to skip this row\n",
    "#rows[240]"
   ]
  },
  {
   "cell_type": "code",
   "execution_count": 94,
   "metadata": {
    "tags": []
   },
   "outputs": [],
   "source": [
    "col1 = []; col2 = []; col3 = []; col4 = [] \n",
    "for i in range(1, 240): # for row in rows\n",
    "    row = [elm[\"data-sort-value\"] for elm in rows[i].find_all(\"td\")]\n",
    "    col1.append(row[0])\n",
    "    col2.append(row[1])\n",
    "    col3.append(row[2])\n",
    "    col4.append(row[3])"
   ]
  },
  {
   "cell_type": "markdown",
   "metadata": {},
   "source": [
    "### Put data in a dataframe"
   ]
  },
  {
   "cell_type": "code",
   "execution_count": 95,
   "metadata": {
    "tags": []
   },
   "outputs": [
    {
     "data": {
      "text/plain": [
       "['Country', 'Deaths/million', 'Deaths', 'Cases']"
      ]
     },
     "execution_count": 95,
     "metadata": {},
     "output_type": "execute_result"
    }
   ],
   "source": [
    "import pandas as pd\n",
    "import numpy as np\n",
    "cols_names"
   ]
  },
  {
   "cell_type": "code",
   "execution_count": 96,
   "metadata": {
    "tags": []
   },
   "outputs": [],
   "source": [
    "col2 = np.array(col2, np.float32) \n",
    "col3 = np.array(col3, np.float32) \n",
    "col4 = np.array(col4, np.float32) "
   ]
  },
  {
   "cell_type": "code",
   "execution_count": 97,
   "metadata": {
    "tags": []
   },
   "outputs": [],
   "source": [
    "df = pd.DataFrame({'Country': col1, 'Deaths/million': col2, 'Deaths': col3, 'Cases': col4})"
   ]
  },
  {
   "cell_type": "code",
   "execution_count": 98,
   "metadata": {
    "tags": []
   },
   "outputs": [
    {
     "data": {
      "text/html": [
       "<div>\n",
       "<style scoped>\n",
       "    .dataframe tbody tr th:only-of-type {\n",
       "        vertical-align: middle;\n",
       "    }\n",
       "\n",
       "    .dataframe tbody tr th {\n",
       "        vertical-align: top;\n",
       "    }\n",
       "\n",
       "    .dataframe thead th {\n",
       "        text-align: right;\n",
       "    }\n",
       "</style>\n",
       "<table border=\"1\" class=\"dataframe\">\n",
       "  <thead>\n",
       "    <tr style=\"text-align: right;\">\n",
       "      <th></th>\n",
       "      <th>Country</th>\n",
       "      <th>Deaths/million</th>\n",
       "      <th>Deaths</th>\n",
       "      <th>Cases</th>\n",
       "    </tr>\n",
       "  </thead>\n",
       "  <tbody>\n",
       "    <tr>\n",
       "      <th>0</th>\n",
       "      <td>World</td>\n",
       "      <td>883.328979</td>\n",
       "      <td>7057132.0</td>\n",
       "      <td>775866752.0</td>\n",
       "    </tr>\n",
       "    <tr>\n",
       "      <th>1</th>\n",
       "      <td>Peru</td>\n",
       "      <td>6601.109863</td>\n",
       "      <td>220975.0</td>\n",
       "      <td>4526977.0</td>\n",
       "    </tr>\n",
       "    <tr>\n",
       "      <th>2</th>\n",
       "      <td>Bulgaria</td>\n",
       "      <td>5669.612793</td>\n",
       "      <td>38700.0</td>\n",
       "      <td>1329988.0</td>\n",
       "    </tr>\n",
       "    <tr>\n",
       "      <th>3</th>\n",
       "      <td>North Macedonia</td>\n",
       "      <td>5422.130859</td>\n",
       "      <td>9978.0</td>\n",
       "      <td>350924.0</td>\n",
       "    </tr>\n",
       "    <tr>\n",
       "      <th>4</th>\n",
       "      <td>Bosnia and Herzegovina</td>\n",
       "      <td>5114.819824</td>\n",
       "      <td>16392.0</td>\n",
       "      <td>403666.0</td>\n",
       "    </tr>\n",
       "  </tbody>\n",
       "</table>\n",
       "</div>"
      ],
      "text/plain": [
       "                  Country  Deaths/million     Deaths        Cases\n",
       "0                   World      883.328979  7057132.0  775866752.0\n",
       "1                    Peru     6601.109863   220975.0    4526977.0\n",
       "2                Bulgaria     5669.612793    38700.0    1329988.0\n",
       "3         North Macedonia     5422.130859     9978.0     350924.0\n",
       "4  Bosnia and Herzegovina     5114.819824    16392.0     403666.0"
      ]
     },
     "execution_count": 98,
     "metadata": {},
     "output_type": "execute_result"
    }
   ],
   "source": [
    "df.head()"
   ]
  },
  {
   "cell_type": "markdown",
   "metadata": {},
   "source": [
    "As with any data frame, we can sort values and select columns of interest:"
   ]
  },
  {
   "cell_type": "code",
   "execution_count": 99,
   "metadata": {
    "tags": []
   },
   "outputs": [
    {
     "data": {
      "text/html": [
       "<div>\n",
       "<style scoped>\n",
       "    .dataframe tbody tr th:only-of-type {\n",
       "        vertical-align: middle;\n",
       "    }\n",
       "\n",
       "    .dataframe tbody tr th {\n",
       "        vertical-align: top;\n",
       "    }\n",
       "\n",
       "    .dataframe thead th {\n",
       "        text-align: right;\n",
       "    }\n",
       "</style>\n",
       "<table border=\"1\" class=\"dataframe\">\n",
       "  <thead>\n",
       "    <tr style=\"text-align: right;\">\n",
       "      <th></th>\n",
       "      <th>Country</th>\n",
       "      <th>Deaths/million</th>\n",
       "    </tr>\n",
       "  </thead>\n",
       "  <tbody>\n",
       "    <tr>\n",
       "      <th>1</th>\n",
       "      <td>Peru</td>\n",
       "      <td>6601.109863</td>\n",
       "    </tr>\n",
       "    <tr>\n",
       "      <th>2</th>\n",
       "      <td>Bulgaria</td>\n",
       "      <td>5669.612793</td>\n",
       "    </tr>\n",
       "    <tr>\n",
       "      <th>3</th>\n",
       "      <td>North Macedonia</td>\n",
       "      <td>5422.130859</td>\n",
       "    </tr>\n",
       "    <tr>\n",
       "      <th>4</th>\n",
       "      <td>Bosnia and Herzegovina</td>\n",
       "      <td>5114.819824</td>\n",
       "    </tr>\n",
       "    <tr>\n",
       "      <th>5</th>\n",
       "      <td>Hungary</td>\n",
       "      <td>5065.206055</td>\n",
       "    </tr>\n",
       "    <tr>\n",
       "      <th>6</th>\n",
       "      <td>Croatia</td>\n",
       "      <td>4799.551758</td>\n",
       "    </tr>\n",
       "    <tr>\n",
       "      <th>7</th>\n",
       "      <td>Slovenia</td>\n",
       "      <td>4766.857910</td>\n",
       "    </tr>\n",
       "    <tr>\n",
       "      <th>8</th>\n",
       "      <td>Georgia</td>\n",
       "      <td>4519.361816</td>\n",
       "    </tr>\n",
       "    <tr>\n",
       "      <th>9</th>\n",
       "      <td>Montenegro</td>\n",
       "      <td>4317.903809</td>\n",
       "    </tr>\n",
       "    <tr>\n",
       "      <th>10</th>\n",
       "      <td>Czech Republic</td>\n",
       "      <td>4076.466064</td>\n",
       "    </tr>\n",
       "  </tbody>\n",
       "</table>\n",
       "</div>"
      ],
      "text/plain": [
       "                   Country  Deaths/million\n",
       "1                     Peru     6601.109863\n",
       "2                 Bulgaria     5669.612793\n",
       "3          North Macedonia     5422.130859\n",
       "4   Bosnia and Herzegovina     5114.819824\n",
       "5                  Hungary     5065.206055\n",
       "6                  Croatia     4799.551758\n",
       "7                 Slovenia     4766.857910\n",
       "8                  Georgia     4519.361816\n",
       "9               Montenegro     4317.903809\n",
       "10          Czech Republic     4076.466064"
      ]
     },
     "execution_count": 99,
     "metadata": {},
     "output_type": "execute_result"
    }
   ],
   "source": [
    "df_death_rate = df[['Country', 'Deaths/million']].sort_values('Deaths/million', ascending=False)\n",
    "df_death_rate.head(10)"
   ]
  },
  {
   "cell_type": "markdown",
   "metadata": {},
   "source": [
    "Once we have a nice data structure like a data frame, it's very easy to build a plot, which is sometimes more satisfying than what we see in some report where we got the data."
   ]
  },
  {
   "cell_type": "code",
   "execution_count": 100,
   "metadata": {
    "tags": []
   },
   "outputs": [
    {
     "data": {
      "text/html": [
       "<div>\n",
       "<style scoped>\n",
       "    .dataframe tbody tr th:only-of-type {\n",
       "        vertical-align: middle;\n",
       "    }\n",
       "\n",
       "    .dataframe tbody tr th {\n",
       "        vertical-align: top;\n",
       "    }\n",
       "\n",
       "    .dataframe thead th {\n",
       "        text-align: right;\n",
       "    }\n",
       "</style>\n",
       "<table border=\"1\" class=\"dataframe\">\n",
       "  <thead>\n",
       "    <tr style=\"text-align: right;\">\n",
       "      <th></th>\n",
       "      <th>Country</th>\n",
       "      <th>Deaths/million</th>\n",
       "      <th>Deaths</th>\n",
       "      <th>Cases</th>\n",
       "    </tr>\n",
       "  </thead>\n",
       "  <tbody>\n",
       "    <tr>\n",
       "      <th>0</th>\n",
       "      <td>World</td>\n",
       "      <td>883.328979</td>\n",
       "      <td>7057132.0</td>\n",
       "      <td>775866752.0</td>\n",
       "    </tr>\n",
       "    <tr>\n",
       "      <th>1</th>\n",
       "      <td>European Union</td>\n",
       "      <td>2812.179932</td>\n",
       "      <td>1262988.0</td>\n",
       "      <td>185822592.0</td>\n",
       "    </tr>\n",
       "    <tr>\n",
       "      <th>2</th>\n",
       "      <td>United States</td>\n",
       "      <td>3493.545898</td>\n",
       "      <td>1193165.0</td>\n",
       "      <td>103436832.0</td>\n",
       "    </tr>\n",
       "    <tr>\n",
       "      <th>3</th>\n",
       "      <td>Brazil</td>\n",
       "      <td>3338.538086</td>\n",
       "      <td>702116.0</td>\n",
       "      <td>37511920.0</td>\n",
       "    </tr>\n",
       "    <tr>\n",
       "      <th>4</th>\n",
       "      <td>India</td>\n",
       "      <td>374.360992</td>\n",
       "      <td>533623.0</td>\n",
       "      <td>45041748.0</td>\n",
       "    </tr>\n",
       "    <tr>\n",
       "      <th>5</th>\n",
       "      <td>Russia</td>\n",
       "      <td>2769.531006</td>\n",
       "      <td>403188.0</td>\n",
       "      <td>24268728.0</td>\n",
       "    </tr>\n",
       "    <tr>\n",
       "      <th>6</th>\n",
       "      <td>Mexico</td>\n",
       "      <td>2601.219971</td>\n",
       "      <td>334551.0</td>\n",
       "      <td>7619458.0</td>\n",
       "    </tr>\n",
       "    <tr>\n",
       "      <th>7</th>\n",
       "      <td>United Kingdom</td>\n",
       "      <td>3404.434082</td>\n",
       "      <td>232112.0</td>\n",
       "      <td>24974628.0</td>\n",
       "    </tr>\n",
       "    <tr>\n",
       "      <th>8</th>\n",
       "      <td>Peru</td>\n",
       "      <td>6601.109863</td>\n",
       "      <td>220975.0</td>\n",
       "      <td>4526977.0</td>\n",
       "    </tr>\n",
       "    <tr>\n",
       "      <th>9</th>\n",
       "      <td>Italy</td>\n",
       "      <td>3309.458984</td>\n",
       "      <td>197307.0</td>\n",
       "      <td>26781078.0</td>\n",
       "    </tr>\n",
       "    <tr>\n",
       "      <th>10</th>\n",
       "      <td>Germany</td>\n",
       "      <td>2080.947021</td>\n",
       "      <td>174979.0</td>\n",
       "      <td>38437756.0</td>\n",
       "    </tr>\n",
       "    <tr>\n",
       "      <th>11</th>\n",
       "      <td>France</td>\n",
       "      <td>2615.086914</td>\n",
       "      <td>168091.0</td>\n",
       "      <td>38997488.0</td>\n",
       "    </tr>\n",
       "    <tr>\n",
       "      <th>12</th>\n",
       "      <td>Indonesia</td>\n",
       "      <td>581.210022</td>\n",
       "      <td>162059.0</td>\n",
       "      <td>6829399.0</td>\n",
       "    </tr>\n",
       "    <tr>\n",
       "      <th>13</th>\n",
       "      <td>Iran</td>\n",
       "      <td>1640.192017</td>\n",
       "      <td>146837.0</td>\n",
       "      <td>7627863.0</td>\n",
       "    </tr>\n",
       "    <tr>\n",
       "      <th>14</th>\n",
       "      <td>Colombia</td>\n",
       "      <td>2758.652100</td>\n",
       "      <td>142727.0</td>\n",
       "      <td>6391876.0</td>\n",
       "    </tr>\n",
       "    <tr>\n",
       "      <th>15</th>\n",
       "      <td>Argentina</td>\n",
       "      <td>2877.538086</td>\n",
       "      <td>130663.0</td>\n",
       "      <td>10101218.0</td>\n",
       "    </tr>\n",
       "    <tr>\n",
       "      <th>16</th>\n",
       "      <td>China</td>\n",
       "      <td>85.817001</td>\n",
       "      <td>122304.0</td>\n",
       "      <td>99373216.0</td>\n",
       "    </tr>\n",
       "    <tr>\n",
       "      <th>17</th>\n",
       "      <td>Spain</td>\n",
       "      <td>2547.691895</td>\n",
       "      <td>121852.0</td>\n",
       "      <td>13980340.0</td>\n",
       "    </tr>\n",
       "    <tr>\n",
       "      <th>18</th>\n",
       "      <td>Poland</td>\n",
       "      <td>3145.074951</td>\n",
       "      <td>120726.0</td>\n",
       "      <td>6670799.0</td>\n",
       "    </tr>\n",
       "    <tr>\n",
       "      <th>19</th>\n",
       "      <td>Ukraine</td>\n",
       "      <td>2677.790039</td>\n",
       "      <td>109920.0</td>\n",
       "      <td>5532777.0</td>\n",
       "    </tr>\n",
       "    <tr>\n",
       "      <th>20</th>\n",
       "      <td>South Africa</td>\n",
       "      <td>1644.719971</td>\n",
       "      <td>102595.0</td>\n",
       "      <td>4072765.0</td>\n",
       "    </tr>\n",
       "    <tr>\n",
       "      <th>21</th>\n",
       "      <td>Turkey</td>\n",
       "      <td>1164.953003</td>\n",
       "      <td>101419.0</td>\n",
       "      <td>17004718.0</td>\n",
       "    </tr>\n",
       "    <tr>\n",
       "      <th>22</th>\n",
       "      <td>Japan</td>\n",
       "      <td>597.564026</td>\n",
       "      <td>74694.0</td>\n",
       "      <td>33803572.0</td>\n",
       "    </tr>\n",
       "    <tr>\n",
       "      <th>23</th>\n",
       "      <td>Romania</td>\n",
       "      <td>3590.849121</td>\n",
       "      <td>68825.0</td>\n",
       "      <td>3541619.0</td>\n",
       "    </tr>\n",
       "    <tr>\n",
       "      <th>24</th>\n",
       "      <td>Philippines</td>\n",
       "      <td>586.710022</td>\n",
       "      <td>66864.0</td>\n",
       "      <td>4140383.0</td>\n",
       "    </tr>\n",
       "    <tr>\n",
       "      <th>25</th>\n",
       "      <td>Chile</td>\n",
       "      <td>3208.197998</td>\n",
       "      <td>62730.0</td>\n",
       "      <td>5401126.0</td>\n",
       "    </tr>\n",
       "    <tr>\n",
       "      <th>26</th>\n",
       "      <td>Canada</td>\n",
       "      <td>1424.014038</td>\n",
       "      <td>55282.0</td>\n",
       "      <td>4819055.0</td>\n",
       "    </tr>\n",
       "    <tr>\n",
       "      <th>27</th>\n",
       "      <td>Hungary</td>\n",
       "      <td>5065.206055</td>\n",
       "      <td>49053.0</td>\n",
       "      <td>2230800.0</td>\n",
       "    </tr>\n",
       "    <tr>\n",
       "      <th>28</th>\n",
       "      <td>Czech Republic</td>\n",
       "      <td>4076.466064</td>\n",
       "      <td>43509.0</td>\n",
       "      <td>4761919.0</td>\n",
       "    </tr>\n",
       "    <tr>\n",
       "      <th>29</th>\n",
       "      <td>Vietnam</td>\n",
       "      <td>433.444000</td>\n",
       "      <td>43206.0</td>\n",
       "      <td>11624000.0</td>\n",
       "    </tr>\n",
       "  </tbody>\n",
       "</table>\n",
       "</div>"
      ],
      "text/plain": [
       "           Country  Deaths/million     Deaths        Cases\n",
       "0            World      883.328979  7057132.0  775866752.0\n",
       "1   European Union     2812.179932  1262988.0  185822592.0\n",
       "2    United States     3493.545898  1193165.0  103436832.0\n",
       "3           Brazil     3338.538086   702116.0   37511920.0\n",
       "4            India      374.360992   533623.0   45041748.0\n",
       "5           Russia     2769.531006   403188.0   24268728.0\n",
       "6           Mexico     2601.219971   334551.0    7619458.0\n",
       "7   United Kingdom     3404.434082   232112.0   24974628.0\n",
       "8             Peru     6601.109863   220975.0    4526977.0\n",
       "9            Italy     3309.458984   197307.0   26781078.0\n",
       "10         Germany     2080.947021   174979.0   38437756.0\n",
       "11          France     2615.086914   168091.0   38997488.0\n",
       "12       Indonesia      581.210022   162059.0    6829399.0\n",
       "13            Iran     1640.192017   146837.0    7627863.0\n",
       "14        Colombia     2758.652100   142727.0    6391876.0\n",
       "15       Argentina     2877.538086   130663.0   10101218.0\n",
       "16           China       85.817001   122304.0   99373216.0\n",
       "17           Spain     2547.691895   121852.0   13980340.0\n",
       "18          Poland     3145.074951   120726.0    6670799.0\n",
       "19         Ukraine     2677.790039   109920.0    5532777.0\n",
       "20    South Africa     1644.719971   102595.0    4072765.0\n",
       "21          Turkey     1164.953003   101419.0   17004718.0\n",
       "22           Japan      597.564026    74694.0   33803572.0\n",
       "23         Romania     3590.849121    68825.0    3541619.0\n",
       "24     Philippines      586.710022    66864.0    4140383.0\n",
       "25           Chile     3208.197998    62730.0    5401126.0\n",
       "26          Canada     1424.014038    55282.0    4819055.0\n",
       "27         Hungary     5065.206055    49053.0    2230800.0\n",
       "28  Czech Republic     4076.466064    43509.0    4761919.0\n",
       "29         Vietnam      433.444000    43206.0   11624000.0"
      ]
     },
     "execution_count": 100,
     "metadata": {},
     "output_type": "execute_result"
    }
   ],
   "source": [
    "df = df.sort_values('Deaths', ascending=False)\n",
    "df = df.head(30).reset_index(drop=True)\n",
    "df"
   ]
  },
  {
   "cell_type": "code",
   "execution_count": 101,
   "metadata": {
    "tags": []
   },
   "outputs": [],
   "source": [
    "# cut the World and the European union\n",
    "df = df.iloc[2:].copy()\n",
    "countries = df['Country'].values\n",
    "deaths = df['Deaths']"
   ]
  },
  {
   "cell_type": "markdown",
   "metadata": {},
   "source": [
    "### Plotting"
   ]
  },
  {
   "cell_type": "code",
   "execution_count": 102,
   "metadata": {
    "tags": []
   },
   "outputs": [
    {
     "data": {
      "image/png": "[encoded data removed]",
      "text/plain": [
       "<Figure size 500x600 with 1 Axes>"
      ]
     },
     "metadata": {
      "image/png": {
       "height": 546,
       "width": 525
      }
     },
     "output_type": "display_data"
    }
   ],
   "source": [
    "import matplotlib.pyplot as plt\n",
    "%config InlineBackend.figure_format = 'retina'\n",
    "\n",
    "fig, ax = plt.subplots(1, 1, figsize=(5,6))\n",
    "y_pos = np.arange(len(countries))\n",
    "barcontainers = ax.barh(y_pos, deaths, color='#FEE08F')\n",
    "ax.invert_yaxis() \n",
    "ax.set_yticks(y_pos)\n",
    "ax.set_yticklabels(countries, fontsize=8, horizontalalignment=\"right\")\n",
    "\n",
    "for rect in barcontainers.patches:\n",
    "    rect.set_linewidth(.5)\n",
    "    rect.set_edgecolor('grey')\n",
    "\n",
    "ax.spines['top'].set_visible(False)\n",
    "ax.spines['right'].set_visible(False)\n",
    "ax.spines['left'].set_linewidth(.5)\n",
    "ax.spines['bottom'].set_linewidth(.5)\n",
    "\n",
    "ax.set_title(\"Total deaths per country\")\n",
    "ax.set_xlabel(\"Deaths\")\n",
    "ax.set_ylabel(\"Country\")\n",
    "\n",
    "plt.show()"
   ]
  }
 ],
 "metadata": {
  "kernelspec": {
   "display_name": "Python 3 (ipykernel)",
   "language": "python",
   "name": "python3"
  },
  "language_info": {
   "codemirror_mode": {
    "name": "ipython",
    "version": 3
   },
   "file_extension": ".py",
   "mimetype": "text/x-python",
   "name": "python",
   "nbconvert_exporter": "python",
   "pygments_lexer": "ipython3",
   "version": "3.12.4"
  }
 },
 "nbformat": 4,
 "nbformat_minor": 4
}
