{
 "cells": [
  {
   "cell_type": "code",
   "execution_count": 1,
   "id": "b1dcab0a",
   "metadata": {
    "tags": []
   },
   "outputs": [],
   "source": [
    "from lxml import etree"
   ]
  },
  {
   "cell_type": "code",
   "execution_count": 2,
   "id": "221fca4b",
   "metadata": {
    "tags": []
   },
   "outputs": [],
   "source": [
    "xmlstring = \"\"\"<?xml version=\"1.0\"?>\n",
    "<data>\n",
    "    <country name=\"Liechtenstein\">\n",
    "        <rank>1</rank>\n",
    "        <year>2008</year>\n",
    "        <gdppc>141100</gdppc>\n",
    "        <neighbor name=\"Austria\" direction=\"E\"/>\n",
    "        <neighbor name=\"Switzerland\" direction=\"W\"/>\n",
    "    </country>\n",
    "    <country name=\"Singapore\">\n",
    "        <rank>4</rank>\n",
    "        <year>2011</year>\n",
    "        <gdppc>59900</gdppc>\n",
    "        <neighbor name=\"Malaysia\" direction=\"N\"/>\n",
    "    </country>\n",
    "    <country name=\"Panama\">\n",
    "        <rank>68</rank>\n",
    "        <year>2011</year>\n",
    "        <gdppc>13600</gdppc>\n",
    "        <neighbor name=\"Costa Rica\" direction=\"W\"/>\n",
    "        <neighbor name=\"Colombia\" direction=\"E\"/>\n",
    "    </country>\n",
    "</data>\n",
    "\"\"\""
   ]
  },
  {
   "cell_type": "markdown",
   "id": "dfe6f04e-6bfe-49a9-95ac-9dba624517c5",
   "metadata": {},
   "source": [
    "### Parsing "
   ]
  },
  {
   "cell_type": "code",
   "execution_count": 29,
   "id": "7a28f7aa",
   "metadata": {
    "tags": []
   },
   "outputs": [],
   "source": [
    "# etree.parse('country_data.xml') from file\n",
    "root = etree.fromstring(xmlstring)"
   ]
  },
  {
   "cell_type": "code",
   "execution_count": 30,
   "id": "e7a12a3a",
   "metadata": {
    "tags": []
   },
   "outputs": [
    {
     "data": {
      "text/plain": [
       "('data', {})"
      ]
     },
     "execution_count": 30,
     "metadata": {},
     "output_type": "execute_result"
    }
   ],
   "source": [
    "root.tag, root.attrib"
   ]
  },
  {
   "cell_type": "code",
   "execution_count": 31,
   "id": "7baf29d7",
   "metadata": {
    "tags": []
   },
   "outputs": [
    {
     "name": "stdout",
     "output_type": "stream",
     "text": [
      "country {'name': 'Liechtenstein'}\n",
      "country {'name': 'Singapore'}\n",
      "country {'name': 'Panama'}\n"
     ]
    }
   ],
   "source": [
    "for child in root:\n",
    "    print(child.tag, child.attrib)"
   ]
  },
  {
   "cell_type": "code",
   "execution_count": 32,
   "id": "e38a81e9",
   "metadata": {
    "tags": []
   },
   "outputs": [
    {
     "data": {
      "text/plain": [
       "{'name': 'Singapore'}"
      ]
     },
     "execution_count": 32,
     "metadata": {},
     "output_type": "execute_result"
    }
   ],
   "source": [
    "# Children are nested, and we can access specific child nodes by index:\n",
    "root[1].attrib"
   ]
  },
  {
   "cell_type": "code",
   "execution_count": 33,
   "id": "06fe3d40",
   "metadata": {
    "tags": []
   },
   "outputs": [
    {
     "data": {
      "text/plain": [
       "('rank', '4')"
      ]
     },
     "execution_count": 33,
     "metadata": {},
     "output_type": "execute_result"
    }
   ],
   "source": [
    "root[1][0].tag, root[1][0].text"
   ]
  },
  {
   "cell_type": "code",
   "execution_count": 34,
   "id": "74f7a425",
   "metadata": {
    "tags": []
   },
   "outputs": [
    {
     "data": {
      "text/plain": [
       "<Element country at 0x1071aba40>"
      ]
     },
     "execution_count": 34,
     "metadata": {},
     "output_type": "execute_result"
    }
   ],
   "source": [
    "# first element with tag country\n",
    "root.find('country')"
   ]
  },
  {
   "cell_type": "code",
   "execution_count": 35,
   "id": "73b45810",
   "metadata": {
    "tags": []
   },
   "outputs": [
    {
     "data": {
      "text/plain": [
       "[<Element country at 0x1071aba40>,\n",
       " <Element country at 0x1071b0d80>,\n",
       " <Element country at 0x1071b3dc0>]"
      ]
     },
     "execution_count": 35,
     "metadata": {},
     "output_type": "execute_result"
    }
   ],
   "source": [
    "# all elements with tag country\n",
    "root.findall('country')"
   ]
  },
  {
   "cell_type": "markdown",
   "id": "51e26a67",
   "metadata": {},
   "source": [
    "Exercise: Get a list of the arributes for all elements with tag 'country'."
   ]
  },
  {
   "cell_type": "markdown",
   "id": "c04a313c",
   "metadata": {},
   "source": [
    "# Xpath examples"
   ]
  },
  {
   "cell_type": "markdown",
   "id": "eba5175d-a929-4096-ac17-d99e8a6a9ddb",
   "metadata": {
    "tags": []
   },
   "source": [
    "There are two usedfull functions depending on how you parse the xml."
   ]
  },
  {
   "cell_type": "code",
   "execution_count": 36,
   "id": "a6719ada-bf25-40b6-9666-d6e5d45502df",
   "metadata": {
    "tags": []
   },
   "outputs": [],
   "source": [
    "root = etree.fromstring(xmlstring)"
   ]
  },
  {
   "cell_type": "code",
   "execution_count": 37,
   "id": "56be44b3",
   "metadata": {
    "tags": []
   },
   "outputs": [
    {
     "data": {
      "text/plain": [
       "[<Element data at 0x107152640>]"
      ]
     },
     "execution_count": 37,
     "metadata": {},
     "output_type": "execute_result"
    }
   ],
   "source": [
    "# Top-level elements\n",
    "# \".\" = selects current node\n",
    "root.findall(\".\")"
   ]
  },
  {
   "cell_type": "code",
   "execution_count": 38,
   "id": "0bb62f46-21cb-436d-9299-3fddf07b3c68",
   "metadata": {
    "tags": []
   },
   "outputs": [
    {
     "data": {
      "text/plain": [
       "[<Element data at 0x107152640>]"
      ]
     },
     "execution_count": 38,
     "metadata": {},
     "output_type": "execute_result"
    }
   ],
   "source": [
    "root.xpath(\".\")"
   ]
  },
  {
   "cell_type": "markdown",
   "id": "388a071e-1b5d-4040-8f7e-f48bc2f04483",
   "metadata": {},
   "source": [
    "Boths are very useful and xpath is more powefull. "
   ]
  },
  {
   "cell_type": "code",
   "execution_count": 40,
   "id": "eed02b8d",
   "metadata": {
    "tags": []
   },
   "outputs": [
    {
     "data": {
      "text/plain": [
       "[<Element neighbor at 0x1070db880>,\n",
       " <Element neighbor at 0x10709db40>,\n",
       " <Element neighbor at 0x1071dbc00>,\n",
       " <Element neighbor at 0x1071da7c0>,\n",
       " <Element neighbor at 0x1071dbf80>]"
      ]
     },
     "execution_count": 40,
     "metadata": {},
     "output_type": "execute_result"
    }
   ],
   "source": [
    "# All neighbor grand-children of 'country' of the top-level elements\n",
    "# matches country tag and then neighbor tag\n",
    "root.xpath(\"./country/neighbor\")"
   ]
  },
  {
   "cell_type": "code",
   "execution_count": 41,
   "id": "90177c8a",
   "metadata": {
    "tags": []
   },
   "outputs": [
    {
     "name": "stdout",
     "output_type": "stream",
     "text": [
      "{'name': 'Austria', 'direction': 'E'}\n",
      "{'name': 'Switzerland', 'direction': 'W'}\n",
      "{'name': 'Malaysia', 'direction': 'N'}\n",
      "{'name': 'Costa Rica', 'direction': 'W'}\n",
      "{'name': 'Colombia', 'direction': 'E'}\n"
     ]
    }
   ],
   "source": [
    "for neigh in root.xpath(\"./country/neighbor\"):\n",
    "    print(neigh.attrib)"
   ]
  },
  {
   "cell_type": "code",
   "execution_count": 42,
   "id": "08b53962",
   "metadata": {
    "tags": []
   },
   "outputs": [
    {
     "name": "stdout",
     "output_type": "stream",
     "text": [
      "{'name': 'Austria', 'direction': 'E'}\n",
      "{'name': 'Switzerland', 'direction': 'W'}\n",
      "{'name': 'Malaysia', 'direction': 'N'}\n",
      "{'name': 'Costa Rica', 'direction': 'W'}\n",
      "{'name': 'Colombia', 'direction': 'E'}\n"
     ]
    }
   ],
   "source": [
    "# similar result * matches everything\n",
    "for neigh in root.xpath(\"./*/neighbor\"):\n",
    "    print(neigh.attrib)"
   ]
  },
  {
   "cell_type": "code",
   "execution_count": 43,
   "id": "1a5a06fd",
   "metadata": {
    "tags": []
   },
   "outputs": [
    {
     "name": "stdout",
     "output_type": "stream",
     "text": [
      "{'name': 'Austria', 'direction': 'E'}\n",
      "{'name': 'Switzerland', 'direction': 'W'}\n",
      "{'name': 'Malaysia', 'direction': 'N'}\n",
      "{'name': 'Costa Rica', 'direction': 'W'}\n",
      "{'name': 'Colombia', 'direction': 'E'}\n"
     ]
    }
   ],
   "source": [
    "# matches neighbor anywhere\n",
    "# // matches anywhere\n",
    "for neigh in root.xpath(\"//neighbor\"):\n",
    "    print(neigh.attrib)"
   ]
  },
  {
   "cell_type": "code",
   "execution_count": 44,
   "id": "fa28db71",
   "metadata": {
    "tags": []
   },
   "outputs": [
    {
     "data": {
      "text/plain": [
       "[<Element year at 0x1071bbe00>,\n",
       " <Element year at 0x1071276c0>,\n",
       " <Element year at 0x1071d8d00>]"
      ]
     },
     "execution_count": 44,
     "metadata": {},
     "output_type": "execute_result"
    }
   ],
   "source": [
    "root.xpath(\".//year\")"
   ]
  },
  {
   "cell_type": "code",
   "execution_count": 45,
   "id": "262657c3-8674-484b-bcc5-facb9316215b",
   "metadata": {
    "tags": []
   },
   "outputs": [
    {
     "data": {
      "text/plain": [
       "['2008', '2011', '2011']"
      ]
     },
     "execution_count": 45,
     "metadata": {},
     "output_type": "execute_result"
    }
   ],
   "source": [
    "# printing text\n",
    "root.xpath(\".//year/text()\")"
   ]
  },
  {
   "cell_type": "code",
   "execution_count": 46,
   "id": "4afd2af5-31a0-44f7-9673-7754a1bd5f63",
   "metadata": {
    "tags": []
   },
   "outputs": [
    {
     "data": {
      "text/plain": [
       "['Austria', 'Switzerland', 'Malaysia', 'Costa Rica', 'Colombia']"
      ]
     },
     "execution_count": 46,
     "metadata": {},
     "output_type": "execute_result"
    }
   ],
   "source": [
    "# printing atribute values\n",
    "root.xpath(\"//neighbor/@name\")"
   ]
  },
  {
   "cell_type": "markdown",
   "id": "074e0761",
   "metadata": {},
   "source": [
    "### Diference between \"/\" and \"//\""
   ]
  },
  {
   "cell_type": "code",
   "execution_count": 47,
   "id": "954eb18f",
   "metadata": {
    "tags": []
   },
   "outputs": [],
   "source": [
    "xmlstring = \"\"\"<?xml version=\"1.0\"?>\n",
    "<data>\n",
    "    <country name=\"Liechtenstein\">\n",
    "        <rank>1</rank>\n",
    "        <year>2008</year>\n",
    "        <gdppc>141100</gdppc>\n",
    "        <neighbor name=\"Austria\" direction=\"E\"/>\n",
    "        <neighbor name=\"Switzerland\" direction=\"W\"/>\n",
    "    </country>\n",
    "    <neighbor name=\"Colombia\" direction=\"E\"/>\n",
    "</data>\n",
    "\"\"\""
   ]
  },
  {
   "cell_type": "code",
   "execution_count": 48,
   "id": "c7d85ef8",
   "metadata": {
    "tags": []
   },
   "outputs": [],
   "source": [
    "root = etree.fromstring(xmlstring)"
   ]
  },
  {
   "cell_type": "code",
   "execution_count": 49,
   "id": "2decc20f",
   "metadata": {
    "tags": []
   },
   "outputs": [
    {
     "name": "stdout",
     "output_type": "stream",
     "text": [
      "{'name': 'Austria', 'direction': 'E'}\n",
      "{'name': 'Switzerland', 'direction': 'W'}\n"
     ]
    }
   ],
   "source": [
    "for neigh in root.xpath(\"./country/neighbor\"):\n",
    "    print(neigh.attrib)"
   ]
  },
  {
   "cell_type": "code",
   "execution_count": 50,
   "id": "f6e50605",
   "metadata": {
    "tags": []
   },
   "outputs": [
    {
     "name": "stdout",
     "output_type": "stream",
     "text": [
      "{'name': 'Austria', 'direction': 'E'}\n",
      "{'name': 'Switzerland', 'direction': 'W'}\n"
     ]
    }
   ],
   "source": [
    "for neigh in root.xpath(\"./*/neighbor\"):\n",
    "    print(neigh.attrib)"
   ]
  },
  {
   "cell_type": "code",
   "execution_count": 51,
   "id": "54ed901b",
   "metadata": {
    "tags": []
   },
   "outputs": [
    {
     "name": "stdout",
     "output_type": "stream",
     "text": [
      "{'name': 'Austria', 'direction': 'E'}\n",
      "{'name': 'Switzerland', 'direction': 'W'}\n",
      "{'name': 'Colombia', 'direction': 'E'}\n"
     ]
    }
   ],
   "source": [
    "for neigh in root.xpath(\"//neighbor\"):\n",
    "    print(neigh.attrib)"
   ]
  },
  {
   "cell_type": "markdown",
   "id": "1833cc02-b202-4a95-a540-9276ca8638d3",
   "metadata": {},
   "source": [
    "## filtering "
   ]
  },
  {
   "cell_type": "code",
   "execution_count": 52,
   "id": "a4d0d522-c65f-4d03-87cd-30949bb34e83",
   "metadata": {
    "tags": []
   },
   "outputs": [],
   "source": [
    "xmlstring = \"\"\"<?xml version=\"1.0\"?>\n",
    "<moviestore>\n",
    "    <movie lang=\"en\">\n",
    "        <title>Inception</title>\n",
    "        <director>Christopher Nolan</director>\n",
    "        <genre>Science Fiction</genre>\n",
    "        <year>2010</year>\n",
    "    </movie>\n",
    "    <movie lang=\"fr\">\n",
    "        <title>Le Fabuleux Destin d'Amélie Poulain</title>\n",
    "        <director>Jean-Pierre Jeunet</director>\n",
    "        <genre>Romantic Comedy</genre>\n",
    "        <year>2001</year>\n",
    "    </movie>\n",
    "    <movie lang=\"en\">\n",
    "        <title>The Dark Knight</title>\n",
    "        <director>Christopher Nolan</director>\n",
    "        <genre>Action</genre>\n",
    "        <year>2008</year>\n",
    "    </movie>\n",
    "</moviestore>\"\"\""
   ]
  },
  {
   "cell_type": "code",
   "execution_count": 53,
   "id": "f8e326a5-b57b-4862-942a-3d39c5b2c8ec",
   "metadata": {
    "tags": []
   },
   "outputs": [],
   "source": [
    "root = etree.fromstring(xmlstring)"
   ]
  },
  {
   "cell_type": "code",
   "execution_count": 54,
   "id": "54b5cb6c-d032-445f-8f16-1563f56799c9",
   "metadata": {
    "tags": []
   },
   "outputs": [
    {
     "data": {
      "text/plain": [
       "[<Element movie at 0x10718be00>, <Element movie at 0x1071dbc40>]"
      ]
     },
     "execution_count": 54,
     "metadata": {},
     "output_type": "execute_result"
    }
   ],
   "source": [
    "# elments with movies with director \"Christopher Nolan\"\n",
    "root.xpath('./movie[director=\"Christopher Nolan\"]')"
   ]
  },
  {
   "cell_type": "code",
   "execution_count": 55,
   "id": "43acd25a-8ddf-4515-89e1-f5adbb71529e",
   "metadata": {
    "tags": []
   },
   "outputs": [
    {
     "data": {
      "text/plain": [
       "['Inception', 'The Dark Knight']"
      ]
     },
     "execution_count": 55,
     "metadata": {},
     "output_type": "execute_result"
    }
   ],
   "source": [
    "# now let's print the title\n",
    "root.xpath('./movie[director=\"Christopher Nolan\"]/title/text()')"
   ]
  },
  {
   "cell_type": "markdown",
   "id": "697fd511",
   "metadata": {},
   "source": [
    "## filtering atributes with @"
   ]
  },
  {
   "cell_type": "code",
   "execution_count": 56,
   "id": "daefe60c",
   "metadata": {
    "tags": []
   },
   "outputs": [
    {
     "data": {
      "text/plain": [
       "[<Element movie at 0x10718be00>, <Element movie at 0x1071dbc40>]"
      ]
     },
     "execution_count": 56,
     "metadata": {},
     "output_type": "execute_result"
    }
   ],
   "source": [
    "# movies in english\n",
    "root.xpath('./movie[@lang=\"en\"]')"
   ]
  },
  {
   "cell_type": "code",
   "execution_count": 33,
   "id": "ac319558",
   "metadata": {
    "tags": []
   },
   "outputs": [],
   "source": [
    "# exercise print the name of the movies in english"
   ]
  },
  {
   "cell_type": "markdown",
   "id": "c6027c1d-2a0b-4c24-a07d-1574be4a6845",
   "metadata": {
    "tags": []
   },
   "source": [
    "## match a tag anywhere"
   ]
  },
  {
   "cell_type": "code",
   "execution_count": 57,
   "id": "44637f4c",
   "metadata": {
    "tags": []
   },
   "outputs": [],
   "source": [
    "xmlstring = \"\"\"<?xml version=\"1.0\"?>\n",
    "<root>\n",
    "  <node1>\n",
    "    <nodename>Matched Value 1</nodename>\n",
    "  </node1>\n",
    "  <node2>\n",
    "    <nodename>Matched Value 2</nodename>\n",
    "  </node2>\n",
    "</root>\"\"\""
   ]
  },
  {
   "cell_type": "code",
   "execution_count": 58,
   "id": "c1a6b8a1",
   "metadata": {
    "tags": []
   },
   "outputs": [],
   "source": [
    "root = etree.fromstring(xmlstring)"
   ]
  },
  {
   "cell_type": "code",
   "execution_count": 59,
   "id": "b7d1d453",
   "metadata": {
    "tags": []
   },
   "outputs": [
    {
     "data": {
      "text/plain": [
       "[<Element nodename at 0x1071a21c0>, <Element nodename at 0x1071a3d40>]"
      ]
     },
     "execution_count": 59,
     "metadata": {},
     "output_type": "execute_result"
    }
   ],
   "source": [
    "root.xpath('//nodename')"
   ]
  },
  {
   "cell_type": "markdown",
   "id": "b29bf35f-0007-4ab9-80d6-05b0766d218c",
   "metadata": {},
   "source": [
    "### More complex example"
   ]
  },
  {
   "cell_type": "code",
   "execution_count": 60,
   "id": "2773708d",
   "metadata": {
    "tags": []
   },
   "outputs": [],
   "source": [
    "xmlstring = \"\"\"<?xml version=\"1.0\"?>\n",
    "<bookstore>\n",
    "    <book>\n",
    "        <title lang=\"en\">Introduction to XPath</title>\n",
    "        <author>John Doe</author>\n",
    "        <price>29.99</price>\n",
    "    </book>\n",
    "    <book>\n",
    "        <title lang=\"fr\">XPath et XML</title>\n",
    "        <author>Marie Dupont</author>\n",
    "        <price>34.95</price>\n",
    "    </book>\n",
    "    <book>\n",
    "        <title lang=\"en\">XML Programming</title>\n",
    "        <author>David Smith</author>\n",
    "        <price>19.99</price>\n",
    "    </book>\n",
    "</bookstore>\"\"\""
   ]
  },
  {
   "cell_type": "code",
   "execution_count": 61,
   "id": "47204a66-2d78-4a2e-934c-0c5566b18fe2",
   "metadata": {
    "tags": []
   },
   "outputs": [
    {
     "data": {
      "text/plain": [
       "['John Doe', 'David Smith']"
      ]
     },
     "execution_count": 61,
     "metadata": {},
     "output_type": "execute_result"
    }
   ],
   "source": [
    "# Parse the XML string\n",
    "root = etree.fromstring(xmlstring)\n",
    "\n",
    "# Find authors who write books in English\n",
    "root.xpath(\"./book[title/@lang='en']/author/text()\")"
   ]
  },
  {
   "cell_type": "markdown",
   "id": "afd9d504",
   "metadata": {},
   "source": [
    "### Filtering based on numerical values"
   ]
  },
  {
   "cell_type": "code",
   "execution_count": 6,
   "id": "9c4a834d",
   "metadata": {},
   "outputs": [],
   "source": [
    "xmlstring=\"\"\"\n",
    "<products>\n",
    "    <product>\n",
    "        <name>Phone</name>\n",
    "        <price>500</price>\n",
    "        <rating>4.5</rating>\n",
    "    </product>\n",
    "    <product>\n",
    "        <name>Laptop</name>\n",
    "        <price>1200</price>\n",
    "        <rating>4.7</rating>\n",
    "    </product>\n",
    "    <product>\n",
    "        <name>Headphones</name>\n",
    "        <price>150</price>\n",
    "        <rating>4.2</rating>\n",
    "    </product>\n",
    "    <product>\n",
    "        <name>Tablet</name>\n",
    "        <price>300</price>\n",
    "        <rating>4.0</rating>\n",
    "    </product>\n",
    "</products>\n",
    "\"\"\""
   ]
  },
  {
   "cell_type": "code",
   "execution_count": 7,
   "id": "3db2249a",
   "metadata": {},
   "outputs": [],
   "source": [
    "root = etree.fromstring(xmlstring)"
   ]
  },
  {
   "cell_type": "code",
   "execution_count": 8,
   "id": "9a21285d",
   "metadata": {},
   "outputs": [
    {
     "data": {
      "text/plain": [
       "[<Element product at 0x107fc3900>, <Element product at 0x11d9c0400>]"
      ]
     },
     "execution_count": 8,
     "metadata": {},
     "output_type": "execute_result"
    }
   ],
   "source": [
    "root.xpath(\"//product[price > 300]\")"
   ]
  },
  {
   "cell_type": "code",
   "execution_count": 9,
   "id": "36484af1",
   "metadata": {},
   "outputs": [
    {
     "data": {
      "text/plain": [
       "[<Element product at 0x107fc3900>, <Element product at 0x11d9cf740>]"
      ]
     },
     "execution_count": 9,
     "metadata": {},
     "output_type": "execute_result"
    }
   ],
   "source": [
    "root.xpath(\"//product[price >= 200 and price <= 600]\")\n"
   ]
  }
 ],
 "metadata": {
  "kernelspec": {
   "display_name": "Python 3 (ipykernel)",
   "language": "python",
   "name": "python3"
  },
  "language_info": {
   "codemirror_mode": {
    "name": "ipython",
    "version": 3
   },
   "file_extension": ".py",
   "mimetype": "text/x-python",
   "name": "python",
   "nbconvert_exporter": "python",
   "pygments_lexer": "ipython3",
   "version": "3.12.2"
  }
 },
 "nbformat": 4,
 "nbformat_minor": 5
}
