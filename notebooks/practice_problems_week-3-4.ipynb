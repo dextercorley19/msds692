{
 "cells": [
  {
   "cell_type": "code",
   "execution_count": 3,
   "metadata": {},
   "outputs": [],
   "source": [
    "import pandas as pd"
   ]
  },
  {
   "cell_type": "markdown",
   "metadata": {},
   "source": [
    "**Exercise 1**: Write a solution to find all the employees who approved at least one of their own requests. An employee is considered to have approved their own request if their employee_id matches their approver_id for any row in the table."
   ]
  },
  {
   "cell_type": "code",
   "execution_count": 3,
   "metadata": {},
   "outputs": [],
   "source": [
    "data_approvals = {\n",
    "    'request_id': [101, 102, 103, 104, 105, 106, 107],\n",
    "    'employee_id': [1, 2, 3, 4, 2, 5, 6],\n",
    "    'approver_id': [2, 2, 3, 6, 2, 5, 6],\n",
    "    'approval_date': ['2023-01-10', '2023-01-12', '2023-01-15',\\\n",
    "                      '2023-01-16', '2023-01-18', '2023-01-20', '2023-01-22']\n",
    "}\n",
    "\n",
    "df_approvals = pd.DataFrame(data_approvals)"
   ]
  },
  {
   "cell_type": "markdown",
   "metadata": {},
   "source": [
    "**Exercise 2**: Select rows where the department is either 'Sales' or 'HR' and the score is greater than 80."
   ]
  },
  {
   "cell_type": "code",
   "execution_count": null,
   "metadata": {},
   "outputs": [],
   "source": [
    "data = {\n",
    "    'emp_id': [1, 2, 3, 4, 5, 6, 7, 8],\n",
    "    'name': ['Alice', 'Bob', 'Charlie', 'David', 'Eve', 'Frank', 'Grace', 'Hannah'],\n",
    "    'department': ['Sales', 'Marketing', 'HR', 'IT', 'Sales', 'Marketing', 'IT', 'HR'],\n",
    "    'score': [88, 75, 95, 65, 80, 90, 70, 85],\n",
    "    'tenure': [5, 3, 4, 2, 6, 1, 5, 7]\n",
    "}\n",
    "df = pd.DataFrame(data)"
   ]
  },
  {
   "cell_type": "markdown",
   "metadata": {},
   "source": [
    "**Exercise 3**: You are given a DataFrame, reviews, containing user reviews of a product. Each review is a string that may contain various positive or negative words. Your task is to classify each review as \"Positive,\" \"Negative,\" or \"Neutral\" based on the count of these words. If the number of positive words exceeds the number of negative words, the prediction should be \"Positive.\" If the number of negative words exceeds the number of positive words, the prediction should be \"Negative.\" If the counts are equal, the prediction should be \"Neutral.\" Create a column called \"prediction.\"\n"
   ]
  },
  {
   "cell_type": "code",
   "execution_count": null,
   "metadata": {},
   "outputs": [],
   "source": [
    "import pandas as pd\n",
    "\n",
    "# Sample data\n",
    "reviews = pd.DataFrame({\n",
    "    'review_id': [1, 2, 3, 4],\n",
    "    'text': [\n",
    "        'I love this product, it is amazing and fantastic',\n",
    "        'The quality is bad and I am very disappointed',\n",
    "        'It is a great day with excellent service',\n",
    "        'Worst experience ever, I hate it'\n",
    "    ]\n",
    "})\n",
    "\n",
    "positive_words = ['good', 'great', 'excellent', 'amazing', 'happy', 'love', 'fantastic', 'awesome']\n",
    "negative_words = ['bad', 'terrible', 'poor', 'sad', 'hate', 'awful', 'disappointed', 'worst']\n",
    "\n"
   ]
  },
  {
   "cell_type": "code",
   "execution_count": 3,
   "metadata": {},
   "outputs": [
    {
     "data": {
      "text/plain": [
       "'string With Punctuation'"
      ]
     },
     "execution_count": 3,
     "metadata": {},
     "output_type": "execute_result"
    }
   ],
   "source": [
    "# You might want to remove punctuation before splitting a string into words\n",
    "# re.sub(): Uses a regular expression to match any character that is not a word character (\\w)\n",
    "# or whitespace (\\s), effectively removing all punctuation characters.\n",
    "import re\n",
    "s = \"string. With. Punctuation?\"\n",
    "s = re.sub(r'[^\\w\\s]','',s)\n",
    "s"
   ]
  },
  {
   "cell_type": "markdown",
   "metadata": {},
   "source": [
    "**Problem 4**: Given the dataframe below, write a solution to find, for each date, the total number of items ordered and the names of all unique items sold, sorted lexicographically.\n",
    "\n",
    "The unique item names for each date should be separated by commas and sorted alphabetically."
   ]
  },
  {
   "cell_type": "code",
   "execution_count": 4,
   "metadata": {},
   "outputs": [],
   "source": [
    "data = {\n",
    "    'order_id': [1, 2, 3, 4, 5, 6, 7, 8],\n",
    "    'order_date': ['2023-01-01', '2023-01-01', '2023-01-02', '2023-01-01', \n",
    "                   '2023-01-03', '2023-01-02', '2023-01-03', '2023-01-03'],\n",
    "    'item': ['Apple', 'Banana', 'Apple', 'Apple', 'Orange', 'Banana', 'Banana', 'Apple'],\n",
    "    'quantity': [10, 5, 3, 2, 7, 4, 6, 8]\n",
    "}\n",
    "\n",
    "df = pd.DataFrame(data)\n",
    "df['order_date'] = pd.to_datetime(df['order_date'])"
   ]
  }
 ],
 "metadata": {
  "kernelspec": {
   "display_name": "base",
   "language": "python",
   "name": "python3"
  },
  "language_info": {
   "codemirror_mode": {
    "name": "ipython",
    "version": 3
   },
   "file_extension": ".py",
   "mimetype": "text/x-python",
   "name": "python",
   "nbconvert_exporter": "python",
   "pygments_lexer": "ipython3",
   "version": "3.12.2"
  }
 },
 "nbformat": 4,
 "nbformat_minor": 2
}
