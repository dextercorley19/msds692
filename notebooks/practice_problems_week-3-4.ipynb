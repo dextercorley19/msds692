{
 "cells": [
  {
   "cell_type": "code",
   "execution_count": 2,
   "metadata": {},
   "outputs": [],
   "source": [
    "import pandas as pd"
   ]
  },
  {
   "cell_type": "markdown",
   "metadata": {},
   "source": [
    "**Exercise 1**: Filter the DataFrame to show only the rows where Salary is greater than 50000 and Experience is between 3 and 10 years. Only display the EmployeeID and Department columns.\""
   ]
  },
  {
   "cell_type": "code",
   "execution_count": 3,
   "metadata": {},
   "outputs": [],
   "source": [
    "data = {\n",
    "    'EmployeeID': [101, 102, 103, 104, 105],\n",
    "    'Name': ['Alice', 'Bob', 'Charlie', 'David', 'Eve'],\n",
    "    'Department': ['HR', 'Finance', 'Engineering', 'Marketing', 'IT'],\n",
    "    'Salary': [55000, 48000, 72000, 60000, 45000],\n",
    "    'Experience': [5, 2, 7, 10, 3]\n",
    "}\n",
    "\n",
    "df = pd.DataFrame(data)"
   ]
  },
  {
   "cell_type": "markdown",
   "metadata": {},
   "source": [
    "**Exercise 2:** You are analyzing sales performance data for a retail chain. Given a DataFrame containing columns for the store location, product category, and the amount of sales:\n",
    "\n",
    "Task 1: Determine the total sales amount for each product category across all stores.\n",
    "\n",
    "Task 2: Determine the average sales amount per store for each product category.\n",
    "\n",
    "Task 3: Find the store with the highest total sales."
   ]
  },
  {
   "cell_type": "code",
   "execution_count": 3,
   "metadata": {},
   "outputs": [
    {
     "data": {
      "text/html": [
       "<div>\n",
       "<style scoped>\n",
       "    .dataframe tbody tr th:only-of-type {\n",
       "        vertical-align: middle;\n",
       "    }\n",
       "\n",
       "    .dataframe tbody tr th {\n",
       "        vertical-align: top;\n",
       "    }\n",
       "\n",
       "    .dataframe thead th {\n",
       "        text-align: right;\n",
       "    }\n",
       "</style>\n",
       "<table border=\"1\" class=\"dataframe\">\n",
       "  <thead>\n",
       "    <tr style=\"text-align: right;\">\n",
       "      <th></th>\n",
       "      <th>Store</th>\n",
       "      <th>Product_Category</th>\n",
       "      <th>Sales_Amount</th>\n",
       "    </tr>\n",
       "  </thead>\n",
       "  <tbody>\n",
       "    <tr>\n",
       "      <th>0</th>\n",
       "      <td>North</td>\n",
       "      <td>Electronics</td>\n",
       "      <td>15000</td>\n",
       "    </tr>\n",
       "    <tr>\n",
       "      <th>1</th>\n",
       "      <td>South</td>\n",
       "      <td>Furniture</td>\n",
       "      <td>8000</td>\n",
       "    </tr>\n",
       "    <tr>\n",
       "      <th>2</th>\n",
       "      <td>East</td>\n",
       "      <td>Electronics</td>\n",
       "      <td>12000</td>\n",
       "    </tr>\n",
       "    <tr>\n",
       "      <th>3</th>\n",
       "      <td>West</td>\n",
       "      <td>Clothing</td>\n",
       "      <td>5000</td>\n",
       "    </tr>\n",
       "    <tr>\n",
       "      <th>4</th>\n",
       "      <td>North</td>\n",
       "      <td>Furniture</td>\n",
       "      <td>10000</td>\n",
       "    </tr>\n",
       "    <tr>\n",
       "      <th>5</th>\n",
       "      <td>South</td>\n",
       "      <td>Clothing</td>\n",
       "      <td>6000</td>\n",
       "    </tr>\n",
       "    <tr>\n",
       "      <th>6</th>\n",
       "      <td>East</td>\n",
       "      <td>Electronics</td>\n",
       "      <td>11000</td>\n",
       "    </tr>\n",
       "    <tr>\n",
       "      <th>7</th>\n",
       "      <td>West</td>\n",
       "      <td>Furniture</td>\n",
       "      <td>7000</td>\n",
       "    </tr>\n",
       "  </tbody>\n",
       "</table>\n",
       "</div>"
      ],
      "text/plain": [
       "   Store Product_Category  Sales_Amount\n",
       "0  North      Electronics         15000\n",
       "1  South        Furniture          8000\n",
       "2   East      Electronics         12000\n",
       "3   West         Clothing          5000\n",
       "4  North        Furniture         10000\n",
       "5  South         Clothing          6000\n",
       "6   East      Electronics         11000\n",
       "7   West        Furniture          7000"
      ]
     },
     "execution_count": 3,
     "metadata": {},
     "output_type": "execute_result"
    }
   ],
   "source": [
    "data = {\n",
    "    'Store': ['North', 'South', 'East', 'West', 'North', 'South', 'East', 'West'],\n",
    "    'Product_Category': ['Electronics', 'Furniture', 'Electronics', 'Clothing', 'Furniture', 'Clothing', 'Electronics', 'Furniture'],\n",
    "    'Sales_Amount': [15000, 8000, 12000, 5000, 10000, 6000, 11000, 7000]\n",
    "}\n",
    "\n",
    "df = pd.DataFrame(data)\n",
    "df"
   ]
  },
  {
   "cell_type": "markdown",
   "metadata": {},
   "source": [
    "**Exercise 3**: Write a solution to find all the employees who approved at least one of their own requests. An employee is considered to have approved their own request if their employee_id matches their approver_id for any row in the table."
   ]
  },
  {
   "cell_type": "code",
   "execution_count": 3,
   "metadata": {},
   "outputs": [],
   "source": [
    "data_approvals = {\n",
    "    'request_id': [101, 102, 103, 104, 105, 106, 107],\n",
    "    'employee_id': [1, 2, 3, 4, 2, 5, 6],\n",
    "    'approver_id': [2, 2, 3, 6, 2, 5, 6],\n",
    "    'approval_date': ['2023-01-10', '2023-01-12', '2023-01-15',\\\n",
    "                      '2023-01-16', '2023-01-18', '2023-01-20', '2023-01-22']\n",
    "}\n",
    "\n",
    "df_approvals = pd.DataFrame(data_approvals)"
   ]
  },
  {
   "cell_type": "markdown",
   "metadata": {},
   "source": [
    "**Exercise 4**: Select rows where the department is either 'Sales' or 'HR' and the score is greater than 80."
   ]
  },
  {
   "cell_type": "code",
   "execution_count": null,
   "metadata": {},
   "outputs": [],
   "source": [
    "data = {\n",
    "    'emp_id': [1, 2, 3, 4, 5, 6, 7, 8],\n",
    "    'name': ['Alice', 'Bob', 'Charlie', 'David', 'Eve', 'Frank', 'Grace', 'Hannah'],\n",
    "    'department': ['Sales', 'Marketing', 'HR', 'IT', 'Sales', 'Marketing', 'IT', 'HR'],\n",
    "    'score': [88, 75, 95, 65, 80, 90, 70, 85],\n",
    "    'tenure': [5, 3, 4, 2, 6, 1, 5, 7]\n",
    "}\n",
    "df = pd.DataFrame(data)"
   ]
  },
  {
   "cell_type": "markdown",
   "metadata": {},
   "source": [
    "**Exercise 5**: You are given a DataFrame, reviews, containing user reviews of a product. Each review is a string that may contain various positive or negative words. Your task is to classify each review as \"Positive,\" \"Negative,\" or \"Neutral\" based on the count of these words. If the number of positive words exceeds the number of negative words, the prediction should be \"Positive.\" If the number of negative words exceeds the number of positive words, the prediction should be \"Negative.\" If the counts are equal, the prediction should be \"Neutral.\" Create a column called \"prediction.\"\n"
   ]
  },
  {
   "cell_type": "code",
   "execution_count": null,
   "metadata": {},
   "outputs": [],
   "source": [
    "import pandas as pd\n",
    "\n",
    "# Sample data\n",
    "reviews = pd.DataFrame({\n",
    "    'review_id': [1, 2, 3, 4],\n",
    "    'text': [\n",
    "        'I love this product, it is amazing and fantastic',\n",
    "        'The quality is bad and I am very disappointed',\n",
    "        'It is a great day with excellent service',\n",
    "        'Worst experience ever, I hate it'\n",
    "    ]\n",
    "})\n",
    "\n",
    "positive_words = ['good', 'great', 'excellent', 'amazing', 'happy', 'love', 'fantastic', 'awesome']\n",
    "negative_words = ['bad', 'terrible', 'poor', 'sad', 'hate', 'awful', 'disappointed', 'worst']\n",
    "\n"
   ]
  },
  {
   "cell_type": "code",
   "execution_count": 3,
   "metadata": {},
   "outputs": [
    {
     "data": {
      "text/plain": [
       "'string With Punctuation'"
      ]
     },
     "execution_count": 3,
     "metadata": {},
     "output_type": "execute_result"
    }
   ],
   "source": [
    "# You might want to remove punctuation before splitting a string into words\n",
    "# re.sub(): Uses a regular expression to match any character that is not a word character (\\w)\n",
    "# or whitespace (\\s), effectively removing all punctuation characters.\n",
    "import re\n",
    "s = \"string. With. Punctuation?\"\n",
    "s = re.sub(r'[^\\w\\s]','',s)\n",
    "s"
   ]
  },
  {
   "cell_type": "markdown",
   "metadata": {},
   "source": [
    "**Problem 6**: Given the dataframe below, write a solution to find, for each date, the total number of items ordered and the names of all unique items sold, sorted lexicographically.\n",
    "\n",
    "The unique item names for each date should be separated by commas and sorted alphabetically."
   ]
  },
  {
   "cell_type": "code",
   "execution_count": 4,
   "metadata": {},
   "outputs": [],
   "source": [
    "data = {\n",
    "    'order_id': [1, 2, 3, 4, 5, 6, 7, 8],\n",
    "    'order_date': ['2023-01-01', '2023-01-01', '2023-01-02', '2023-01-01', \n",
    "                   '2023-01-03', '2023-01-02', '2023-01-03', '2023-01-03'],\n",
    "    'item': ['Apple', 'Banana', 'Apple', 'Apple', 'Orange', 'Banana', 'Banana', 'Apple'],\n",
    "    'quantity': [10, 5, 3, 2, 7, 4, 6, 8]\n",
    "}\n",
    "\n",
    "df = pd.DataFrame(data)\n",
    "df['order_date'] = pd.to_datetime(df['order_date'])"
   ]
  },
  {
   "cell_type": "markdown",
   "metadata": {},
   "source": [
    "**Problem 7**:\n",
    "You want to group individual rows in this dataset into purchase sessions. Two rows should belong to the same session if:\n",
    "\n",
    "1. They have the same customer_id.\n",
    "2. The add_time is within 30 minutes of each other.\n",
    "\n",
    "Task:\n",
    "\n",
    "Create a column in purchases called session_id that identifies which rows belong to the same session.\n",
    "The session_id should be a unique identifier for each session for every customer_id.\n",
    "\n",
    "Hints: Use groupby on customer_id and then use diff and cumsum to identify the start of new sessions."
   ]
  },
  {
   "cell_type": "code",
   "execution_count": 4,
   "metadata": {},
   "outputs": [
    {
     "data": {
      "text/html": [
       "<div>\n",
       "<style scoped>\n",
       "    .dataframe tbody tr th:only-of-type {\n",
       "        vertical-align: middle;\n",
       "    }\n",
       "\n",
       "    .dataframe tbody tr th {\n",
       "        vertical-align: top;\n",
       "    }\n",
       "\n",
       "    .dataframe thead th {\n",
       "        text-align: right;\n",
       "    }\n",
       "</style>\n",
       "<table border=\"1\" class=\"dataframe\">\n",
       "  <thead>\n",
       "    <tr style=\"text-align: right;\">\n",
       "      <th></th>\n",
       "      <th>customer_id</th>\n",
       "      <th>product_id</th>\n",
       "      <th>add_time</th>\n",
       "    </tr>\n",
       "  </thead>\n",
       "  <tbody>\n",
       "    <tr>\n",
       "      <th>0</th>\n",
       "      <td>1</td>\n",
       "      <td>101</td>\n",
       "      <td>2023-01-01 10:00:00</td>\n",
       "    </tr>\n",
       "    <tr>\n",
       "      <th>1</th>\n",
       "      <td>1</td>\n",
       "      <td>102</td>\n",
       "      <td>2023-01-01 10:15:00</td>\n",
       "    </tr>\n",
       "    <tr>\n",
       "      <th>2</th>\n",
       "      <td>1</td>\n",
       "      <td>103</td>\n",
       "      <td>2023-01-01 11:00:00</td>\n",
       "    </tr>\n",
       "    <tr>\n",
       "      <th>3</th>\n",
       "      <td>2</td>\n",
       "      <td>201</td>\n",
       "      <td>2023-01-02 14:30:00</td>\n",
       "    </tr>\n",
       "    <tr>\n",
       "      <th>4</th>\n",
       "      <td>2</td>\n",
       "      <td>202</td>\n",
       "      <td>2023-01-02 15:00:00</td>\n",
       "    </tr>\n",
       "    <tr>\n",
       "      <th>5</th>\n",
       "      <td>3</td>\n",
       "      <td>301</td>\n",
       "      <td>2023-01-03 16:45:00</td>\n",
       "    </tr>\n",
       "    <tr>\n",
       "      <th>6</th>\n",
       "      <td>3</td>\n",
       "      <td>302</td>\n",
       "      <td>2023-01-03 17:00:00</td>\n",
       "    </tr>\n",
       "    <tr>\n",
       "      <th>7</th>\n",
       "      <td>3</td>\n",
       "      <td>303</td>\n",
       "      <td>2023-01-03 17:35:00</td>\n",
       "    </tr>\n",
       "  </tbody>\n",
       "</table>\n",
       "</div>"
      ],
      "text/plain": [
       "   customer_id  product_id            add_time\n",
       "0            1         101 2023-01-01 10:00:00\n",
       "1            1         102 2023-01-01 10:15:00\n",
       "2            1         103 2023-01-01 11:00:00\n",
       "3            2         201 2023-01-02 14:30:00\n",
       "4            2         202 2023-01-02 15:00:00\n",
       "5            3         301 2023-01-03 16:45:00\n",
       "6            3         302 2023-01-03 17:00:00\n",
       "7            3         303 2023-01-03 17:35:00"
      ]
     },
     "execution_count": 4,
     "metadata": {},
     "output_type": "execute_result"
    }
   ],
   "source": [
    "data = {\n",
    "    'customer_id': [1, 1, 1, 2, 2, 3, 3, 3],\n",
    "    'product_id': [101, 102, 103, 201, 202, 301, 302, 303],\n",
    "    'add_time': [\n",
    "        '2023-01-01 10:00:00', '2023-01-01 10:15:00', '2023-01-01 11:00:00',\n",
    "        '2023-01-02 14:30:00', '2023-01-02 15:00:00', '2023-01-03 16:45:00',\n",
    "        '2023-01-03 17:00:00', '2023-01-03 17:35:00'\n",
    "    ]\n",
    "}\n",
    "purchases = pd.DataFrame(data)\n",
    "purchases['add_time'] = pd.to_datetime(purchases['add_time'])\n",
    "purchases"
   ]
  }
 ],
 "metadata": {
  "kernelspec": {
   "display_name": "base",
   "language": "python",
   "name": "python3"
  },
  "language_info": {
   "codemirror_mode": {
    "name": "ipython",
    "version": 3
   },
   "file_extension": ".py",
   "mimetype": "text/x-python",
   "name": "python",
   "nbconvert_exporter": "python",
   "pygments_lexer": "ipython3",
   "version": "3.12.2"
  }
 },
 "nbformat": 4,
 "nbformat_minor": 2
}
