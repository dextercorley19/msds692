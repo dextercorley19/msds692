{
 "cells": [
  {
   "cell_type": "markdown",
   "id": "7f2f38da-45a9-42a1-b2e2-4e063c6e56fd",
   "metadata": {},
   "source": [
    "## Google search API\n",
    "Follow the following steps to get a search engine ID and a search API key.\n",
    "\n",
    "1. Create a Custom Search Engine (CSE) </br>\n",
    " https://programmablesearchengine.google.com/controlpanel/all </br>\n",
    " Note the Search Engine ID as you'll need it for API requests.</br>\n",
    "2. Enable the Custom Search API </br>\n",
    "https://console.cloud.google.com/ </br>\n",
    " Create a new project or select an existing project. </br>\n",
    " Navigate to API & Services > Library and search for \"Custom Search API\" </br>\n",
    " Enable the Custom Search API for your project. </br>\n",
    " Go to API & Services > Credentials and create an API key. (Click Create credentials and select API key.) </br>\n",
    " Note the API key, as you'll need it for making API requests.</br>"
   ]
  },
  {
   "cell_type": "code",
   "execution_count": 1,
   "id": "3bc71741-6e92-4c15-92bf-f3e949b77f30",
   "metadata": {
    "tags": []
   },
   "outputs": [],
   "source": [
    "import requests\n",
    "import json"
   ]
  },
  {
   "cell_type": "code",
   "execution_count": 37,
   "id": "fe67dd11-3e6a-43b9-acad-e13a1d541788",
   "metadata": {
    "tags": []
   },
   "outputs": [],
   "source": [
    "api_key = ! cat ~/.keys/google_cloud_key \n",
    "cse_id = ! cat ~/.keys/search_engine_id\n",
    "api_key = api_key[0]\n",
    "cse_id = cse_id[0]"
   ]
  },
  {
   "cell_type": "code",
   "execution_count": 35,
   "id": "5db59db4",
   "metadata": {},
   "outputs": [],
   "source": [
    "def google_search(query, api_key, cse_id):\n",
    "    url = f\"https://www.googleapis.com/customsearch/v1?q={query}&key={api_key}&cx={cse_id}\"\n",
    "    response = requests.get(url)\n",
    "    results = response.json().get('items', [])\n",
    "    return results"
   ]
  },
  {
   "cell_type": "code",
   "execution_count": 36,
   "id": "e0877cf2-48dc-4146-a300-ab89fbcea5b6",
   "metadata": {
    "tags": []
   },
   "outputs": [
    {
     "name": "stdout",
     "output_type": "stream",
     "text": [
      "Title: A Pragmatic Bet: The Evolution of Spain's Immigration System\n",
      "Link: https://www.migrationpolicy.org/article/spain-immigration-system-evolution\n",
      "Snippet: Apr 18, 2023 ... ARTICLE: Historically a country of emigration, Spain rapidly transitioned to become one of Europe's major immigration destinations in just a ...\n",
      "\n",
      "Title: Immigration to Spain - Wikipedia\n",
      "Link: https://en.wikipedia.org/wiki/Immigration_to_Spain\n",
      "Snippet: This makes Spain the 4th country in Europe by immigration numbers and the 10th worldwide. Spain attracts significant immigration from Latin America and Eastern ...\n",
      "\n",
      "Title: National visas\n",
      "Link: https://www.exteriores.gob.es/Embajadas/seul/en/ServiciosConsulares/Paginas/Consular/Visados-nacionales-Informacion-general.aspx\n",
      "Snippet: Third-country nationals require a national visa when they are going to stay in Spain for more than 90 days (in any 180-day period) for the purposes of work ...\n",
      "\n",
      "Title: Spain - Highly-qualified worker - European Commission\n",
      "Link: https://immigration-portal.ec.europa.eu/spain-highly-qualified-worker_en\n",
      "Snippet: Are you a non-EU citizen wishing to work as a highly-skilled employee in Spain ... Spain - Highly-qualified worker ... EU Immigration Portal. This site is managed ...\n",
      "\n",
      "Title: Immigration, employment, productivity and inequality in Spain ...\n",
      "Link: https://www.realinstitutoelcano.org/en/analyses/immigration-employment-productivity-and-inequality-in-spain/\n",
      "Snippet: Feb 27, 2024 ... At the same time, between 2000 and 2022 Spain's per capita GDP has lagged behind that of the EU-15, due to the low productivity of its economy.\n",
      "\n",
      "Title: Immigration to Spain from USA - Relocation Guide\n",
      "Link: https://immigrate-spain.com/immigrate-to-spain-from-usa/\n",
      "Snippet: Sep 20, 2022 ... Our Spain immigration agents can help USA citizens who wish to move to Spain either to work or to relocate here with their families or after ...\n",
      "\n",
      "Title: Examining the relationship between psychosis and immigration in ...\n",
      "Link: https://pubmed.ncbi.nlm.nih.gov/34801256/\n",
      "Snippet: University Hospital Virgen Del Rocio, Sevilla, Spain; Spanish Network for Research in Mental Health (CIBERSAM), Sevilla, Spain; Seville Biomedical Research ...\n",
      "\n",
      "Title: Immigration in Spain: Past, Present, and Future – Beyond the Bubble\n",
      "Link: https://amherstglobaleducationblog.sites.amherst.edu/2024/immigration-in-spain-past-present-and-future/\n",
      "Snippet: Feb 27, 2024 ... Most of the immigrants were from other European countries, Latin America, and North Africa. Going into the 21st century, immigration in Spain ...\n",
      "\n",
      "Title: Highs and lows of immigrant integration in Spain - Elcano Royal ...\n",
      "Link: https://www.realinstitutoelcano.org/en/analyses/highs-and-lows-of-immigrant-integration-in-spain/\n",
      "Snippet: For now, the integration of immigrants hailing from countries poorer than Spain takes place in the lower reaches of the occupational and social hierarchy, with ...\n",
      "\n",
      "Title: Spain sees US-style economic boost from immigrant workers | Reuters\n",
      "Link: https://www.reuters.com/markets/europe/spain-sees-us-style-economic-boost-immigrant-workers-2024-04-24/\n",
      "Snippet: Apr 24, 2024 ... Immigration accounted for 64% of new jobs created and half of Spain's economic growth in 2023, according to Raymond Torres, chief economist at ...\n",
      "\n"
     ]
    }
   ],
   "source": [
    "results = google_search('immigration to Spain', api_key, cse_id)\n",
    "\n",
    "for item in results:\n",
    "    title = item['title']\n",
    "    link = item['link']\n",
    "    snippet = item['snippet']\n",
    "    print(f\"Title: {title}\\nLink: {link}\\nSnippet: {snippet}\\n\")"
   ]
  },
  {
   "cell_type": "code",
   "execution_count": 44,
   "id": "9984068d",
   "metadata": {},
   "outputs": [],
   "source": [
    "links = []\n",
    "for item in results:\n",
    "    links.append(item['link'])"
   ]
  },
  {
   "cell_type": "code",
   "execution_count": 45,
   "id": "6722ce67",
   "metadata": {},
   "outputs": [
    {
     "data": {
      "text/plain": [
       "['https://www.migrationpolicy.org/article/spain-immigration-system-evolution',\n",
       " 'https://en.wikipedia.org/wiki/Immigration_to_Spain',\n",
       " 'https://www.exteriores.gob.es/Embajadas/seul/en/ServiciosConsulares/Paginas/Consular/Visados-nacionales-Informacion-general.aspx',\n",
       " 'https://immigration-portal.ec.europa.eu/spain-highly-qualified-worker_en',\n",
       " 'https://www.realinstitutoelcano.org/en/analyses/immigration-employment-productivity-and-inequality-in-spain/',\n",
       " 'https://immigrate-spain.com/immigrate-to-spain-from-usa/',\n",
       " 'https://pubmed.ncbi.nlm.nih.gov/34801256/',\n",
       " 'https://amherstglobaleducationblog.sites.amherst.edu/2024/immigration-in-spain-past-present-and-future/',\n",
       " 'https://www.realinstitutoelcano.org/en/analyses/highs-and-lows-of-immigrant-integration-in-spain/',\n",
       " 'https://www.reuters.com/markets/europe/spain-sees-us-style-economic-boost-immigrant-workers-2024-04-24/']"
      ]
     },
     "execution_count": 45,
     "metadata": {},
     "output_type": "execute_result"
    }
   ],
   "source": [
    "links"
   ]
  },
  {
   "cell_type": "code",
   "execution_count": 43,
   "id": "17285788",
   "metadata": {},
   "outputs": [],
   "source": [
    "import pickle\n",
    "with open(\"links.pkl\", 'wb') as file:\n",
    "    pickle.dump(links, file)"
   ]
  }
 ],
 "metadata": {
  "kernelspec": {
   "display_name": "Python 3 (ipykernel)",
   "language": "python",
   "name": "python3"
  },
  "language_info": {
   "codemirror_mode": {
    "name": "ipython",
    "version": 3
   },
   "file_extension": ".py",
   "mimetype": "text/x-python",
   "name": "python",
   "nbconvert_exporter": "python",
   "pygments_lexer": "ipython3",
   "version": "3.11.8"
  }
 },
 "nbformat": 4,
 "nbformat_minor": 5
}
