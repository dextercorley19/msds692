{
 "cells": [
  {
   "cell_type": "code",
   "execution_count": 2,
   "id": "d91d87ef",
   "metadata": {
    "tags": []
   },
   "outputs": [],
   "source": [
    "from pathlib import Path\n",
    "import numpy as np\n",
    "import pandas as pd\n",
    "import pickle\n",
    "from os.path import expanduser\n",
    "from collections import Counter"
   ]
  },
  {
   "cell_type": "code",
   "execution_count": 3,
   "id": "a5af7999",
   "metadata": {
    "tags": []
   },
   "outputs": [],
   "source": [
    "import re\n",
    "import spacy"
   ]
  },
  {
   "cell_type": "markdown",
   "id": "9c4a2545-1800-428d-a841-3fc7a879f5c9",
   "metadata": {},
   "source": [
    "Install the following packages: <br>\n",
    "`pip install -U pip setuptools wheel` <br>\n",
    "`pip install -U spacy` <br>\n",
    "`python -m spacy download en_core_web_sm` <br>\n",
    "`python -m spacy download es_core_news_sm`<br>"
   ]
  },
  {
   "cell_type": "markdown",
   "id": "175cd3a5",
   "metadata": {},
   "source": [
    "### Using re in Python"
   ]
  },
  {
   "cell_type": "code",
   "execution_count": 22,
   "id": "23571082",
   "metadata": {},
   "outputs": [
    {
     "data": {
      "text/plain": [
       "'123'"
      ]
     },
     "execution_count": 22,
     "metadata": {},
     "output_type": "execute_result"
    }
   ],
   "source": [
    "# \\d+ matches numbers\n",
    "# Searches the entire string for the first occurrence of the pattern and\n",
    "# returns a match object if found; otherwise, it returns None.\n",
    "result = re.search(r\"\\d+\", \"There are 123 apples\")\n",
    "result.group()"
   ]
  },
  {
   "cell_type": "code",
   "execution_count": 11,
   "id": "c354dea9",
   "metadata": {},
   "outputs": [
    {
     "data": {
      "text/plain": [
       "['123', '456']"
      ]
     },
     "execution_count": 11,
     "metadata": {},
     "output_type": "execute_result"
    }
   ],
   "source": [
    "# Returns a list of all non-overlapping matches of the pattern in the string.\n",
    "result = re.findall(r\"\\d+\", \"There are 123 apples and 456 oranges\")\n",
    "result"
   ]
  },
  {
   "cell_type": "code",
   "execution_count": 10,
   "id": "f86f3e91",
   "metadata": {},
   "outputs": [
    {
     "data": {
      "text/plain": [
       "'There are # apples and # oranges'"
      ]
     },
     "execution_count": 10,
     "metadata": {},
     "output_type": "execute_result"
    }
   ],
   "source": [
    "# Replaces all occurrences of the pattern in the string with the replacement text.\n",
    "result = re.sub(r\"\\d+\", \"#\", \"There are 123 apples and 456 oranges\")\n",
    "result"
   ]
  },
  {
   "cell_type": "code",
   "execution_count": 15,
   "id": "604a2656",
   "metadata": {},
   "outputs": [],
   "source": [
    "desc = \"\"\"Beautiful 4-bedroom, 3-bathroom house with a large backyard. \n",
    "Features include a modern kitchen, hardwood floors, and a finished basement. \n",
    "Located in a quiet neighborhood with close access to schools and parks.\"\"\""
   ]
  },
  {
   "cell_type": "code",
   "execution_count": 17,
   "id": "99e45b8e",
   "metadata": {},
   "outputs": [
    {
     "data": {
      "text/plain": [
       "'4-bedroom'"
      ]
     },
     "execution_count": 17,
     "metadata": {},
     "output_type": "execute_result"
    }
   ],
   "source": [
    "re.search(r\"\\d-bedroom\", desc).group()"
   ]
  },
  {
   "cell_type": "code",
   "execution_count": 24,
   "id": "5c73b64c",
   "metadata": {},
   "outputs": [
    {
     "data": {
      "text/plain": [
       "('3-bathroom', '3')"
      ]
     },
     "execution_count": 24,
     "metadata": {},
     "output_type": "execute_result"
    }
   ],
   "source": [
    "bathrooms = re.search(r\"\\d-bathroom\", desc).group()\n",
    "bathrooms, bathrooms.replace(\"-bathroom\", \"\")"
   ]
  },
  {
   "cell_type": "markdown",
   "id": "9f4e06e7",
   "metadata": {},
   "source": [
    "### Houses for sale"
   ]
  },
  {
   "cell_type": "code",
   "execution_count": 25,
   "id": "9ff578ee",
   "metadata": {
    "tags": []
   },
   "outputs": [],
   "source": [
    "filename = expanduser(\"~/data/houses_for_sale.pickle\")\n",
    "with open(filename,'rb') as f:\n",
    "    data = pickle.load(f, encoding='utf-8')"
   ]
  },
  {
   "cell_type": "markdown",
   "id": "f130461b-9348-409a-8569-0d2ee9d30388",
   "metadata": {},
   "source": [
    "This dataset was acquired by scraping a website that compiles property listings available for sale in Spain. Our objective is to leverage this data to gain insights into properties that offer a favorable value proposition for potential buyers.\n",
    "\n",
    "One approach to achieve this is by training a model that can predict the asking price based on various \"features\" associated with each property listing. We intend to employ models that take a numerical feature vector as input to estimate the price. However, there are several data quality issues that need to be addressed before we can even begin creating features for this dataset:\n",
    "\n",
    "1. Remove listings that advertise multiple units for sale.\n",
    "2. Fix the \"number of bedrooms\" in some listings.\n",
    "4. Fix the location feature. Encoding it as a categorical variable.\n",
    "3. Generate relevant features from textual information."
   ]
  },
  {
   "cell_type": "code",
   "execution_count": 26,
   "id": "fe94cedd",
   "metadata": {
    "tags": []
   },
   "outputs": [
    {
     "data": {
      "text/plain": [
       "913"
      ]
     },
     "execution_count": 26,
     "metadata": {},
     "output_type": "execute_result"
    }
   ],
   "source": [
    "len(data)"
   ]
  },
  {
   "cell_type": "code",
   "execution_count": 27,
   "id": "d8d9c623-3370-4af2-8058-188da0d90d12",
   "metadata": {
    "tags": []
   },
   "outputs": [
    {
     "data": {
      "text/plain": [
       "{'price': '320.000 €',\n",
       " 'title': 'Piso Tallers. Piso con 2 habitaciones con ascensor',\n",
       " 'loc_string': 'Barcelona - Sant Antoni',\n",
       " 'loc': None,\n",
       " 'features': ['85 m2', '2 hab.', '1 baño', '3.647 €/m2'],\n",
       " 'type': 'FLAT',\n",
       " 'subtype': 'FLAT',\n",
       " 'selltype': 'SECOND_HAND',\n",
       " 'desc': 'Piso en última planta a reformar en calle Tallers junto a plaza Universitat.\\n\\nLa propiedad ofrece muchas posibilidades para personalizarla según sus necesidades, ya que todas las paredes son tabiques.\\n\\nLa distribución actual cuenta con salón comedor amplio, cocina, dos habitaciones dobles exteriores, dos habitaciones interiores, baño y despensa/trastero. Balcones a ambos lados de la vivienda, uno a patio de manzana y los otros dos a carrer Tallers. Suelos originales.\\n\\nFinca del 1882 con ascensor.\\n\\nCalle peatonal con encanto en el centro de Barcelona, rodeada de todo tipo de comercios y servicios. Buenas comunicaciones mediante transportes publicos, metro, autobuses y FFCC.'}"
      ]
     },
     "execution_count": 27,
     "metadata": {},
     "output_type": "execute_result"
    }
   ],
   "source": [
    "# data is a list of dictionaries\n",
    "data[0]"
   ]
  },
  {
   "cell_type": "markdown",
   "id": "a5c4976f",
   "metadata": {},
   "source": [
    "## Removing ads from multiple units\n",
    "If features starts with \"desde\" it means that the ad is advertising multiple units. See for example this add in which the price is None and features start with \"desde\"."
   ]
  },
  {
   "cell_type": "code",
   "execution_count": 6,
   "id": "2586ddce-7ca9-4735-92a7-db5aa3dd50c3",
   "metadata": {
    "tags": []
   },
   "outputs": [
    {
     "data": {
      "text/plain": [
       "{'price': None,\n",
       " 'title': 'PASEO DE GRACIA 30',\n",
       " 'loc_string': 'Barcelona - Dreta de l´Eixample',\n",
       " 'loc': None,\n",
       " 'features': ['desde 70 m2', '15.785,71 €/m2'],\n",
       " 'type': 'NEW_CONSTRUCTION',\n",
       " 'subtype': 'NEW_CONSTRUCTION',\n",
       " 'selltype': 'NEW_CONSTRUCTION',\n",
       " 'desc': 'Pisos con Piscina comunitaria y Terraza a estrenar en Paseo de Gracia, Barcelona.\\n\\nEn total, la finca presenta 21 viviendas únicas, una azotea con piscina y zona chill out, un patio vegetal interior, mirador y zonas comunes. Distribuidos en 5 plantas más ático, viviendas de dormitorios, algunos con balcón y otros con agradables terrazas. El exclusivo ático, de un dormitorio y salida a una impresionante terraza con vistas inmejorables, el mejor producto para nuestros clientes más exigentes.\\n\\nCada tipología de vivienda tiene su personalidad, diferente distribución y distintas superficies, todas construidas con materiales de alta calidad.\\n\\nTodas las estancias disponen de aire acondicionado y calefacción por conductos, domótica, suelos de parqué, carpintería de aluminio y cristales dobles.\\n\\nSu situación goza de una comunicación excelente, y la experiencia única de vivir en Paseo de Gracia; rodeada de las mejores tiendas de moda, hoteles, restaurantes de alta categoría y los ejemplos más representativos del modernismo. Un lujo al alcance de pocos.\\n\\nLa obra de rehabilitación de este edificio neoclásico tradicional se ha llevado a cabo con los más altos estándares y detalles. Se ha buscado fusionar lo más distinguido del pasado y lo más funcional del futuro. Su diseño es totalmente vanguardista y cuenta con todas las comodidades de las construcciones más modernas.\\n\\n\\n\\nBrand new apartment with community pool and terrace in Paseo de Gracia, Barcelona\\nLocated in the heart of Barcelona, Paseo de Gracia is the most elegant and stately avenue in the city, and in one of the most sought after locations for business. A very attractive business proposition. It offers a very comfortable life, with all the services at your fingertips. Living on this avenue means enjoying exclusivity in the very center of the city. Enjoy the exquisite architecture of its modernist buildings such as Casa Batlló, Casa Milá or Casa Lleó Morera, mixed with modern, classic and neoclassical buildings.\\n\\nIts situation enjoys excellent communication, and the unique experience of living in Paseo de Gracia; surrounded by the best fashion stores, hotels, high-class restaurants and the most representative examples of modernism. A luxury within the reach of few.\\n\\nThe rehabilitation work of this traditional neoclassical building has been carried out with the highest standards and details. It has sought to merge the most distinguished of the past and the most functional of the future. Its design is totally avant-garde and it has all the comforts of the most modern constructions.\\n\\nIn total, the farm has 21 unique homes, a roof terrace with a swimming pool and a chill out area, an interior vegetable patio, a gazebo and common areas. Distributed over 5 floors plus an attic, homes with 1, 2 or 4 bedrooms, some with a balcony and others with pleasant terraces. The exclusive penthouse, with one bedroom and access to an impressive terrace with unbeatable views, the best product for our most demanding clients.\\n\\nEach type of home has its own personality, different distribution and different surfaces, all built with high quality materials.\\n\\n\\n\\nAppartement neuf avec piscine communautaire et terrasse à Paseo de Gracia, Barcelone\\nToutes les pièces disposent de conduits de climatisation et de chauffage, domotique, parquet, menuiserie en aluminium et double vitrage.\\nLa terrasse sur le toit élégante et exclusive offre un espace unique, avec beaucoup de végétation et une structure en bois qui entoure l´incroyable piscine, idéale pour se rafraîchir pendant les mois les plus chauds.\\n\\nSitué au cœur de Barcelone, Paseo de Gracia est l´avenue la plus élégante et majestueuse de la ville, et dans l´un des endroits les plus recherchés pour les affaires. Une proposition commerciale très attractive. Il offre une vie très confortable, avec tous les services à portée de main. Vivre sur cette avenue, c´est profiter de l´exclusivité en plein centre-ville. Profitez de l´architecture exquise de ses bâtiments modernistes tels que la Casa Batlló, la Casa Milá ou la Casa Lleó Morera, mélangés à des bâtiments modernes, classiques et néoclassiques.\\n\\nSa situation bénéficie d´une excellente communication et de l´expérience unique de vivre sur le Paseo de Gracia ; entouré des meilleurs magasins de mode, hôtels, restaurants haut de gamme et des exemples les plus représentatifs du modernisme. Un luxe à la portée de peu.\\n\\nLes travaux de réhabilitation de ce bâtiment néoclassique traditionnel ont été réalisés avec les normes et les détails les plus élevés. Il a cherché à fusionner le plus distingué du passé et le plus fonctionnel du futur. Son design est totalement avant-gardiste et il possède tout le confort des constructions les plus modernes.\\n\\nAu total, la ferme compte 21 maisons uniques, une terrasse sur le toit avec une piscine et un espace de détente, un patio végétal intérieur, un belvédère et des espaces communs. Réparties sur 5 étages plus un grenier, des maisons de 1, 2 ou 4 chambres, certaines avec balcon et d´autres avec d´agréables terrasses. Le penthouse exclusif, avec une chambre et accès à une impressionnante terrasse avec une vue imprenable, le meilleur produit pour nos clients les plus exigeants.\\n\\nChaque type de maison a sa propre personnalité, une distribution différente et des surfaces différentes, toutes construites avec des matériaux de haute qualité.\\n\\n\\n\\nPiscina comunitària i Terrassa a estrenar al Passeig de Gràcia, Barcelona\\nTotes les estances disposen d´aire condicionat i calefacció per conductes, domòtica, terres de parquet, fusteria d´alumini i vidres dobles.\\nL´elegant i exclusiu terrat ofereix un espai únic, amb quantitat de vegetació i una estructura de fusta que envolta la increïble piscina, ideal per refrescar-se en els mesos més calorosos.\\n\\nUbicada al cor de Barcelona, Passeig de Gràcia és l´avinguda més elegant i senyorial de la ciutat, i en una de les ubicacions més buscades per als negocis. Una proposta comercial molt atractiva. Ofereix una vida molt còmoda, amb tots els serveis a l´abast de la mà. Viure en aquesta avinguda vol dir gaudir d´exclusivitat al mateix centre de la ciutat. Gaudeix de l´arquitectura exquisida dels seus edificis modernistes com són la Casa Batlló, la Casa Milà o la Casa Lleó Morera, barrejats amb edificis de l´estil modern, clàssic i neoclàssic.\\n\\nLa seva situació gaudeix d´una comunicació excel·lent, i l´experiència única de viure al Passeig de Gràcia; envoltada de les millors botigues de moda, hotels, restaurants d´alta categoria i els exemples més representatius del modernisme. Un luxe al?abast de pocs.\\n\\nL´obra de rehabilitació d´aquest edifici neoclàssic tradicional s´ha dut a terme amb els estàndards i detalls més alts. S´ha buscat fusionar allò més distingit del passat i allò més funcional del futur. El seu disseny és totalment avantguardista i compta amb totes les comoditats de les construccions més modernes.'}"
      ]
     },
     "execution_count": 6,
     "metadata": {},
     "output_type": "execute_result"
    }
   ],
   "source": [
    "data[10]"
   ]
  },
  {
   "cell_type": "code",
   "execution_count": 7,
   "id": "0d50433d-31b3-493c-a18f-66166b0f26aa",
   "metadata": {
    "tags": []
   },
   "outputs": [
    {
     "data": {
      "text/plain": [
       "['desde 70 m2', '15.785,71 €/m2']"
      ]
     },
     "execution_count": 7,
     "metadata": {},
     "output_type": "execute_result"
    }
   ],
   "source": [
    "data[10]['features']"
   ]
  },
  {
   "cell_type": "markdown",
   "id": "e6a05b09",
   "metadata": {},
   "source": [
    "### **Task 1**: \n",
    "Make a new list `data_v1` in which ads that have \"desde\" on the first feature are ignored."
   ]
  },
  {
   "cell_type": "code",
   "execution_count": 30,
   "id": "dc4fbcb5",
   "metadata": {},
   "outputs": [],
   "source": [
    "assert len(data_v1) == 866"
   ]
  },
  {
   "cell_type": "code",
   "execution_count": 31,
   "id": "1ce8e1d3-eba4-4ef9-8c47-f4fff4b75b8c",
   "metadata": {
    "tags": []
   },
   "outputs": [],
   "source": [
    "def saving_versions(data, version):\n",
    "    filename = expanduser(\"~/data\")\n",
    "    filename +=  \"/houses_for_sale_train_{}.pickle\".format(version)\n",
    "    file = open(filename, 'wb')\n",
    "    pickle.dump(data, file)\n",
    "    file.close()\n",
    "    print(filename)\n",
    "    \n",
    "def load_versions(version):\n",
    "    filename = expanduser(\"~/data\")\n",
    "    filename += \"/houses_for_sale_train_{}.pickle\".format(version)\n",
    "    with open(filename,'rb') as f:\n",
    "        data = pickle.load(f, encoding='utf-8')\n",
    "    return data"
   ]
  },
  {
   "cell_type": "code",
   "execution_count": 32,
   "id": "a2020dd7",
   "metadata": {
    "tags": []
   },
   "outputs": [
    {
     "name": "stdout",
     "output_type": "stream",
     "text": [
      "/Users/yinterian/data/houses_for_sale_train_v1.pickle\n"
     ]
    },
    {
     "data": {
      "text/plain": [
       "866"
      ]
     },
     "execution_count": 32,
     "metadata": {},
     "output_type": "execute_result"
    }
   ],
   "source": [
    "# saving the new version of the data\n",
    "saving_versions(data_v1, \"v1\")\n",
    "len(data_v1)"
   ]
  },
  {
   "cell_type": "markdown",
   "id": "c04d812b",
   "metadata": {},
   "source": [
    "### Checking number of rooms feature\n",
    "and fixing issues"
   ]
  },
  {
   "cell_type": "code",
   "execution_count": 12,
   "id": "159844d4",
   "metadata": {
    "tags": []
   },
   "outputs": [
    {
     "data": {
      "text/plain": [
       "866"
      ]
     },
     "execution_count": 12,
     "metadata": {},
     "output_type": "execute_result"
    }
   ],
   "source": [
    "data_v1 = load_versions(\"v1\")\n",
    "len(data_v1)"
   ]
  },
  {
   "cell_type": "code",
   "execution_count": 13,
   "id": "bf4c5a5f-64b1-4837-8261-8cf61e1ba3ea",
   "metadata": {
    "tags": []
   },
   "outputs": [
    {
     "data": {
      "text/plain": [
       "[['85 m2', '2 hab.', '1 baño', '3.647 €/m2'],\n",
       " ['65 m2', '2 hab.', '1 baño', '5.000 €/m2'],\n",
       " ['77 m2', '2 hab.', '1 baño', '4.286 €/m2'],\n",
       " ['96 m2', '3 hab.', '2 baños', '4.531 €/m2'],\n",
       " ['84 m2', '2 hab.', '1 baño', '4.881 €/m2'],\n",
       " ['91 m2', '4 hab.', '2 baños', '4.780 €/m2'],\n",
       " ['96 m2', '2 hab.', '2 baños', '4.271 €/m2'],\n",
       " ['76 m2', '2 hab.', '1 baño', '4.605 €/m2'],\n",
       " ['103 m2', '3 hab.', '2 baños', '4.223 €/m2'],\n",
       " ['82 m2', '3 hab.', '1 baño', '2.988 €/m2']]"
      ]
     },
     "execution_count": 13,
     "metadata": {},
     "output_type": "execute_result"
    }
   ],
   "source": [
    "[d[\"features\"] for d in data_v1[:10]]"
   ]
  },
  {
   "cell_type": "code",
   "execution_count": 33,
   "id": "4e8adf47",
   "metadata": {},
   "outputs": [
    {
     "data": {
      "text/plain": [
       "['45 m2', '1 baño', '5.689 €/m2']"
      ]
     },
     "execution_count": 33,
     "metadata": {},
     "output_type": "execute_result"
    }
   ],
   "source": [
    "# see that this feature doesn't have bedrooms (hab.)\n",
    "data_v1[137][\"features\"]"
   ]
  },
  {
   "cell_type": "markdown",
   "id": "0f51f9c6",
   "metadata": {},
   "source": [
    "### **Task 2:** \n",
    "Fix the bedroom issue:\n",
    "\n",
    "['45 m2', '1 baño', '5.689 €/m2'] -- > ['45 m2', '0 hab.', 1 baño', '5.689 €/m2']\n",
    "\n",
    "Fix the bathroom issue\n",
    "\n",
    "['52 m2', '3.442 €/m2']  --> ['52 m2', '0 hab.', 1 baño', '3.442 €/m2']"
   ]
  },
  {
   "cell_type": "code",
   "execution_count": 35,
   "id": "41b7275d",
   "metadata": {
    "tags": []
   },
   "outputs": [],
   "source": [
    "assert len(data_v1[137][\"features\"]) == 4"
   ]
  },
  {
   "cell_type": "code",
   "execution_count": 54,
   "id": "9195c8cc",
   "metadata": {},
   "outputs": [],
   "source": [
    "saving_versions(data_v1, \"v1\")"
   ]
  },
  {
   "cell_type": "markdown",
   "id": "d4ea10d5",
   "metadata": {},
   "source": [
    "### Finding features in descriptions\n",
    "Let's tokenize the descriptions and compute in how many documents each word apeards."
   ]
  },
  {
   "cell_type": "code",
   "execution_count": 36,
   "id": "3d3d5012",
   "metadata": {
    "tags": []
   },
   "outputs": [],
   "source": [
    "nlp = spacy.load(\"es_core_news_sm\")"
   ]
  },
  {
   "cell_type": "code",
   "execution_count": 53,
   "id": "83b8926e",
   "metadata": {
    "tags": []
   },
   "outputs": [
    {
     "data": {
      "text/plain": [
       "'Piso en última planta a reformar en calle Tallers junto a plaza Universitat.\\n\\nLa propiedad ofrece muchas posibilidades para personalizarla según sus necesidades, ya que todas las paredes son tabiques.\\n\\nLa distribución actual cuenta con salón comedor amplio, cocina, dos habitaciones dobles exteriores, dos habitaciones interiores, baño y despensa/trastero. Balcones a ambos lados de la vivienda, uno a patio de manzana y los otros dos a carrer Tallers. Suelos originales.\\n\\nFinca del 1882 con ascensor.\\n\\nCalle peatonal con encanto en el centro de Barcelona, rodeada de todo tipo de comercios y servicios. Buenas comunicaciones mediante transportes publicos, metro, autobuses y FFCC.'"
      ]
     },
     "execution_count": 53,
     "metadata": {},
     "output_type": "execute_result"
    }
   ],
   "source": [
    "data_v1 = load_versions(\"v1\")\n",
    "text = data_v1[0][\"desc\"]\n",
    "text"
   ]
  },
  {
   "cell_type": "code",
   "execution_count": 40,
   "id": "137fb390",
   "metadata": {
    "tags": []
   },
   "outputs": [
    {
     "name": "stdout",
     "output_type": "stream",
     "text": [
      ". PUNCT\n",
      "Balcones NOUN\n",
      "a ADP\n",
      "ambos NUM\n",
      "lados NOUN\n",
      "de ADP\n",
      "la DET\n",
      "vivienda NOUN\n",
      ", PUNCT\n",
      "uno PRON\n",
      "a ADP\n",
      "patio NOUN\n",
      "de ADP\n",
      "manzana NOUN\n",
      "y CCONJ\n",
      "los DET\n",
      "otros DET\n",
      "dos NUM\n",
      "a ADP\n",
      "carrer VERB\n"
     ]
    }
   ],
   "source": [
    "# tokenizing with spacy, you get part of speech (POS) for free\n",
    "doc = nlp(text)\n",
    "for token in doc[60:80]:\n",
    "    print(token.text, token.pos_)"
   ]
  },
  {
   "cell_type": "markdown",
   "id": "7705288a",
   "metadata": {},
   "source": [
    "### **Task 3**:\n",
    " Write a function that given some text extracting specific parts of speech."
   ]
  },
  {
   "cell_type": "code",
   "execution_count": 52,
   "id": "5b7383b6",
   "metadata": {
    "tags": []
   },
   "outputs": [],
   "source": [
    "def clean_text(text, pos_list):\n",
    "    \"\"\" Cleans the input text by extracting specific parts of speech.\n",
    "\n",
    "    This function takes a string of text as input, tokenizes and returns a list of lowercase\n",
    "    tokens that match  specific parts of speech (verbs, nouns, adjectives, or adverbs).\n",
    "    text: str The input text to be processed.\n",
    "\n",
    "    Returns:\n",
    "    list of str A list of lowercase tokens that are either verbs, nouns, adjectives, or adverbs.\n",
    "    \"\"\"\n",
    "    ## Your code here\n",
    "    return tokens"
   ]
  },
  {
   "cell_type": "code",
   "execution_count": 51,
   "id": "b74cd50c",
   "metadata": {},
   "outputs": [],
   "source": [
    "pos_list = [\"VERB\", \"NOUN\", \"ADJ\", \"ADV\"]\n",
    "text = \"Piso en última planta a reformar en calle Tallers junto a plaza Universitat.\"\n",
    "assert clean_text(text, pos_list) == ['piso', 'última', 'planta', 'reformar', 'calle', 'junto']"
   ]
  },
  {
   "cell_type": "code",
   "execution_count": 31,
   "id": "458d098c",
   "metadata": {
    "tags": []
   },
   "outputs": [
    {
     "name": "stdout",
     "output_type": "stream",
     "text": [
      "/Users/yinterian/data/houses_for_sale_train_v2.pickle\n"
     ]
    },
    {
     "data": {
      "text/plain": [
       "862"
      ]
     },
     "execution_count": 31,
     "metadata": {},
     "output_type": "execute_result"
    }
   ],
   "source": [
    "saving_versions(data_v2, \"v2\")\n",
    "len(data_v2)"
   ]
  },
  {
   "cell_type": "code",
   "execution_count": 32,
   "id": "450b5644",
   "metadata": {
    "tags": []
   },
   "outputs": [
    {
     "data": {
      "text/plain": [
       "862"
      ]
     },
     "execution_count": 32,
     "metadata": {},
     "output_type": "execute_result"
    }
   ],
   "source": [
    "data_v2 = load_versions(\"v2\")\n",
    "len(data_v2)"
   ]
  },
  {
   "cell_type": "markdown",
   "id": "c07f61ac",
   "metadata": {},
   "source": [
    "### Splitting into training and testing\n",
    "Training data is used to train the model Testing data is used to measure the preformance of the model."
   ]
  },
  {
   "cell_type": "code",
   "execution_count": 55,
   "id": "3dd8735a",
   "metadata": {
    "tags": []
   },
   "outputs": [
    {
     "name": "stdout",
     "output_type": "stream",
     "text": [
      "689\n"
     ]
    },
    {
     "data": {
      "text/plain": [
       "(689, 173)"
      ]
     },
     "execution_count": 55,
     "metadata": {},
     "output_type": "execute_result"
    }
   ],
   "source": [
    "import random\n",
    "random.seed(4)\n",
    "random.shuffle(data_v2)\n",
    "\n",
    "N = int(len(data_v2)*.8)\n",
    "print(N)\n",
    "\n",
    "train = data_v2[:N] \n",
    "test = data_v2[N:]\n",
    "\n",
    "len(train), len(test)"
   ]
  },
  {
   "cell_type": "markdown",
   "id": "4e955ab7",
   "metadata": {},
   "source": [
    "### Task 4: Features from descriptions\n",
    "\n",
    "1. Create a list of unique tokens from all training data. (`train_tokens`)\n",
    "2. Create a map from words in train_tokens in which each word gets a unique integer id.\n",
    "3. For each document create a vector of size len(train_tokens) that counts how many times each token is in the specific document.\n"
   ]
  },
  {
   "cell_type": "code",
   "execution_count": 62,
   "id": "07c676a3",
   "metadata": {},
   "outputs": [
    {
     "data": {
      "text/plain": [
       "['nfo', 'presenta', 'precioso', 'piso', 'muy']"
      ]
     },
     "execution_count": 62,
     "metadata": {},
     "output_type": "execute_result"
    }
   ],
   "source": [
    "train[0][\"tokens\"][:5]"
   ]
  },
  {
   "cell_type": "code",
   "execution_count": null,
   "id": "b4f5850d",
   "metadata": {},
   "outputs": [],
   "source": []
  },
  {
   "cell_type": "markdown",
   "id": "819f430a",
   "metadata": {},
   "source": [
    "### Task 5: Fix Location features\n",
    "1. Note that some of the location strings have issues fix the issues. For example:\n",
    "   'Barcelona - Dreta de l´Eixample\\nVer mapa' --> 'Barcelona - Dreta de l´Eixample'\n",
    "2. Create a unique numeric id for each location. \n"
   ]
  },
  {
   "cell_type": "code",
   "execution_count": 44,
   "id": "2ddb1801",
   "metadata": {
    "tags": []
   },
   "outputs": [
    {
     "data": {
      "text/plain": [
       "array(['Barcelona - Besòs - Maresme',\n",
       "       'Barcelona - Diagonal Mar i el Front Marítim del Poblenou',\n",
       "       'Barcelona - Dreta de l´Eixample',\n",
       "       'Barcelona - Dreta de l´Eixample\\nVer mapa',\n",
       "       'Barcelona - El Camp de l´Arpa del Clot', 'Barcelona - El Clot',\n",
       "       'Barcelona - El Parc i la Llacuna del Poblenou',\n",
       "       'Barcelona - Fort Pienc',\n",
       "       'Barcelona - La Nova Esquerra de l´Eixample',\n",
       "       'Barcelona - La Nova Esquerra de l´Eixample\\nVer mapa',\n",
       "       'Barcelona - La Vila Olímpica del Poblenou',\n",
       "       'Barcelona - L´Antiga Esquerra de l´Eixample', 'Barcelona - Navas',\n",
       "       'Barcelona - Poblenou', 'Barcelona - Poblenou\\nVer mapa',\n",
       "       'Barcelona - Provençals del Poblenou',\n",
       "       'Barcelona - Sagrada Família', 'Barcelona - Sant Antoni'],\n",
       "      dtype='<U56')"
      ]
     },
     "execution_count": 44,
     "metadata": {},
     "output_type": "execute_result"
    }
   ],
   "source": [
    "np.unique([d[\"loc_string\"] for d in train])"
   ]
  },
  {
   "cell_type": "markdown",
   "id": "1a82114e",
   "metadata": {},
   "source": [
    "### Task 6: \n",
    "Extract numeric values from price, bathrooms, bedrooms, m^2s\n",
    "  '450.000 €' --> 450\n"
   ]
  },
  {
   "cell_type": "code",
   "execution_count": 50,
   "id": "03704d83",
   "metadata": {
    "tags": []
   },
   "outputs": [
    {
     "data": {
      "text/plain": [
       "'450.000 €'"
      ]
     },
     "execution_count": 50,
     "metadata": {},
     "output_type": "execute_result"
    }
   ],
   "source": [
    "train[0][\"price\"]"
   ]
  },
  {
   "cell_type": "markdown",
   "id": "68b8b539",
   "metadata": {},
   "source": [
    "### Task 7:\n",
    "Create a dataframe with all features like the one below."
   ]
  },
  {
   "cell_type": "code",
   "execution_count": 55,
   "id": "6471f820",
   "metadata": {
    "tags": []
   },
   "outputs": [],
   "source": [
    "header = np.array(keywords + [\"loc\", \"size\", \"bedrooms\", \"bathrooms\", \"price\"])"
   ]
  },
  {
   "cell_type": "code",
   "execution_count": 54,
   "id": "bafb2986",
   "metadata": {
    "tags": []
   },
   "outputs": [
    {
     "data": {
      "text/html": [
       "<div>\n",
       "<style scoped>\n",
       "    .dataframe tbody tr th:only-of-type {\n",
       "        vertical-align: middle;\n",
       "    }\n",
       "\n",
       "    .dataframe tbody tr th {\n",
       "        vertical-align: top;\n",
       "    }\n",
       "\n",
       "    .dataframe thead th {\n",
       "        text-align: right;\n",
       "    }\n",
       "</style>\n",
       "<table border=\"1\" class=\"dataframe\">\n",
       "  <thead>\n",
       "    <tr style=\"text-align: right;\">\n",
       "      <th></th>\n",
       "      <th>profesional</th>\n",
       "      <th>central</th>\n",
       "      <th>parking</th>\n",
       "      <th>precioso</th>\n",
       "      <th>gratuita</th>\n",
       "      <th>baños</th>\n",
       "      <th>departamento</th>\n",
       "      <th>deseas</th>\n",
       "      <th>hipotecario</th>\n",
       "      <th>directo</th>\n",
       "      <th>...</th>\n",
       "      <th>llave</th>\n",
       "      <th>blanco</th>\n",
       "      <th>comercio</th>\n",
       "      <th>vas</th>\n",
       "      <th>dan</th>\n",
       "      <th>loc</th>\n",
       "      <th>size</th>\n",
       "      <th>bedrooms</th>\n",
       "      <th>bathrooms</th>\n",
       "      <th>price</th>\n",
       "    </tr>\n",
       "  </thead>\n",
       "  <tbody>\n",
       "    <tr>\n",
       "      <th>0</th>\n",
       "      <td>1.0</td>\n",
       "      <td>1.0</td>\n",
       "      <td>1.0</td>\n",
       "      <td>1.0</td>\n",
       "      <td>1.0</td>\n",
       "      <td>1.0</td>\n",
       "      <td>1.0</td>\n",
       "      <td>1.0</td>\n",
       "      <td>1.0</td>\n",
       "      <td>1.0</td>\n",
       "      <td>...</td>\n",
       "      <td>0.0</td>\n",
       "      <td>0.0</td>\n",
       "      <td>0.0</td>\n",
       "      <td>0.0</td>\n",
       "      <td>0.0</td>\n",
       "      <td>10.0</td>\n",
       "      <td>106.0</td>\n",
       "      <td>4.0</td>\n",
       "      <td>2.0</td>\n",
       "      <td>450.0</td>\n",
       "    </tr>\n",
       "    <tr>\n",
       "      <th>1</th>\n",
       "      <td>0.0</td>\n",
       "      <td>0.0</td>\n",
       "      <td>0.0</td>\n",
       "      <td>0.0</td>\n",
       "      <td>0.0</td>\n",
       "      <td>0.0</td>\n",
       "      <td>0.0</td>\n",
       "      <td>0.0</td>\n",
       "      <td>0.0</td>\n",
       "      <td>0.0</td>\n",
       "      <td>...</td>\n",
       "      <td>0.0</td>\n",
       "      <td>0.0</td>\n",
       "      <td>0.0</td>\n",
       "      <td>0.0</td>\n",
       "      <td>0.0</td>\n",
       "      <td>13.0</td>\n",
       "      <td>75.0</td>\n",
       "      <td>2.0</td>\n",
       "      <td>2.0</td>\n",
       "      <td>230.0</td>\n",
       "    </tr>\n",
       "    <tr>\n",
       "      <th>2</th>\n",
       "      <td>0.0</td>\n",
       "      <td>0.0</td>\n",
       "      <td>0.0</td>\n",
       "      <td>0.0</td>\n",
       "      <td>0.0</td>\n",
       "      <td>0.0</td>\n",
       "      <td>0.0</td>\n",
       "      <td>0.0</td>\n",
       "      <td>0.0</td>\n",
       "      <td>0.0</td>\n",
       "      <td>...</td>\n",
       "      <td>0.0</td>\n",
       "      <td>0.0</td>\n",
       "      <td>0.0</td>\n",
       "      <td>0.0</td>\n",
       "      <td>0.0</td>\n",
       "      <td>9.0</td>\n",
       "      <td>52.0</td>\n",
       "      <td>2.0</td>\n",
       "      <td>1.0</td>\n",
       "      <td>340.0</td>\n",
       "    </tr>\n",
       "    <tr>\n",
       "      <th>3</th>\n",
       "      <td>1.0</td>\n",
       "      <td>0.0</td>\n",
       "      <td>0.0</td>\n",
       "      <td>0.0</td>\n",
       "      <td>1.0</td>\n",
       "      <td>0.0</td>\n",
       "      <td>1.0</td>\n",
       "      <td>1.0</td>\n",
       "      <td>1.0</td>\n",
       "      <td>0.0</td>\n",
       "      <td>...</td>\n",
       "      <td>0.0</td>\n",
       "      <td>0.0</td>\n",
       "      <td>0.0</td>\n",
       "      <td>0.0</td>\n",
       "      <td>0.0</td>\n",
       "      <td>2.0</td>\n",
       "      <td>60.0</td>\n",
       "      <td>1.0</td>\n",
       "      <td>1.0</td>\n",
       "      <td>213.0</td>\n",
       "    </tr>\n",
       "    <tr>\n",
       "      <th>4</th>\n",
       "      <td>0.0</td>\n",
       "      <td>0.0</td>\n",
       "      <td>0.0</td>\n",
       "      <td>0.0</td>\n",
       "      <td>0.0</td>\n",
       "      <td>1.0</td>\n",
       "      <td>0.0</td>\n",
       "      <td>0.0</td>\n",
       "      <td>0.0</td>\n",
       "      <td>0.0</td>\n",
       "      <td>...</td>\n",
       "      <td>0.0</td>\n",
       "      <td>0.0</td>\n",
       "      <td>0.0</td>\n",
       "      <td>0.0</td>\n",
       "      <td>0.0</td>\n",
       "      <td>7.0</td>\n",
       "      <td>75.0</td>\n",
       "      <td>2.0</td>\n",
       "      <td>2.0</td>\n",
       "      <td>420.0</td>\n",
       "    </tr>\n",
       "  </tbody>\n",
       "</table>\n",
       "<p>5 rows × 97 columns</p>\n",
       "</div>"
      ],
      "text/plain": [
       "   profesional  central  parking  precioso  gratuita  baños  departamento  \\\n",
       "0          1.0      1.0      1.0       1.0       1.0    1.0           1.0   \n",
       "1          0.0      0.0      0.0       0.0       0.0    0.0           0.0   \n",
       "2          0.0      0.0      0.0       0.0       0.0    0.0           0.0   \n",
       "3          1.0      0.0      0.0       0.0       1.0    0.0           1.0   \n",
       "4          0.0      0.0      0.0       0.0       0.0    1.0           0.0   \n",
       "\n",
       "   deseas  hipotecario  directo  ...  llave  blanco  comercio  vas  dan   loc  \\\n",
       "0     1.0          1.0      1.0  ...    0.0     0.0       0.0  0.0  0.0  10.0   \n",
       "1     0.0          0.0      0.0  ...    0.0     0.0       0.0  0.0  0.0  13.0   \n",
       "2     0.0          0.0      0.0  ...    0.0     0.0       0.0  0.0  0.0   9.0   \n",
       "3     1.0          1.0      0.0  ...    0.0     0.0       0.0  0.0  0.0   2.0   \n",
       "4     0.0          0.0      0.0  ...    0.0     0.0       0.0  0.0  0.0   7.0   \n",
       "\n",
       "    size  bedrooms  bathrooms  price  \n",
       "0  106.0       4.0        2.0  450.0  \n",
       "1   75.0       2.0        2.0  230.0  \n",
       "2   52.0       2.0        1.0  340.0  \n",
       "3   60.0       1.0        1.0  213.0  \n",
       "4   75.0       2.0        2.0  420.0  \n",
       "\n",
       "[5 rows x 97 columns]"
      ]
     },
     "execution_count": 54,
     "metadata": {},
     "output_type": "execute_result"
    }
   ],
   "source": [
    "df_train = pd.DataFrame(train_features, columns=header)\n",
    "df_train.head()"
   ]
  },
  {
   "cell_type": "code",
   "execution_count": 83,
   "id": "e8d4f26e",
   "metadata": {
    "tags": []
   },
   "outputs": [],
   "source": [
    "df_train.to_csv(\"houses_for_sale_train.csv\",index=False)\n",
    "df_test.to_csv(\"houses_for_sale_test.csv\",index=False)"
   ]
  }
 ],
 "metadata": {
  "kernelspec": {
   "display_name": "Python 3 (ipykernel)",
   "language": "python",
   "name": "python3"
  },
  "language_info": {
   "codemirror_mode": {
    "name": "ipython",
    "version": 3
   },
   "file_extension": ".py",
   "mimetype": "text/x-python",
   "name": "python",
   "nbconvert_exporter": "python",
   "pygments_lexer": "ipython3",
   "version": "3.12.2"
  }
 },
 "nbformat": 4,
 "nbformat_minor": 5
}
