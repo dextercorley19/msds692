{
 "cells": [
  {
   "cell_type": "code",
   "execution_count": 2,
   "metadata": {},
   "outputs": [],
   "source": [
    "import pandas as pd\n",
    "import numpy as np"
   ]
  },
  {
   "cell_type": "markdown",
   "metadata": {},
   "source": [
    "## Pandas DataFrames"
   ]
  },
  {
   "cell_type": "markdown",
   "metadata": {},
   "source": [
    "### Filtering"
   ]
  },
  {
   "cell_type": "code",
   "execution_count": 78,
   "metadata": {},
   "outputs": [
    {
     "data": {
      "text/html": [
       "<div>\n",
       "<style scoped>\n",
       "    .dataframe tbody tr th:only-of-type {\n",
       "        vertical-align: middle;\n",
       "    }\n",
       "\n",
       "    .dataframe tbody tr th {\n",
       "        vertical-align: top;\n",
       "    }\n",
       "\n",
       "    .dataframe thead th {\n",
       "        text-align: right;\n",
       "    }\n",
       "</style>\n",
       "<table border=\"1\" class=\"dataframe\">\n",
       "  <thead>\n",
       "    <tr style=\"text-align: right;\">\n",
       "      <th></th>\n",
       "      <th>Name</th>\n",
       "      <th>Age</th>\n",
       "      <th>Score</th>\n",
       "      <th>City</th>\n",
       "    </tr>\n",
       "  </thead>\n",
       "  <tbody>\n",
       "    <tr>\n",
       "      <th>0</th>\n",
       "      <td>Alice</td>\n",
       "      <td>24</td>\n",
       "      <td>85</td>\n",
       "      <td>New York</td>\n",
       "    </tr>\n",
       "    <tr>\n",
       "      <th>1</th>\n",
       "      <td>Bob</td>\n",
       "      <td>27</td>\n",
       "      <td>92</td>\n",
       "      <td>Los Angeles</td>\n",
       "    </tr>\n",
       "    <tr>\n",
       "      <th>2</th>\n",
       "      <td>Charlie</td>\n",
       "      <td>22</td>\n",
       "      <td>88</td>\n",
       "      <td>Chicago</td>\n",
       "    </tr>\n",
       "    <tr>\n",
       "      <th>3</th>\n",
       "      <td>David</td>\n",
       "      <td>32</td>\n",
       "      <td>75</td>\n",
       "      <td>Houston</td>\n",
       "    </tr>\n",
       "    <tr>\n",
       "      <th>4</th>\n",
       "      <td>Eva</td>\n",
       "      <td>29</td>\n",
       "      <td>93</td>\n",
       "      <td>Phoenix</td>\n",
       "    </tr>\n",
       "    <tr>\n",
       "      <th>5</th>\n",
       "      <td>Frank</td>\n",
       "      <td>24</td>\n",
       "      <td>67</td>\n",
       "      <td>Philadelphia</td>\n",
       "    </tr>\n",
       "    <tr>\n",
       "      <th>6</th>\n",
       "      <td>Grace</td>\n",
       "      <td>26</td>\n",
       "      <td>77</td>\n",
       "      <td>San Antonio</td>\n",
       "    </tr>\n",
       "    <tr>\n",
       "      <th>7</th>\n",
       "      <td>Helen</td>\n",
       "      <td>31</td>\n",
       "      <td>91</td>\n",
       "      <td>San Diego</td>\n",
       "    </tr>\n",
       "  </tbody>\n",
       "</table>\n",
       "</div>"
      ],
      "text/plain": [
       "      Name  Age  Score          City\n",
       "0    Alice   24     85      New York\n",
       "1      Bob   27     92   Los Angeles\n",
       "2  Charlie   22     88       Chicago\n",
       "3    David   32     75       Houston\n",
       "4      Eva   29     93       Phoenix\n",
       "5    Frank   24     67  Philadelphia\n",
       "6    Grace   26     77   San Antonio\n",
       "7    Helen   31     91     San Diego"
      ]
     },
     "execution_count": 78,
     "metadata": {},
     "output_type": "execute_result"
    }
   ],
   "source": [
    "data = {\n",
    "    'Name': ['Alice', 'Bob', 'Charlie', 'David', 'Eva', 'Frank', 'Grace', 'Helen'],\n",
    "    'Age': [24, 27, 22, 32, 29, 24, 26, 31],\n",
    "    'Score': [85, 92, 88, 75, 93, 67, 77, 91],\n",
    "    'City': ['New York', 'Los Angeles', 'Chicago', 'Houston', 'Phoenix', 'Philadelphia', 'San Antonio', 'San Diego']\n",
    "}\n",
    "\n",
    "df = pd.DataFrame(data)\n",
    "df"
   ]
  },
  {
   "cell_type": "markdown",
   "metadata": {},
   "source": [
    "Exercise:\n",
    "\n",
    "1. Filter the DataFrame to show only the rows where the Age is greater than 25 and the Score is greater than 80.\n",
    "\n",
    "2. Filter the DataFrame to show only the rows where the Name is either 'Alice', 'Eva', or 'Grace'.\n",
    "\n",
    "3. Filter the DataFrame to show only the rows where the City contains the letter 'o'.\n",
    "\n",
    "4. Filter the DataFrame to show only the rows where Age is less than 30 and Score is between 70 and 90. Only display the Name and City columns."
   ]
  },
  {
   "cell_type": "markdown",
   "metadata": {},
   "source": [
    "### Combining multiple columns\n",
    "\n",
    "Problem: You are given a DataFrame that contains the preferred travel destinations of two friends. Each row represents the travel preferences of a pair of friends—Friend A and Friend B.\n",
    "\n",
    "Task 1: Construct a column that shows the destinations common to each pair of friends.\n",
    "\n",
    "Task 2: Construct a column that shows the destinations that are unique to each friend."
   ]
  },
  {
   "cell_type": "code",
   "execution_count": 79,
   "metadata": {},
   "outputs": [
    {
     "data": {
      "text/html": [
       "<div>\n",
       "<style scoped>\n",
       "    .dataframe tbody tr th:only-of-type {\n",
       "        vertical-align: middle;\n",
       "    }\n",
       "\n",
       "    .dataframe tbody tr th {\n",
       "        vertical-align: top;\n",
       "    }\n",
       "\n",
       "    .dataframe thead th {\n",
       "        text-align: right;\n",
       "    }\n",
       "</style>\n",
       "<table border=\"1\" class=\"dataframe\">\n",
       "  <thead>\n",
       "    <tr style=\"text-align: right;\">\n",
       "      <th></th>\n",
       "      <th>Friend_A</th>\n",
       "      <th>Friend_B</th>\n",
       "    </tr>\n",
       "  </thead>\n",
       "  <tbody>\n",
       "    <tr>\n",
       "      <th>0</th>\n",
       "      <td>[Paris, Tokyo, New York]</td>\n",
       "      <td>[New York, London, Paris]</td>\n",
       "    </tr>\n",
       "    <tr>\n",
       "      <th>1</th>\n",
       "      <td>[Rome, Barcelona, Sydney]</td>\n",
       "      <td>[Sydney, Rome, Venice]</td>\n",
       "    </tr>\n",
       "    <tr>\n",
       "      <th>2</th>\n",
       "      <td>[Istanbul, Dubai, New York]</td>\n",
       "      <td>[Dubai, New York, Istanbul]</td>\n",
       "    </tr>\n",
       "    <tr>\n",
       "      <th>3</th>\n",
       "      <td>[London, Paris, Berlin]</td>\n",
       "      <td>[Berlin, Moscow, Paris]</td>\n",
       "    </tr>\n",
       "    <tr>\n",
       "      <th>4</th>\n",
       "      <td>[Tokyo, Seoul, Bangkok]</td>\n",
       "      <td>[Bangkok, Seoul, Tokyo]</td>\n",
       "    </tr>\n",
       "  </tbody>\n",
       "</table>\n",
       "</div>"
      ],
      "text/plain": [
       "                      Friend_A                     Friend_B\n",
       "0     [Paris, Tokyo, New York]    [New York, London, Paris]\n",
       "1    [Rome, Barcelona, Sydney]       [Sydney, Rome, Venice]\n",
       "2  [Istanbul, Dubai, New York]  [Dubai, New York, Istanbul]\n",
       "3      [London, Paris, Berlin]      [Berlin, Moscow, Paris]\n",
       "4      [Tokyo, Seoul, Bangkok]      [Bangkok, Seoul, Tokyo]"
      ]
     },
     "execution_count": 79,
     "metadata": {},
     "output_type": "execute_result"
    }
   ],
   "source": [
    "friends = pd.DataFrame({\n",
    "    'Friend_A': [\n",
    "        ['Paris', 'Tokyo', 'New York'],\n",
    "        ['Rome', 'Barcelona', 'Sydney'],\n",
    "        ['Istanbul', 'Dubai', 'New York'],\n",
    "        ['London', 'Paris', 'Berlin'],\n",
    "        ['Tokyo', 'Seoul', 'Bangkok']\n",
    "    ],\n",
    "    'Friend_B': [\n",
    "        ['New York', 'London', 'Paris'],\n",
    "        ['Sydney', 'Rome', 'Venice'],\n",
    "        ['Dubai', 'New York', 'Istanbul'],\n",
    "        ['Berlin', 'Moscow', 'Paris'],\n",
    "        ['Bangkok', 'Seoul', 'Tokyo']\n",
    "    ]\n",
    "})\n",
    "\n",
    "friends"
   ]
  },
  {
   "cell_type": "code",
   "execution_count": 80,
   "metadata": {},
   "outputs": [],
   "source": [
    "friends[\"common\"] = friends.apply(lambda row:  [x for x in row[\"Friend_A\"] if x in row[\"Friend_B\"]], axis=1)"
   ]
  },
  {
   "cell_type": "code",
   "execution_count": 81,
   "metadata": {},
   "outputs": [],
   "source": [
    "### Solve task 2 here"
   ]
  },
  {
   "cell_type": "code",
   "execution_count": 82,
   "metadata": {},
   "outputs": [
    {
     "data": {
      "text/html": [
       "<div>\n",
       "<style scoped>\n",
       "    .dataframe tbody tr th:only-of-type {\n",
       "        vertical-align: middle;\n",
       "    }\n",
       "\n",
       "    .dataframe tbody tr th {\n",
       "        vertical-align: top;\n",
       "    }\n",
       "\n",
       "    .dataframe thead th {\n",
       "        text-align: right;\n",
       "    }\n",
       "</style>\n",
       "<table border=\"1\" class=\"dataframe\">\n",
       "  <thead>\n",
       "    <tr style=\"text-align: right;\">\n",
       "      <th></th>\n",
       "      <th>Friend_A</th>\n",
       "      <th>Friend_B</th>\n",
       "      <th>common</th>\n",
       "    </tr>\n",
       "  </thead>\n",
       "  <tbody>\n",
       "    <tr>\n",
       "      <th>0</th>\n",
       "      <td>[Paris, Tokyo, New York]</td>\n",
       "      <td>[New York, London, Paris]</td>\n",
       "      <td>[Paris, New York]</td>\n",
       "    </tr>\n",
       "    <tr>\n",
       "      <th>1</th>\n",
       "      <td>[Rome, Barcelona, Sydney]</td>\n",
       "      <td>[Sydney, Rome, Venice]</td>\n",
       "      <td>[Rome, Sydney]</td>\n",
       "    </tr>\n",
       "    <tr>\n",
       "      <th>2</th>\n",
       "      <td>[Istanbul, Dubai, New York]</td>\n",
       "      <td>[Dubai, New York, Istanbul]</td>\n",
       "      <td>[Istanbul, Dubai, New York]</td>\n",
       "    </tr>\n",
       "    <tr>\n",
       "      <th>3</th>\n",
       "      <td>[London, Paris, Berlin]</td>\n",
       "      <td>[Berlin, Moscow, Paris]</td>\n",
       "      <td>[Paris, Berlin]</td>\n",
       "    </tr>\n",
       "    <tr>\n",
       "      <th>4</th>\n",
       "      <td>[Tokyo, Seoul, Bangkok]</td>\n",
       "      <td>[Bangkok, Seoul, Tokyo]</td>\n",
       "      <td>[Tokyo, Seoul, Bangkok]</td>\n",
       "    </tr>\n",
       "  </tbody>\n",
       "</table>\n",
       "</div>"
      ],
      "text/plain": [
       "                      Friend_A                     Friend_B  \\\n",
       "0     [Paris, Tokyo, New York]    [New York, London, Paris]   \n",
       "1    [Rome, Barcelona, Sydney]       [Sydney, Rome, Venice]   \n",
       "2  [Istanbul, Dubai, New York]  [Dubai, New York, Istanbul]   \n",
       "3      [London, Paris, Berlin]      [Berlin, Moscow, Paris]   \n",
       "4      [Tokyo, Seoul, Bangkok]      [Bangkok, Seoul, Tokyo]   \n",
       "\n",
       "                        common  \n",
       "0            [Paris, New York]  \n",
       "1               [Rome, Sydney]  \n",
       "2  [Istanbul, Dubai, New York]  \n",
       "3              [Paris, Berlin]  \n",
       "4      [Tokyo, Seoul, Bangkok]  "
      ]
     },
     "execution_count": 82,
     "metadata": {},
     "output_type": "execute_result"
    }
   ],
   "source": [
    "friends"
   ]
  },
  {
   "cell_type": "markdown",
   "metadata": {},
   "source": [
    "### Aggregating information \n",
    "**Problem:** Library Book Inventory Management\n",
    "You manage a collection of libraries, and you want to evaluate the availability of books across different locations. Given a DataFrame containing columns for the library name, book title, and the number of copies available:\n",
    "\n",
    "Task 1: Determine how many libraries carry each book.\n",
    "\n",
    "Task 2: Determine how many of those libraries have run out of copies.\n",
    "\n",
    "Task 3: Determine how many of total copies are available."
   ]
  },
  {
   "cell_type": "code",
   "execution_count": 83,
   "metadata": {},
   "outputs": [
    {
     "data": {
      "text/html": [
       "<div>\n",
       "<style scoped>\n",
       "    .dataframe tbody tr th:only-of-type {\n",
       "        vertical-align: middle;\n",
       "    }\n",
       "\n",
       "    .dataframe tbody tr th {\n",
       "        vertical-align: top;\n",
       "    }\n",
       "\n",
       "    .dataframe thead th {\n",
       "        text-align: right;\n",
       "    }\n",
       "</style>\n",
       "<table border=\"1\" class=\"dataframe\">\n",
       "  <thead>\n",
       "    <tr style=\"text-align: right;\">\n",
       "      <th></th>\n",
       "      <th>library</th>\n",
       "      <th>book</th>\n",
       "      <th>copies_available</th>\n",
       "    </tr>\n",
       "  </thead>\n",
       "  <tbody>\n",
       "    <tr>\n",
       "      <th>0</th>\n",
       "      <td>Central</td>\n",
       "      <td>Harry Potter</td>\n",
       "      <td>3</td>\n",
       "    </tr>\n",
       "    <tr>\n",
       "      <th>1</th>\n",
       "      <td>Central</td>\n",
       "      <td>The Hobbit</td>\n",
       "      <td>0</td>\n",
       "    </tr>\n",
       "    <tr>\n",
       "      <th>2</th>\n",
       "      <td>North</td>\n",
       "      <td>The Hobbit</td>\n",
       "      <td>5</td>\n",
       "    </tr>\n",
       "    <tr>\n",
       "      <th>3</th>\n",
       "      <td>North</td>\n",
       "      <td>Dune</td>\n",
       "      <td>0</td>\n",
       "    </tr>\n",
       "    <tr>\n",
       "      <th>4</th>\n",
       "      <td>South</td>\n",
       "      <td>Dune</td>\n",
       "      <td>2</td>\n",
       "    </tr>\n",
       "    <tr>\n",
       "      <th>5</th>\n",
       "      <td>South</td>\n",
       "      <td>Harry Potter</td>\n",
       "      <td>0</td>\n",
       "    </tr>\n",
       "    <tr>\n",
       "      <th>6</th>\n",
       "      <td>East</td>\n",
       "      <td>The Catcher in the Rye</td>\n",
       "      <td>4</td>\n",
       "    </tr>\n",
       "  </tbody>\n",
       "</table>\n",
       "</div>"
      ],
      "text/plain": [
       "   library                    book  copies_available\n",
       "0  Central            Harry Potter                 3\n",
       "1  Central              The Hobbit                 0\n",
       "2    North              The Hobbit                 5\n",
       "3    North                    Dune                 0\n",
       "4    South                    Dune                 2\n",
       "5    South            Harry Potter                 0\n",
       "6     East  The Catcher in the Rye                 4"
      ]
     },
     "execution_count": 83,
     "metadata": {},
     "output_type": "execute_result"
    }
   ],
   "source": [
    "library_books = pd.DataFrame({\n",
    "    'library': ['Central', 'Central', 'North', 'North', 'South', 'South', 'East'],\n",
    "    'book': ['Harry Potter', 'The Hobbit', 'The Hobbit', 'Dune', 'Dune', 'Harry Potter', 'The Catcher in the Rye'],\n",
    "    'copies_available': [3, 0, 5, 0, 2, 0, 4]\n",
    "})\n",
    "\n",
    "library_books"
   ]
  },
  {
   "cell_type": "code",
   "execution_count": 84,
   "metadata": {},
   "outputs": [
    {
     "data": {
      "text/html": [
       "<div>\n",
       "<style scoped>\n",
       "    .dataframe tbody tr th:only-of-type {\n",
       "        vertical-align: middle;\n",
       "    }\n",
       "\n",
       "    .dataframe tbody tr th {\n",
       "        vertical-align: top;\n",
       "    }\n",
       "\n",
       "    .dataframe thead th {\n",
       "        text-align: right;\n",
       "    }\n",
       "</style>\n",
       "<table border=\"1\" class=\"dataframe\">\n",
       "  <thead>\n",
       "    <tr style=\"text-align: right;\">\n",
       "      <th></th>\n",
       "      <th>library</th>\n",
       "    </tr>\n",
       "    <tr>\n",
       "      <th>book</th>\n",
       "      <th></th>\n",
       "    </tr>\n",
       "  </thead>\n",
       "  <tbody>\n",
       "    <tr>\n",
       "      <th>Dune</th>\n",
       "      <td>2</td>\n",
       "    </tr>\n",
       "    <tr>\n",
       "      <th>Harry Potter</th>\n",
       "      <td>2</td>\n",
       "    </tr>\n",
       "    <tr>\n",
       "      <th>The Catcher in the Rye</th>\n",
       "      <td>1</td>\n",
       "    </tr>\n",
       "    <tr>\n",
       "      <th>The Hobbit</th>\n",
       "      <td>2</td>\n",
       "    </tr>\n",
       "  </tbody>\n",
       "</table>\n",
       "</div>"
      ],
      "text/plain": [
       "                        library\n",
       "book                           \n",
       "Dune                          2\n",
       "Harry Potter                  2\n",
       "The Catcher in the Rye        1\n",
       "The Hobbit                    2"
      ]
     },
     "execution_count": 84,
     "metadata": {},
     "output_type": "execute_result"
    }
   ],
   "source": [
    "library_books[[\"book\", \"library\"]].groupby(\"book\").count()"
   ]
  },
  {
   "cell_type": "code",
   "execution_count": 85,
   "metadata": {},
   "outputs": [],
   "source": [
    "def count_copies(x):\n",
    "    return x[\"copies_available\"].sum()"
   ]
  },
  {
   "cell_type": "code",
   "execution_count": 86,
   "metadata": {},
   "outputs": [
    {
     "data": {
      "text/html": [
       "<div>\n",
       "<style scoped>\n",
       "    .dataframe tbody tr th:only-of-type {\n",
       "        vertical-align: middle;\n",
       "    }\n",
       "\n",
       "    .dataframe tbody tr th {\n",
       "        vertical-align: top;\n",
       "    }\n",
       "\n",
       "    .dataframe thead th {\n",
       "        text-align: right;\n",
       "    }\n",
       "</style>\n",
       "<table border=\"1\" class=\"dataframe\">\n",
       "  <thead>\n",
       "    <tr style=\"text-align: right;\">\n",
       "      <th></th>\n",
       "      <th>book</th>\n",
       "      <th>0</th>\n",
       "    </tr>\n",
       "  </thead>\n",
       "  <tbody>\n",
       "    <tr>\n",
       "      <th>0</th>\n",
       "      <td>Dune</td>\n",
       "      <td>2</td>\n",
       "    </tr>\n",
       "    <tr>\n",
       "      <th>1</th>\n",
       "      <td>Harry Potter</td>\n",
       "      <td>3</td>\n",
       "    </tr>\n",
       "    <tr>\n",
       "      <th>2</th>\n",
       "      <td>The Catcher in the Rye</td>\n",
       "      <td>4</td>\n",
       "    </tr>\n",
       "    <tr>\n",
       "      <th>3</th>\n",
       "      <td>The Hobbit</td>\n",
       "      <td>5</td>\n",
       "    </tr>\n",
       "  </tbody>\n",
       "</table>\n",
       "</div>"
      ],
      "text/plain": [
       "                     book  0\n",
       "0                    Dune  2\n",
       "1            Harry Potter  3\n",
       "2  The Catcher in the Rye  4\n",
       "3              The Hobbit  5"
      ]
     },
     "execution_count": 86,
     "metadata": {},
     "output_type": "execute_result"
    }
   ],
   "source": [
    "# include_groups=False is used to avoid some warning messages\n",
    "library_books.groupby(\"book\").apply(count_copies, include_groups=False).reset_index()"
   ]
  },
  {
   "cell_type": "code",
   "execution_count": 87,
   "metadata": {},
   "outputs": [],
   "source": [
    "# Rewrite previous solution with a lamba function"
   ]
  },
  {
   "cell_type": "code",
   "execution_count": 88,
   "metadata": {},
   "outputs": [
    {
     "data": {
      "text/html": [
       "<div>\n",
       "<style scoped>\n",
       "    .dataframe tbody tr th:only-of-type {\n",
       "        vertical-align: middle;\n",
       "    }\n",
       "\n",
       "    .dataframe tbody tr th {\n",
       "        vertical-align: top;\n",
       "    }\n",
       "\n",
       "    .dataframe thead th {\n",
       "        text-align: right;\n",
       "    }\n",
       "</style>\n",
       "<table border=\"1\" class=\"dataframe\">\n",
       "  <thead>\n",
       "    <tr style=\"text-align: right;\">\n",
       "      <th></th>\n",
       "      <th>book</th>\n",
       "      <th>0</th>\n",
       "    </tr>\n",
       "  </thead>\n",
       "  <tbody>\n",
       "    <tr>\n",
       "      <th>0</th>\n",
       "      <td>Dune</td>\n",
       "      <td>1</td>\n",
       "    </tr>\n",
       "    <tr>\n",
       "      <th>1</th>\n",
       "      <td>Harry Potter</td>\n",
       "      <td>1</td>\n",
       "    </tr>\n",
       "    <tr>\n",
       "      <th>2</th>\n",
       "      <td>The Catcher in the Rye</td>\n",
       "      <td>0</td>\n",
       "    </tr>\n",
       "    <tr>\n",
       "      <th>3</th>\n",
       "      <td>The Hobbit</td>\n",
       "      <td>1</td>\n",
       "    </tr>\n",
       "  </tbody>\n",
       "</table>\n",
       "</div>"
      ],
      "text/plain": [
       "                     book  0\n",
       "0                    Dune  1\n",
       "1            Harry Potter  1\n",
       "2  The Catcher in the Rye  0\n",
       "3              The Hobbit  1"
      ]
     },
     "execution_count": 88,
     "metadata": {},
     "output_type": "execute_result"
    }
   ],
   "source": [
    "library_books.groupby(\"book\").apply(lambda x: (x[\"copies_available\"] == 0).sum(), include_groups=False).reset_index()"
   ]
  },
  {
   "cell_type": "code",
   "execution_count": 89,
   "metadata": {},
   "outputs": [
    {
     "name": "stdout",
     "output_type": "stream",
     "text": [
      "('Dune',   library  book  copies_available\n",
      "3   North  Dune                 0\n",
      "4   South  Dune                 2)\n",
      "('Harry Potter',    library          book  copies_available\n",
      "0  Central  Harry Potter                 3\n",
      "5    South  Harry Potter                 0)\n",
      "('The Catcher in the Rye',   library                    book  copies_available\n",
      "6    East  The Catcher in the Rye                 4)\n",
      "('The Hobbit',    library        book  copies_available\n",
      "1  Central  The Hobbit                 0\n",
      "2    North  The Hobbit                 5)\n"
     ]
    }
   ],
   "source": [
    "for group in library_books.groupby(\"book\"):\n",
    "    print(group)"
   ]
  },
  {
   "cell_type": "markdown",
   "metadata": {},
   "source": [
    "### Solving Problems"
   ]
  },
  {
   "cell_type": "markdown",
   "metadata": {},
   "source": [
    "**Problem:** Employee Work Hours Analysis\n",
    "\n",
    "You have a DataFrame representing employee work hours. Each row corresponds to an employee and their reported work hours for different days of the week. However, some data entries are missing.\n",
    "\n",
    "Given this DataFrame of employee work hours, you need to:\n",
    "\n",
    "Task 1: Discard rows where more than half of the values are NaN.\n",
    "Task 2: Impute the missing values (NaN):\n",
    "> For numeric columns (hours), replace NaN with the average value for that column. </br>\n",
    "> For non-numeric columns (department), replace NaN with the mode of that column."
   ]
  },
  {
   "cell_type": "code",
   "execution_count": 90,
   "metadata": {},
   "outputs": [
    {
     "data": {
      "text/html": [
       "<div>\n",
       "<style scoped>\n",
       "    .dataframe tbody tr th:only-of-type {\n",
       "        vertical-align: middle;\n",
       "    }\n",
       "\n",
       "    .dataframe tbody tr th {\n",
       "        vertical-align: top;\n",
       "    }\n",
       "\n",
       "    .dataframe thead th {\n",
       "        text-align: right;\n",
       "    }\n",
       "</style>\n",
       "<table border=\"1\" class=\"dataframe\">\n",
       "  <thead>\n",
       "    <tr style=\"text-align: right;\">\n",
       "      <th></th>\n",
       "      <th>employee_id</th>\n",
       "      <th>monday_hours</th>\n",
       "      <th>tuesday_hours</th>\n",
       "      <th>wednesday_hours</th>\n",
       "      <th>department</th>\n",
       "    </tr>\n",
       "  </thead>\n",
       "  <tbody>\n",
       "    <tr>\n",
       "      <th>0</th>\n",
       "      <td>101</td>\n",
       "      <td>8.0</td>\n",
       "      <td>NaN</td>\n",
       "      <td>9.0</td>\n",
       "      <td>HR</td>\n",
       "    </tr>\n",
       "    <tr>\n",
       "      <th>1</th>\n",
       "      <td>102</td>\n",
       "      <td>NaN</td>\n",
       "      <td>7.0</td>\n",
       "      <td>8.0</td>\n",
       "      <td>Finance</td>\n",
       "    </tr>\n",
       "    <tr>\n",
       "      <th>2</th>\n",
       "      <td>103</td>\n",
       "      <td>6.0</td>\n",
       "      <td>NaN</td>\n",
       "      <td>7.0</td>\n",
       "      <td>IT</td>\n",
       "    </tr>\n",
       "    <tr>\n",
       "      <th>3</th>\n",
       "      <td>104</td>\n",
       "      <td>9.0</td>\n",
       "      <td>NaN</td>\n",
       "      <td>8.0</td>\n",
       "      <td>&lt;NA&gt;</td>\n",
       "    </tr>\n",
       "    <tr>\n",
       "      <th>4</th>\n",
       "      <td>105</td>\n",
       "      <td>NaN</td>\n",
       "      <td>8.0</td>\n",
       "      <td>NaN</td>\n",
       "      <td>Finance</td>\n",
       "    </tr>\n",
       "    <tr>\n",
       "      <th>5</th>\n",
       "      <td>106</td>\n",
       "      <td>7.0</td>\n",
       "      <td>NaN</td>\n",
       "      <td>NaN</td>\n",
       "      <td>HR</td>\n",
       "    </tr>\n",
       "    <tr>\n",
       "      <th>6</th>\n",
       "      <td>107</td>\n",
       "      <td>NaN</td>\n",
       "      <td>6.0</td>\n",
       "      <td>6.0</td>\n",
       "      <td>IT</td>\n",
       "    </tr>\n",
       "    <tr>\n",
       "      <th>7</th>\n",
       "      <td>108</td>\n",
       "      <td>5.0</td>\n",
       "      <td>7.0</td>\n",
       "      <td>NaN</td>\n",
       "      <td>Finance</td>\n",
       "    </tr>\n",
       "    <tr>\n",
       "      <th>8</th>\n",
       "      <td>109</td>\n",
       "      <td>NaN</td>\n",
       "      <td>7.0</td>\n",
       "      <td>NaN</td>\n",
       "      <td>&lt;NA&gt;</td>\n",
       "    </tr>\n",
       "    <tr>\n",
       "      <th>9</th>\n",
       "      <td>110</td>\n",
       "      <td>8.0</td>\n",
       "      <td>NaN</td>\n",
       "      <td>8.0</td>\n",
       "      <td>HR</td>\n",
       "    </tr>\n",
       "  </tbody>\n",
       "</table>\n",
       "</div>"
      ],
      "text/plain": [
       "   employee_id  monday_hours  tuesday_hours  wednesday_hours department\n",
       "0          101           8.0            NaN              9.0         HR\n",
       "1          102           NaN            7.0              8.0    Finance\n",
       "2          103           6.0            NaN              7.0         IT\n",
       "3          104           9.0            NaN              8.0       <NA>\n",
       "4          105           NaN            8.0              NaN    Finance\n",
       "5          106           7.0            NaN              NaN         HR\n",
       "6          107           NaN            6.0              6.0         IT\n",
       "7          108           5.0            7.0              NaN    Finance\n",
       "8          109           NaN            7.0              NaN       <NA>\n",
       "9          110           8.0            NaN              8.0         HR"
      ]
     },
     "execution_count": 90,
     "metadata": {},
     "output_type": "execute_result"
    }
   ],
   "source": [
    "employee_hours = pd.DataFrame({\n",
    "    'employee_id': [101, 102, 103, 104, 105, 106, 107, 108, 109, 110],\n",
    "    'monday_hours': [8, np.nan, 6, 9, np.nan, 7, np.nan, 5, np.nan, 8],\n",
    "    'tuesday_hours': [np.nan, 7, np.nan, np.nan, 8, np.nan, 6, 7, 7, np.nan],\n",
    "    'wednesday_hours': [9, 8, 7, 8, np.nan, np.nan, 6, np.nan, np.nan, 8],\n",
    "    'department': pd.Series(['HR', 'Finance', 'IT', np.nan, 'Finance', 'HR', 'IT', 'Finance', np.nan, 'HR'], dtype='string')\n",
    "})\n",
    "\n",
    "employee_hours"
   ]
  },
  {
   "cell_type": "code",
   "execution_count": 91,
   "metadata": {},
   "outputs": [],
   "source": [
    "# Task 1:\n",
    "# Compute the number of NAs in each row\n",
    "# Create a mask (True/False) that it is True is number of NAs per row < 3\n",
    "# Use the mask to filter\n",
    "## Your code here"
   ]
  },
  {
   "cell_type": "code",
   "execution_count": 92,
   "metadata": {},
   "outputs": [
    {
     "data": {
      "text/plain": [
       "(Index(['monday_hours', 'tuesday_hours', 'wednesday_hours'], dtype='object'),\n",
       " Index(['department'], dtype='object'))"
      ]
     },
     "execution_count": 92,
     "metadata": {},
     "output_type": "execute_result"
    }
   ],
   "source": [
    "# Task 2:\n",
    "num_cols = employee_hours.columns[1:4]\n",
    "cat_cols = employee_hours.columns[-1:]\n",
    "num_cols, cat_cols\n",
    "\n",
    "# Write a function that can candle numerical columns and one that can candle categorical columns\n",
    "# Apply the function to each col.\n",
    "# Note that mode can give multiple answers."
   ]
  },
  {
   "cell_type": "code",
   "execution_count": 94,
   "metadata": {},
   "outputs": [],
   "source": [
    "def fill_na_num(df, col):\n",
    "    # Your code here\n",
    "    return df"
   ]
  },
  {
   "cell_type": "markdown",
   "metadata": {},
   "source": [
    "**Problem:** Analyze Text Sentiment Predictions\n",
    "\n",
    "You are given a DataFrame that represents sentiment predictions for different pieces of text. Each row corresponds to the predictions for a specific text, with the predictions stored in a dictionary  where the keys represent the sentiment and the values represent the probability associated with each sentiment.\n",
    "\n",
    "Your task is to: Create a new column called prob_positive that calculates the probability that each piece of text has a \"positive\" sentiment. Use the following list to identify the \"positive\" sentiments:"
   ]
  },
  {
   "cell_type": "code",
   "execution_count": 130,
   "metadata": {},
   "outputs": [],
   "source": [
    "positive_sentiments = ['happy', 'joyful', 'excited', 'content', 'pleased', 'satisfied']"
   ]
  },
  {
   "cell_type": "code",
   "execution_count": 131,
   "metadata": {},
   "outputs": [
    {
     "data": {
      "text/html": [
       "<div>\n",
       "<style scoped>\n",
       "    .dataframe tbody tr th:only-of-type {\n",
       "        vertical-align: middle;\n",
       "    }\n",
       "\n",
       "    .dataframe tbody tr th {\n",
       "        vertical-align: top;\n",
       "    }\n",
       "\n",
       "    .dataframe thead th {\n",
       "        text-align: right;\n",
       "    }\n",
       "</style>\n",
       "<table border=\"1\" class=\"dataframe\">\n",
       "  <thead>\n",
       "    <tr style=\"text-align: right;\">\n",
       "      <th></th>\n",
       "      <th>preds</th>\n",
       "    </tr>\n",
       "  </thead>\n",
       "  <tbody>\n",
       "    <tr>\n",
       "      <th>101</th>\n",
       "      <td>{'happy': 0.4, 'sad': 0.3, 'neutral': 0.3}</td>\n",
       "    </tr>\n",
       "    <tr>\n",
       "      <th>102</th>\n",
       "      <td>{'angry': 0.6, 'content': 0.2, 'fearful': 0.2}</td>\n",
       "    </tr>\n",
       "    <tr>\n",
       "      <th>103</th>\n",
       "      <td>{'joyful': 0.5, 'worried': 0.25, 'anxious': 0.25}</td>\n",
       "    </tr>\n",
       "    <tr>\n",
       "      <th>104</th>\n",
       "      <td>{'excited': 0.7, 'tired': 0.2, 'calm': 0.1}</td>\n",
       "    </tr>\n",
       "    <tr>\n",
       "      <th>105</th>\n",
       "      <td>{'satisfied': 0.35, 'frustrated': 0.5, 'indiff...</td>\n",
       "    </tr>\n",
       "    <tr>\n",
       "      <th>106</th>\n",
       "      <td>{'pleased': 0.45, 'annoyed': 0.3, 'bored': 0.25}</td>\n",
       "    </tr>\n",
       "    <tr>\n",
       "      <th>107</th>\n",
       "      <td>{'disappointed': 0.6, 'happy': 0.3, 'surprised...</td>\n",
       "    </tr>\n",
       "  </tbody>\n",
       "</table>\n",
       "</div>"
      ],
      "text/plain": [
       "                                                 preds\n",
       "101         {'happy': 0.4, 'sad': 0.3, 'neutral': 0.3}\n",
       "102     {'angry': 0.6, 'content': 0.2, 'fearful': 0.2}\n",
       "103  {'joyful': 0.5, 'worried': 0.25, 'anxious': 0.25}\n",
       "104        {'excited': 0.7, 'tired': 0.2, 'calm': 0.1}\n",
       "105  {'satisfied': 0.35, 'frustrated': 0.5, 'indiff...\n",
       "106   {'pleased': 0.45, 'annoyed': 0.3, 'bored': 0.25}\n",
       "107  {'disappointed': 0.6, 'happy': 0.3, 'surprised..."
      ]
     },
     "execution_count": 131,
     "metadata": {},
     "output_type": "execute_result"
    }
   ],
   "source": [
    "predictions = pd.DataFrame.from_dict({\n",
    "    'preds': {\n",
    "        101: {'happy': 0.4, 'sad': 0.3, 'neutral': 0.3},\n",
    "        102: {'angry': 0.6, 'content': 0.2, 'fearful': 0.2},\n",
    "        103: {'joyful': 0.5, 'worried': 0.25, 'anxious': 0.25},\n",
    "        104: {'excited': 0.7, 'tired': 0.2, 'calm': 0.1},\n",
    "        105: {'satisfied': 0.35, 'frustrated': 0.5, 'indifferent': 0.15},\n",
    "        106: {'pleased': 0.45, 'annoyed': 0.3, 'bored': 0.25},\n",
    "        107: {'disappointed': 0.6, 'happy': 0.3, 'surprised': 0.1}\n",
    "    }\n",
    "})\n",
    "\n",
    "predictions"
   ]
  },
  {
   "cell_type": "markdown",
   "metadata": {},
   "source": [
    "### Example of non trivial way of using groupby"
   ]
  },
  {
   "cell_type": "code",
   "execution_count": 19,
   "metadata": {},
   "outputs": [
    {
     "data": {
      "text/plain": [
       "0    1\n",
       "1    1\n",
       "2    1\n",
       "3    1\n",
       "4    1\n",
       "dtype: int64"
      ]
     },
     "execution_count": 19,
     "metadata": {},
     "output_type": "execute_result"
    }
   ],
   "source": [
    "x = pd.Series([1]*5)\n",
    "x"
   ]
  },
  {
   "cell_type": "code",
   "execution_count": 20,
   "metadata": {},
   "outputs": [
    {
     "data": {
      "text/plain": [
       "0    1\n",
       "1    2\n",
       "2    3\n",
       "3    4\n",
       "4    5\n",
       "dtype: int64"
      ]
     },
     "execution_count": 20,
     "metadata": {},
     "output_type": "execute_result"
    }
   ],
   "source": [
    "x.cumsum()"
   ]
  },
  {
   "cell_type": "code",
   "execution_count": 6,
   "metadata": {},
   "outputs": [
    {
     "data": {
      "text/html": [
       "<div>\n",
       "<style scoped>\n",
       "    .dataframe tbody tr th:only-of-type {\n",
       "        vertical-align: middle;\n",
       "    }\n",
       "\n",
       "    .dataframe tbody tr th {\n",
       "        vertical-align: top;\n",
       "    }\n",
       "\n",
       "    .dataframe thead th {\n",
       "        text-align: right;\n",
       "    }\n",
       "</style>\n",
       "<table border=\"1\" class=\"dataframe\">\n",
       "  <thead>\n",
       "    <tr style=\"text-align: right;\">\n",
       "      <th></th>\n",
       "      <th>region</th>\n",
       "      <th>level_1</th>\n",
       "      <th>date</th>\n",
       "      <th>sales</th>\n",
       "      <th>cumulative_sales</th>\n",
       "    </tr>\n",
       "  </thead>\n",
       "  <tbody>\n",
       "    <tr>\n",
       "      <th>0</th>\n",
       "      <td>East</td>\n",
       "      <td>6</td>\n",
       "      <td>2024-01-02</td>\n",
       "      <td>500</td>\n",
       "      <td>500</td>\n",
       "    </tr>\n",
       "    <tr>\n",
       "      <th>1</th>\n",
       "      <td>East</td>\n",
       "      <td>7</td>\n",
       "      <td>2024-01-04</td>\n",
       "      <td>300</td>\n",
       "      <td>800</td>\n",
       "    </tr>\n",
       "    <tr>\n",
       "      <th>2</th>\n",
       "      <td>North</td>\n",
       "      <td>0</td>\n",
       "      <td>2024-01-01</td>\n",
       "      <td>200</td>\n",
       "      <td>200</td>\n",
       "    </tr>\n",
       "    <tr>\n",
       "      <th>3</th>\n",
       "      <td>North</td>\n",
       "      <td>1</td>\n",
       "      <td>2024-01-05</td>\n",
       "      <td>150</td>\n",
       "      <td>350</td>\n",
       "    </tr>\n",
       "    <tr>\n",
       "      <th>4</th>\n",
       "      <td>North</td>\n",
       "      <td>2</td>\n",
       "      <td>2024-01-07</td>\n",
       "      <td>300</td>\n",
       "      <td>650</td>\n",
       "    </tr>\n",
       "    <tr>\n",
       "      <th>5</th>\n",
       "      <td>South</td>\n",
       "      <td>3</td>\n",
       "      <td>2024-01-03</td>\n",
       "      <td>400</td>\n",
       "      <td>400</td>\n",
       "    </tr>\n",
       "    <tr>\n",
       "      <th>6</th>\n",
       "      <td>South</td>\n",
       "      <td>4</td>\n",
       "      <td>2024-01-06</td>\n",
       "      <td>250</td>\n",
       "      <td>650</td>\n",
       "    </tr>\n",
       "    <tr>\n",
       "      <th>7</th>\n",
       "      <td>South</td>\n",
       "      <td>5</td>\n",
       "      <td>2024-01-08</td>\n",
       "      <td>100</td>\n",
       "      <td>750</td>\n",
       "    </tr>\n",
       "  </tbody>\n",
       "</table>\n",
       "</div>"
      ],
      "text/plain": [
       "  region  level_1       date  sales  cumulative_sales\n",
       "0   East        6 2024-01-02    500               500\n",
       "1   East        7 2024-01-04    300               800\n",
       "2  North        0 2024-01-01    200               200\n",
       "3  North        1 2024-01-05    150               350\n",
       "4  North        2 2024-01-07    300               650\n",
       "5  South        3 2024-01-03    400               400\n",
       "6  South        4 2024-01-06    250               650\n",
       "7  South        5 2024-01-08    100               750"
      ]
     },
     "execution_count": 6,
     "metadata": {},
     "output_type": "execute_result"
    }
   ],
   "source": [
    "# Sample DataFrame with sales transactions\n",
    "data = {\n",
    "    'date': ['2024-01-01', '2024-01-05', '2024-01-07', '2024-01-03', '2024-01-06', '2024-01-08', '2024-01-02', '2024-01-04'],\n",
    "    'region': ['North', 'North', 'North', 'South', 'South', 'South', 'East', 'East'],\n",
    "    'sales': [200, 150, 300, 400, 250, 100, 500, 300]\n",
    "}\n",
    "\n",
    "df = pd.DataFrame(data)\n",
    "df['date'] = pd.to_datetime(df['date'])\n",
    "\n",
    "# Define a custom function to compute cumulative sales\n",
    "def compute_cumulative_sales(group):\n",
    "    # Sort by date to ensure the cumulative sum is calculated correctly\n",
    "    group = group.sort_values(by='date')\n",
    "    \n",
    "    # Calculate cumulative sales\n",
    "    group['cumulative_sales'] = group['sales'].cumsum()\n",
    "    return group\n",
    "\n",
    "# Apply the custom function to each group using groupby\n",
    "df_cumulative_sales = df.groupby('region').apply(compute_cumulative_sales, include_groups=False)\n",
    "\n",
    "df_cumulative_sales.reset_index()\n"
   ]
  },
  {
   "cell_type": "code",
   "execution_count": null,
   "metadata": {},
   "outputs": [],
   "source": []
  }
 ],
 "metadata": {
  "kernelspec": {
   "display_name": "base",
   "language": "python",
   "name": "python3"
  },
  "language_info": {
   "codemirror_mode": {
    "name": "ipython",
    "version": 3
   },
   "file_extension": ".py",
   "mimetype": "text/x-python",
   "name": "python",
   "nbconvert_exporter": "python",
   "pygments_lexer": "ipython3",
   "version": "3.12.4"
  }
 },
 "nbformat": 4,
 "nbformat_minor": 2
}
