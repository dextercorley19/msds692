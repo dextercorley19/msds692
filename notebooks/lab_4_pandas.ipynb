{
 "cells": [
  {
   "cell_type": "markdown",
   "metadata": {},
   "source": [
    "## Lab 4: Pandas Series"
   ]
  },
  {
   "cell_type": "code",
   "execution_count": 1,
   "metadata": {},
   "outputs": [],
   "source": [
    "import pandas as pd\n",
    "import numpy as np"
   ]
  },
  {
   "cell_type": "markdown",
   "metadata": {},
   "source": [
    "### Creating a pandas series from a csv file\n",
    "1. Create a function that given a path to the data, and the name of a column returns a series with that column and country as index.\n",
    "2. Get a series with the \"inflation\" column. The data is here: https://github.com/yanneta/msds692/blob/master/data/country-data.csv"
   ]
  },
  {
   "cell_type": "code",
   "execution_count": 3,
   "metadata": {},
   "outputs": [],
   "source": [
    "def get_series(path, col_name):\n",
    "    data = pd.read_csv(path,index_col=\"country\", usecols =[\"country\",col_name])\n",
    "    return data.squeeze()\n",
    "data = get_series(\"../data/country-data.csv\",\"inflation\")"
   ]
  },
  {
   "cell_type": "markdown",
   "metadata": {},
   "source": [
    "### Data Manupulation\n",
    "1. Compute quantiles .25, .5, .75, max and min for this data.\n",
    "2. Manually add country “Cuba” with values NA. (np.nan).\n",
    "3. Create a new series in which indexes are sorted again.\n",
    "4. Create a new series that replaces any inflation value < 0 with 0.\n",
    "6. Fill NAs with the median value of the series."
   ]
  },
  {
   "cell_type": "code",
   "execution_count": 6,
   "metadata": {},
   "outputs": [
    {
     "data": {
      "text/plain": [
       "0.25     1.81\n",
       "0.50     5.39\n",
       "0.75    10.75\n",
       "Name: inflation, dtype: float64"
      ]
     },
     "execution_count": 6,
     "metadata": {},
     "output_type": "execute_result"
    }
   ],
   "source": [
    "# 1.\n",
    "quants = data.quantile([0.25,0.5,0.75])\n",
    "quants"
   ]
  },
  {
   "cell_type": "code",
   "execution_count": 9,
   "metadata": {},
   "outputs": [
    {
     "data": {
      "text/plain": [
       "country\n",
       "Afghanistan             9.44\n",
       "Albania                 4.49\n",
       "Algeria                16.10\n",
       "Angola                 22.40\n",
       "Antigua and Barbuda     1.44\n",
       "                       ...  \n",
       "Venezuela              45.90\n",
       "Vietnam                12.10\n",
       "Yemen                  23.60\n",
       "Zambia                 14.00\n",
       "Cuba                     NaN\n",
       "Name: inflation, Length: 168, dtype: float64"
      ]
     },
     "execution_count": 9,
     "metadata": {},
     "output_type": "execute_result"
    }
   ],
   "source": [
    "# 2. \n",
    "data.loc[\"Cuba\"] = np.nan\n",
    "data"
   ]
  },
  {
   "cell_type": "code",
   "execution_count": 17,
   "metadata": {},
   "outputs": [
    {
     "data": {
      "text/plain": [
       "country\n",
       "Nigeria              104.00\n",
       "Venezuela             45.90\n",
       "Mongolia              39.20\n",
       "Timor-Leste           26.50\n",
       "Equatorial Guinea     24.90\n",
       "                      ...  \n",
       "Czech Republic        -1.43\n",
       "Japan                 -1.90\n",
       "Ireland               -3.22\n",
       "Seychelles            -4.21\n",
       "Cuba                    NaN\n",
       "Name: inflation, Length: 168, dtype: float64"
      ]
     },
     "execution_count": 17,
     "metadata": {},
     "output_type": "execute_result"
    }
   ],
   "source": [
    "# 3.\n",
    "sorted_data = data.sort_values(ascending=False)\n",
    "sorted_data"
   ]
  },
  {
   "cell_type": "code",
   "execution_count": 20,
   "metadata": {},
   "outputs": [
    {
     "data": {
      "text/plain": [
       "country\n",
       "Singapore        -0.046\n",
       "Bahamas          -0.393\n",
       "Latvia           -0.812\n",
       "Slovenia         -0.987\n",
       "Czech Republic   -1.430\n",
       "Japan            -1.900\n",
       "Ireland          -3.220\n",
       "Seychelles       -4.210\n",
       "Name: inflation, dtype: float64"
      ]
     },
     "execution_count": 20,
     "metadata": {},
     "output_type": "execute_result"
    }
   ],
   "source": [
    "# 4. Create a new series that replaces any inflation value < 0 with 0.\n",
    "data_new = sorted_data.where(lambda x: x<0).dropna()\n",
    "data_new"
   ]
  },
  {
   "cell_type": "code",
   "execution_count": 26,
   "metadata": {},
   "outputs": [
    {
     "data": {
      "text/plain": [
       "country\n",
       "Nigeria              104.00\n",
       "Venezuela             45.90\n",
       "Mongolia              39.20\n",
       "Timor-Leste           26.50\n",
       "Equatorial Guinea     24.90\n",
       "                      ...  \n",
       "Czech Republic        -1.43\n",
       "Japan                 -1.90\n",
       "Ireland               -3.22\n",
       "Seychelles            -4.21\n",
       "Cuba                    NaN\n",
       "Name: inflation, Length: 168, dtype: float64"
      ]
     },
     "execution_count": 26,
     "metadata": {},
     "output_type": "execute_result"
    }
   ],
   "source": [
    "sorted_data"
   ]
  },
  {
   "cell_type": "code",
   "execution_count": 34,
   "metadata": {},
   "outputs": [
    {
     "data": {
      "text/plain": [
       "country\n",
       "Nigeria              104.00\n",
       "Venezuela             45.90\n",
       "Mongolia              39.20\n",
       "Timor-Leste           26.50\n",
       "Equatorial Guinea     24.90\n",
       "                      ...  \n",
       "Czech Republic        -1.43\n",
       "Japan                 -1.90\n",
       "Ireland               -3.22\n",
       "Seychelles            -4.21\n",
       "Cuba                   5.39\n",
       "Name: inflation, Length: 168, dtype: float64"
      ]
     },
     "execution_count": 34,
     "metadata": {},
     "output_type": "execute_result"
    }
   ],
   "source": [
    "# 6. Fill NAs with the median value of the series.\n",
    "median = sorted_data.median()\n",
    "median_val_na = sorted_data.apply(lambda x: median if pd.isna(x) else x)\n",
    "median_val_na"
   ]
  },
  {
   "cell_type": "markdown",
   "metadata": {},
   "source": [
    "### Other problems:"
   ]
  },
  {
   "cell_type": "code",
   "execution_count": 2,
   "metadata": {},
   "outputs": [],
   "source": [
    "s = pd.Series([10, -15, 20, -25, 30, -35])\n",
    "\n",
    "# Your task:\n",
    "# 1. Replace all negative values with their absolute value.\n",
    "# 2. Return the modified Series."
   ]
  },
  {
   "cell_type": "code",
   "execution_count": 4,
   "metadata": {},
   "outputs": [],
   "source": [
    "s = pd.Series([1, 2, 3, 4, 5])\n",
    "\n",
    "# Your task:\n",
    "# 1. Apply a function that doubles the even values and triples the odd values.\n",
    "# 2. Return the modified Series.\n",
    "# Hint: use a lambda function"
   ]
  },
  {
   "cell_type": "code",
   "execution_count": 5,
   "metadata": {},
   "outputs": [],
   "source": [
    "s = pd.Series([10, np.nan, 20, np.nan, 30, 40])\n",
    "\n",
    "# Your task:\n",
    "# 1. Replace NaN values with the mean of the non-NaN values.\n",
    "# 2. Return the modified Series.\n",
    "# hint: use a funcion np.isna()"
   ]
  },
  {
   "cell_type": "code",
   "execution_count": 6,
   "metadata": {},
   "outputs": [],
   "source": [
    "scores = pd.Series([45, 82, 56, 73, 29, 90, 61, 40])\n",
    "# Your task:\n",
    "# Filter out scores below 50.\n",
    "# Normalize the remaining scores to the range 0 to 1."
   ]
  },
  {
   "cell_type": "code",
   "execution_count": 8,
   "metadata": {},
   "outputs": [],
   "source": [
    "# Tasks:\n",
    "# 1. Produce a series with the 3 top names from babynames. The series should have \n",
    "# names as index and the frequency as values\n",
    "# 2. Produce a Series with the frequecy all all baby names starting with A.\n",
    "babynames = pd.Series([\n",
    "    'Liam', 'Emma', 'Olivia', 'Noah', 'Olivia', 'Ava', 'Olivia', 'Liam', \n",
    "    'Sophia', 'Noah', 'Liam', 'Ava', 'Isabella', 'Isabella', 'Isabella', \n",
    "    'Mia', 'Emma', 'Noah', 'Ava', 'Ava', 'Liam', 'Liam', 'Noah', \n",
    "    'Emma', 'Sophia', 'Alma'], dtype='string')"
   ]
  }
 ],
 "metadata": {
  "kernelspec": {
   "display_name": "base",
   "language": "python",
   "name": "python3"
  },
  "language_info": {
   "codemirror_mode": {
    "name": "ipython",
    "version": 3
   },
   "file_extension": ".py",
   "mimetype": "text/x-python",
   "name": "python",
   "nbconvert_exporter": "python",
   "pygments_lexer": "ipython3",
   "version": "3.12.5"
  }
 },
 "nbformat": 4,
 "nbformat_minor": 2
}
