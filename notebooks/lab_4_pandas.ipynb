{
 "cells": [
  {
   "cell_type": "markdown",
   "metadata": {},
   "source": [
    "## Lab 4: Pandas Series"
   ]
  },
  {
   "cell_type": "code",
   "execution_count": 2,
   "metadata": {},
   "outputs": [],
   "source": [
    "import pandas as pd\n",
    "import numpy as np"
   ]
  },
  {
   "cell_type": "markdown",
   "metadata": {},
   "source": [
    "### Creating a pandas series from a csv file\n",
    "1. Create a function that given a path to the data, and the name of a column returns a series with that column and country as index.\n",
    "2. Get a series with the \"inflation\" column. The data is here: https://github.com/yanneta/msds692/blob/master/data/country-data.csv"
   ]
  },
  {
   "cell_type": "markdown",
   "metadata": {},
   "source": [
    "### Data Manupulation\n",
    "1. Compute quantiles .25, .5, .75, max and min for this data.\n",
    "2. Manually add country “Cuba” with values NA. (np.nan).\n",
    "3. Create a new series in which indexes are sorted again.\n",
    "4. Create a new series that replaces any inflation value < 0 with 0.\n",
    "6. Fill NAs with the median value of the series."
   ]
  },
  {
   "cell_type": "markdown",
   "metadata": {},
   "source": [
    "### Other problems:"
   ]
  },
  {
   "cell_type": "code",
   "execution_count": 3,
   "metadata": {},
   "outputs": [],
   "source": [
    "s = pd.Series([10, -15, 20, -25, 30, -35])\n",
    "\n",
    "# Your task:\n",
    "# 1. Replace all negative values with their absolute value.\n",
    "# 2. Return the modified Series."
   ]
  },
  {
   "cell_type": "code",
   "execution_count": 4,
   "metadata": {},
   "outputs": [],
   "source": [
    "s = pd.Series([1, 2, 3, 4, 5])\n",
    "\n",
    "# Your task:\n",
    "# 1. Apply a function that doubles the even values and triples the odd values.\n",
    "# 2. Return the modified Series.\n",
    "# Hint: use a lambda function"
   ]
  },
  {
   "cell_type": "code",
   "execution_count": 5,
   "metadata": {},
   "outputs": [],
   "source": [
    "s = pd.Series([10, np.nan, 20, np.nan, 30, 40])\n",
    "\n",
    "# Your task:\n",
    "# 1. Replace NaN values with the mean of the non-NaN values.\n",
    "# 2. Return the modified Series.\n",
    "# hint: use a funcion np.isna()"
   ]
  },
  {
   "cell_type": "code",
   "execution_count": 6,
   "metadata": {},
   "outputs": [],
   "source": [
    "scores = pd.Series([45, 82, 56, 73, 29, 90, 61, 40])\n",
    "# Your task:\n",
    "# Filter out scores below 50.\n",
    "# Normalize the remaining scores to the range 0 to 1."
   ]
  },
  {
   "cell_type": "code",
   "execution_count": 8,
   "metadata": {},
   "outputs": [],
   "source": [
    "# Tasks:\n",
    "# 1. Produce a series with the 3 top names from babynames. The series should have \n",
    "# names as index and the frequency as values\n",
    "# 2. Produce a Series with the frequecy all all baby names starting with A.\n",
    "babynames = pd.Series([\n",
    "    'Liam', 'Emma', 'Olivia', 'Noah', 'Olivia', 'Ava', 'Olivia', 'Liam', \n",
    "    'Sophia', 'Noah', 'Liam', 'Ava', 'Isabella', 'Isabella', 'Isabella', \n",
    "    'Mia', 'Emma', 'Noah', 'Ava', 'Ava', 'Liam', 'Liam', 'Noah', \n",
    "    'Emma', 'Sophia', 'Alma'], dtype='string')"
   ]
  }
 ],
 "metadata": {
  "kernelspec": {
   "display_name": "base",
   "language": "python",
   "name": "python3"
  },
  "language_info": {
   "codemirror_mode": {
    "name": "ipython",
    "version": 3
   },
   "file_extension": ".py",
   "mimetype": "text/x-python",
   "name": "python",
   "nbconvert_exporter": "python",
   "pygments_lexer": "ipython3",
   "version": "3.12.4"
  }
 },
 "nbformat": 4,
 "nbformat_minor": 2
}
