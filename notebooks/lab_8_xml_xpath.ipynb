{
 "cells": [
  {
   "cell_type": "code",
   "execution_count": 1,
   "id": "2f53d5cc-5544-40c5-a657-ca64955da867",
   "metadata": {
    "tags": []
   },
   "outputs": [],
   "source": [
    "from lxml import etree"
   ]
  },
  {
   "cell_type": "markdown",
   "id": "a4a8d236-a11b-4127-9801-834e74cd1f7a",
   "metadata": {},
   "source": [
    "## XPath problems\n",
    "Write Code with Xpath expressions to solve the following problems."
   ]
  },
  {
   "cell_type": "markdown",
   "id": "0d4c4dd1-92d6-4c2d-8688-ca8d0e7c9011",
   "metadata": {},
   "source": [
    "1. A list of book titles in the XML."
   ]
  },
  {
   "cell_type": "code",
   "execution_count": 2,
   "id": "cbc17695-158c-42a6-a962-c713875e0fd7",
   "metadata": {
    "tags": []
   },
   "outputs": [],
   "source": [
    "xmlstring = \"\"\"<?xml version=\"1.0\"?>\n",
    "<library>\n",
    "  <book>\n",
    "    <title>Harry Potter and the Sorcerer's Stone</title>\n",
    "    <author>J.K. Rowling</author>\n",
    "  </book>\n",
    "  <book>\n",
    "    <title>The Hobbit</title>\n",
    "    <author>J.R.R. Tolkien</author>\n",
    "  </book>\n",
    "</library>\"\"\""
   ]
  },
  {
   "cell_type": "code",
   "execution_count": 3,
   "id": "25198952-de63-45a0-9535-6966af28dd7f",
   "metadata": {
    "tags": []
   },
   "outputs": [],
   "source": [
    "root = etree.fromstring(xmlstring)"
   ]
  },
  {
   "cell_type": "markdown",
   "id": "aa1c4fef-bf80-4645-83cd-eb8f21d6c6b3",
   "metadata": {},
   "source": [
    "2. A list of the names of students that are 20 years old."
   ]
  },
  {
   "cell_type": "code",
   "execution_count": 5,
   "id": "140b180f-2b0e-46bc-be20-64810a86320d",
   "metadata": {
    "tags": []
   },
   "outputs": [],
   "source": [
    "xmlstring = \"\"\"<?xml version=\"1.0\"?>\n",
    "<students>\n",
    "  <student id=\"1\" name=\"Alice\" age=\"20\" />\n",
    "  <student id=\"2\" name=\"Bob\" age=\"22\" />\n",
    "  <student id=\"3\" name=\"Charlie\" age=\"19\" />\n",
    "  <student id=\"4\" name=\"Alex\" age=\"20\" />\n",
    "</students>\"\"\""
   ]
  },
  {
   "cell_type": "markdown",
   "id": "79f32642-0bc6-4da6-a33c-b57c312ff4d1",
   "metadata": {},
   "source": [
    "3. List the books titles of books with the following characteristics: <br>\n",
    "(a) With price 19.95 <br>\n",
    "(b) With price < 20$ <br>\n",
    "(c) Author's first name is Jane <br>"
   ]
  },
  {
   "cell_type": "code",
   "execution_count": 7,
   "id": "7f1349cf-c38f-48b7-b421-3da46d05a71f",
   "metadata": {
    "tags": []
   },
   "outputs": [],
   "source": [
    "xmlstring = \"\"\"<?xml version=\"1.0\"?>\n",
    "<catalog>\n",
    "  <book>\n",
    "    <title>Introduction to XPath</title>\n",
    "    <author>John Doe</author>\n",
    "    <price>25.99</price>\n",
    "  </book>\n",
    "  <book>\n",
    "    <title>XML Basics</title>\n",
    "    <author>Jane Smith</author>\n",
    "    <price>19.95</price>\n",
    "  </book>\n",
    "  <book>\n",
    "    <title>XML for Dummies</title>\n",
    "    <author>Jane Jackson</author>\n",
    "    <price>19.95</price>\n",
    "  </book>\n",
    "  <book>\n",
    "    <title>XML for Dummies version 2</title>\n",
    "    <author>Jane Jackson</author>\n",
    "    <price>15.95</price>\n",
    "  </book>\n",
    "</catalog>\"\"\""
   ]
  },
  {
   "cell_type": "markdown",
   "id": "e05e355f-0bf3-453d-b8fe-49fb29e97118",
   "metadata": {},
   "source": [
    "4. Name of the 3rd fruit in the list"
   ]
  },
  {
   "cell_type": "code",
   "execution_count": 4,
   "id": "a24c2d59-4d9a-44e8-b477-1ac88cd875b8",
   "metadata": {
    "tags": []
   },
   "outputs": [],
   "source": [
    "xmlstring = \"\"\"<?xml version=\"1.0\"?><fruits>\n",
    "  <fruit>Apple</fruit>\n",
    "  <fruit>Banana</fruit>\n",
    "  <fruit>Orange</fruit>\n",
    "  <fruit>Strawberry</fruit>\n",
    "</fruits>\"\"\""
   ]
  },
  {
   "cell_type": "markdown",
   "id": "12f87118-2ded-467b-9827-df8bd0488606",
   "metadata": {},
   "source": [
    "5. Create a list of all animals, regardless of their type (mammal, reptile, bird)."
   ]
  },
  {
   "cell_type": "code",
   "execution_count": 5,
   "id": "02f76dcf-65a1-4f9f-867c-569ea0a2e0c9",
   "metadata": {
    "tags": []
   },
   "outputs": [],
   "source": [
    "xmlstring = \"\"\"<?xml version=\"1.0\"?>\n",
    "<animals>\n",
    "  <mammal>\n",
    "    <name>Lion</name>\n",
    "  </mammal>\n",
    "  <reptile>\n",
    "    <name>Snake</name>\n",
    "  </reptile>\n",
    "  <bird>\n",
    "    <name>Eagle</name>\n",
    "  </bird>\n",
    "</animals>\"\"\""
   ]
  },
  {
   "cell_type": "markdown",
   "id": "e59d833a-0c0b-4475-ac51-e27d82e84c04",
   "metadata": {},
   "source": [
    "6. (a) Find the movies in English. <br>\n",
    "   (b) Find the directors of all books written in English. <br>\n",
    "   (c) Find movies made after 2005 <br>"
   ]
  },
  {
   "cell_type": "code",
   "execution_count": 10,
   "id": "c21e679a-a68c-42e0-a4d0-745a3084d3f7",
   "metadata": {
    "tags": []
   },
   "outputs": [],
   "source": [
    "xmlstring = \"\"\"<?xml version=\"1.0\"?>\n",
    "<moviestore>\n",
    "    <movie>\n",
    "        <title lang=\"en\">Inception</title>\n",
    "        <director>Christopher Nolan</director>\n",
    "        <genre>Science Fiction</genre>\n",
    "        <year>2010</year>\n",
    "    </movie>\n",
    "    <movie>\n",
    "        <title lang=\"fr\">Le Fabuleux Destin d'Amélie Poulain</title>\n",
    "        <director>Jean-Pierre Jeunet</director>\n",
    "        <genre>Romantic Comedy</genre>\n",
    "        <year>2001</year>\n",
    "    </movie>\n",
    "    <movie>\n",
    "        <title lang=\"en\">The Dark Knight</title>\n",
    "        <director>Christopher Nolan</director>\n",
    "        <genre>Action</genre>\n",
    "        <year>2008</year>\n",
    "    </movie>\n",
    "</moviestore>\"\"\""
   ]
  }
 ],
 "metadata": {
  "kernelspec": {
   "display_name": "Python 3 (ipykernel)",
   "language": "python",
   "name": "python3"
  },
  "language_info": {
   "codemirror_mode": {
    "name": "ipython",
    "version": 3
   },
   "file_extension": ".py",
   "mimetype": "text/x-python",
   "name": "python",
   "nbconvert_exporter": "python",
   "pygments_lexer": "ipython3",
   "version": "3.12.2"
  }
 },
 "nbformat": 4,
 "nbformat_minor": 5
}
